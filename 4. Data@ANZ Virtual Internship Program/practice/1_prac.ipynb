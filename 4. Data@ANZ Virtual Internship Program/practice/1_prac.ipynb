{
 "cells": [
  {
   "cell_type": "code",
   "execution_count": 1,
   "id": "5dbd1125",
   "metadata": {},
   "outputs": [
    {
     "name": "stdout",
     "output_type": "stream",
     "text": [
      "Matplotlib Version: 3.4.2\n",
      "Seaborn Version: 0.11.2\n"
     ]
    }
   ],
   "source": [
    "import pandas as pd\n",
    "import numpy as np\n",
    "# from datetime import *\n",
    "\n",
    "import matplotlib as mpl\n",
    "import matplotlib.pyplot as plt\n",
    "%matplotlib inline\n",
    "import seaborn as sns\n",
    "\n",
    "print(f'Matplotlib Version: {mpl.__version__}')\n",
    "print(f'Seaborn Version: {sns.__version__}')"
   ]
  },
  {
   "cell_type": "code",
   "execution_count": 2,
   "id": "936e6b08",
   "metadata": {},
   "outputs": [
    {
     "name": "stdout",
     "output_type": "stream",
     "text": [
      " Volume in drive C has no label.\n",
      " Volume Serial Number is 72D0-BC6E\n",
      "\n",
      " Directory of C:\\Users\\GIS\\Documents\\A.Udemy\\Python\\Forage\\dataANZ\n",
      "\n",
      "07/01/2022  09:04 PM    <DIR>          .\n",
      "07/01/2022  09:04 PM    <DIR>          ..\n",
      "07/01/2022  07:21 AM    <DIR>          .ipynb_checkpoints\n",
      "03/10/2021  12:59 PM           330,622 1_DataANZ_Virtual_Internship_Program-Copy1.ipynb\n",
      "03/10/2021  03:49 PM           464,612 1_DataANZ_Virtual_Internship_Program-Copy2.ipynb\n",
      "31/12/2021  08:32 PM           450,747 1_DataANZ_Virtual_Internship_Program-Copy3.ipynb\n",
      "07/01/2022  09:04 PM           385,692 1_prac.ipynb\n",
      "01/10/2021  03:25 PM         1,782,724 ANZ synthesised transaction dataset.xlsx\n",
      "01/10/2021  09:46 PM            17,348 DataANZ.docx\n",
      "31/12/2021  08:46 PM           366,348 Taks_1_DataANZ_Virtual_Internship_Program_Submit.ipynb\n",
      "05/10/2021  05:13 PM           500,967 Task_2_Predictive Analytics - Copy.ipynb\n",
      "06/10/2021  06:02 PM           338,069 Task_2_Predictive Analytics.ipynb\n",
      "02/01/2022  02:09 PM           518,003 Tast_1_DataANZ_Virtual_Internship_Program.ipynb\n",
      "              10 File(s)      5,155,132 bytes\n",
      "               3 Dir(s)  53,720,182,784 bytes free\n"
     ]
    }
   ],
   "source": [
    "%ls"
   ]
  },
  {
   "cell_type": "code",
   "execution_count": 3,
   "id": "fe60905b",
   "metadata": {},
   "outputs": [
    {
     "name": "stdout",
     "output_type": "stream",
     "text": [
      "40\n",
      "100\n"
     ]
    }
   ],
   "source": [
    "pd.options.display.max_columns = 40\n",
    "pd.options.display.max_rows = 100\n",
    "\n",
    "print(pd.get_option('display.max.columns'))\n",
    "print(pd.get_option('display.max.rows'))"
   ]
  },
  {
   "cell_type": "code",
   "execution_count": 4,
   "id": "c9d1ac3a",
   "metadata": {},
   "outputs": [
    {
     "name": "stdout",
     "output_type": "stream",
     "text": [
      "(12043, 23)\n"
     ]
    },
    {
     "data": {
      "text/html": [
       "<div>\n",
       "<style scoped>\n",
       "    .dataframe tbody tr th:only-of-type {\n",
       "        vertical-align: middle;\n",
       "    }\n",
       "\n",
       "    .dataframe tbody tr th {\n",
       "        vertical-align: top;\n",
       "    }\n",
       "\n",
       "    .dataframe thead th {\n",
       "        text-align: right;\n",
       "    }\n",
       "</style>\n",
       "<table border=\"1\" class=\"dataframe\">\n",
       "  <thead>\n",
       "    <tr style=\"text-align: right;\">\n",
       "      <th></th>\n",
       "      <th>status</th>\n",
       "      <th>card_present_flag</th>\n",
       "      <th>bpay_biller_code</th>\n",
       "      <th>account</th>\n",
       "      <th>currency</th>\n",
       "      <th>long_lat</th>\n",
       "      <th>txn_description</th>\n",
       "      <th>merchant_id</th>\n",
       "      <th>merchant_code</th>\n",
       "      <th>first_name</th>\n",
       "      <th>balance</th>\n",
       "      <th>date</th>\n",
       "      <th>gender</th>\n",
       "      <th>age</th>\n",
       "      <th>merchant_suburb</th>\n",
       "      <th>merchant_state</th>\n",
       "      <th>extraction</th>\n",
       "      <th>amount</th>\n",
       "      <th>transaction_id</th>\n",
       "      <th>country</th>\n",
       "      <th>customer_id</th>\n",
       "      <th>merchant_long_lat</th>\n",
       "      <th>movement</th>\n",
       "    </tr>\n",
       "  </thead>\n",
       "  <tbody>\n",
       "    <tr>\n",
       "      <th>0</th>\n",
       "      <td>authorized</td>\n",
       "      <td>1.0</td>\n",
       "      <td>NaN</td>\n",
       "      <td>ACC-1598451071</td>\n",
       "      <td>AUD</td>\n",
       "      <td>153.41 -27.95</td>\n",
       "      <td>POS</td>\n",
       "      <td>81c48296-73be-44a7-befa-d053f48ce7cd</td>\n",
       "      <td>NaN</td>\n",
       "      <td>Diana</td>\n",
       "      <td>35.39</td>\n",
       "      <td>2018-08-01</td>\n",
       "      <td>F</td>\n",
       "      <td>26</td>\n",
       "      <td>Ashmore</td>\n",
       "      <td>QLD</td>\n",
       "      <td>2018-08-01T01:01:15.000+0000</td>\n",
       "      <td>16.25</td>\n",
       "      <td>a623070bfead4541a6b0fff8a09e706c</td>\n",
       "      <td>Australia</td>\n",
       "      <td>CUS-2487424745</td>\n",
       "      <td>153.38 -27.99</td>\n",
       "      <td>debit</td>\n",
       "    </tr>\n",
       "    <tr>\n",
       "      <th>1</th>\n",
       "      <td>authorized</td>\n",
       "      <td>0.0</td>\n",
       "      <td>NaN</td>\n",
       "      <td>ACC-1598451071</td>\n",
       "      <td>AUD</td>\n",
       "      <td>153.41 -27.95</td>\n",
       "      <td>SALES-POS</td>\n",
       "      <td>830a451c-316e-4a6a-bf25-e37caedca49e</td>\n",
       "      <td>NaN</td>\n",
       "      <td>Diana</td>\n",
       "      <td>21.20</td>\n",
       "      <td>2018-08-01</td>\n",
       "      <td>F</td>\n",
       "      <td>26</td>\n",
       "      <td>Sydney</td>\n",
       "      <td>NSW</td>\n",
       "      <td>2018-08-01T01:13:45.000+0000</td>\n",
       "      <td>14.19</td>\n",
       "      <td>13270a2a902145da9db4c951e04b51b9</td>\n",
       "      <td>Australia</td>\n",
       "      <td>CUS-2487424745</td>\n",
       "      <td>151.21 -33.87</td>\n",
       "      <td>debit</td>\n",
       "    </tr>\n",
       "    <tr>\n",
       "      <th>2</th>\n",
       "      <td>authorized</td>\n",
       "      <td>1.0</td>\n",
       "      <td>NaN</td>\n",
       "      <td>ACC-1222300524</td>\n",
       "      <td>AUD</td>\n",
       "      <td>151.23 -33.94</td>\n",
       "      <td>POS</td>\n",
       "      <td>835c231d-8cdf-4e96-859d-e9d571760cf0</td>\n",
       "      <td>NaN</td>\n",
       "      <td>Michael</td>\n",
       "      <td>5.71</td>\n",
       "      <td>2018-08-01</td>\n",
       "      <td>M</td>\n",
       "      <td>38</td>\n",
       "      <td>Sydney</td>\n",
       "      <td>NSW</td>\n",
       "      <td>2018-08-01T01:26:15.000+0000</td>\n",
       "      <td>6.42</td>\n",
       "      <td>feb79e7ecd7048a5a36ec889d1a94270</td>\n",
       "      <td>Australia</td>\n",
       "      <td>CUS-2142601169</td>\n",
       "      <td>151.21 -33.87</td>\n",
       "      <td>debit</td>\n",
       "    </tr>\n",
       "    <tr>\n",
       "      <th>3</th>\n",
       "      <td>authorized</td>\n",
       "      <td>1.0</td>\n",
       "      <td>NaN</td>\n",
       "      <td>ACC-1037050564</td>\n",
       "      <td>AUD</td>\n",
       "      <td>153.10 -27.66</td>\n",
       "      <td>SALES-POS</td>\n",
       "      <td>48514682-c78a-4a88-b0da-2d6302e64673</td>\n",
       "      <td>NaN</td>\n",
       "      <td>Rhonda</td>\n",
       "      <td>2117.22</td>\n",
       "      <td>2018-08-01</td>\n",
       "      <td>F</td>\n",
       "      <td>40</td>\n",
       "      <td>Buderim</td>\n",
       "      <td>QLD</td>\n",
       "      <td>2018-08-01T01:38:45.000+0000</td>\n",
       "      <td>40.90</td>\n",
       "      <td>2698170da3704fd981b15e64a006079e</td>\n",
       "      <td>Australia</td>\n",
       "      <td>CUS-1614226872</td>\n",
       "      <td>153.05 -26.68</td>\n",
       "      <td>debit</td>\n",
       "    </tr>\n",
       "    <tr>\n",
       "      <th>4</th>\n",
       "      <td>authorized</td>\n",
       "      <td>1.0</td>\n",
       "      <td>NaN</td>\n",
       "      <td>ACC-1598451071</td>\n",
       "      <td>AUD</td>\n",
       "      <td>153.41 -27.95</td>\n",
       "      <td>SALES-POS</td>\n",
       "      <td>b4e02c10-0852-4273-b8fd-7b3395e32eb0</td>\n",
       "      <td>NaN</td>\n",
       "      <td>Diana</td>\n",
       "      <td>17.95</td>\n",
       "      <td>2018-08-01</td>\n",
       "      <td>F</td>\n",
       "      <td>26</td>\n",
       "      <td>Mermaid Beach</td>\n",
       "      <td>QLD</td>\n",
       "      <td>2018-08-01T01:51:15.000+0000</td>\n",
       "      <td>3.25</td>\n",
       "      <td>329adf79878c4cf0aeb4188b4691c266</td>\n",
       "      <td>Australia</td>\n",
       "      <td>CUS-2487424745</td>\n",
       "      <td>153.44 -28.06</td>\n",
       "      <td>debit</td>\n",
       "    </tr>\n",
       "  </tbody>\n",
       "</table>\n",
       "</div>"
      ],
      "text/plain": [
       "       status  card_present_flag bpay_biller_code         account currency  \\\n",
       "0  authorized                1.0              NaN  ACC-1598451071      AUD   \n",
       "1  authorized                0.0              NaN  ACC-1598451071      AUD   \n",
       "2  authorized                1.0              NaN  ACC-1222300524      AUD   \n",
       "3  authorized                1.0              NaN  ACC-1037050564      AUD   \n",
       "4  authorized                1.0              NaN  ACC-1598451071      AUD   \n",
       "\n",
       "        long_lat txn_description                           merchant_id  \\\n",
       "0  153.41 -27.95             POS  81c48296-73be-44a7-befa-d053f48ce7cd   \n",
       "1  153.41 -27.95       SALES-POS  830a451c-316e-4a6a-bf25-e37caedca49e   \n",
       "2  151.23 -33.94             POS  835c231d-8cdf-4e96-859d-e9d571760cf0   \n",
       "3  153.10 -27.66       SALES-POS  48514682-c78a-4a88-b0da-2d6302e64673   \n",
       "4  153.41 -27.95       SALES-POS  b4e02c10-0852-4273-b8fd-7b3395e32eb0   \n",
       "\n",
       "   merchant_code first_name  balance       date gender  age merchant_suburb  \\\n",
       "0            NaN      Diana    35.39 2018-08-01      F   26         Ashmore   \n",
       "1            NaN      Diana    21.20 2018-08-01      F   26          Sydney   \n",
       "2            NaN    Michael     5.71 2018-08-01      M   38          Sydney   \n",
       "3            NaN     Rhonda  2117.22 2018-08-01      F   40         Buderim   \n",
       "4            NaN      Diana    17.95 2018-08-01      F   26   Mermaid Beach   \n",
       "\n",
       "  merchant_state                    extraction  amount  \\\n",
       "0            QLD  2018-08-01T01:01:15.000+0000   16.25   \n",
       "1            NSW  2018-08-01T01:13:45.000+0000   14.19   \n",
       "2            NSW  2018-08-01T01:26:15.000+0000    6.42   \n",
       "3            QLD  2018-08-01T01:38:45.000+0000   40.90   \n",
       "4            QLD  2018-08-01T01:51:15.000+0000    3.25   \n",
       "\n",
       "                     transaction_id    country     customer_id  \\\n",
       "0  a623070bfead4541a6b0fff8a09e706c  Australia  CUS-2487424745   \n",
       "1  13270a2a902145da9db4c951e04b51b9  Australia  CUS-2487424745   \n",
       "2  feb79e7ecd7048a5a36ec889d1a94270  Australia  CUS-2142601169   \n",
       "3  2698170da3704fd981b15e64a006079e  Australia  CUS-1614226872   \n",
       "4  329adf79878c4cf0aeb4188b4691c266  Australia  CUS-2487424745   \n",
       "\n",
       "  merchant_long_lat movement  \n",
       "0     153.38 -27.99    debit  \n",
       "1     151.21 -33.87    debit  \n",
       "2     151.21 -33.87    debit  \n",
       "3     153.05 -26.68    debit  \n",
       "4     153.44 -28.06    debit  "
      ]
     },
     "execution_count": 4,
     "metadata": {},
     "output_type": "execute_result"
    }
   ],
   "source": [
    "df = pd.read_excel('ANZ synthesised transaction dataset.xlsx')\n",
    "print(df.shape)\n",
    "df.head()"
   ]
  },
  {
   "cell_type": "code",
   "execution_count": 5,
   "id": "c32d0763",
   "metadata": {},
   "outputs": [
    {
     "name": "stdout",
     "output_type": "stream",
     "text": [
      "<class 'pandas.core.frame.DataFrame'>\n",
      "RangeIndex: 12043 entries, 0 to 12042\n",
      "Data columns (total 23 columns):\n",
      " #   Column             Non-Null Count  Dtype         \n",
      "---  ------             --------------  -----         \n",
      " 0   status             12043 non-null  object        \n",
      " 1   card_present_flag  7717 non-null   float64       \n",
      " 2   bpay_biller_code   885 non-null    object        \n",
      " 3   account            12043 non-null  object        \n",
      " 4   currency           12043 non-null  object        \n",
      " 5   long_lat           12043 non-null  object        \n",
      " 6   txn_description    12043 non-null  object        \n",
      " 7   merchant_id        7717 non-null   object        \n",
      " 8   merchant_code      883 non-null    float64       \n",
      " 9   first_name         12043 non-null  object        \n",
      " 10  balance            12043 non-null  float64       \n",
      " 11  date               12043 non-null  datetime64[ns]\n",
      " 12  gender             12043 non-null  object        \n",
      " 13  age                12043 non-null  int64         \n",
      " 14  merchant_suburb    7717 non-null   object        \n",
      " 15  merchant_state     7717 non-null   object        \n",
      " 16  extraction         12043 non-null  object        \n",
      " 17  amount             12043 non-null  float64       \n",
      " 18  transaction_id     12043 non-null  object        \n",
      " 19  country            12043 non-null  object        \n",
      " 20  customer_id        12043 non-null  object        \n",
      " 21  merchant_long_lat  7717 non-null   object        \n",
      " 22  movement           12043 non-null  object        \n",
      "dtypes: datetime64[ns](1), float64(4), int64(1), object(17)\n",
      "memory usage: 2.1+ MB\n"
     ]
    }
   ],
   "source": [
    "df.info()"
   ]
  },
  {
   "cell_type": "code",
   "execution_count": 6,
   "id": "0c803390",
   "metadata": {},
   "outputs": [
    {
     "data": {
      "text/plain": [
       "0"
      ]
     },
     "execution_count": 6,
     "metadata": {},
     "output_type": "execute_result"
    }
   ],
   "source": [
    "# Duplicates\n",
    "df.duplicated().sum()"
   ]
  },
  {
   "cell_type": "code",
   "execution_count": 7,
   "id": "2164692a",
   "metadata": {},
   "outputs": [
    {
     "data": {
      "text/html": [
       "<div>\n",
       "<style scoped>\n",
       "    .dataframe tbody tr th:only-of-type {\n",
       "        vertical-align: middle;\n",
       "    }\n",
       "\n",
       "    .dataframe tbody tr th {\n",
       "        vertical-align: top;\n",
       "    }\n",
       "\n",
       "    .dataframe thead th {\n",
       "        text-align: right;\n",
       "    }\n",
       "</style>\n",
       "<table border=\"1\" class=\"dataframe\">\n",
       "  <thead>\n",
       "    <tr style=\"text-align: right;\">\n",
       "      <th></th>\n",
       "      <th>card_present_flag</th>\n",
       "      <th>merchant_code</th>\n",
       "      <th>balance</th>\n",
       "      <th>age</th>\n",
       "      <th>amount</th>\n",
       "    </tr>\n",
       "  </thead>\n",
       "  <tbody>\n",
       "    <tr>\n",
       "      <th>count</th>\n",
       "      <td>7717.000000</td>\n",
       "      <td>883.0</td>\n",
       "      <td>12043.000000</td>\n",
       "      <td>12043.000000</td>\n",
       "      <td>12043.000000</td>\n",
       "    </tr>\n",
       "    <tr>\n",
       "      <th>mean</th>\n",
       "      <td>0.802644</td>\n",
       "      <td>0.0</td>\n",
       "      <td>14704.195553</td>\n",
       "      <td>30.582330</td>\n",
       "      <td>187.933588</td>\n",
       "    </tr>\n",
       "    <tr>\n",
       "      <th>std</th>\n",
       "      <td>0.398029</td>\n",
       "      <td>0.0</td>\n",
       "      <td>31503.722652</td>\n",
       "      <td>10.046343</td>\n",
       "      <td>592.599934</td>\n",
       "    </tr>\n",
       "    <tr>\n",
       "      <th>min</th>\n",
       "      <td>0.000000</td>\n",
       "      <td>0.0</td>\n",
       "      <td>0.240000</td>\n",
       "      <td>18.000000</td>\n",
       "      <td>0.100000</td>\n",
       "    </tr>\n",
       "    <tr>\n",
       "      <th>25%</th>\n",
       "      <td>1.000000</td>\n",
       "      <td>0.0</td>\n",
       "      <td>3158.585000</td>\n",
       "      <td>22.000000</td>\n",
       "      <td>16.000000</td>\n",
       "    </tr>\n",
       "    <tr>\n",
       "      <th>50%</th>\n",
       "      <td>1.000000</td>\n",
       "      <td>0.0</td>\n",
       "      <td>6432.010000</td>\n",
       "      <td>28.000000</td>\n",
       "      <td>29.000000</td>\n",
       "    </tr>\n",
       "    <tr>\n",
       "      <th>75%</th>\n",
       "      <td>1.000000</td>\n",
       "      <td>0.0</td>\n",
       "      <td>12465.945000</td>\n",
       "      <td>38.000000</td>\n",
       "      <td>53.655000</td>\n",
       "    </tr>\n",
       "    <tr>\n",
       "      <th>max</th>\n",
       "      <td>1.000000</td>\n",
       "      <td>0.0</td>\n",
       "      <td>267128.520000</td>\n",
       "      <td>78.000000</td>\n",
       "      <td>8835.980000</td>\n",
       "    </tr>\n",
       "  </tbody>\n",
       "</table>\n",
       "</div>"
      ],
      "text/plain": [
       "       card_present_flag  merchant_code        balance           age  \\\n",
       "count        7717.000000          883.0   12043.000000  12043.000000   \n",
       "mean            0.802644            0.0   14704.195553     30.582330   \n",
       "std             0.398029            0.0   31503.722652     10.046343   \n",
       "min             0.000000            0.0       0.240000     18.000000   \n",
       "25%             1.000000            0.0    3158.585000     22.000000   \n",
       "50%             1.000000            0.0    6432.010000     28.000000   \n",
       "75%             1.000000            0.0   12465.945000     38.000000   \n",
       "max             1.000000            0.0  267128.520000     78.000000   \n",
       "\n",
       "             amount  \n",
       "count  12043.000000  \n",
       "mean     187.933588  \n",
       "std      592.599934  \n",
       "min        0.100000  \n",
       "25%       16.000000  \n",
       "50%       29.000000  \n",
       "75%       53.655000  \n",
       "max     8835.980000  "
      ]
     },
     "execution_count": 7,
     "metadata": {},
     "output_type": "execute_result"
    }
   ],
   "source": [
    "df.describe()"
   ]
  },
  {
   "cell_type": "code",
   "execution_count": 8,
   "id": "9914bc7c",
   "metadata": {},
   "outputs": [
    {
     "data": {
      "text/html": [
       "<div>\n",
       "<style scoped>\n",
       "    .dataframe tbody tr th:only-of-type {\n",
       "        vertical-align: middle;\n",
       "    }\n",
       "\n",
       "    .dataframe tbody tr th {\n",
       "        vertical-align: top;\n",
       "    }\n",
       "\n",
       "    .dataframe thead th {\n",
       "        text-align: right;\n",
       "    }\n",
       "</style>\n",
       "<table border=\"1\" class=\"dataframe\">\n",
       "  <thead>\n",
       "    <tr style=\"text-align: right;\">\n",
       "      <th></th>\n",
       "      <th>status</th>\n",
       "      <th>bpay_biller_code</th>\n",
       "      <th>account</th>\n",
       "      <th>currency</th>\n",
       "      <th>long_lat</th>\n",
       "      <th>txn_description</th>\n",
       "      <th>merchant_id</th>\n",
       "      <th>first_name</th>\n",
       "      <th>gender</th>\n",
       "      <th>merchant_suburb</th>\n",
       "      <th>merchant_state</th>\n",
       "      <th>extraction</th>\n",
       "      <th>transaction_id</th>\n",
       "      <th>country</th>\n",
       "      <th>customer_id</th>\n",
       "      <th>merchant_long_lat</th>\n",
       "      <th>movement</th>\n",
       "    </tr>\n",
       "  </thead>\n",
       "  <tbody>\n",
       "    <tr>\n",
       "      <th>count</th>\n",
       "      <td>12043</td>\n",
       "      <td>885</td>\n",
       "      <td>12043</td>\n",
       "      <td>12043</td>\n",
       "      <td>12043</td>\n",
       "      <td>12043</td>\n",
       "      <td>7717</td>\n",
       "      <td>12043</td>\n",
       "      <td>12043</td>\n",
       "      <td>7717</td>\n",
       "      <td>7717</td>\n",
       "      <td>12043</td>\n",
       "      <td>12043</td>\n",
       "      <td>12043</td>\n",
       "      <td>12043</td>\n",
       "      <td>7717</td>\n",
       "      <td>12043</td>\n",
       "    </tr>\n",
       "    <tr>\n",
       "      <th>unique</th>\n",
       "      <td>2</td>\n",
       "      <td>3</td>\n",
       "      <td>100</td>\n",
       "      <td>1</td>\n",
       "      <td>100</td>\n",
       "      <td>6</td>\n",
       "      <td>5725</td>\n",
       "      <td>80</td>\n",
       "      <td>2</td>\n",
       "      <td>1609</td>\n",
       "      <td>8</td>\n",
       "      <td>9442</td>\n",
       "      <td>12043</td>\n",
       "      <td>1</td>\n",
       "      <td>100</td>\n",
       "      <td>2703</td>\n",
       "      <td>2</td>\n",
       "    </tr>\n",
       "    <tr>\n",
       "      <th>top</th>\n",
       "      <td>authorized</td>\n",
       "      <td>0</td>\n",
       "      <td>ACC-1598451071</td>\n",
       "      <td>AUD</td>\n",
       "      <td>153.41 -27.95</td>\n",
       "      <td>SALES-POS</td>\n",
       "      <td>106e1272-44ab-4dcb-a438-dd98e0071e51</td>\n",
       "      <td>Michael</td>\n",
       "      <td>M</td>\n",
       "      <td>Melbourne</td>\n",
       "      <td>NSW</td>\n",
       "      <td>2018-09-03T11:00:00.000+0000</td>\n",
       "      <td>a623070bfead4541a6b0fff8a09e706c</td>\n",
       "      <td>Australia</td>\n",
       "      <td>CUS-2487424745</td>\n",
       "      <td>151.21 -33.87</td>\n",
       "      <td>debit</td>\n",
       "    </tr>\n",
       "    <tr>\n",
       "      <th>freq</th>\n",
       "      <td>7717</td>\n",
       "      <td>883</td>\n",
       "      <td>578</td>\n",
       "      <td>12043</td>\n",
       "      <td>578</td>\n",
       "      <td>3934</td>\n",
       "      <td>14</td>\n",
       "      <td>746</td>\n",
       "      <td>6285</td>\n",
       "      <td>255</td>\n",
       "      <td>2169</td>\n",
       "      <td>10</td>\n",
       "      <td>1</td>\n",
       "      <td>12043</td>\n",
       "      <td>578</td>\n",
       "      <td>145</td>\n",
       "      <td>11160</td>\n",
       "    </tr>\n",
       "  </tbody>\n",
       "</table>\n",
       "</div>"
      ],
      "text/plain": [
       "            status  bpay_biller_code         account currency       long_lat  \\\n",
       "count        12043               885           12043    12043          12043   \n",
       "unique           2                 3             100        1            100   \n",
       "top     authorized                 0  ACC-1598451071      AUD  153.41 -27.95   \n",
       "freq          7717               883             578    12043            578   \n",
       "\n",
       "       txn_description                           merchant_id first_name  \\\n",
       "count            12043                                  7717      12043   \n",
       "unique               6                                  5725         80   \n",
       "top          SALES-POS  106e1272-44ab-4dcb-a438-dd98e0071e51    Michael   \n",
       "freq              3934                                    14        746   \n",
       "\n",
       "       gender merchant_suburb merchant_state                    extraction  \\\n",
       "count   12043            7717           7717                         12043   \n",
       "unique      2            1609              8                          9442   \n",
       "top         M       Melbourne            NSW  2018-09-03T11:00:00.000+0000   \n",
       "freq     6285             255           2169                            10   \n",
       "\n",
       "                          transaction_id    country     customer_id  \\\n",
       "count                              12043      12043           12043   \n",
       "unique                             12043          1             100   \n",
       "top     a623070bfead4541a6b0fff8a09e706c  Australia  CUS-2487424745   \n",
       "freq                                   1      12043             578   \n",
       "\n",
       "       merchant_long_lat movement  \n",
       "count               7717    12043  \n",
       "unique              2703        2  \n",
       "top        151.21 -33.87    debit  \n",
       "freq                 145    11160  "
      ]
     },
     "execution_count": 8,
     "metadata": {},
     "output_type": "execute_result"
    }
   ],
   "source": [
    "df.describe(include = 'O')"
   ]
  },
  {
   "cell_type": "code",
   "execution_count": 9,
   "id": "d9254b28",
   "metadata": {
    "scrolled": true
   },
   "outputs": [
    {
     "data": {
      "text/html": [
       "<div>\n",
       "<style scoped>\n",
       "    .dataframe tbody tr th:only-of-type {\n",
       "        vertical-align: middle;\n",
       "    }\n",
       "\n",
       "    .dataframe tbody tr th {\n",
       "        vertical-align: top;\n",
       "    }\n",
       "\n",
       "    .dataframe thead th {\n",
       "        text-align: right;\n",
       "    }\n",
       "</style>\n",
       "<table border=\"1\" class=\"dataframe\">\n",
       "  <thead>\n",
       "    <tr style=\"text-align: right;\">\n",
       "      <th></th>\n",
       "      <th>date</th>\n",
       "    </tr>\n",
       "  </thead>\n",
       "  <tbody>\n",
       "    <tr>\n",
       "      <th>count</th>\n",
       "      <td>12043</td>\n",
       "    </tr>\n",
       "    <tr>\n",
       "      <th>mean</th>\n",
       "      <td>2018-09-15 21:27:39.951839232</td>\n",
       "    </tr>\n",
       "    <tr>\n",
       "      <th>min</th>\n",
       "      <td>2018-08-01 00:00:00</td>\n",
       "    </tr>\n",
       "    <tr>\n",
       "      <th>25%</th>\n",
       "      <td>2018-08-24 00:00:00</td>\n",
       "    </tr>\n",
       "    <tr>\n",
       "      <th>50%</th>\n",
       "      <td>2018-09-16 00:00:00</td>\n",
       "    </tr>\n",
       "    <tr>\n",
       "      <th>75%</th>\n",
       "      <td>2018-10-09 00:00:00</td>\n",
       "    </tr>\n",
       "    <tr>\n",
       "      <th>max</th>\n",
       "      <td>2018-10-31 00:00:00</td>\n",
       "    </tr>\n",
       "  </tbody>\n",
       "</table>\n",
       "</div>"
      ],
      "text/plain": [
       "                                date\n",
       "count                          12043\n",
       "mean   2018-09-15 21:27:39.951839232\n",
       "min              2018-08-01 00:00:00\n",
       "25%              2018-08-24 00:00:00\n",
       "50%              2018-09-16 00:00:00\n",
       "75%              2018-10-09 00:00:00\n",
       "max              2018-10-31 00:00:00"
      ]
     },
     "execution_count": 9,
     "metadata": {},
     "output_type": "execute_result"
    }
   ],
   "source": [
    "df.describe(include = 'datetime', datetime_is_numeric=True)"
   ]
  },
  {
   "cell_type": "code",
   "execution_count": 10,
   "id": "c403dc44",
   "metadata": {},
   "outputs": [
    {
     "data": {
      "text/html": [
       "<div>\n",
       "<style scoped>\n",
       "    .dataframe tbody tr th:only-of-type {\n",
       "        vertical-align: middle;\n",
       "    }\n",
       "\n",
       "    .dataframe tbody tr th {\n",
       "        vertical-align: top;\n",
       "    }\n",
       "\n",
       "    .dataframe thead th {\n",
       "        text-align: right;\n",
       "    }\n",
       "</style>\n",
       "<table border=\"1\" class=\"dataframe\">\n",
       "  <thead>\n",
       "    <tr style=\"text-align: right;\">\n",
       "      <th></th>\n",
       "      <th>status</th>\n",
       "      <th>card_present_flag</th>\n",
       "      <th>bpay_biller_code</th>\n",
       "      <th>account</th>\n",
       "      <th>currency</th>\n",
       "      <th>long_lat</th>\n",
       "      <th>txn_description</th>\n",
       "      <th>merchant_id</th>\n",
       "      <th>merchant_code</th>\n",
       "      <th>first_name</th>\n",
       "      <th>balance</th>\n",
       "      <th>date</th>\n",
       "      <th>gender</th>\n",
       "      <th>age</th>\n",
       "      <th>merchant_suburb</th>\n",
       "      <th>merchant_state</th>\n",
       "      <th>extraction</th>\n",
       "      <th>amount</th>\n",
       "      <th>transaction_id</th>\n",
       "      <th>country</th>\n",
       "      <th>customer_id</th>\n",
       "      <th>merchant_long_lat</th>\n",
       "      <th>movement</th>\n",
       "    </tr>\n",
       "  </thead>\n",
       "  <tbody>\n",
       "    <tr>\n",
       "      <th>0</th>\n",
       "      <td>authorized</td>\n",
       "      <td>1.0</td>\n",
       "      <td>NaN</td>\n",
       "      <td>ACC-1598451071</td>\n",
       "      <td>AUD</td>\n",
       "      <td>153.41 -27.95</td>\n",
       "      <td>POS</td>\n",
       "      <td>81c48296-73be-44a7-befa-d053f48ce7cd</td>\n",
       "      <td>NaN</td>\n",
       "      <td>Diana</td>\n",
       "      <td>35.39</td>\n",
       "      <td>2018-08-01</td>\n",
       "      <td>F</td>\n",
       "      <td>26</td>\n",
       "      <td>Ashmore</td>\n",
       "      <td>QLD</td>\n",
       "      <td>2018-08-01T01:01:15.000+0000</td>\n",
       "      <td>16.25</td>\n",
       "      <td>a623070bfead4541a6b0fff8a09e706c</td>\n",
       "      <td>Australia</td>\n",
       "      <td>CUS-2487424745</td>\n",
       "      <td>153.38 -27.99</td>\n",
       "      <td>debit</td>\n",
       "    </tr>\n",
       "    <tr>\n",
       "      <th>1</th>\n",
       "      <td>authorized</td>\n",
       "      <td>0.0</td>\n",
       "      <td>NaN</td>\n",
       "      <td>ACC-1598451071</td>\n",
       "      <td>AUD</td>\n",
       "      <td>153.41 -27.95</td>\n",
       "      <td>SALES-POS</td>\n",
       "      <td>830a451c-316e-4a6a-bf25-e37caedca49e</td>\n",
       "      <td>NaN</td>\n",
       "      <td>Diana</td>\n",
       "      <td>21.20</td>\n",
       "      <td>2018-08-01</td>\n",
       "      <td>F</td>\n",
       "      <td>26</td>\n",
       "      <td>Sydney</td>\n",
       "      <td>NSW</td>\n",
       "      <td>2018-08-01T01:13:45.000+0000</td>\n",
       "      <td>14.19</td>\n",
       "      <td>13270a2a902145da9db4c951e04b51b9</td>\n",
       "      <td>Australia</td>\n",
       "      <td>CUS-2487424745</td>\n",
       "      <td>151.21 -33.87</td>\n",
       "      <td>debit</td>\n",
       "    </tr>\n",
       "    <tr>\n",
       "      <th>2</th>\n",
       "      <td>authorized</td>\n",
       "      <td>1.0</td>\n",
       "      <td>NaN</td>\n",
       "      <td>ACC-1222300524</td>\n",
       "      <td>AUD</td>\n",
       "      <td>151.23 -33.94</td>\n",
       "      <td>POS</td>\n",
       "      <td>835c231d-8cdf-4e96-859d-e9d571760cf0</td>\n",
       "      <td>NaN</td>\n",
       "      <td>Michael</td>\n",
       "      <td>5.71</td>\n",
       "      <td>2018-08-01</td>\n",
       "      <td>M</td>\n",
       "      <td>38</td>\n",
       "      <td>Sydney</td>\n",
       "      <td>NSW</td>\n",
       "      <td>2018-08-01T01:26:15.000+0000</td>\n",
       "      <td>6.42</td>\n",
       "      <td>feb79e7ecd7048a5a36ec889d1a94270</td>\n",
       "      <td>Australia</td>\n",
       "      <td>CUS-2142601169</td>\n",
       "      <td>151.21 -33.87</td>\n",
       "      <td>debit</td>\n",
       "    </tr>\n",
       "    <tr>\n",
       "      <th>3</th>\n",
       "      <td>authorized</td>\n",
       "      <td>1.0</td>\n",
       "      <td>NaN</td>\n",
       "      <td>ACC-1037050564</td>\n",
       "      <td>AUD</td>\n",
       "      <td>153.10 -27.66</td>\n",
       "      <td>SALES-POS</td>\n",
       "      <td>48514682-c78a-4a88-b0da-2d6302e64673</td>\n",
       "      <td>NaN</td>\n",
       "      <td>Rhonda</td>\n",
       "      <td>2117.22</td>\n",
       "      <td>2018-08-01</td>\n",
       "      <td>F</td>\n",
       "      <td>40</td>\n",
       "      <td>Buderim</td>\n",
       "      <td>QLD</td>\n",
       "      <td>2018-08-01T01:38:45.000+0000</td>\n",
       "      <td>40.90</td>\n",
       "      <td>2698170da3704fd981b15e64a006079e</td>\n",
       "      <td>Australia</td>\n",
       "      <td>CUS-1614226872</td>\n",
       "      <td>153.05 -26.68</td>\n",
       "      <td>debit</td>\n",
       "    </tr>\n",
       "    <tr>\n",
       "      <th>4</th>\n",
       "      <td>authorized</td>\n",
       "      <td>1.0</td>\n",
       "      <td>NaN</td>\n",
       "      <td>ACC-1598451071</td>\n",
       "      <td>AUD</td>\n",
       "      <td>153.41 -27.95</td>\n",
       "      <td>SALES-POS</td>\n",
       "      <td>b4e02c10-0852-4273-b8fd-7b3395e32eb0</td>\n",
       "      <td>NaN</td>\n",
       "      <td>Diana</td>\n",
       "      <td>17.95</td>\n",
       "      <td>2018-08-01</td>\n",
       "      <td>F</td>\n",
       "      <td>26</td>\n",
       "      <td>Mermaid Beach</td>\n",
       "      <td>QLD</td>\n",
       "      <td>2018-08-01T01:51:15.000+0000</td>\n",
       "      <td>3.25</td>\n",
       "      <td>329adf79878c4cf0aeb4188b4691c266</td>\n",
       "      <td>Australia</td>\n",
       "      <td>CUS-2487424745</td>\n",
       "      <td>153.44 -28.06</td>\n",
       "      <td>debit</td>\n",
       "    </tr>\n",
       "  </tbody>\n",
       "</table>\n",
       "</div>"
      ],
      "text/plain": [
       "       status  card_present_flag bpay_biller_code         account currency  \\\n",
       "0  authorized                1.0              NaN  ACC-1598451071      AUD   \n",
       "1  authorized                0.0              NaN  ACC-1598451071      AUD   \n",
       "2  authorized                1.0              NaN  ACC-1222300524      AUD   \n",
       "3  authorized                1.0              NaN  ACC-1037050564      AUD   \n",
       "4  authorized                1.0              NaN  ACC-1598451071      AUD   \n",
       "\n",
       "        long_lat txn_description                           merchant_id  \\\n",
       "0  153.41 -27.95             POS  81c48296-73be-44a7-befa-d053f48ce7cd   \n",
       "1  153.41 -27.95       SALES-POS  830a451c-316e-4a6a-bf25-e37caedca49e   \n",
       "2  151.23 -33.94             POS  835c231d-8cdf-4e96-859d-e9d571760cf0   \n",
       "3  153.10 -27.66       SALES-POS  48514682-c78a-4a88-b0da-2d6302e64673   \n",
       "4  153.41 -27.95       SALES-POS  b4e02c10-0852-4273-b8fd-7b3395e32eb0   \n",
       "\n",
       "   merchant_code first_name  balance       date gender  age merchant_suburb  \\\n",
       "0            NaN      Diana    35.39 2018-08-01      F   26         Ashmore   \n",
       "1            NaN      Diana    21.20 2018-08-01      F   26          Sydney   \n",
       "2            NaN    Michael     5.71 2018-08-01      M   38          Sydney   \n",
       "3            NaN     Rhonda  2117.22 2018-08-01      F   40         Buderim   \n",
       "4            NaN      Diana    17.95 2018-08-01      F   26   Mermaid Beach   \n",
       "\n",
       "  merchant_state                    extraction  amount  \\\n",
       "0            QLD  2018-08-01T01:01:15.000+0000   16.25   \n",
       "1            NSW  2018-08-01T01:13:45.000+0000   14.19   \n",
       "2            NSW  2018-08-01T01:26:15.000+0000    6.42   \n",
       "3            QLD  2018-08-01T01:38:45.000+0000   40.90   \n",
       "4            QLD  2018-08-01T01:51:15.000+0000    3.25   \n",
       "\n",
       "                     transaction_id    country     customer_id  \\\n",
       "0  a623070bfead4541a6b0fff8a09e706c  Australia  CUS-2487424745   \n",
       "1  13270a2a902145da9db4c951e04b51b9  Australia  CUS-2487424745   \n",
       "2  feb79e7ecd7048a5a36ec889d1a94270  Australia  CUS-2142601169   \n",
       "3  2698170da3704fd981b15e64a006079e  Australia  CUS-1614226872   \n",
       "4  329adf79878c4cf0aeb4188b4691c266  Australia  CUS-2487424745   \n",
       "\n",
       "  merchant_long_lat movement  \n",
       "0     153.38 -27.99    debit  \n",
       "1     151.21 -33.87    debit  \n",
       "2     151.21 -33.87    debit  \n",
       "3     153.05 -26.68    debit  \n",
       "4     153.44 -28.06    debit  "
      ]
     },
     "execution_count": 10,
     "metadata": {},
     "output_type": "execute_result"
    }
   ],
   "source": [
    "df.head()"
   ]
  },
  {
   "cell_type": "markdown",
   "id": "6a723e4f",
   "metadata": {},
   "source": [
    "### Missing date\n",
    "\n",
    "From 2018-08-15 to 2018-10-31\n",
    "\n",
    "The following includes the start date, but the end time isn't included.\n",
    "\n",
    "So, I have to add 1 day more to the result. 91 + 1 = 92\n",
    "\n",
    "The total days are 92, but there are only 91 days. "
   ]
  },
  {
   "cell_type": "code",
   "execution_count": 11,
   "id": "4c951bf3",
   "metadata": {},
   "outputs": [
    {
     "name": "stdout",
     "output_type": "stream",
     "text": [
      "Min date time: 2018-08-01 00:00:00\n",
      "Max date time: 2018-10-31 00:00:00\n"
     ]
    },
    {
     "data": {
      "text/plain": [
       "Timedelta('91 days 00:00:00')"
      ]
     },
     "execution_count": 11,
     "metadata": {},
     "output_type": "execute_result"
    }
   ],
   "source": [
    "print('Min date time: {}' .format(min(df.date)))\n",
    "print('Max date time: {}' .format(max(df.date)))\n",
    "\n",
    "max(df.date) - min(df.date) # It includes the start date, but the end time isn't included.  \n"
   ]
  },
  {
   "cell_type": "markdown",
   "id": "26882a82",
   "metadata": {},
   "source": [
    "\n",
    "https://www.geeksforgeeks.org/check-missing-dates-in-pandas/\n",
    "\n",
    "Use pd.date_range() and Pandas.Index.difference() to find the missing date.\n",
    "\n",
    "The missing date is 2018-08-16."
   ]
  },
  {
   "cell_type": "code",
   "execution_count": 12,
   "id": "99b86ace",
   "metadata": {},
   "outputs": [
    {
     "name": "stdout",
     "output_type": "stream",
     "text": [
      "DatetimeIndex(['2018-08-16'], dtype='datetime64[ns]', freq=None)\n"
     ]
    }
   ],
   "source": [
    "date_range = pd.date_range(start=min(df.date), end=max(df.date), freq='D') # B - Business Day Frequency\n",
    "print(date_range.difference(df['date']))"
   ]
  },
  {
   "cell_type": "code",
   "execution_count": 13,
   "id": "208e908b",
   "metadata": {},
   "outputs": [
    {
     "data": {
      "text/html": [
       "<div>\n",
       "<style scoped>\n",
       "    .dataframe tbody tr th:only-of-type {\n",
       "        vertical-align: middle;\n",
       "    }\n",
       "\n",
       "    .dataframe tbody tr th {\n",
       "        vertical-align: top;\n",
       "    }\n",
       "\n",
       "    .dataframe thead th {\n",
       "        text-align: right;\n",
       "    }\n",
       "</style>\n",
       "<table border=\"1\" class=\"dataframe\">\n",
       "  <thead>\n",
       "    <tr style=\"text-align: right;\">\n",
       "      <th></th>\n",
       "      <th>Num_of_missing</th>\n",
       "      <th>Percentage (%)</th>\n",
       "    </tr>\n",
       "  </thead>\n",
       "  <tbody>\n",
       "    <tr>\n",
       "      <th>card_present_flag</th>\n",
       "      <td>4326</td>\n",
       "      <td>35.92</td>\n",
       "    </tr>\n",
       "    <tr>\n",
       "      <th>bpay_biller_code</th>\n",
       "      <td>11158</td>\n",
       "      <td>92.65</td>\n",
       "    </tr>\n",
       "    <tr>\n",
       "      <th>merchant_id</th>\n",
       "      <td>4326</td>\n",
       "      <td>35.92</td>\n",
       "    </tr>\n",
       "    <tr>\n",
       "      <th>merchant_code</th>\n",
       "      <td>11160</td>\n",
       "      <td>92.67</td>\n",
       "    </tr>\n",
       "    <tr>\n",
       "      <th>merchant_suburb</th>\n",
       "      <td>4326</td>\n",
       "      <td>35.92</td>\n",
       "    </tr>\n",
       "    <tr>\n",
       "      <th>merchant_state</th>\n",
       "      <td>4326</td>\n",
       "      <td>35.92</td>\n",
       "    </tr>\n",
       "    <tr>\n",
       "      <th>merchant_long_lat</th>\n",
       "      <td>4326</td>\n",
       "      <td>35.92</td>\n",
       "    </tr>\n",
       "  </tbody>\n",
       "</table>\n",
       "</div>"
      ],
      "text/plain": [
       "                   Num_of_missing  Percentage (%)\n",
       "card_present_flag            4326           35.92\n",
       "bpay_biller_code            11158           92.65\n",
       "merchant_id                  4326           35.92\n",
       "merchant_code               11160           92.67\n",
       "merchant_suburb              4326           35.92\n",
       "merchant_state               4326           35.92\n",
       "merchant_long_lat            4326           35.92"
      ]
     },
     "execution_count": 13,
     "metadata": {},
     "output_type": "execute_result"
    }
   ],
   "source": [
    "# Missing values\n",
    "missing = df.isnull().sum() # type is pd.Series\n",
    "missing = missing[missing>0] # Select columns that contain missing values\n",
    "missing_per = round(missing/len(df)*100, 2)\n",
    "pd.DataFrame({'Num_of_missing': missing, 'Percentage (%)': missing_per})"
   ]
  },
  {
   "cell_type": "markdown",
   "id": "9cd7b020",
   "metadata": {},
   "source": [
    "Why are 4326 of 'card_present_flag', 'merchant_id', 'merchant_suburb', 'merchant_state', 'merchant_long_lat' missing? \n",
    "\n",
    "Their txn_description is PAY/SALARY, PAYMENT, INTER BANK, and PHONE BANK. \n",
    "\n",
    "Because the above transactions were made between banks, they don't have 'card_present_flag', 'merchant_id', 'merchant_suburb', 'merchant_state', 'merchant_long_lat'?\n",
    "\n",
    "If so, can I fill them with NULL? \n",
    "\n",
    "Drop bpay_biller_code and merchant_code and fill the empty entities in the other columns with NULL\n"
   ]
  },
  {
   "cell_type": "code",
   "execution_count": 14,
   "id": "ab913c01",
   "metadata": {},
   "outputs": [
    {
     "data": {
      "text/plain": [
       "SALES-POS     3934\n",
       "POS           3783\n",
       "PAYMENT       2600\n",
       "PAY/SALARY     883\n",
       "INTER BANK     742\n",
       "PHONE BANK     101\n",
       "Name: txn_description, dtype: int64"
      ]
     },
     "execution_count": 14,
     "metadata": {},
     "output_type": "execute_result"
    }
   ],
   "source": [
    "df['txn_description'].value_counts()"
   ]
  },
  {
   "cell_type": "code",
   "execution_count": 15,
   "id": "0989f302",
   "metadata": {},
   "outputs": [
    {
     "data": {
      "text/plain": [
       "4326"
      ]
     },
     "execution_count": 15,
     "metadata": {},
     "output_type": "execute_result"
    }
   ],
   "source": [
    "2600+883+742+101"
   ]
  },
  {
   "cell_type": "code",
   "execution_count": 16,
   "id": "36945208",
   "metadata": {},
   "outputs": [
    {
     "name": "stdout",
     "output_type": "stream",
     "text": [
      "PAYMENT       2600\n",
      "PAY/SALARY     883\n",
      "INTER BANK     742\n",
      "PHONE BANK     101\n",
      "Name: txn_description, dtype: int64\n",
      "PAYMENT       2600\n",
      "PAY/SALARY     883\n",
      "INTER BANK     742\n",
      "PHONE BANK     101\n",
      "Name: txn_description, dtype: int64\n",
      "PAYMENT       2600\n",
      "PAY/SALARY     883\n",
      "INTER BANK     742\n",
      "PHONE BANK     101\n",
      "Name: txn_description, dtype: int64\n",
      "PAYMENT       2600\n",
      "PAY/SALARY     883\n",
      "INTER BANK     742\n",
      "PHONE BANK     101\n",
      "Name: txn_description, dtype: int64\n",
      "PAYMENT       2600\n",
      "PAY/SALARY     883\n",
      "INTER BANK     742\n",
      "PHONE BANK     101\n",
      "Name: txn_description, dtype: int64\n"
     ]
    }
   ],
   "source": [
    "print(df[df['card_present_flag'].isnull()].txn_description.value_counts())\n",
    "print(df[df['merchant_id'].isnull()].txn_description.value_counts())\n",
    "print(df[df['merchant_suburb'].isnull()].txn_description.value_counts())\n",
    "print(df[df['merchant_state'].isnull()].txn_description.value_counts())\n",
    "print(df[df['merchant_long_lat'].isnull()].txn_description.value_counts())"
   ]
  },
  {
   "cell_type": "markdown",
   "id": "42611a25",
   "metadata": {},
   "source": [
    "Drop bpay_biller_code and merchant_code"
   ]
  },
  {
   "cell_type": "code",
   "execution_count": 17,
   "id": "83d28445",
   "metadata": {},
   "outputs": [
    {
     "name": "stdout",
     "output_type": "stream",
     "text": [
      "(12043, 23) (12043, 21)\n"
     ]
    }
   ],
   "source": [
    "df1 = df.drop(columns=['bpay_biller_code', 'merchant_code'])\n",
    "print(df.shape, df1.shape)"
   ]
  },
  {
   "cell_type": "code",
   "execution_count": 18,
   "id": "ac876ee1",
   "metadata": {},
   "outputs": [
    {
     "data": {
      "text/plain": [
       "status               0\n",
       "card_present_flag    0\n",
       "account              0\n",
       "currency             0\n",
       "long_lat             0\n",
       "txn_description      0\n",
       "merchant_id          0\n",
       "first_name           0\n",
       "balance              0\n",
       "date                 0\n",
       "gender               0\n",
       "age                  0\n",
       "merchant_suburb      0\n",
       "merchant_state       0\n",
       "extraction           0\n",
       "amount               0\n",
       "transaction_id       0\n",
       "country              0\n",
       "customer_id          0\n",
       "merchant_long_lat    0\n",
       "movement             0\n",
       "dtype: int64"
      ]
     },
     "execution_count": 18,
     "metadata": {},
     "output_type": "execute_result"
    }
   ],
   "source": [
    "df1 = df1.fillna(value = 'NULL')\n",
    "df1.isnull().sum()"
   ]
  },
  {
   "cell_type": "code",
   "execution_count": 19,
   "id": "2f06e8e6",
   "metadata": {},
   "outputs": [
    {
     "data": {
      "text/plain": [
       "country                  1\n",
       "currency                 1\n",
       "status                   2\n",
       "gender                   2\n",
       "movement                 2\n",
       "card_present_flag        3\n",
       "txn_description          6\n",
       "merchant_state           9\n",
       "age                     33\n",
       "first_name              80\n",
       "date                    91\n",
       "customer_id            100\n",
       "long_lat               100\n",
       "account                100\n",
       "merchant_suburb       1610\n",
       "merchant_long_lat     2704\n",
       "amount                4457\n",
       "merchant_id           5726\n",
       "extraction            9442\n",
       "balance              12006\n",
       "transaction_id       12043\n",
       "dtype: int64"
      ]
     },
     "execution_count": 19,
     "metadata": {},
     "output_type": "execute_result"
    }
   ],
   "source": [
    "df1.nunique().sort_values()"
   ]
  },
  {
   "cell_type": "markdown",
   "id": "4259d0fd",
   "metadata": {},
   "source": [
    "## Columns unique values < 25"
   ]
  },
  {
   "cell_type": "code",
   "execution_count": 20,
   "id": "a3ce45ad",
   "metadata": {},
   "outputs": [],
   "source": [
    "# Create age_group\n",
    "df1['age_group'] = pd.cut(df.age, [0, 20, 30, 40, 50 ,60, 999], labels = ['<20', '20-30', '31-40', '41-50', '51-60', '61+'])"
   ]
  },
  {
   "cell_type": "code",
   "execution_count": 21,
   "id": "02e3dc92",
   "metadata": {},
   "outputs": [
    {
     "data": {
      "text/plain": [
       "['status',\n",
       " 'card_present_flag',\n",
       " 'txn_description',\n",
       " 'gender',\n",
       " 'merchant_state',\n",
       " 'movement',\n",
       " 'age_group']"
      ]
     },
     "execution_count": 21,
     "metadata": {},
     "output_type": "execute_result"
    }
   ],
   "source": [
    "# Select columns whose unique values are between 2 and 25\n",
    "# cat - categorical\n",
    "cat_cols_list = [col for col in df1.columns if (df1[col].nunique() > 1) & (df1[col].nunique() < 25)]\n",
    "# cat_cols_list.remove('age')\n",
    "cat_cols_list"
   ]
  },
  {
   "cell_type": "code",
   "execution_count": 22,
   "id": "fa79a794",
   "metadata": {},
   "outputs": [
    {
     "name": "stdout",
     "output_type": "stream",
     "text": [
      "<class 'pandas.core.frame.DataFrame'>\n",
      "RangeIndex: 12043 entries, 0 to 12042\n",
      "Data columns (total 7 columns):\n",
      " #   Column             Non-Null Count  Dtype   \n",
      "---  ------             --------------  -----   \n",
      " 0   status             12043 non-null  object  \n",
      " 1   card_present_flag  12043 non-null  object  \n",
      " 2   txn_description    12043 non-null  object  \n",
      " 3   gender             12043 non-null  object  \n",
      " 4   merchant_state     12043 non-null  object  \n",
      " 5   movement           12043 non-null  object  \n",
      " 6   age_group          12043 non-null  category\n",
      "dtypes: category(1), object(6)\n",
      "memory usage: 576.6+ KB\n"
     ]
    }
   ],
   "source": [
    "df1[cat_cols_list].info()"
   ]
  },
  {
   "cell_type": "code",
   "execution_count": 23,
   "id": "85337245",
   "metadata": {},
   "outputs": [],
   "source": [
    "import pdb"
   ]
  },
  {
   "cell_type": "code",
   "execution_count": 24,
   "id": "c9e77aba",
   "metadata": {},
   "outputs": [],
   "source": [
    "# show the percecntage of each bar type plots\n",
    "def plot_height_per(df, ax):\n",
    "    total = float(len(df))\n",
    "    if ax == 0:\n",
    "        ax.text('0', ha = 'center')\n",
    "    height_list = []\n",
    "    for p in ax.patches:\n",
    "        height = p.get_height()\n",
    "        if np.isnan(height):\n",
    "            height = 0\n",
    "        height_list.append(height)\n",
    "        ax.text(p.get_x()+p.get_width()/2. ,\n",
    "               height * 1.05,\n",
    "               '{:.2%}'.format(height/total),\n",
    "               ha='center')\n",
    "    height_list.sort()\n",
    "    ax.set(ylim= (0, height_list[-1]*1.15))\n",
    "    \n",
    "def plot_height(df, ax):\n",
    "    height_list = []\n",
    "    for p in ax.patches:\n",
    "        height = p.get_height()\n",
    "#         pdb.set_trace()\n",
    "        if np.isnan(height):\n",
    "            height = 0\n",
    "        height_list.append(height)\n",
    "        ax.text(p.get_x() + p.get_width()/2,\n",
    "               height * 1.05,\n",
    "               '{}'.format(round(height)),\n",
    "               ha = 'center')\n",
    "    height_list.sort()\n",
    "    ax.set(ylim = (0, height_list[-1] * 1.15))"
   ]
  },
  {
   "cell_type": "code",
   "execution_count": 25,
   "id": "cc0100b7",
   "metadata": {},
   "outputs": [
    {
     "data": {
      "image/png": "[encoded data removed]",
      "text/plain": [
       "<Figure size 1224x648 with 6 Axes>"
      ]
     },
     "metadata": {
      "needs_background": "light"
     },
     "output_type": "display_data"
    }
   ],
   "source": [
    "fig, axes = plt.subplots(2, 3, figsize = (17, 9))\n",
    "fig.suptitle('hi')\n",
    "\n",
    "ax_0 = sns.countplot(data = df1, x = 'status', ax = axes[0,0])\n",
    "ax_1 = sns.countplot(data = df1, x = 'gender', ax = axes[0,1])\n",
    "ax_2 = sns.countplot(data = df1, x = 'movement', ax = axes[0,2])\n",
    "ax_3 = sns.countplot(data = df1, x = 'txn_description', ax = axes[1,0])\n",
    "axes[1,0].set_xticklabels(df1['txn_description'].unique(), rotation = 90)\n",
    "ax_4 = sns.countplot(data = df1, x = 'age_group', ax = axes[1,1])\n",
    "ax_5 = sns.countplot(data = df1, x = 'card_present_flag', ax = axes[1,2])\n",
    "\n",
    "plot_height_per(df1, ax_0)\n",
    "plot_height_per(df1, ax_1)\n",
    "plot_height_per(df1, ax_2)\n",
    "plot_height_per(df1, ax_3)\n",
    "plot_height_per(df1, ax_4)\n",
    "plot_height_per(df1, ax_5)\n",
    "\n",
    "plt.show()"
   ]
  },
  {
   "cell_type": "markdown",
   "id": "8ff413b5",
   "metadata": {},
   "source": [
    "# Movement"
   ]
  },
  {
   "cell_type": "code",
   "execution_count": 26,
   "id": "56bb8e9c",
   "metadata": {},
   "outputs": [
    {
     "data": {
      "image/png": "[encoded data removed]",
      "text/plain": [
       "<Figure size 720x288 with 2 Axes>"
      ]
     },
     "metadata": {
      "needs_background": "light"
     },
     "output_type": "display_data"
    }
   ],
   "source": [
    "mv_sum = df.groupby('movement')['amount'].sum()\n",
    "mv_count = df.groupby('movement')['amount'].count()\n",
    "\n",
    "mv = pd.DataFrame({'Sum': mv_sum, 'Amount': mv_count})\n",
    "\n",
    "fig, ax = plt.subplots(1, 2, figsize = (10,4))\n",
    "\n",
    "ax[0] = sns.countplot(data = df1, x = 'movement', order = ['debit', 'credit'], ax = ax[0])\n",
    "ax[0].set_title('Count')\n",
    "\n",
    "ax[1] = sns.barplot(data = mv, x = mv.index, y = 'Sum', order = ['debit', 'credit'], ax = ax[1])\n",
    "ax[1].set_title('Amount')\n",
    "plt.ticklabel_format(style = 'plain', axis = 'y') # To turn the scientific notation into plain numbers\n",
    "\n",
    "# Show figures\n",
    "plot_height(df1, ax[0])\n",
    "plot_height(mv, ax[1])\n",
    "\n",
    "plt.tight_layout() # When graphs are too close to each other, give some space bewteen them\n",
    "plt.show()"
   ]
  },
  {
   "cell_type": "markdown",
   "id": "2d8cb1bb",
   "metadata": {},
   "source": [
    "## Gender and age group"
   ]
  },
  {
   "cell_type": "code",
   "execution_count": 27,
   "id": "c5bc992e",
   "metadata": {},
   "outputs": [
    {
     "data": {
      "image/png": "[encoded data removed]",
      "text/plain": [
       "<Figure size 1008x324 with 2 Axes>"
      ]
     },
     "metadata": {
      "needs_background": "light"
     },
     "output_type": "display_data"
    }
   ],
   "source": [
    "fig, ax = plt.subplots(1, 2, figsize = (14, 4.5))\n",
    "\n",
    "ax[0] = sns.countplot(data= df1, x = 'age_group', ax = ax[0])\n",
    "ax[1] = sns.countplot(data= df1, x = 'age_group', hue= 'gender', hue_order=['M', 'F'], ax = ax[1])\n",
    "\n",
    "plot_height_per(df1, ax[0])\n",
    "plot_height_per(df1, ax[1])\n",
    "\n",
    "plt.show()"
   ]
  },
  {
   "cell_type": "code",
   "execution_count": 28,
   "id": "62cc728b",
   "metadata": {},
   "outputs": [
    {
     "data": {
      "image/png": "[encoded data removed]",
      "text/plain": [
       "<Figure size 648x432 with 1 Axes>"
      ]
     },
     "metadata": {
      "needs_background": "light"
     },
     "output_type": "display_data"
    }
   ],
   "source": [
    "txn_stack = df1.groupby(['age_group', 'txn_description'])['amount'].sum().unstack()\n",
    "txn_stack\n",
    "\n",
    "ax = txn_stack.plot(kind = 'bar', stacked = True, figsize = (9,6))\n",
    "ax.set_xticklabels(txn_stack.index, rotation = 0)\n",
    "\n",
    "plt.show()\n"
   ]
  },
  {
   "cell_type": "markdown",
   "id": "a8263719",
   "metadata": {},
   "source": [
    "## Transaction"
   ]
  },
  {
   "cell_type": "code",
   "execution_count": 29,
   "id": "f3f57251",
   "metadata": {},
   "outputs": [
    {
     "data": {
      "text/plain": [
       "0     742\n",
       "1     883\n",
       "2    2600\n",
       "3     101\n",
       "4    3783\n",
       "5    3934\n",
       "Name: amount, dtype: int64"
      ]
     },
     "execution_count": 29,
     "metadata": {},
     "output_type": "execute_result"
    }
   ],
   "source": [
    "df1.groupby(['txn_description', 'movement'])['amount'].count().reset_index()['amount']"
   ]
  },
  {
   "cell_type": "code",
   "execution_count": 30,
   "id": "287e6f42",
   "metadata": {},
   "outputs": [
    {
     "data": {
      "text/html": [
       "<div>\n",
       "<style scoped>\n",
       "    .dataframe tbody tr th:only-of-type {\n",
       "        vertical-align: middle;\n",
       "    }\n",
       "\n",
       "    .dataframe tbody tr th {\n",
       "        vertical-align: top;\n",
       "    }\n",
       "\n",
       "    .dataframe thead th {\n",
       "        text-align: right;\n",
       "    }\n",
       "</style>\n",
       "<table border=\"1\" class=\"dataframe\">\n",
       "  <thead>\n",
       "    <tr style=\"text-align: right;\">\n",
       "      <th></th>\n",
       "      <th>txn_description</th>\n",
       "      <th>movement</th>\n",
       "      <th>amount</th>\n",
       "      <th>count</th>\n",
       "    </tr>\n",
       "  </thead>\n",
       "  <tbody>\n",
       "    <tr>\n",
       "      <th>3</th>\n",
       "      <td>PHONE BANK</td>\n",
       "      <td>debit</td>\n",
       "      <td>10716.00</td>\n",
       "      <td>101</td>\n",
       "    </tr>\n",
       "    <tr>\n",
       "      <th>0</th>\n",
       "      <td>INTER BANK</td>\n",
       "      <td>debit</td>\n",
       "      <td>64331.00</td>\n",
       "      <td>742</td>\n",
       "    </tr>\n",
       "    <tr>\n",
       "      <th>4</th>\n",
       "      <td>POS</td>\n",
       "      <td>debit</td>\n",
       "      <td>152861.24</td>\n",
       "      <td>3783</td>\n",
       "    </tr>\n",
       "    <tr>\n",
       "      <th>5</th>\n",
       "      <td>SALES-POS</td>\n",
       "      <td>debit</td>\n",
       "      <td>157005.11</td>\n",
       "      <td>3934</td>\n",
       "    </tr>\n",
       "    <tr>\n",
       "      <th>2</th>\n",
       "      <td>PAYMENT</td>\n",
       "      <td>debit</td>\n",
       "      <td>201794.00</td>\n",
       "      <td>2600</td>\n",
       "    </tr>\n",
       "    <tr>\n",
       "      <th>1</th>\n",
       "      <td>PAY/SALARY</td>\n",
       "      <td>credit</td>\n",
       "      <td>1676576.85</td>\n",
       "      <td>883</td>\n",
       "    </tr>\n",
       "  </tbody>\n",
       "</table>\n",
       "</div>"
      ],
      "text/plain": [
       "  txn_description movement      amount  count\n",
       "3      PHONE BANK    debit    10716.00    101\n",
       "0      INTER BANK    debit    64331.00    742\n",
       "4             POS    debit   152861.24   3783\n",
       "5       SALES-POS    debit   157005.11   3934\n",
       "2         PAYMENT    debit   201794.00   2600\n",
       "1      PAY/SALARY   credit  1676576.85    883"
      ]
     },
     "execution_count": 30,
     "metadata": {},
     "output_type": "execute_result"
    }
   ],
   "source": [
    "txn = df1.groupby(['txn_description', 'movement'])['amount'].sum().reset_index()\n",
    "txn['count'] = df1.groupby(['txn_description', 'movement'])['amount'].count().reset_index()['amount']\n",
    "txn.sort_values('amount')"
   ]
  },
  {
   "cell_type": "code",
   "execution_count": 31,
   "id": "8cce2cc7",
   "metadata": {},
   "outputs": [
    {
     "data": {
      "image/png": "[encoded data removed]",
      "text/plain": [
       "<Figure size 720x324 with 2 Axes>"
      ]
     },
     "metadata": {
      "needs_background": "light"
     },
     "output_type": "display_data"
    }
   ],
   "source": [
    "fig, ax = plt.subplots(1, 2, figsize = (10, 4.5))\n",
    "\n",
    "ax[0] = sns.barplot(data = txn, x = 'txn_description', y = 'amount', ax = ax[0])\n",
    "ax[0].ticklabel_format(style = 'plain', axis = 'y')\n",
    "ax[0].set_xticklabels(txn['txn_description'], rotation = 40)\n",
    "\n",
    "ax[1] = sns.barplot(data = txn, x = 'txn_description', y = 'amount', hue = 'movement', ax = ax[1])\n",
    "ax[1].ticklabel_format(style = 'plain', axis = 'y')\n",
    "ax[1].set_xticklabels(txn['txn_description'], rotation = 40)\n",
    "\n",
    "plot_height(txn, ax[0])\n",
    "plot_height(txn, ax[1])\n",
    "\n",
    "plt.tight_layout()\n",
    "plt.show()"
   ]
  },
  {
   "cell_type": "markdown",
   "id": "4c75a0fd",
   "metadata": {},
   "source": [
    "## Total and average amount each month"
   ]
  },
  {
   "cell_type": "code",
   "execution_count": 32,
   "id": "8082b233",
   "metadata": {
    "scrolled": true
   },
   "outputs": [
    {
     "data": {
      "text/html": [
       "<div>\n",
       "<style scoped>\n",
       "    .dataframe tbody tr th:only-of-type {\n",
       "        vertical-align: middle;\n",
       "    }\n",
       "\n",
       "    .dataframe tbody tr th {\n",
       "        vertical-align: top;\n",
       "    }\n",
       "\n",
       "    .dataframe thead th {\n",
       "        text-align: right;\n",
       "    }\n",
       "</style>\n",
       "<table border=\"1\" class=\"dataframe\">\n",
       "  <thead>\n",
       "    <tr style=\"text-align: right;\">\n",
       "      <th></th>\n",
       "      <th>status</th>\n",
       "      <th>card_present_flag</th>\n",
       "      <th>account</th>\n",
       "      <th>currency</th>\n",
       "      <th>long_lat</th>\n",
       "      <th>txn_description</th>\n",
       "      <th>merchant_id</th>\n",
       "      <th>first_name</th>\n",
       "      <th>balance</th>\n",
       "      <th>date</th>\n",
       "      <th>gender</th>\n",
       "      <th>age</th>\n",
       "      <th>merchant_suburb</th>\n",
       "      <th>merchant_state</th>\n",
       "      <th>extraction</th>\n",
       "      <th>amount</th>\n",
       "      <th>transaction_id</th>\n",
       "      <th>country</th>\n",
       "      <th>customer_id</th>\n",
       "      <th>merchant_long_lat</th>\n",
       "      <th>movement</th>\n",
       "      <th>age_group</th>\n",
       "      <th>day_name</th>\n",
       "      <th>month_name</th>\n",
       "    </tr>\n",
       "  </thead>\n",
       "  <tbody>\n",
       "    <tr>\n",
       "      <th>0</th>\n",
       "      <td>authorized</td>\n",
       "      <td>1.0</td>\n",
       "      <td>ACC-1598451071</td>\n",
       "      <td>AUD</td>\n",
       "      <td>153.41 -27.95</td>\n",
       "      <td>POS</td>\n",
       "      <td>81c48296-73be-44a7-befa-d053f48ce7cd</td>\n",
       "      <td>Diana</td>\n",
       "      <td>35.39</td>\n",
       "      <td>2018-08-01</td>\n",
       "      <td>F</td>\n",
       "      <td>26</td>\n",
       "      <td>Ashmore</td>\n",
       "      <td>QLD</td>\n",
       "      <td>2018-08-01T01:01:15.000+0000</td>\n",
       "      <td>16.25</td>\n",
       "      <td>a623070bfead4541a6b0fff8a09e706c</td>\n",
       "      <td>Australia</td>\n",
       "      <td>CUS-2487424745</td>\n",
       "      <td>153.38 -27.99</td>\n",
       "      <td>debit</td>\n",
       "      <td>20-30</td>\n",
       "      <td>Wednesday</td>\n",
       "      <td>August</td>\n",
       "    </tr>\n",
       "    <tr>\n",
       "      <th>1</th>\n",
       "      <td>authorized</td>\n",
       "      <td>0.0</td>\n",
       "      <td>ACC-1598451071</td>\n",
       "      <td>AUD</td>\n",
       "      <td>153.41 -27.95</td>\n",
       "      <td>SALES-POS</td>\n",
       "      <td>830a451c-316e-4a6a-bf25-e37caedca49e</td>\n",
       "      <td>Diana</td>\n",
       "      <td>21.20</td>\n",
       "      <td>2018-08-01</td>\n",
       "      <td>F</td>\n",
       "      <td>26</td>\n",
       "      <td>Sydney</td>\n",
       "      <td>NSW</td>\n",
       "      <td>2018-08-01T01:13:45.000+0000</td>\n",
       "      <td>14.19</td>\n",
       "      <td>13270a2a902145da9db4c951e04b51b9</td>\n",
       "      <td>Australia</td>\n",
       "      <td>CUS-2487424745</td>\n",
       "      <td>151.21 -33.87</td>\n",
       "      <td>debit</td>\n",
       "      <td>20-30</td>\n",
       "      <td>Wednesday</td>\n",
       "      <td>August</td>\n",
       "    </tr>\n",
       "    <tr>\n",
       "      <th>2</th>\n",
       "      <td>authorized</td>\n",
       "      <td>1.0</td>\n",
       "      <td>ACC-1222300524</td>\n",
       "      <td>AUD</td>\n",
       "      <td>151.23 -33.94</td>\n",
       "      <td>POS</td>\n",
       "      <td>835c231d-8cdf-4e96-859d-e9d571760cf0</td>\n",
       "      <td>Michael</td>\n",
       "      <td>5.71</td>\n",
       "      <td>2018-08-01</td>\n",
       "      <td>M</td>\n",
       "      <td>38</td>\n",
       "      <td>Sydney</td>\n",
       "      <td>NSW</td>\n",
       "      <td>2018-08-01T01:26:15.000+0000</td>\n",
       "      <td>6.42</td>\n",
       "      <td>feb79e7ecd7048a5a36ec889d1a94270</td>\n",
       "      <td>Australia</td>\n",
       "      <td>CUS-2142601169</td>\n",
       "      <td>151.21 -33.87</td>\n",
       "      <td>debit</td>\n",
       "      <td>31-40</td>\n",
       "      <td>Wednesday</td>\n",
       "      <td>August</td>\n",
       "    </tr>\n",
       "    <tr>\n",
       "      <th>3</th>\n",
       "      <td>authorized</td>\n",
       "      <td>1.0</td>\n",
       "      <td>ACC-1037050564</td>\n",
       "      <td>AUD</td>\n",
       "      <td>153.10 -27.66</td>\n",
       "      <td>SALES-POS</td>\n",
       "      <td>48514682-c78a-4a88-b0da-2d6302e64673</td>\n",
       "      <td>Rhonda</td>\n",
       "      <td>2117.22</td>\n",
       "      <td>2018-08-01</td>\n",
       "      <td>F</td>\n",
       "      <td>40</td>\n",
       "      <td>Buderim</td>\n",
       "      <td>QLD</td>\n",
       "      <td>2018-08-01T01:38:45.000+0000</td>\n",
       "      <td>40.90</td>\n",
       "      <td>2698170da3704fd981b15e64a006079e</td>\n",
       "      <td>Australia</td>\n",
       "      <td>CUS-1614226872</td>\n",
       "      <td>153.05 -26.68</td>\n",
       "      <td>debit</td>\n",
       "      <td>31-40</td>\n",
       "      <td>Wednesday</td>\n",
       "      <td>August</td>\n",
       "    </tr>\n",
       "    <tr>\n",
       "      <th>4</th>\n",
       "      <td>authorized</td>\n",
       "      <td>1.0</td>\n",
       "      <td>ACC-1598451071</td>\n",
       "      <td>AUD</td>\n",
       "      <td>153.41 -27.95</td>\n",
       "      <td>SALES-POS</td>\n",
       "      <td>b4e02c10-0852-4273-b8fd-7b3395e32eb0</td>\n",
       "      <td>Diana</td>\n",
       "      <td>17.95</td>\n",
       "      <td>2018-08-01</td>\n",
       "      <td>F</td>\n",
       "      <td>26</td>\n",
       "      <td>Mermaid Beach</td>\n",
       "      <td>QLD</td>\n",
       "      <td>2018-08-01T01:51:15.000+0000</td>\n",
       "      <td>3.25</td>\n",
       "      <td>329adf79878c4cf0aeb4188b4691c266</td>\n",
       "      <td>Australia</td>\n",
       "      <td>CUS-2487424745</td>\n",
       "      <td>153.44 -28.06</td>\n",
       "      <td>debit</td>\n",
       "      <td>20-30</td>\n",
       "      <td>Wednesday</td>\n",
       "      <td>August</td>\n",
       "    </tr>\n",
       "  </tbody>\n",
       "</table>\n",
       "</div>"
      ],
      "text/plain": [
       "       status card_present_flag         account currency       long_lat  \\\n",
       "0  authorized               1.0  ACC-1598451071      AUD  153.41 -27.95   \n",
       "1  authorized               0.0  ACC-1598451071      AUD  153.41 -27.95   \n",
       "2  authorized               1.0  ACC-1222300524      AUD  151.23 -33.94   \n",
       "3  authorized               1.0  ACC-1037050564      AUD  153.10 -27.66   \n",
       "4  authorized               1.0  ACC-1598451071      AUD  153.41 -27.95   \n",
       "\n",
       "  txn_description                           merchant_id first_name  balance  \\\n",
       "0             POS  81c48296-73be-44a7-befa-d053f48ce7cd      Diana    35.39   \n",
       "1       SALES-POS  830a451c-316e-4a6a-bf25-e37caedca49e      Diana    21.20   \n",
       "2             POS  835c231d-8cdf-4e96-859d-e9d571760cf0    Michael     5.71   \n",
       "3       SALES-POS  48514682-c78a-4a88-b0da-2d6302e64673     Rhonda  2117.22   \n",
       "4       SALES-POS  b4e02c10-0852-4273-b8fd-7b3395e32eb0      Diana    17.95   \n",
       "\n",
       "        date gender  age merchant_suburb merchant_state  \\\n",
       "0 2018-08-01      F   26         Ashmore            QLD   \n",
       "1 2018-08-01      F   26          Sydney            NSW   \n",
       "2 2018-08-01      M   38          Sydney            NSW   \n",
       "3 2018-08-01      F   40         Buderim            QLD   \n",
       "4 2018-08-01      F   26   Mermaid Beach            QLD   \n",
       "\n",
       "                     extraction  amount                    transaction_id  \\\n",
       "0  2018-08-01T01:01:15.000+0000   16.25  a623070bfead4541a6b0fff8a09e706c   \n",
       "1  2018-08-01T01:13:45.000+0000   14.19  13270a2a902145da9db4c951e04b51b9   \n",
       "2  2018-08-01T01:26:15.000+0000    6.42  feb79e7ecd7048a5a36ec889d1a94270   \n",
       "3  2018-08-01T01:38:45.000+0000   40.90  2698170da3704fd981b15e64a006079e   \n",
       "4  2018-08-01T01:51:15.000+0000    3.25  329adf79878c4cf0aeb4188b4691c266   \n",
       "\n",
       "     country     customer_id merchant_long_lat movement age_group   day_name  \\\n",
       "0  Australia  CUS-2487424745     153.38 -27.99    debit     20-30  Wednesday   \n",
       "1  Australia  CUS-2487424745     151.21 -33.87    debit     20-30  Wednesday   \n",
       "2  Australia  CUS-2142601169     151.21 -33.87    debit     31-40  Wednesday   \n",
       "3  Australia  CUS-1614226872     153.05 -26.68    debit     31-40  Wednesday   \n",
       "4  Australia  CUS-2487424745     153.44 -28.06    debit     20-30  Wednesday   \n",
       "\n",
       "  month_name  \n",
       "0     August  \n",
       "1     August  \n",
       "2     August  \n",
       "3     August  \n",
       "4     August  "
      ]
     },
     "execution_count": 32,
     "metadata": {},
     "output_type": "execute_result"
    }
   ],
   "source": [
    "df1['day_name'] = df1['date'].dt.day_name()\n",
    "df1['month_name'] = df1['date'].dt.month_name()\n",
    "# df1['date'].dt.month # numbers\n",
    "df1.head()"
   ]
  },
  {
   "cell_type": "code",
   "execution_count": 33,
   "id": "296ad3ed",
   "metadata": {},
   "outputs": [
    {
     "name": "stdout",
     "output_type": "stream",
     "text": [
      "  month_name     amount  avg_amount\n",
      "0     August  729935.52      185.12\n",
      "1    October  802798.47      196.43\n",
      "2  September  730550.21      182.05\n",
      "\n",
      "  month_name gender     amount  avg_amount\n",
      "0     August      F  309397.55      162.93\n",
      "1     August      M  420537.97      205.74\n",
      "2    October      F  347430.62      179.27\n",
      "3    October      M  455367.85      211.90\n",
      "4  September      F  313494.46      163.19\n",
      "5  September      M  417055.75      199.36\n",
      "\n",
      "   month_name age_group gender     amount  avg_amount\n",
      "0      August       <20      F   54524.99  170.390594\n",
      "1      August       <20      M   51431.69  168.077418\n",
      "2      August     20-30      F  110294.69  134.341888\n",
      "3      August     20-30      M  165675.30  189.127055\n",
      "4      August     31-40      F   90839.26  200.086476\n",
      "5      August     31-40      M  126748.92  223.543069\n",
      "6      August     41-50      F   44076.74  192.474847\n",
      "7      August     41-50      M   54121.70  250.563426\n",
      "8      August     51-60      F    6139.40  122.788000\n",
      "9      August     51-60      M   12553.91  369.232647\n",
      "10     August       61+      F    3522.47  140.898800\n",
      "11     August       61+      M   10006.45  222.365556\n",
      "12    October       <20      F   64606.69  184.590543\n",
      "13    October       <20      M   61739.37  216.629368\n",
      "14    October     20-30      F  126184.66  157.533908\n",
      "15    October     20-30      M  172356.45  185.728933\n",
      "16    October     31-40      F  107380.70  213.480517\n",
      "17    October     31-40      M  140675.28  213.467800\n",
      "18    October     41-50      F   40155.02  172.339142\n",
      "19    October     41-50      M   61797.30  283.473853\n",
      "20    October     51-60      F    5466.35  607.372222\n",
      "21    October     51-60      M    8726.68  459.298947\n",
      "22    October       61+      F    3637.20   86.600000\n",
      "23    October       61+      M   10072.77  251.819250\n",
      "24  September       <20      F   59891.05  177.718249\n",
      "25  September       <20      M   49925.00  165.314570\n",
      "26  September     20-30      F  101069.09  134.579348\n",
      "27  September     20-30      M  163805.48  183.227606\n",
      "28  September     31-40      F  103220.04  175.246248\n",
      "29  September     31-40      M  128934.49  203.687978\n",
      "30  September     41-50      F   41223.31  197.240718\n",
      "31  September     41-50      M   53981.95  287.138032\n",
      "32  September     51-60      F    4663.22  333.087143\n",
      "33  September     51-60      M   10962.58  456.774167\n",
      "34  September       61+      F    3427.75  163.226190\n",
      "35  September       61+      M    9446.25  185.220588\n"
     ]
    }
   ],
   "source": [
    "# 1\n",
    "month_amount = df1.groupby(['month_name'])['amount'].sum().reset_index()\n",
    "month_amount['avg_amount'] = round(df1.groupby(['month_name'])['amount'].mean(),2).reset_index().amount\n",
    "\n",
    "# 2\n",
    "month_am_sex = df1.groupby(['month_name', 'gender'])['amount'].sum().reset_index()\n",
    "month_am_sex['avg_amount'] = round(df1.groupby(['month_name', 'gender'])['amount'].mean(),2).reset_index().amount\n",
    "\n",
    "# 3\n",
    "month_age = df1.groupby(['month_name', 'age_group', 'gender'])['amount'].sum().reset_index()\n",
    "month_age['avg_amount'] = df1.groupby(['month_name', 'age_group', 'gender'])['amount'].mean().reset_index().amount\n",
    "\n",
    "print(month_amount)\n",
    "print('')\n",
    "print(month_am_sex)\n",
    "print('')\n",
    "print(month_age)"
   ]
  },
  {
   "cell_type": "markdown",
   "id": "ac8e30ae",
   "metadata": {},
   "source": [
    "#### Total amount"
   ]
  },
  {
   "cell_type": "code",
   "execution_count": 34,
   "id": "6690441f",
   "metadata": {},
   "outputs": [
    {
     "data": {
      "image/png": "[encoded data removed]",
      "text/plain": [
       "<Figure size 1008x360 with 2 Axes>"
      ]
     },
     "metadata": {
      "needs_background": "light"
     },
     "output_type": "display_data"
    }
   ],
   "source": [
    "fig, ax = plt.subplots(1, 2, figsize = (14,5))\n",
    "plt.suptitle('Total amount each month')\n",
    "\n",
    "ax[0] = sns.barplot(data = month_amount, x = 'month_name', y = 'amount', ax = ax[0])\n",
    "ax[0].set_title('Total')\n",
    "ax[0].set(xlabel = 'Month', ylabel = 'Amount')\n",
    "\n",
    "ax[1] = sns.barplot(data = month_am_sex, x = 'month_name', y = 'amount', hue = 'gender', \n",
    "                    hue_order = ['M', 'F'], ax = ax[1])\n",
    "ax[1].set_title('Total by gender')\n",
    "# ax[1].legend(loc = 'upper left')\n",
    "ax[1].set(xlabel = 'Month', ylabel = 'Amount')\n",
    "\n",
    "plot_height(month_amount, ax[0])\n",
    "plot_height(month_amount, ax[1])\n",
    "\n",
    "plt.show()"
   ]
  },
  {
   "cell_type": "markdown",
   "id": "e3cdbf60",
   "metadata": {},
   "source": [
    "#### Average amount"
   ]
  },
  {
   "cell_type": "code",
   "execution_count": 35,
   "id": "2e4f27cb",
   "metadata": {},
   "outputs": [
    {
     "data": {
      "image/png": "[encoded data removed]",
      "text/plain": [
       "<Figure size 1008x360 with 2 Axes>"
      ]
     },
     "metadata": {
      "needs_background": "light"
     },
     "output_type": "display_data"
    }
   ],
   "source": [
    "fig, ax = plt.subplots(1, 2, figsize = (14,5))\n",
    "plt.suptitle('Average amount each month')\n",
    "\n",
    "ax[0] = sns.barplot(data = month_amount, x = 'month_name', y = 'avg_amount', ax = ax[0])\n",
    "ax[0].set_title('Total')\n",
    "ax[0].set(xlabel = 'Month', ylabel = 'Amount')\n",
    "\n",
    "ax[1] = sns.barplot(data = month_am_sex, x = 'month_name', y = 'avg_amount', hue = 'gender', \n",
    "                    hue_order = ['M', 'F'], ax = ax[1])\n",
    "ax[1].set_title('Total by gender')\n",
    "# ax[1].legend(loc = 'upper left')\n",
    "ax[1].set(xlabel = 'Month', ylabel = 'Amount')\n",
    "\n",
    "plot_height(month_amount, ax[0])\n",
    "plot_height(month_amount, ax[1])\n",
    "\n",
    "plt.show()"
   ]
  },
  {
   "cell_type": "markdown",
   "id": "f6060149",
   "metadata": {},
   "source": [
    "#### By age"
   ]
  },
  {
   "cell_type": "code",
   "execution_count": 36,
   "id": "22cb62d8",
   "metadata": {},
   "outputs": [
    {
     "data": {
      "image/png": "[encoded data removed]",
      "text/plain": [
       "<Figure size 1080x504 with 2 Axes>"
      ]
     },
     "metadata": {
      "needs_background": "light"
     },
     "output_type": "display_data"
    }
   ],
   "source": [
    "fig, ax = plt.subplots(1, 2, figsize = (15,7))\n",
    "plt.suptitle('Total and average amount each month by age group')\n",
    "\n",
    "ax[0] = sns.barplot(data = month_age, x = 'month_name', y = 'amount', hue = 'age_group', \n",
    "                    ax = ax[0])\n",
    "ax[0].set_title('Total')\n",
    "# ax[0].legend(loc = 'best', bbox_to_anchor=(0.25, 0.5), ncol=1)\n",
    "ax[0].legend(loc = 'best')\n",
    "ax[0].set(ylabel = 'Amount')\n",
    "# ax[0].set_ylabel('Amount')\n",
    "ax[0].set_xlabel('Month', labelpad = 20)\n",
    "\n",
    "ax[1] = sns.barplot(data = month_age, x = 'month_name', y = 'avg_amount', hue = 'age_group', \n",
    "                    ax = ax[1])\n",
    "ax[1].set_title('Average')\n",
    "ax[1].legend(loc = 'best')\n",
    "ax[1].set_ylabel('Amount')\n",
    "ax[1].set_xlabel('Month', labelpad = 20)\n",
    "\n",
    "plot_height(month_age, ax[0])\n",
    "plot_height(month_age, ax[1])\n",
    "\n",
    "plt.tight_layout()\n",
    "plt.show()"
   ]
  },
  {
   "cell_type": "markdown",
   "id": "e1f224cf",
   "metadata": {},
   "source": [
    "Calculate individual's transactions and divide by 3 (because there are only 3 months) "
   ]
  },
  {
   "cell_type": "code",
   "execution_count": 37,
   "id": "0f4675eb",
   "metadata": {},
   "outputs": [],
   "source": [
    "txn_vol = round(df1.groupby(['customer_id', 'gender', 'age_group']).transaction_id.count()/3).reset_index()"
   ]
  },
  {
   "cell_type": "code",
   "execution_count": 38,
   "id": "906f91cf",
   "metadata": {},
   "outputs": [
    {
     "data": {
      "text/html": [
       "<div>\n",
       "<style scoped>\n",
       "    .dataframe tbody tr th:only-of-type {\n",
       "        vertical-align: middle;\n",
       "    }\n",
       "\n",
       "    .dataframe tbody tr th {\n",
       "        vertical-align: top;\n",
       "    }\n",
       "\n",
       "    .dataframe thead th {\n",
       "        text-align: right;\n",
       "    }\n",
       "</style>\n",
       "<table border=\"1\" class=\"dataframe\">\n",
       "  <thead>\n",
       "    <tr style=\"text-align: right;\">\n",
       "      <th></th>\n",
       "      <th>customer_id</th>\n",
       "      <th>gender</th>\n",
       "      <th>age_group</th>\n",
       "      <th>txn_count</th>\n",
       "    </tr>\n",
       "  </thead>\n",
       "  <tbody>\n",
       "    <tr>\n",
       "      <th>0</th>\n",
       "      <td>CUS-1005756958</td>\n",
       "      <td>F</td>\n",
       "      <td>51-60</td>\n",
       "      <td>24.0</td>\n",
       "    </tr>\n",
       "    <tr>\n",
       "      <th>1</th>\n",
       "      <td>CUS-1117979751</td>\n",
       "      <td>M</td>\n",
       "      <td>20-30</td>\n",
       "      <td>33.0</td>\n",
       "    </tr>\n",
       "    <tr>\n",
       "      <th>2</th>\n",
       "      <td>CUS-1140341822</td>\n",
       "      <td>M</td>\n",
       "      <td>20-30</td>\n",
       "      <td>27.0</td>\n",
       "    </tr>\n",
       "    <tr>\n",
       "      <th>3</th>\n",
       "      <td>CUS-1147642491</td>\n",
       "      <td>F</td>\n",
       "      <td>31-40</td>\n",
       "      <td>39.0</td>\n",
       "    </tr>\n",
       "    <tr>\n",
       "      <th>4</th>\n",
       "      <td>CUS-1196156254</td>\n",
       "      <td>F</td>\n",
       "      <td>31-40</td>\n",
       "      <td>82.0</td>\n",
       "    </tr>\n",
       "  </tbody>\n",
       "</table>\n",
       "</div>"
      ],
      "text/plain": [
       "      customer_id gender age_group  txn_count\n",
       "0  CUS-1005756958      F     51-60       24.0\n",
       "1  CUS-1117979751      M     20-30       33.0\n",
       "2  CUS-1140341822      M     20-30       27.0\n",
       "3  CUS-1147642491      F     31-40       39.0\n",
       "4  CUS-1196156254      F     31-40       82.0"
      ]
     },
     "execution_count": 38,
     "metadata": {},
     "output_type": "execute_result"
    }
   ],
   "source": [
    "txn_vol = round(df1.groupby(['customer_id', 'gender', 'age_group']).transaction_id.count()/3).reset_index()\n",
    "# Drop rows whose txn_range is null \n",
    "txn_vol = txn_vol.drop(axis = 0, index = txn_vol[txn_vol['transaction_id'] == 0].index)\n",
    "# Reset and drop the existing index to create a new index \n",
    "txn_vol = txn_vol.reset_index().drop(columns = 'index')\n",
    "\n",
    "txn_vol.rename(columns = {'transaction_id' : 'txn_count'}, inplace = True)\n",
    "\n",
    "txn_vol.head()"
   ]
  },
  {
   "cell_type": "code",
   "execution_count": 39,
   "id": "f12d49ff",
   "metadata": {
    "scrolled": true
   },
   "outputs": [
    {
     "data": {
      "text/html": [
       "<div>\n",
       "<style scoped>\n",
       "    .dataframe tbody tr th:only-of-type {\n",
       "        vertical-align: middle;\n",
       "    }\n",
       "\n",
       "    .dataframe tbody tr th {\n",
       "        vertical-align: top;\n",
       "    }\n",
       "\n",
       "    .dataframe thead th {\n",
       "        text-align: right;\n",
       "    }\n",
       "</style>\n",
       "<table border=\"1\" class=\"dataframe\">\n",
       "  <thead>\n",
       "    <tr style=\"text-align: right;\">\n",
       "      <th></th>\n",
       "      <th>customer_id</th>\n",
       "      <th>gender</th>\n",
       "      <th>age_group</th>\n",
       "      <th>txn_count</th>\n",
       "      <th>txn_range</th>\n",
       "    </tr>\n",
       "  </thead>\n",
       "  <tbody>\n",
       "    <tr>\n",
       "      <th>0</th>\n",
       "      <td>CUS-1005756958</td>\n",
       "      <td>F</td>\n",
       "      <td>51-60</td>\n",
       "      <td>24.0</td>\n",
       "      <td>21-30</td>\n",
       "    </tr>\n",
       "    <tr>\n",
       "      <th>1</th>\n",
       "      <td>CUS-1117979751</td>\n",
       "      <td>M</td>\n",
       "      <td>20-30</td>\n",
       "      <td>33.0</td>\n",
       "      <td>31-40</td>\n",
       "    </tr>\n",
       "    <tr>\n",
       "      <th>2</th>\n",
       "      <td>CUS-1140341822</td>\n",
       "      <td>M</td>\n",
       "      <td>20-30</td>\n",
       "      <td>27.0</td>\n",
       "      <td>21-30</td>\n",
       "    </tr>\n",
       "    <tr>\n",
       "      <th>3</th>\n",
       "      <td>CUS-1147642491</td>\n",
       "      <td>F</td>\n",
       "      <td>31-40</td>\n",
       "      <td>39.0</td>\n",
       "      <td>31-40</td>\n",
       "    </tr>\n",
       "    <tr>\n",
       "      <th>4</th>\n",
       "      <td>CUS-1196156254</td>\n",
       "      <td>F</td>\n",
       "      <td>31-40</td>\n",
       "      <td>82.0</td>\n",
       "      <td>81-90</td>\n",
       "    </tr>\n",
       "  </tbody>\n",
       "</table>\n",
       "</div>"
      ],
      "text/plain": [
       "      customer_id gender age_group  txn_count txn_range\n",
       "0  CUS-1005756958      F     51-60       24.0     21-30\n",
       "1  CUS-1117979751      M     20-30       33.0     31-40\n",
       "2  CUS-1140341822      M     20-30       27.0     21-30\n",
       "3  CUS-1147642491      F     31-40       39.0     31-40\n",
       "4  CUS-1196156254      F     31-40       82.0     81-90"
      ]
     },
     "execution_count": 39,
     "metadata": {},
     "output_type": "execute_result"
    }
   ],
   "source": [
    "# pd.cut(txn_vol, [0, 10, 20, 30, 40, 50, 60, 70, 80, 90, 100, 999],\n",
    "# [0, 11, 21, 31, 41, 51, 61, 71, 81, 91, 101, 999]\n",
    "# Add txn_range\n",
    "txn_vol['txn_range'] = pd.cut(txn_vol['txn_count'], [0, 10, 20, 30, 40, 50, 60, 70, 80, 90, 100, 999], \n",
    "                     labels = ['0-10','11-20','21-30','31-40','41-50', '51-60', '61-70',\n",
    "                               '71-80','81-90','91-100','101+'])\n",
    "txn_vol.head()"
   ]
  },
  {
   "cell_type": "markdown",
   "id": "bb5df101",
   "metadata": {},
   "source": [
    "The monthly average transaction volume is 40. "
   ]
  },
  {
   "cell_type": "code",
   "execution_count": 40,
   "id": "a482f275",
   "metadata": {},
   "outputs": [
    {
     "data": {
      "text/plain": [
       "40.14333333333333"
      ]
     },
     "execution_count": 40,
     "metadata": {},
     "output_type": "execute_result"
    }
   ],
   "source": [
    "(df1.groupby('customer_id').transaction_id.count()/3).reset_index().transaction_id.mean()"
   ]
  },
  {
   "cell_type": "code",
   "execution_count": null,
   "id": "67ee6b8a",
   "metadata": {},
   "outputs": [],
   "source": []
  },
  {
   "cell_type": "markdown",
   "id": "27d2ee1b",
   "metadata": {},
   "source": [
    "It is clear that most transcations are between 25 and 50."
   ]
  },
  {
   "cell_type": "code",
   "execution_count": 41,
   "id": "ada0c37e",
   "metadata": {},
   "outputs": [
    {
     "data": {
      "text/plain": [
       "<AxesSubplot:xlabel='txn_count'>"
      ]
     },
     "execution_count": 41,
     "metadata": {},
     "output_type": "execute_result"
    },
    {
     "data": {
      "image/png": "[encoded data removed]",
      "text/plain": [
       "<Figure size 432x288 with 1 Axes>"
      ]
     },
     "metadata": {
      "needs_background": "light"
     },
     "output_type": "display_data"
    }
   ],
   "source": [
    "sns.boxplot(data = txn_vol, x = 'txn_count')"
   ]
  },
  {
   "cell_type": "code",
   "execution_count": 42,
   "id": "c51ed644",
   "metadata": {},
   "outputs": [
    {
     "data": {
      "image/png": "[encoded data removed]",
      "text/plain": [
       "<Figure size 640x480 with 1 Axes>"
      ]
     },
     "metadata": {
      "needs_background": "light"
     },
     "output_type": "display_data"
    }
   ],
   "source": [
    "plt.figure(figsize=(8, 6), dpi=80)\n",
    "ax = sns.histplot(data = txn_vol, x=\"txn_range\", fill = False, kde = True)\n",
    "# ax = sns.histplot(data = txn_vol, x=\"transaction_id\", fill = False, kde = True, bins = 10, binwidth = 10)\n",
    "# ax = sns.countplot(data = txn_vol, x = 'txn_range')\n",
    "ax.set(xlabel = 'transactions', ylabel = 'customers')\n",
    "\n",
    "plot_height(txn_vol, ax)\n",
    "plt.show()"
   ]
  },
  {
   "cell_type": "markdown",
   "id": "6e65fd55",
   "metadata": {},
   "source": [
    "There are 23 customers who made transactions between 21 and 30, and 14 of them are men and 9 of them are women.  "
   ]
  },
  {
   "cell_type": "code",
   "execution_count": 43,
   "id": "27c5a1ec",
   "metadata": {},
   "outputs": [
    {
     "data": {
      "image/png": "[encoded data removed]",
      "text/plain": [
       "<Figure size 640x480 with 1 Axes>"
      ]
     },
     "metadata": {
      "needs_background": "light"
     },
     "output_type": "display_data"
    }
   ],
   "source": [
    "plt.figure(figsize=(8, 6), dpi=80)\n",
    "plt.suptitle('Average transactions by gender')\n",
    "ax = sns.countplot(data = txn_vol, x = 'txn_range', hue = 'gender', hue_order = ['M', 'F'])\n",
    "ax.set(xlabel = 'transactions', ylabel = 'customers')\n",
    "plot_height(txn_vol, ax)\n",
    "\n",
    "plt.show()"
   ]
  },
  {
   "cell_type": "markdown",
   "id": "66cc99d9",
   "metadata": {},
   "source": [
    "### Average transaction volume by hour"
   ]
  },
  {
   "cell_type": "code",
   "execution_count": 44,
   "id": "b1b851ca",
   "metadata": {},
   "outputs": [
    {
     "data": {
      "text/html": [
       "<div>\n",
       "<style scoped>\n",
       "    .dataframe tbody tr th:only-of-type {\n",
       "        vertical-align: middle;\n",
       "    }\n",
       "\n",
       "    .dataframe tbody tr th {\n",
       "        vertical-align: top;\n",
       "    }\n",
       "\n",
       "    .dataframe thead th {\n",
       "        text-align: right;\n",
       "    }\n",
       "</style>\n",
       "<table border=\"1\" class=\"dataframe\">\n",
       "  <thead>\n",
       "    <tr style=\"text-align: right;\">\n",
       "      <th></th>\n",
       "      <th>status</th>\n",
       "      <th>card_present_flag</th>\n",
       "      <th>account</th>\n",
       "      <th>currency</th>\n",
       "      <th>long_lat</th>\n",
       "      <th>txn_description</th>\n",
       "      <th>merchant_id</th>\n",
       "      <th>first_name</th>\n",
       "      <th>balance</th>\n",
       "      <th>date</th>\n",
       "      <th>gender</th>\n",
       "      <th>age</th>\n",
       "      <th>merchant_suburb</th>\n",
       "      <th>merchant_state</th>\n",
       "      <th>extraction</th>\n",
       "      <th>amount</th>\n",
       "      <th>transaction_id</th>\n",
       "      <th>country</th>\n",
       "      <th>customer_id</th>\n",
       "      <th>merchant_long_lat</th>\n",
       "      <th>movement</th>\n",
       "      <th>age_group</th>\n",
       "      <th>day_name</th>\n",
       "      <th>month_name</th>\n",
       "      <th>txn_date</th>\n",
       "      <th>txn_hr</th>\n",
       "    </tr>\n",
       "  </thead>\n",
       "  <tbody>\n",
       "    <tr>\n",
       "      <th>0</th>\n",
       "      <td>authorized</td>\n",
       "      <td>1.0</td>\n",
       "      <td>ACC-1598451071</td>\n",
       "      <td>AUD</td>\n",
       "      <td>153.41 -27.95</td>\n",
       "      <td>POS</td>\n",
       "      <td>81c48296-73be-44a7-befa-d053f48ce7cd</td>\n",
       "      <td>Diana</td>\n",
       "      <td>35.39</td>\n",
       "      <td>2018-08-01</td>\n",
       "      <td>F</td>\n",
       "      <td>26</td>\n",
       "      <td>Ashmore</td>\n",
       "      <td>QLD</td>\n",
       "      <td>2018-08-01T01:01:15.000+0000</td>\n",
       "      <td>16.25</td>\n",
       "      <td>a623070bfead4541a6b0fff8a09e706c</td>\n",
       "      <td>Australia</td>\n",
       "      <td>CUS-2487424745</td>\n",
       "      <td>153.38 -27.99</td>\n",
       "      <td>debit</td>\n",
       "      <td>20-30</td>\n",
       "      <td>Wednesday</td>\n",
       "      <td>August</td>\n",
       "      <td>2018-08-01</td>\n",
       "      <td>01</td>\n",
       "    </tr>\n",
       "    <tr>\n",
       "      <th>1</th>\n",
       "      <td>authorized</td>\n",
       "      <td>0.0</td>\n",
       "      <td>ACC-1598451071</td>\n",
       "      <td>AUD</td>\n",
       "      <td>153.41 -27.95</td>\n",
       "      <td>SALES-POS</td>\n",
       "      <td>830a451c-316e-4a6a-bf25-e37caedca49e</td>\n",
       "      <td>Diana</td>\n",
       "      <td>21.20</td>\n",
       "      <td>2018-08-01</td>\n",
       "      <td>F</td>\n",
       "      <td>26</td>\n",
       "      <td>Sydney</td>\n",
       "      <td>NSW</td>\n",
       "      <td>2018-08-01T01:13:45.000+0000</td>\n",
       "      <td>14.19</td>\n",
       "      <td>13270a2a902145da9db4c951e04b51b9</td>\n",
       "      <td>Australia</td>\n",
       "      <td>CUS-2487424745</td>\n",
       "      <td>151.21 -33.87</td>\n",
       "      <td>debit</td>\n",
       "      <td>20-30</td>\n",
       "      <td>Wednesday</td>\n",
       "      <td>August</td>\n",
       "      <td>2018-08-01</td>\n",
       "      <td>01</td>\n",
       "    </tr>\n",
       "    <tr>\n",
       "      <th>2</th>\n",
       "      <td>authorized</td>\n",
       "      <td>1.0</td>\n",
       "      <td>ACC-1222300524</td>\n",
       "      <td>AUD</td>\n",
       "      <td>151.23 -33.94</td>\n",
       "      <td>POS</td>\n",
       "      <td>835c231d-8cdf-4e96-859d-e9d571760cf0</td>\n",
       "      <td>Michael</td>\n",
       "      <td>5.71</td>\n",
       "      <td>2018-08-01</td>\n",
       "      <td>M</td>\n",
       "      <td>38</td>\n",
       "      <td>Sydney</td>\n",
       "      <td>NSW</td>\n",
       "      <td>2018-08-01T01:26:15.000+0000</td>\n",
       "      <td>6.42</td>\n",
       "      <td>feb79e7ecd7048a5a36ec889d1a94270</td>\n",
       "      <td>Australia</td>\n",
       "      <td>CUS-2142601169</td>\n",
       "      <td>151.21 -33.87</td>\n",
       "      <td>debit</td>\n",
       "      <td>31-40</td>\n",
       "      <td>Wednesday</td>\n",
       "      <td>August</td>\n",
       "      <td>2018-08-01</td>\n",
       "      <td>01</td>\n",
       "    </tr>\n",
       "    <tr>\n",
       "      <th>3</th>\n",
       "      <td>authorized</td>\n",
       "      <td>1.0</td>\n",
       "      <td>ACC-1037050564</td>\n",
       "      <td>AUD</td>\n",
       "      <td>153.10 -27.66</td>\n",
       "      <td>SALES-POS</td>\n",
       "      <td>48514682-c78a-4a88-b0da-2d6302e64673</td>\n",
       "      <td>Rhonda</td>\n",
       "      <td>2117.22</td>\n",
       "      <td>2018-08-01</td>\n",
       "      <td>F</td>\n",
       "      <td>40</td>\n",
       "      <td>Buderim</td>\n",
       "      <td>QLD</td>\n",
       "      <td>2018-08-01T01:38:45.000+0000</td>\n",
       "      <td>40.90</td>\n",
       "      <td>2698170da3704fd981b15e64a006079e</td>\n",
       "      <td>Australia</td>\n",
       "      <td>CUS-1614226872</td>\n",
       "      <td>153.05 -26.68</td>\n",
       "      <td>debit</td>\n",
       "      <td>31-40</td>\n",
       "      <td>Wednesday</td>\n",
       "      <td>August</td>\n",
       "      <td>2018-08-01</td>\n",
       "      <td>01</td>\n",
       "    </tr>\n",
       "    <tr>\n",
       "      <th>4</th>\n",
       "      <td>authorized</td>\n",
       "      <td>1.0</td>\n",
       "      <td>ACC-1598451071</td>\n",
       "      <td>AUD</td>\n",
       "      <td>153.41 -27.95</td>\n",
       "      <td>SALES-POS</td>\n",
       "      <td>b4e02c10-0852-4273-b8fd-7b3395e32eb0</td>\n",
       "      <td>Diana</td>\n",
       "      <td>17.95</td>\n",
       "      <td>2018-08-01</td>\n",
       "      <td>F</td>\n",
       "      <td>26</td>\n",
       "      <td>Mermaid Beach</td>\n",
       "      <td>QLD</td>\n",
       "      <td>2018-08-01T01:51:15.000+0000</td>\n",
       "      <td>3.25</td>\n",
       "      <td>329adf79878c4cf0aeb4188b4691c266</td>\n",
       "      <td>Australia</td>\n",
       "      <td>CUS-2487424745</td>\n",
       "      <td>153.44 -28.06</td>\n",
       "      <td>debit</td>\n",
       "      <td>20-30</td>\n",
       "      <td>Wednesday</td>\n",
       "      <td>August</td>\n",
       "      <td>2018-08-01</td>\n",
       "      <td>01</td>\n",
       "    </tr>\n",
       "  </tbody>\n",
       "</table>\n",
       "</div>"
      ],
      "text/plain": [
       "       status card_present_flag         account currency       long_lat  \\\n",
       "0  authorized               1.0  ACC-1598451071      AUD  153.41 -27.95   \n",
       "1  authorized               0.0  ACC-1598451071      AUD  153.41 -27.95   \n",
       "2  authorized               1.0  ACC-1222300524      AUD  151.23 -33.94   \n",
       "3  authorized               1.0  ACC-1037050564      AUD  153.10 -27.66   \n",
       "4  authorized               1.0  ACC-1598451071      AUD  153.41 -27.95   \n",
       "\n",
       "  txn_description                           merchant_id first_name  balance  \\\n",
       "0             POS  81c48296-73be-44a7-befa-d053f48ce7cd      Diana    35.39   \n",
       "1       SALES-POS  830a451c-316e-4a6a-bf25-e37caedca49e      Diana    21.20   \n",
       "2             POS  835c231d-8cdf-4e96-859d-e9d571760cf0    Michael     5.71   \n",
       "3       SALES-POS  48514682-c78a-4a88-b0da-2d6302e64673     Rhonda  2117.22   \n",
       "4       SALES-POS  b4e02c10-0852-4273-b8fd-7b3395e32eb0      Diana    17.95   \n",
       "\n",
       "        date gender  age merchant_suburb merchant_state  \\\n",
       "0 2018-08-01      F   26         Ashmore            QLD   \n",
       "1 2018-08-01      F   26          Sydney            NSW   \n",
       "2 2018-08-01      M   38          Sydney            NSW   \n",
       "3 2018-08-01      F   40         Buderim            QLD   \n",
       "4 2018-08-01      F   26   Mermaid Beach            QLD   \n",
       "\n",
       "                     extraction  amount                    transaction_id  \\\n",
       "0  2018-08-01T01:01:15.000+0000   16.25  a623070bfead4541a6b0fff8a09e706c   \n",
       "1  2018-08-01T01:13:45.000+0000   14.19  13270a2a902145da9db4c951e04b51b9   \n",
       "2  2018-08-01T01:26:15.000+0000    6.42  feb79e7ecd7048a5a36ec889d1a94270   \n",
       "3  2018-08-01T01:38:45.000+0000   40.90  2698170da3704fd981b15e64a006079e   \n",
       "4  2018-08-01T01:51:15.000+0000    3.25  329adf79878c4cf0aeb4188b4691c266   \n",
       "\n",
       "     country     customer_id merchant_long_lat movement age_group   day_name  \\\n",
       "0  Australia  CUS-2487424745     153.38 -27.99    debit     20-30  Wednesday   \n",
       "1  Australia  CUS-2487424745     151.21 -33.87    debit     20-30  Wednesday   \n",
       "2  Australia  CUS-2142601169     151.21 -33.87    debit     31-40  Wednesday   \n",
       "3  Australia  CUS-1614226872     153.05 -26.68    debit     31-40  Wednesday   \n",
       "4  Australia  CUS-2487424745     153.44 -28.06    debit     20-30  Wednesday   \n",
       "\n",
       "  month_name    txn_date txn_hr  \n",
       "0     August  2018-08-01     01  \n",
       "1     August  2018-08-01     01  \n",
       "2     August  2018-08-01     01  \n",
       "3     August  2018-08-01     01  \n",
       "4     August  2018-08-01     01  "
      ]
     },
     "execution_count": 44,
     "metadata": {},
     "output_type": "execute_result"
    }
   ],
   "source": [
    "df1['txn_date'] = df1['extraction'].astype(str).str[:10] # 2018-08-01\n",
    "df1['txn_hr'] = df1['extraction'].astype(str).str[11:13] # 01:21:15 -> 01\n",
    "df1.head()"
   ]
  },
  {
   "cell_type": "code",
   "execution_count": 45,
   "id": "0df26014",
   "metadata": {},
   "outputs": [],
   "source": [
    "hrs = df1['txn_hr'].sort_values().unique().tolist()\n",
    "hr_count = df1.groupby(['date', 'txn_hr'])['txn_hr'].count().unstack().fillna(0)\n",
    "# Calculate the mean of each hour \n",
    "hr_mean = hr_count[hrs].mean().reset_index().rename(columns = {0: 'mean'})"
   ]
  },
  {
   "cell_type": "markdown",
   "id": "6306f21e",
   "metadata": {},
   "source": [
    "Visualise the average transaction volume by hour"
   ]
  },
  {
   "cell_type": "code",
   "execution_count": 50,
   "id": "c9d64c58",
   "metadata": {
    "scrolled": false
   },
   "outputs": [
    {
     "data": {
      "image/png": "[encoded data removed]",
      "text/plain": [
       "<Figure size 576x432 with 1 Axes>"
      ]
     },
     "metadata": {
      "needs_background": "light"
     },
     "output_type": "display_data"
    }
   ],
   "source": [
    "plt.figure(figsize=(8,6))\n",
    "ax = plt.plot(hr_mean['mean'], marker = 'o')\n",
    "plt.xticks(np.arange(24), hr_mean['txn_hr'])\n",
    "plt.xlabel('Hour')\n",
    "plt.ylabel('Count')\n",
    "plt.show()"
   ]
  },
  {
   "cell_type": "code",
   "execution_count": null,
   "id": "01347f09",
   "metadata": {},
   "outputs": [],
   "source": []
  },
  {
   "cell_type": "code",
   "execution_count": null,
   "id": "2a817cf4",
   "metadata": {},
   "outputs": [],
   "source": []
  },
  {
   "cell_type": "code",
   "execution_count": null,
   "id": "e5fae082",
   "metadata": {},
   "outputs": [],
   "source": []
  }
 ],
 "metadata": {
  "kernelspec": {
   "display_name": "Python 3 (ipykernel)",
   "language": "python",
   "name": "python3"
  },
  "language_info": {
   "codemirror_mode": {
    "name": "ipython",
    "version": 3
   },
   "file_extension": ".py",
   "mimetype": "text/x-python",
   "name": "python",
   "nbconvert_exporter": "python",
   "pygments_lexer": "ipython3",
   "version": "3.8.5"
  }
 },
 "nbformat": 4,
 "nbformat_minor": 5
}
