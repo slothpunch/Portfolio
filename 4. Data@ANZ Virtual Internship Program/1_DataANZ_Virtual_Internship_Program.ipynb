{
 "cells": [
  {
   "cell_type": "markdown",
   "metadata": {},
   "source": [
    "# Task 1. Exploratory Data Analysis (EDA)"
   ]
  },
  {
   "cell_type": "markdown",
   "metadata": {},
   "source": [
    "## Background Information\n",
    "\n",
    "This task is based on a synthesised transaction dataset containing 3 months’ worth of transactions for 100 hypothetical customers. It contains purchases, recurring transactions, and salary transactions.\n",
    "\n",
    "The dataset is designed to simulate realistic transaction behaviours that are observed in ANZ’s real transaction data, so many of the insights you can gather from the tasks below will be genuine.\n",
    "\n",
    "The relevant dataset is linked below for you. "
   ]
  },
  {
   "cell_type": "markdown",
   "metadata": {},
   "source": [
    "## Tasks\n",
    "\n",
    "1. Load the transaction dataset below into an analysis tool of your choice (Excel, R, SAS, Tableau, or similar)\n",
    "\n",
    "\n",
    "2. Start by doing some basic checks – are there any data issues? Does the data need to be cleaned?\n",
    "\n",
    "\n",
    "3. Gather some interesting overall insights about the data. For example -- what is the average transaction amount? How many transactions do customers make each month, on average?\n",
    "\n",
    "\n",
    "4. Segment the dataset by transaction date and time. Visualise transaction volume and spending over the course of an average day or week. Consider the effect of any outliers that may distort your analysis.\n",
    "\n",
    "\n",
    "5. For a challenge – what insights can you draw from the location information provided in the dataset?\n",
    "\n",
    "\n",
    "6. Put together 2-3 slides summarising your most interesting findings to ANZ management."
   ]
  },
  {
   "cell_type": "code",
   "execution_count": 1,
   "metadata": {},
   "outputs": [
    {
     "name": "stdout",
     "output_type": "stream",
     "text": [
      "Matplotlib Version : 3.3.2\n",
      "Seaborn Version : 0.11.0\n"
     ]
    }
   ],
   "source": [
    "import os\n",
    "from datetime import *\n",
    "\n",
    "import pandas as pd\n",
    "import numpy as np\n",
    "\n",
    "import matplotlib as mpl\n",
    "import matplotlib.pyplot as plt\n",
    "%matplotlib inline\n",
    "\n",
    "import seaborn as sns\n",
    "\n",
    "# import matplotlib.gridspec as gridspec # Alignments\n",
    "\n",
    "print(f\"Matplotlib Version : {mpl.__version__}\")\n",
    "print(f\"Seaborn Version : {sns.__version__}\")"
   ]
  },
  {
   "cell_type": "code",
   "execution_count": 2,
   "metadata": {
    "scrolled": true
   },
   "outputs": [
    {
     "name": "stdout",
     "output_type": "stream",
     "text": [
      " Volume in drive D is New Volume\n",
      " Volume Serial Number is AA35-4C60\n",
      "\n",
      " Directory of D:\\1. Data365\\1. Data Analyst Portfolio\\4. DataANZ\n",
      "\n",
      "03/10/2021  10:51 PM    <DIR>          .\n",
      "03/10/2021  10:51 PM    <DIR>          ..\n",
      "03/10/2021  03:49 PM    <DIR>          .ipynb_checkpoints\n",
      "03/10/2021  10:51 PM           509,975 1_DataANZ_Virtual_Internship_Program.ipynb\n",
      "03/10/2021  12:59 PM           330,622 1_DataANZ_Virtual_Internship_Program-Copy1.ipynb\n",
      "03/10/2021  03:49 PM           464,612 1_DataANZ_Virtual_Internship_Program-Copy2.ipynb\n",
      "01/10/2021  03:25 PM         1,782,724 ANZ synthesised transaction dataset.xlsx\n",
      "01/10/2021  09:46 PM            17,348 DataANZ.docx\n",
      "               5 File(s)      3,105,281 bytes\n",
      "               3 Dir(s)  125,640,523,776 bytes free\n"
     ]
    }
   ],
   "source": [
    "%ls"
   ]
  },
  {
   "cell_type": "code",
   "execution_count": 3,
   "metadata": {},
   "outputs": [],
   "source": [
    "pd.options.display.max_columns = 40\n",
    "pd.options.display.max_rows = 1000\n",
    "# pd.set_option('display.max.rows', 100)"
   ]
  },
  {
   "cell_type": "code",
   "execution_count": 4,
   "metadata": {},
   "outputs": [
    {
     "name": "stdout",
     "output_type": "stream",
     "text": [
      "40\n",
      "1000\n"
     ]
    }
   ],
   "source": [
    "print(pd.get_option('display.max.columns'))\n",
    "print(pd.get_option('display.max.rows'))"
   ]
  },
  {
   "cell_type": "markdown",
   "metadata": {},
   "source": [
    "## 1. Load the dataset\n",
    "\n",
    "**card_present_flag** - A card-not-present (CNP) transaction occurs when neither the cardholder nor the credit card is physically present at the time of the transaction. It’s most common for orders that happen remotely — over the phone, internet or mail.\n",
    "\n",
    "**bpay_biller_code** - The biller code is a unique number required to process a BPAY® transaction and you can find it on your statement.\n"
   ]
  },
  {
   "cell_type": "code",
   "execution_count": 5,
   "metadata": {},
   "outputs": [
    {
     "name": "stdout",
     "output_type": "stream",
     "text": [
      "(12043, 23)\n"
     ]
    },
    {
     "data": {
      "text/html": [
       "<div>\n",
       "<style scoped>\n",
       "    .dataframe tbody tr th:only-of-type {\n",
       "        vertical-align: middle;\n",
       "    }\n",
       "\n",
       "    .dataframe tbody tr th {\n",
       "        vertical-align: top;\n",
       "    }\n",
       "\n",
       "    .dataframe thead th {\n",
       "        text-align: right;\n",
       "    }\n",
       "</style>\n",
       "<table border=\"1\" class=\"dataframe\">\n",
       "  <thead>\n",
       "    <tr style=\"text-align: right;\">\n",
       "      <th></th>\n",
       "      <th>status</th>\n",
       "      <th>card_present_flag</th>\n",
       "      <th>bpay_biller_code</th>\n",
       "      <th>account</th>\n",
       "      <th>currency</th>\n",
       "      <th>long_lat</th>\n",
       "      <th>txn_description</th>\n",
       "      <th>merchant_id</th>\n",
       "      <th>merchant_code</th>\n",
       "      <th>first_name</th>\n",
       "      <th>balance</th>\n",
       "      <th>date</th>\n",
       "      <th>gender</th>\n",
       "      <th>age</th>\n",
       "      <th>merchant_suburb</th>\n",
       "      <th>merchant_state</th>\n",
       "      <th>extraction</th>\n",
       "      <th>amount</th>\n",
       "      <th>transaction_id</th>\n",
       "      <th>country</th>\n",
       "      <th>customer_id</th>\n",
       "      <th>merchant_long_lat</th>\n",
       "      <th>movement</th>\n",
       "    </tr>\n",
       "  </thead>\n",
       "  <tbody>\n",
       "    <tr>\n",
       "      <th>0</th>\n",
       "      <td>authorized</td>\n",
       "      <td>1.0</td>\n",
       "      <td>NaN</td>\n",
       "      <td>ACC-1598451071</td>\n",
       "      <td>AUD</td>\n",
       "      <td>153.41 -27.95</td>\n",
       "      <td>POS</td>\n",
       "      <td>81c48296-73be-44a7-befa-d053f48ce7cd</td>\n",
       "      <td>NaN</td>\n",
       "      <td>Diana</td>\n",
       "      <td>35.39</td>\n",
       "      <td>2018-08-01</td>\n",
       "      <td>F</td>\n",
       "      <td>26</td>\n",
       "      <td>Ashmore</td>\n",
       "      <td>QLD</td>\n",
       "      <td>2018-08-01T01:01:15.000+0000</td>\n",
       "      <td>16.25</td>\n",
       "      <td>a623070bfead4541a6b0fff8a09e706c</td>\n",
       "      <td>Australia</td>\n",
       "      <td>CUS-2487424745</td>\n",
       "      <td>153.38 -27.99</td>\n",
       "      <td>debit</td>\n",
       "    </tr>\n",
       "    <tr>\n",
       "      <th>1</th>\n",
       "      <td>authorized</td>\n",
       "      <td>0.0</td>\n",
       "      <td>NaN</td>\n",
       "      <td>ACC-1598451071</td>\n",
       "      <td>AUD</td>\n",
       "      <td>153.41 -27.95</td>\n",
       "      <td>SALES-POS</td>\n",
       "      <td>830a451c-316e-4a6a-bf25-e37caedca49e</td>\n",
       "      <td>NaN</td>\n",
       "      <td>Diana</td>\n",
       "      <td>21.20</td>\n",
       "      <td>2018-08-01</td>\n",
       "      <td>F</td>\n",
       "      <td>26</td>\n",
       "      <td>Sydney</td>\n",
       "      <td>NSW</td>\n",
       "      <td>2018-08-01T01:13:45.000+0000</td>\n",
       "      <td>14.19</td>\n",
       "      <td>13270a2a902145da9db4c951e04b51b9</td>\n",
       "      <td>Australia</td>\n",
       "      <td>CUS-2487424745</td>\n",
       "      <td>151.21 -33.87</td>\n",
       "      <td>debit</td>\n",
       "    </tr>\n",
       "    <tr>\n",
       "      <th>2</th>\n",
       "      <td>authorized</td>\n",
       "      <td>1.0</td>\n",
       "      <td>NaN</td>\n",
       "      <td>ACC-1222300524</td>\n",
       "      <td>AUD</td>\n",
       "      <td>151.23 -33.94</td>\n",
       "      <td>POS</td>\n",
       "      <td>835c231d-8cdf-4e96-859d-e9d571760cf0</td>\n",
       "      <td>NaN</td>\n",
       "      <td>Michael</td>\n",
       "      <td>5.71</td>\n",
       "      <td>2018-08-01</td>\n",
       "      <td>M</td>\n",
       "      <td>38</td>\n",
       "      <td>Sydney</td>\n",
       "      <td>NSW</td>\n",
       "      <td>2018-08-01T01:26:15.000+0000</td>\n",
       "      <td>6.42</td>\n",
       "      <td>feb79e7ecd7048a5a36ec889d1a94270</td>\n",
       "      <td>Australia</td>\n",
       "      <td>CUS-2142601169</td>\n",
       "      <td>151.21 -33.87</td>\n",
       "      <td>debit</td>\n",
       "    </tr>\n",
       "    <tr>\n",
       "      <th>3</th>\n",
       "      <td>authorized</td>\n",
       "      <td>1.0</td>\n",
       "      <td>NaN</td>\n",
       "      <td>ACC-1037050564</td>\n",
       "      <td>AUD</td>\n",
       "      <td>153.10 -27.66</td>\n",
       "      <td>SALES-POS</td>\n",
       "      <td>48514682-c78a-4a88-b0da-2d6302e64673</td>\n",
       "      <td>NaN</td>\n",
       "      <td>Rhonda</td>\n",
       "      <td>2117.22</td>\n",
       "      <td>2018-08-01</td>\n",
       "      <td>F</td>\n",
       "      <td>40</td>\n",
       "      <td>Buderim</td>\n",
       "      <td>QLD</td>\n",
       "      <td>2018-08-01T01:38:45.000+0000</td>\n",
       "      <td>40.90</td>\n",
       "      <td>2698170da3704fd981b15e64a006079e</td>\n",
       "      <td>Australia</td>\n",
       "      <td>CUS-1614226872</td>\n",
       "      <td>153.05 -26.68</td>\n",
       "      <td>debit</td>\n",
       "    </tr>\n",
       "    <tr>\n",
       "      <th>4</th>\n",
       "      <td>authorized</td>\n",
       "      <td>1.0</td>\n",
       "      <td>NaN</td>\n",
       "      <td>ACC-1598451071</td>\n",
       "      <td>AUD</td>\n",
       "      <td>153.41 -27.95</td>\n",
       "      <td>SALES-POS</td>\n",
       "      <td>b4e02c10-0852-4273-b8fd-7b3395e32eb0</td>\n",
       "      <td>NaN</td>\n",
       "      <td>Diana</td>\n",
       "      <td>17.95</td>\n",
       "      <td>2018-08-01</td>\n",
       "      <td>F</td>\n",
       "      <td>26</td>\n",
       "      <td>Mermaid Beach</td>\n",
       "      <td>QLD</td>\n",
       "      <td>2018-08-01T01:51:15.000+0000</td>\n",
       "      <td>3.25</td>\n",
       "      <td>329adf79878c4cf0aeb4188b4691c266</td>\n",
       "      <td>Australia</td>\n",
       "      <td>CUS-2487424745</td>\n",
       "      <td>153.44 -28.06</td>\n",
       "      <td>debit</td>\n",
       "    </tr>\n",
       "  </tbody>\n",
       "</table>\n",
       "</div>"
      ],
      "text/plain": [
       "       status  card_present_flag bpay_biller_code         account currency  \\\n",
       "0  authorized                1.0              NaN  ACC-1598451071      AUD   \n",
       "1  authorized                0.0              NaN  ACC-1598451071      AUD   \n",
       "2  authorized                1.0              NaN  ACC-1222300524      AUD   \n",
       "3  authorized                1.0              NaN  ACC-1037050564      AUD   \n",
       "4  authorized                1.0              NaN  ACC-1598451071      AUD   \n",
       "\n",
       "        long_lat txn_description                           merchant_id  \\\n",
       "0  153.41 -27.95             POS  81c48296-73be-44a7-befa-d053f48ce7cd   \n",
       "1  153.41 -27.95       SALES-POS  830a451c-316e-4a6a-bf25-e37caedca49e   \n",
       "2  151.23 -33.94             POS  835c231d-8cdf-4e96-859d-e9d571760cf0   \n",
       "3  153.10 -27.66       SALES-POS  48514682-c78a-4a88-b0da-2d6302e64673   \n",
       "4  153.41 -27.95       SALES-POS  b4e02c10-0852-4273-b8fd-7b3395e32eb0   \n",
       "\n",
       "   merchant_code first_name  balance       date gender  age merchant_suburb  \\\n",
       "0            NaN      Diana    35.39 2018-08-01      F   26         Ashmore   \n",
       "1            NaN      Diana    21.20 2018-08-01      F   26          Sydney   \n",
       "2            NaN    Michael     5.71 2018-08-01      M   38          Sydney   \n",
       "3            NaN     Rhonda  2117.22 2018-08-01      F   40         Buderim   \n",
       "4            NaN      Diana    17.95 2018-08-01      F   26   Mermaid Beach   \n",
       "\n",
       "  merchant_state                    extraction  amount  \\\n",
       "0            QLD  2018-08-01T01:01:15.000+0000   16.25   \n",
       "1            NSW  2018-08-01T01:13:45.000+0000   14.19   \n",
       "2            NSW  2018-08-01T01:26:15.000+0000    6.42   \n",
       "3            QLD  2018-08-01T01:38:45.000+0000   40.90   \n",
       "4            QLD  2018-08-01T01:51:15.000+0000    3.25   \n",
       "\n",
       "                     transaction_id    country     customer_id  \\\n",
       "0  a623070bfead4541a6b0fff8a09e706c  Australia  CUS-2487424745   \n",
       "1  13270a2a902145da9db4c951e04b51b9  Australia  CUS-2487424745   \n",
       "2  feb79e7ecd7048a5a36ec889d1a94270  Australia  CUS-2142601169   \n",
       "3  2698170da3704fd981b15e64a006079e  Australia  CUS-1614226872   \n",
       "4  329adf79878c4cf0aeb4188b4691c266  Australia  CUS-2487424745   \n",
       "\n",
       "  merchant_long_lat movement  \n",
       "0     153.38 -27.99    debit  \n",
       "1     151.21 -33.87    debit  \n",
       "2     151.21 -33.87    debit  \n",
       "3     153.05 -26.68    debit  \n",
       "4     153.44 -28.06    debit  "
      ]
     },
     "execution_count": 5,
     "metadata": {},
     "output_type": "execute_result"
    }
   ],
   "source": [
    "df = pd.read_excel('ANZ synthesised transaction dataset.xlsx')\n",
    "print(df.shape) # 12,043 rows and 23 columns\n",
    "df.head()"
   ]
  },
  {
   "cell_type": "markdown",
   "metadata": {},
   "source": [
    "## 2. Basic checks"
   ]
  },
  {
   "cell_type": "code",
   "execution_count": 6,
   "metadata": {
    "scrolled": false
   },
   "outputs": [
    {
     "name": "stdout",
     "output_type": "stream",
     "text": [
      "<class 'pandas.core.frame.DataFrame'>\n",
      "RangeIndex: 12043 entries, 0 to 12042\n",
      "Data columns (total 23 columns):\n",
      " #   Column             Non-Null Count  Dtype         \n",
      "---  ------             --------------  -----         \n",
      " 0   status             12043 non-null  object        \n",
      " 1   card_present_flag  7717 non-null   float64       \n",
      " 2   bpay_biller_code   885 non-null    object        \n",
      " 3   account            12043 non-null  object        \n",
      " 4   currency           12043 non-null  object        \n",
      " 5   long_lat           12043 non-null  object        \n",
      " 6   txn_description    12043 non-null  object        \n",
      " 7   merchant_id        7717 non-null   object        \n",
      " 8   merchant_code      883 non-null    float64       \n",
      " 9   first_name         12043 non-null  object        \n",
      " 10  balance            12043 non-null  float64       \n",
      " 11  date               12043 non-null  datetime64[ns]\n",
      " 12  gender             12043 non-null  object        \n",
      " 13  age                12043 non-null  int64         \n",
      " 14  merchant_suburb    7717 non-null   object        \n",
      " 15  merchant_state     7717 non-null   object        \n",
      " 16  extraction         12043 non-null  object        \n",
      " 17  amount             12043 non-null  float64       \n",
      " 18  transaction_id     12043 non-null  object        \n",
      " 19  country            12043 non-null  object        \n",
      " 20  customer_id        12043 non-null  object        \n",
      " 21  merchant_long_lat  7717 non-null   object        \n",
      " 22  movement           12043 non-null  object        \n",
      "dtypes: datetime64[ns](1), float64(4), int64(1), object(17)\n",
      "memory usage: 2.1+ MB\n"
     ]
    }
   ],
   "source": [
    "# Check types of data\n",
    "df.info()"
   ]
  },
  {
   "cell_type": "code",
   "execution_count": 7,
   "metadata": {},
   "outputs": [
    {
     "data": {
      "text/plain": [
       "0"
      ]
     },
     "execution_count": 7,
     "metadata": {},
     "output_type": "execute_result"
    }
   ],
   "source": [
    "# Check duplicates\n",
    "df.duplicated().sum()"
   ]
  },
  {
   "cell_type": "markdown",
   "metadata": {},
   "source": [
    "Many missing values in **bpay_biller_code** and **merchant_code**, and I might simply be able to drop the columns.\n",
    "\n",
    "The following features have the same amount of missing data:\n",
    "* card_present_flag\n",
    "* merchant_id\n",
    "* merchant_suburb\n",
    "* merchant_state\n",
    "* merchant_long_lat\n",
    "\n",
    "It might be reasonable to think that if a row doesn't have a value in any of those columns, the row is unlikely to have values in the other columns as well."
   ]
  },
  {
   "cell_type": "code",
   "execution_count": 8,
   "metadata": {},
   "outputs": [
    {
     "data": {
      "text/html": [
       "<div>\n",
       "<style scoped>\n",
       "    .dataframe tbody tr th:only-of-type {\n",
       "        vertical-align: middle;\n",
       "    }\n",
       "\n",
       "    .dataframe tbody tr th {\n",
       "        vertical-align: top;\n",
       "    }\n",
       "\n",
       "    .dataframe thead th {\n",
       "        text-align: right;\n",
       "    }\n",
       "</style>\n",
       "<table border=\"1\" class=\"dataframe\">\n",
       "  <thead>\n",
       "    <tr style=\"text-align: right;\">\n",
       "      <th></th>\n",
       "      <th>Number of missing values</th>\n",
       "      <th>Percentage (%)</th>\n",
       "    </tr>\n",
       "  </thead>\n",
       "  <tbody>\n",
       "    <tr>\n",
       "      <th>merchant_code</th>\n",
       "      <td>11160</td>\n",
       "      <td>92.67</td>\n",
       "    </tr>\n",
       "    <tr>\n",
       "      <th>bpay_biller_code</th>\n",
       "      <td>11158</td>\n",
       "      <td>92.65</td>\n",
       "    </tr>\n",
       "    <tr>\n",
       "      <th>card_present_flag</th>\n",
       "      <td>4326</td>\n",
       "      <td>35.92</td>\n",
       "    </tr>\n",
       "    <tr>\n",
       "      <th>merchant_id</th>\n",
       "      <td>4326</td>\n",
       "      <td>35.92</td>\n",
       "    </tr>\n",
       "    <tr>\n",
       "      <th>merchant_suburb</th>\n",
       "      <td>4326</td>\n",
       "      <td>35.92</td>\n",
       "    </tr>\n",
       "    <tr>\n",
       "      <th>merchant_state</th>\n",
       "      <td>4326</td>\n",
       "      <td>35.92</td>\n",
       "    </tr>\n",
       "    <tr>\n",
       "      <th>merchant_long_lat</th>\n",
       "      <td>4326</td>\n",
       "      <td>35.92</td>\n",
       "    </tr>\n",
       "  </tbody>\n",
       "</table>\n",
       "</div>"
      ],
      "text/plain": [
       "                   Number of missing values  Percentage (%)\n",
       "merchant_code                         11160           92.67\n",
       "bpay_biller_code                      11158           92.65\n",
       "card_present_flag                      4326           35.92\n",
       "merchant_id                            4326           35.92\n",
       "merchant_suburb                        4326           35.92\n",
       "merchant_state                         4326           35.92\n",
       "merchant_long_lat                      4326           35.92"
      ]
     },
     "execution_count": 8,
     "metadata": {},
     "output_type": "execute_result"
    }
   ],
   "source": [
    "# Check missing values\n",
    "missing = df.isnull().sum()\n",
    "missing = missing[missing >= 1]\n",
    "per = round(missing/len(df)*100, 2)\n",
    "pd.DataFrame({'Number of missing values':missing, 'Percentage (%)': per}).sort_values(by = 'Percentage (%)', ascending = False)"
   ]
  },
  {
   "cell_type": "code",
   "execution_count": 9,
   "metadata": {},
   "outputs": [],
   "source": [
    "mis_val_cols = []\n",
    "\n",
    "for col in df.columns:\n",
    "    if df[col].isnull().sum() >= 1:\n",
    "        mis_val_cols.append(col)"
   ]
  },
  {
   "cell_type": "markdown",
   "metadata": {},
   "source": [
    "My inference seems right. The below code shows the rows that have missing values more than 3, and there are 4326 rows."
   ]
  },
  {
   "cell_type": "code",
   "execution_count": 10,
   "metadata": {
    "scrolled": true
   },
   "outputs": [
    {
     "data": {
      "text/html": [
       "<div>\n",
       "<style scoped>\n",
       "    .dataframe tbody tr th:only-of-type {\n",
       "        vertical-align: middle;\n",
       "    }\n",
       "\n",
       "    .dataframe tbody tr th {\n",
       "        vertical-align: top;\n",
       "    }\n",
       "\n",
       "    .dataframe thead th {\n",
       "        text-align: right;\n",
       "    }\n",
       "</style>\n",
       "<table border=\"1\" class=\"dataframe\">\n",
       "  <thead>\n",
       "    <tr style=\"text-align: right;\">\n",
       "      <th></th>\n",
       "      <th>status</th>\n",
       "      <th>card_present_flag</th>\n",
       "      <th>bpay_biller_code</th>\n",
       "      <th>account</th>\n",
       "      <th>currency</th>\n",
       "      <th>long_lat</th>\n",
       "      <th>txn_description</th>\n",
       "      <th>merchant_id</th>\n",
       "      <th>merchant_code</th>\n",
       "      <th>first_name</th>\n",
       "      <th>balance</th>\n",
       "      <th>date</th>\n",
       "      <th>gender</th>\n",
       "      <th>age</th>\n",
       "      <th>merchant_suburb</th>\n",
       "      <th>merchant_state</th>\n",
       "      <th>extraction</th>\n",
       "      <th>amount</th>\n",
       "      <th>transaction_id</th>\n",
       "      <th>country</th>\n",
       "      <th>customer_id</th>\n",
       "      <th>merchant_long_lat</th>\n",
       "      <th>movement</th>\n",
       "    </tr>\n",
       "  </thead>\n",
       "  <tbody>\n",
       "    <tr>\n",
       "      <th>5</th>\n",
       "      <td>posted</td>\n",
       "      <td>NaN</td>\n",
       "      <td>NaN</td>\n",
       "      <td>ACC-1608363396</td>\n",
       "      <td>AUD</td>\n",
       "      <td>151.22 -33.87</td>\n",
       "      <td>PAYMENT</td>\n",
       "      <td>NaN</td>\n",
       "      <td>NaN</td>\n",
       "      <td>Robert</td>\n",
       "      <td>1705.43</td>\n",
       "      <td>2018-08-01</td>\n",
       "      <td>M</td>\n",
       "      <td>20</td>\n",
       "      <td>NaN</td>\n",
       "      <td>NaN</td>\n",
       "      <td>2018-08-01T02:00:00.000+0000</td>\n",
       "      <td>163.0</td>\n",
       "      <td>1005b48a6eda4ffd85e9b649dc9467d3</td>\n",
       "      <td>Australia</td>\n",
       "      <td>CUS-2688605418</td>\n",
       "      <td>NaN</td>\n",
       "      <td>debit</td>\n",
       "    </tr>\n",
       "    <tr>\n",
       "      <th>9</th>\n",
       "      <td>posted</td>\n",
       "      <td>NaN</td>\n",
       "      <td>NaN</td>\n",
       "      <td>ACC-602667573</td>\n",
       "      <td>AUD</td>\n",
       "      <td>151.23 -33.96</td>\n",
       "      <td>INTER BANK</td>\n",
       "      <td>NaN</td>\n",
       "      <td>NaN</td>\n",
       "      <td>Michael</td>\n",
       "      <td>466.58</td>\n",
       "      <td>2018-08-01</td>\n",
       "      <td>M</td>\n",
       "      <td>40</td>\n",
       "      <td>NaN</td>\n",
       "      <td>NaN</td>\n",
       "      <td>2018-08-01T06:00:00.000+0000</td>\n",
       "      <td>21.0</td>\n",
       "      <td>798a77869014441b840a7a8a23408332</td>\n",
       "      <td>Australia</td>\n",
       "      <td>CUS-2031327464</td>\n",
       "      <td>NaN</td>\n",
       "      <td>debit</td>\n",
       "    </tr>\n",
       "    <tr>\n",
       "      <th>10</th>\n",
       "      <td>posted</td>\n",
       "      <td>NaN</td>\n",
       "      <td>NaN</td>\n",
       "      <td>ACC-2171593283</td>\n",
       "      <td>AUD</td>\n",
       "      <td>146.94 -36.04</td>\n",
       "      <td>PAYMENT</td>\n",
       "      <td>NaN</td>\n",
       "      <td>NaN</td>\n",
       "      <td>Fernando</td>\n",
       "      <td>4348.50</td>\n",
       "      <td>2018-08-01</td>\n",
       "      <td>M</td>\n",
       "      <td>19</td>\n",
       "      <td>NaN</td>\n",
       "      <td>NaN</td>\n",
       "      <td>2018-08-01T06:00:00.000+0000</td>\n",
       "      <td>27.0</td>\n",
       "      <td>baff17b27b2643c48c84fca7129e9611</td>\n",
       "      <td>Australia</td>\n",
       "      <td>CUS-2317998716</td>\n",
       "      <td>NaN</td>\n",
       "      <td>debit</td>\n",
       "    </tr>\n",
       "    <tr>\n",
       "      <th>11</th>\n",
       "      <td>posted</td>\n",
       "      <td>NaN</td>\n",
       "      <td>NaN</td>\n",
       "      <td>ACC-2776252858</td>\n",
       "      <td>AUD</td>\n",
       "      <td>144.95 -37.76</td>\n",
       "      <td>PAYMENT</td>\n",
       "      <td>NaN</td>\n",
       "      <td>NaN</td>\n",
       "      <td>Kristin</td>\n",
       "      <td>1203.75</td>\n",
       "      <td>2018-08-01</td>\n",
       "      <td>F</td>\n",
       "      <td>43</td>\n",
       "      <td>NaN</td>\n",
       "      <td>NaN</td>\n",
       "      <td>2018-08-01T06:00:00.000+0000</td>\n",
       "      <td>29.0</td>\n",
       "      <td>78a1b6c3a5534d48828d8ed266ba9c2e</td>\n",
       "      <td>Australia</td>\n",
       "      <td>CUS-4123612273</td>\n",
       "      <td>NaN</td>\n",
       "      <td>debit</td>\n",
       "    </tr>\n",
       "    <tr>\n",
       "      <th>13</th>\n",
       "      <td>posted</td>\n",
       "      <td>NaN</td>\n",
       "      <td>NaN</td>\n",
       "      <td>ACC-588564840</td>\n",
       "      <td>AUD</td>\n",
       "      <td>151.27 -33.76</td>\n",
       "      <td>INTER BANK</td>\n",
       "      <td>NaN</td>\n",
       "      <td>NaN</td>\n",
       "      <td>Isaiah</td>\n",
       "      <td>4438.16</td>\n",
       "      <td>2018-08-01</td>\n",
       "      <td>M</td>\n",
       "      <td>23</td>\n",
       "      <td>NaN</td>\n",
       "      <td>NaN</td>\n",
       "      <td>2018-08-01T07:00:00.000+0000</td>\n",
       "      <td>25.0</td>\n",
       "      <td>eaafa602902b4f4194efb96a105dd7ab</td>\n",
       "      <td>Australia</td>\n",
       "      <td>CUS-1462656821</td>\n",
       "      <td>NaN</td>\n",
       "      <td>debit</td>\n",
       "    </tr>\n",
       "    <tr>\n",
       "      <th>...</th>\n",
       "      <td>...</td>\n",
       "      <td>...</td>\n",
       "      <td>...</td>\n",
       "      <td>...</td>\n",
       "      <td>...</td>\n",
       "      <td>...</td>\n",
       "      <td>...</td>\n",
       "      <td>...</td>\n",
       "      <td>...</td>\n",
       "      <td>...</td>\n",
       "      <td>...</td>\n",
       "      <td>...</td>\n",
       "      <td>...</td>\n",
       "      <td>...</td>\n",
       "      <td>...</td>\n",
       "      <td>...</td>\n",
       "      <td>...</td>\n",
       "      <td>...</td>\n",
       "      <td>...</td>\n",
       "      <td>...</td>\n",
       "      <td>...</td>\n",
       "      <td>...</td>\n",
       "      <td>...</td>\n",
       "    </tr>\n",
       "    <tr>\n",
       "      <th>12027</th>\n",
       "      <td>posted</td>\n",
       "      <td>NaN</td>\n",
       "      <td>NaN</td>\n",
       "      <td>ACC-2173390920</td>\n",
       "      <td>AUD</td>\n",
       "      <td>144.71 -37.58</td>\n",
       "      <td>PHONE BANK</td>\n",
       "      <td>NaN</td>\n",
       "      <td>NaN</td>\n",
       "      <td>Luis</td>\n",
       "      <td>13537.75</td>\n",
       "      <td>2018-10-31</td>\n",
       "      <td>M</td>\n",
       "      <td>27</td>\n",
       "      <td>NaN</td>\n",
       "      <td>NaN</td>\n",
       "      <td>2018-10-31T21:00:00.000+0000</td>\n",
       "      <td>67.0</td>\n",
       "      <td>b2c42c27bb24464cb5e3e0ffbf9b1977</td>\n",
       "      <td>Australia</td>\n",
       "      <td>CUS-3180318393</td>\n",
       "      <td>NaN</td>\n",
       "      <td>debit</td>\n",
       "    </tr>\n",
       "    <tr>\n",
       "      <th>12032</th>\n",
       "      <td>posted</td>\n",
       "      <td>NaN</td>\n",
       "      <td>NaN</td>\n",
       "      <td>ACC-1710017148</td>\n",
       "      <td>AUD</td>\n",
       "      <td>150.82 -34.01</td>\n",
       "      <td>PAYMENT</td>\n",
       "      <td>NaN</td>\n",
       "      <td>NaN</td>\n",
       "      <td>Michelle</td>\n",
       "      <td>20699.90</td>\n",
       "      <td>2018-10-31</td>\n",
       "      <td>F</td>\n",
       "      <td>19</td>\n",
       "      <td>NaN</td>\n",
       "      <td>NaN</td>\n",
       "      <td>2018-10-31T22:00:00.000+0000</td>\n",
       "      <td>33.0</td>\n",
       "      <td>96fe9c5dcda24b599e81b6f6d5bdcb66</td>\n",
       "      <td>Australia</td>\n",
       "      <td>CUS-883482547</td>\n",
       "      <td>NaN</td>\n",
       "      <td>debit</td>\n",
       "    </tr>\n",
       "    <tr>\n",
       "      <th>12035</th>\n",
       "      <td>posted</td>\n",
       "      <td>NaN</td>\n",
       "      <td>NaN</td>\n",
       "      <td>ACC-1973887809</td>\n",
       "      <td>AUD</td>\n",
       "      <td>115.78 -31.90</td>\n",
       "      <td>PAYMENT</td>\n",
       "      <td>NaN</td>\n",
       "      <td>NaN</td>\n",
       "      <td>Antonio</td>\n",
       "      <td>9349.51</td>\n",
       "      <td>2018-10-31</td>\n",
       "      <td>M</td>\n",
       "      <td>26</td>\n",
       "      <td>NaN</td>\n",
       "      <td>NaN</td>\n",
       "      <td>2018-10-31T23:00:00.000+0000</td>\n",
       "      <td>29.0</td>\n",
       "      <td>dda53e538c5b4d5aae2481be22e60440</td>\n",
       "      <td>Australia</td>\n",
       "      <td>CUS-1646621553</td>\n",
       "      <td>NaN</td>\n",
       "      <td>debit</td>\n",
       "    </tr>\n",
       "    <tr>\n",
       "      <th>12036</th>\n",
       "      <td>posted</td>\n",
       "      <td>NaN</td>\n",
       "      <td>NaN</td>\n",
       "      <td>ACC-1349834573</td>\n",
       "      <td>AUD</td>\n",
       "      <td>145.17 -37.84</td>\n",
       "      <td>PAYMENT</td>\n",
       "      <td>NaN</td>\n",
       "      <td>NaN</td>\n",
       "      <td>Matthew</td>\n",
       "      <td>18127.50</td>\n",
       "      <td>2018-10-31</td>\n",
       "      <td>M</td>\n",
       "      <td>39</td>\n",
       "      <td>NaN</td>\n",
       "      <td>NaN</td>\n",
       "      <td>2018-10-31T23:00:00.000+0000</td>\n",
       "      <td>32.0</td>\n",
       "      <td>df15d6f039554dcbb3ca02631ce22068</td>\n",
       "      <td>Australia</td>\n",
       "      <td>CUS-1790886359</td>\n",
       "      <td>NaN</td>\n",
       "      <td>debit</td>\n",
       "    </tr>\n",
       "    <tr>\n",
       "      <th>12037</th>\n",
       "      <td>posted</td>\n",
       "      <td>NaN</td>\n",
       "      <td>NaN</td>\n",
       "      <td>ACC-240804743</td>\n",
       "      <td>AUD</td>\n",
       "      <td>121.48 -30.75</td>\n",
       "      <td>PAYMENT</td>\n",
       "      <td>NaN</td>\n",
       "      <td>NaN</td>\n",
       "      <td>Kenneth</td>\n",
       "      <td>24775.66</td>\n",
       "      <td>2018-10-31</td>\n",
       "      <td>M</td>\n",
       "      <td>29</td>\n",
       "      <td>NaN</td>\n",
       "      <td>NaN</td>\n",
       "      <td>2018-10-31T23:00:00.000+0000</td>\n",
       "      <td>39.0</td>\n",
       "      <td>c7bc398b9eb04e73933dc6d5a7beae0b</td>\n",
       "      <td>Australia</td>\n",
       "      <td>CUS-261674136</td>\n",
       "      <td>NaN</td>\n",
       "      <td>debit</td>\n",
       "    </tr>\n",
       "  </tbody>\n",
       "</table>\n",
       "<p>4326 rows × 23 columns</p>\n",
       "</div>"
      ],
      "text/plain": [
       "       status  card_present_flag bpay_biller_code         account currency  \\\n",
       "5      posted                NaN              NaN  ACC-1608363396      AUD   \n",
       "9      posted                NaN              NaN   ACC-602667573      AUD   \n",
       "10     posted                NaN              NaN  ACC-2171593283      AUD   \n",
       "11     posted                NaN              NaN  ACC-2776252858      AUD   \n",
       "13     posted                NaN              NaN   ACC-588564840      AUD   \n",
       "...       ...                ...              ...             ...      ...   \n",
       "12027  posted                NaN              NaN  ACC-2173390920      AUD   \n",
       "12032  posted                NaN              NaN  ACC-1710017148      AUD   \n",
       "12035  posted                NaN              NaN  ACC-1973887809      AUD   \n",
       "12036  posted                NaN              NaN  ACC-1349834573      AUD   \n",
       "12037  posted                NaN              NaN   ACC-240804743      AUD   \n",
       "\n",
       "            long_lat txn_description merchant_id  merchant_code first_name  \\\n",
       "5      151.22 -33.87         PAYMENT         NaN            NaN     Robert   \n",
       "9      151.23 -33.96      INTER BANK         NaN            NaN    Michael   \n",
       "10     146.94 -36.04         PAYMENT         NaN            NaN   Fernando   \n",
       "11     144.95 -37.76         PAYMENT         NaN            NaN    Kristin   \n",
       "13     151.27 -33.76      INTER BANK         NaN            NaN     Isaiah   \n",
       "...              ...             ...         ...            ...        ...   \n",
       "12027  144.71 -37.58      PHONE BANK         NaN            NaN       Luis   \n",
       "12032  150.82 -34.01         PAYMENT         NaN            NaN   Michelle   \n",
       "12035  115.78 -31.90         PAYMENT         NaN            NaN    Antonio   \n",
       "12036  145.17 -37.84         PAYMENT         NaN            NaN    Matthew   \n",
       "12037  121.48 -30.75         PAYMENT         NaN            NaN    Kenneth   \n",
       "\n",
       "        balance       date gender  age merchant_suburb merchant_state  \\\n",
       "5       1705.43 2018-08-01      M   20             NaN            NaN   \n",
       "9        466.58 2018-08-01      M   40             NaN            NaN   \n",
       "10      4348.50 2018-08-01      M   19             NaN            NaN   \n",
       "11      1203.75 2018-08-01      F   43             NaN            NaN   \n",
       "13      4438.16 2018-08-01      M   23             NaN            NaN   \n",
       "...         ...        ...    ...  ...             ...            ...   \n",
       "12027  13537.75 2018-10-31      M   27             NaN            NaN   \n",
       "12032  20699.90 2018-10-31      F   19             NaN            NaN   \n",
       "12035   9349.51 2018-10-31      M   26             NaN            NaN   \n",
       "12036  18127.50 2018-10-31      M   39             NaN            NaN   \n",
       "12037  24775.66 2018-10-31      M   29             NaN            NaN   \n",
       "\n",
       "                         extraction  amount                    transaction_id  \\\n",
       "5      2018-08-01T02:00:00.000+0000   163.0  1005b48a6eda4ffd85e9b649dc9467d3   \n",
       "9      2018-08-01T06:00:00.000+0000    21.0  798a77869014441b840a7a8a23408332   \n",
       "10     2018-08-01T06:00:00.000+0000    27.0  baff17b27b2643c48c84fca7129e9611   \n",
       "11     2018-08-01T06:00:00.000+0000    29.0  78a1b6c3a5534d48828d8ed266ba9c2e   \n",
       "13     2018-08-01T07:00:00.000+0000    25.0  eaafa602902b4f4194efb96a105dd7ab   \n",
       "...                             ...     ...                               ...   \n",
       "12027  2018-10-31T21:00:00.000+0000    67.0  b2c42c27bb24464cb5e3e0ffbf9b1977   \n",
       "12032  2018-10-31T22:00:00.000+0000    33.0  96fe9c5dcda24b599e81b6f6d5bdcb66   \n",
       "12035  2018-10-31T23:00:00.000+0000    29.0  dda53e538c5b4d5aae2481be22e60440   \n",
       "12036  2018-10-31T23:00:00.000+0000    32.0  df15d6f039554dcbb3ca02631ce22068   \n",
       "12037  2018-10-31T23:00:00.000+0000    39.0  c7bc398b9eb04e73933dc6d5a7beae0b   \n",
       "\n",
       "         country     customer_id merchant_long_lat movement  \n",
       "5      Australia  CUS-2688605418               NaN    debit  \n",
       "9      Australia  CUS-2031327464               NaN    debit  \n",
       "10     Australia  CUS-2317998716               NaN    debit  \n",
       "11     Australia  CUS-4123612273               NaN    debit  \n",
       "13     Australia  CUS-1462656821               NaN    debit  \n",
       "...          ...             ...               ...      ...  \n",
       "12027  Australia  CUS-3180318393               NaN    debit  \n",
       "12032  Australia   CUS-883482547               NaN    debit  \n",
       "12035  Australia  CUS-1646621553               NaN    debit  \n",
       "12036  Australia  CUS-1790886359               NaN    debit  \n",
       "12037  Australia   CUS-261674136               NaN    debit  \n",
       "\n",
       "[4326 rows x 23 columns]"
      ]
     },
     "execution_count": 10,
     "metadata": {},
     "output_type": "execute_result"
    }
   ],
   "source": [
    "df.iloc[df[(df.isnull().sum(axis=1) >= 3)].index] # 4326 rows\n",
    "# df[mis_val_cols].iloc[df[(df.isnull().sum(axis=1) >= 3)].index] # 4326 rows"
   ]
  },
  {
   "cell_type": "markdown",
   "metadata": {},
   "source": [
    "Date starts from 2018-08-01 to 2018-10-31."
   ]
  },
  {
   "cell_type": "code",
   "execution_count": 11,
   "metadata": {},
   "outputs": [
    {
     "data": {
      "text/html": [
       "<div>\n",
       "<style scoped>\n",
       "    .dataframe tbody tr th:only-of-type {\n",
       "        vertical-align: middle;\n",
       "    }\n",
       "\n",
       "    .dataframe tbody tr th {\n",
       "        vertical-align: top;\n",
       "    }\n",
       "\n",
       "    .dataframe thead th {\n",
       "        text-align: right;\n",
       "    }\n",
       "</style>\n",
       "<table border=\"1\" class=\"dataframe\">\n",
       "  <thead>\n",
       "    <tr style=\"text-align: right;\">\n",
       "      <th></th>\n",
       "      <th>date</th>\n",
       "    </tr>\n",
       "  </thead>\n",
       "  <tbody>\n",
       "    <tr>\n",
       "      <th>count</th>\n",
       "      <td>12043</td>\n",
       "    </tr>\n",
       "    <tr>\n",
       "      <th>mean</th>\n",
       "      <td>2018-09-15 21:27:39.951812864</td>\n",
       "    </tr>\n",
       "    <tr>\n",
       "      <th>min</th>\n",
       "      <td>2018-08-01 00:00:00</td>\n",
       "    </tr>\n",
       "    <tr>\n",
       "      <th>25%</th>\n",
       "      <td>2018-08-24 00:00:00</td>\n",
       "    </tr>\n",
       "    <tr>\n",
       "      <th>50%</th>\n",
       "      <td>2018-09-16 00:00:00</td>\n",
       "    </tr>\n",
       "    <tr>\n",
       "      <th>75%</th>\n",
       "      <td>2018-10-09 00:00:00</td>\n",
       "    </tr>\n",
       "    <tr>\n",
       "      <th>max</th>\n",
       "      <td>2018-10-31 00:00:00</td>\n",
       "    </tr>\n",
       "  </tbody>\n",
       "</table>\n",
       "</div>"
      ],
      "text/plain": [
       "                                date\n",
       "count                          12043\n",
       "mean   2018-09-15 21:27:39.951812864\n",
       "min              2018-08-01 00:00:00\n",
       "25%              2018-08-24 00:00:00\n",
       "50%              2018-09-16 00:00:00\n",
       "75%              2018-10-09 00:00:00\n",
       "max              2018-10-31 00:00:00"
      ]
     },
     "execution_count": 11,
     "metadata": {},
     "output_type": "execute_result"
    }
   ],
   "source": [
    "# Statistical summary for date\n",
    "df.describe(include = 'datetime', datetime_is_numeric=True)"
   ]
  },
  {
   "cell_type": "code",
   "execution_count": 12,
   "metadata": {
    "scrolled": false
   },
   "outputs": [
    {
     "data": {
      "text/html": [
       "<div>\n",
       "<style scoped>\n",
       "    .dataframe tbody tr th:only-of-type {\n",
       "        vertical-align: middle;\n",
       "    }\n",
       "\n",
       "    .dataframe tbody tr th {\n",
       "        vertical-align: top;\n",
       "    }\n",
       "\n",
       "    .dataframe thead th {\n",
       "        text-align: right;\n",
       "    }\n",
       "</style>\n",
       "<table border=\"1\" class=\"dataframe\">\n",
       "  <thead>\n",
       "    <tr style=\"text-align: right;\">\n",
       "      <th></th>\n",
       "      <th>status</th>\n",
       "      <th>bpay_biller_code</th>\n",
       "      <th>account</th>\n",
       "      <th>currency</th>\n",
       "      <th>long_lat</th>\n",
       "      <th>txn_description</th>\n",
       "      <th>merchant_id</th>\n",
       "      <th>first_name</th>\n",
       "      <th>gender</th>\n",
       "      <th>merchant_suburb</th>\n",
       "      <th>merchant_state</th>\n",
       "      <th>extraction</th>\n",
       "      <th>transaction_id</th>\n",
       "      <th>country</th>\n",
       "      <th>customer_id</th>\n",
       "      <th>merchant_long_lat</th>\n",
       "      <th>movement</th>\n",
       "    </tr>\n",
       "  </thead>\n",
       "  <tbody>\n",
       "    <tr>\n",
       "      <th>count</th>\n",
       "      <td>12043</td>\n",
       "      <td>885</td>\n",
       "      <td>12043</td>\n",
       "      <td>12043</td>\n",
       "      <td>12043</td>\n",
       "      <td>12043</td>\n",
       "      <td>7717</td>\n",
       "      <td>12043</td>\n",
       "      <td>12043</td>\n",
       "      <td>7717</td>\n",
       "      <td>7717</td>\n",
       "      <td>12043</td>\n",
       "      <td>12043</td>\n",
       "      <td>12043</td>\n",
       "      <td>12043</td>\n",
       "      <td>7717</td>\n",
       "      <td>12043</td>\n",
       "    </tr>\n",
       "    <tr>\n",
       "      <th>unique</th>\n",
       "      <td>2</td>\n",
       "      <td>3</td>\n",
       "      <td>100</td>\n",
       "      <td>1</td>\n",
       "      <td>100</td>\n",
       "      <td>6</td>\n",
       "      <td>5725</td>\n",
       "      <td>80</td>\n",
       "      <td>2</td>\n",
       "      <td>1609</td>\n",
       "      <td>8</td>\n",
       "      <td>9442</td>\n",
       "      <td>12043</td>\n",
       "      <td>1</td>\n",
       "      <td>100</td>\n",
       "      <td>2703</td>\n",
       "      <td>2</td>\n",
       "    </tr>\n",
       "    <tr>\n",
       "      <th>top</th>\n",
       "      <td>authorized</td>\n",
       "      <td>0</td>\n",
       "      <td>ACC-1598451071</td>\n",
       "      <td>AUD</td>\n",
       "      <td>153.41 -27.95</td>\n",
       "      <td>SALES-POS</td>\n",
       "      <td>106e1272-44ab-4dcb-a438-dd98e0071e51</td>\n",
       "      <td>Michael</td>\n",
       "      <td>M</td>\n",
       "      <td>Melbourne</td>\n",
       "      <td>NSW</td>\n",
       "      <td>2018-09-03T11:00:00.000+0000</td>\n",
       "      <td>9e35ce296b014f7da33347a0f3217e4b</td>\n",
       "      <td>Australia</td>\n",
       "      <td>CUS-2487424745</td>\n",
       "      <td>151.21 -33.87</td>\n",
       "      <td>debit</td>\n",
       "    </tr>\n",
       "    <tr>\n",
       "      <th>freq</th>\n",
       "      <td>7717</td>\n",
       "      <td>883</td>\n",
       "      <td>578</td>\n",
       "      <td>12043</td>\n",
       "      <td>578</td>\n",
       "      <td>3934</td>\n",
       "      <td>14</td>\n",
       "      <td>746</td>\n",
       "      <td>6285</td>\n",
       "      <td>255</td>\n",
       "      <td>2169</td>\n",
       "      <td>10</td>\n",
       "      <td>1</td>\n",
       "      <td>12043</td>\n",
       "      <td>578</td>\n",
       "      <td>145</td>\n",
       "      <td>11160</td>\n",
       "    </tr>\n",
       "  </tbody>\n",
       "</table>\n",
       "</div>"
      ],
      "text/plain": [
       "            status  bpay_biller_code         account currency       long_lat  \\\n",
       "count        12043               885           12043    12043          12043   \n",
       "unique           2                 3             100        1            100   \n",
       "top     authorized                 0  ACC-1598451071      AUD  153.41 -27.95   \n",
       "freq          7717               883             578    12043            578   \n",
       "\n",
       "       txn_description                           merchant_id first_name  \\\n",
       "count            12043                                  7717      12043   \n",
       "unique               6                                  5725         80   \n",
       "top          SALES-POS  106e1272-44ab-4dcb-a438-dd98e0071e51    Michael   \n",
       "freq              3934                                    14        746   \n",
       "\n",
       "       gender merchant_suburb merchant_state                    extraction  \\\n",
       "count   12043            7717           7717                         12043   \n",
       "unique      2            1609              8                          9442   \n",
       "top         M       Melbourne            NSW  2018-09-03T11:00:00.000+0000   \n",
       "freq     6285             255           2169                            10   \n",
       "\n",
       "                          transaction_id    country     customer_id  \\\n",
       "count                              12043      12043           12043   \n",
       "unique                             12043          1             100   \n",
       "top     9e35ce296b014f7da33347a0f3217e4b  Australia  CUS-2487424745   \n",
       "freq                                   1      12043             578   \n",
       "\n",
       "       merchant_long_lat movement  \n",
       "count               7717    12043  \n",
       "unique              2703        2  \n",
       "top        151.21 -33.87    debit  \n",
       "freq                 145    11160  "
      ]
     },
     "execution_count": 12,
     "metadata": {},
     "output_type": "execute_result"
    }
   ],
   "source": [
    "# Statistical summary for categorical features\n",
    "df.describe(include = 'object')"
   ]
  },
  {
   "cell_type": "code",
   "execution_count": 13,
   "metadata": {},
   "outputs": [
    {
     "data": {
      "text/plain": [
       "country                  1\n",
       "currency                 1\n",
       "status                   2\n",
       "gender                   2\n",
       "movement                 2\n",
       "bpay_biller_code         3\n",
       "txn_description          6\n",
       "merchant_state           8\n",
       "first_name              80\n",
       "long_lat               100\n",
       "customer_id            100\n",
       "account                100\n",
       "merchant_suburb       1609\n",
       "merchant_long_lat     2703\n",
       "merchant_id           5725\n",
       "extraction            9442\n",
       "transaction_id       12043\n",
       "dtype: int64"
      ]
     },
     "execution_count": 13,
     "metadata": {},
     "output_type": "execute_result"
    }
   ],
   "source": [
    "# Number of unique values in categorical columns\n",
    "df.select_dtypes(include = 'O').nunique().sort_values()"
   ]
  },
  {
   "cell_type": "code",
   "execution_count": 14,
   "metadata": {
    "scrolled": true
   },
   "outputs": [
    {
     "data": {
      "text/html": [
       "<div>\n",
       "<style scoped>\n",
       "    .dataframe tbody tr th:only-of-type {\n",
       "        vertical-align: middle;\n",
       "    }\n",
       "\n",
       "    .dataframe tbody tr th {\n",
       "        vertical-align: top;\n",
       "    }\n",
       "\n",
       "    .dataframe thead th {\n",
       "        text-align: right;\n",
       "    }\n",
       "</style>\n",
       "<table border=\"1\" class=\"dataframe\">\n",
       "  <thead>\n",
       "    <tr style=\"text-align: right;\">\n",
       "      <th></th>\n",
       "      <th>card_present_flag</th>\n",
       "      <th>merchant_code</th>\n",
       "      <th>balance</th>\n",
       "      <th>age</th>\n",
       "      <th>amount</th>\n",
       "    </tr>\n",
       "  </thead>\n",
       "  <tbody>\n",
       "    <tr>\n",
       "      <th>count</th>\n",
       "      <td>7717.000000</td>\n",
       "      <td>883.0</td>\n",
       "      <td>12043.000000</td>\n",
       "      <td>12043.000000</td>\n",
       "      <td>12043.000000</td>\n",
       "    </tr>\n",
       "    <tr>\n",
       "      <th>mean</th>\n",
       "      <td>0.802644</td>\n",
       "      <td>0.0</td>\n",
       "      <td>14704.195553</td>\n",
       "      <td>30.582330</td>\n",
       "      <td>187.933588</td>\n",
       "    </tr>\n",
       "    <tr>\n",
       "      <th>std</th>\n",
       "      <td>0.398029</td>\n",
       "      <td>0.0</td>\n",
       "      <td>31503.722652</td>\n",
       "      <td>10.046343</td>\n",
       "      <td>592.599934</td>\n",
       "    </tr>\n",
       "    <tr>\n",
       "      <th>min</th>\n",
       "      <td>0.000000</td>\n",
       "      <td>0.0</td>\n",
       "      <td>0.240000</td>\n",
       "      <td>18.000000</td>\n",
       "      <td>0.100000</td>\n",
       "    </tr>\n",
       "    <tr>\n",
       "      <th>25%</th>\n",
       "      <td>1.000000</td>\n",
       "      <td>0.0</td>\n",
       "      <td>3158.585000</td>\n",
       "      <td>22.000000</td>\n",
       "      <td>16.000000</td>\n",
       "    </tr>\n",
       "    <tr>\n",
       "      <th>50%</th>\n",
       "      <td>1.000000</td>\n",
       "      <td>0.0</td>\n",
       "      <td>6432.010000</td>\n",
       "      <td>28.000000</td>\n",
       "      <td>29.000000</td>\n",
       "    </tr>\n",
       "    <tr>\n",
       "      <th>75%</th>\n",
       "      <td>1.000000</td>\n",
       "      <td>0.0</td>\n",
       "      <td>12465.945000</td>\n",
       "      <td>38.000000</td>\n",
       "      <td>53.655000</td>\n",
       "    </tr>\n",
       "    <tr>\n",
       "      <th>max</th>\n",
       "      <td>1.000000</td>\n",
       "      <td>0.0</td>\n",
       "      <td>267128.520000</td>\n",
       "      <td>78.000000</td>\n",
       "      <td>8835.980000</td>\n",
       "    </tr>\n",
       "  </tbody>\n",
       "</table>\n",
       "</div>"
      ],
      "text/plain": [
       "       card_present_flag  merchant_code        balance           age  \\\n",
       "count        7717.000000          883.0   12043.000000  12043.000000   \n",
       "mean            0.802644            0.0   14704.195553     30.582330   \n",
       "std             0.398029            0.0   31503.722652     10.046343   \n",
       "min             0.000000            0.0       0.240000     18.000000   \n",
       "25%             1.000000            0.0    3158.585000     22.000000   \n",
       "50%             1.000000            0.0    6432.010000     28.000000   \n",
       "75%             1.000000            0.0   12465.945000     38.000000   \n",
       "max             1.000000            0.0  267128.520000     78.000000   \n",
       "\n",
       "             amount  \n",
       "count  12043.000000  \n",
       "mean     187.933588  \n",
       "std      592.599934  \n",
       "min        0.100000  \n",
       "25%       16.000000  \n",
       "50%       29.000000  \n",
       "75%       53.655000  \n",
       "max     8835.980000  "
      ]
     },
     "execution_count": 14,
     "metadata": {},
     "output_type": "execute_result"
    }
   ],
   "source": [
    "# Statistical summary for numerical features\n",
    "df.describe()"
   ]
  },
  {
   "cell_type": "code",
   "execution_count": 15,
   "metadata": {},
   "outputs": [
    {
     "data": {
      "text/plain": [
       "merchant_code            1\n",
       "card_present_flag        2\n",
       "age                     33\n",
       "date                    91\n",
       "amount                4457\n",
       "balance              12006\n",
       "dtype: int64"
      ]
     },
     "execution_count": 15,
     "metadata": {},
     "output_type": "execute_result"
    }
   ],
   "source": [
    "# Number of unique values in numerical/date columns\n",
    "df.select_dtypes(exclude = 'O').nunique().sort_values()"
   ]
  },
  {
   "cell_type": "markdown",
   "metadata": {},
   "source": [
    "## 3. Some interesting overall insights"
   ]
  },
  {
   "cell_type": "markdown",
   "metadata": {},
   "source": [
    "Select columns that have unique values more than 1 and less than 25."
   ]
  },
  {
   "cell_type": "code",
   "execution_count": 16,
   "metadata": {},
   "outputs": [
    {
     "data": {
      "text/plain": [
       "['status',\n",
       " 'bpay_biller_code',\n",
       " 'txn_description',\n",
       " 'gender',\n",
       " 'merchant_state',\n",
       " 'movement']"
      ]
     },
     "execution_count": 16,
     "metadata": {},
     "output_type": "execute_result"
    }
   ],
   "source": [
    "[col for col in df.select_dtypes(include = 'O').columns if (df[col].nunique() < 25) & (df[col].nunique() > 1)]"
   ]
  },
  {
   "cell_type": "code",
   "execution_count": 17,
   "metadata": {},
   "outputs": [],
   "source": [
    "s_cat_cols = [col for col in df.select_dtypes(include = 'O').columns if (df[col].nunique() < 25) & (df[col].nunique() > 1)]"
   ]
  },
  {
   "cell_type": "markdown",
   "metadata": {},
   "source": [
    "I'll omit 'bpay_biller_code' and add 'card_present_flag' as 'bpay_biller_code' has more than 90% of missing values"
   ]
  },
  {
   "cell_type": "code",
   "execution_count": 18,
   "metadata": {},
   "outputs": [],
   "source": [
    "s_cat_cols = ['status', 'gender', 'movement', 'card_present_flag', 'txn_description', 'merchant_state']"
   ]
  },
  {
   "cell_type": "markdown",
   "metadata": {},
   "source": [
    "Change 'card_present_flag' to Int64"
   ]
  },
  {
   "cell_type": "code",
   "execution_count": 19,
   "metadata": {},
   "outputs": [],
   "source": [
    "df['card_present_flag'] = df['card_present_flag'].astype('Int64')"
   ]
  },
  {
   "cell_type": "markdown",
   "metadata": {},
   "source": [
    "Drop the null values in 'merchant_state' for visualisation"
   ]
  },
  {
   "cell_type": "code",
   "execution_count": 20,
   "metadata": {},
   "outputs": [],
   "source": [
    "mer_plot = pd.DataFrame(df['merchant_state'])\n",
    "mer_plot.dropna(axis = 0, inplace = True)\n",
    "cpf_plot = pd.DataFrame(df.card_present_flag)\n",
    "cpf_plot.dropna(axis = 0, inplace = True)"
   ]
  },
  {
   "cell_type": "markdown",
   "metadata": {},
   "source": [
    "**Categorical variables**\n",
    "* **status** - 64% of the transactions were authorised and about the rest (35%) were waiting for approval. \n",
    "* **gender** - Females and males were 47.81% and 52.19% respectively.\n",
    "* **movement** - Most of the transactions were made by debit (92.67%).\n",
    "* **txn_description** - SALES-POS (32.67%), POS (31.41%) and PAYMENT(21.59%) accounted for about 85% of txn_description.\n",
    "* **merchant_state** (4326 values missing) - NSW (18.01%) and VIC (17.69%) followed by QLD (12.92%) and WA (9.13%).\n",
    "\n",
    "**Numerical variable**\n",
    "* **card_present_flag** (4326 values missing) - 51.43% of the transactions were made online. \n"
   ]
  },
  {
   "cell_type": "code",
   "execution_count": 21,
   "metadata": {},
   "outputs": [],
   "source": [
    "# Show the percentage of each bar type plots \n",
    "def plot_height_per(df, ax):\n",
    "    total = float(len(df))\n",
    "    height_list = []\n",
    "    for p in ax.patches:\n",
    "        height = p.get_height()\n",
    "        height_list.append(height)\n",
    "        ax.text(p.get_x()+p.get_width()/2.,      \n",
    "                height * 1.05,                  \n",
    "                '{:.2%}'.format(height/total),   \n",
    "                ha=\"center\")\n",
    "    \n",
    "    height_list.sort()\n",
    "    ax.set(ylim = (0, height_list[-1]*1.15))\n",
    "    \n",
    "def plot_height(df, ax):\n",
    "#     total = float(len(df))\n",
    "    height_list = []\n",
    "    for p in ax.patches:\n",
    "        height = p.get_height()\n",
    "        height_list.append(height)\n",
    "        ax.text(p.get_x()+p.get_width()/2.,      \n",
    "                height * 1.05,                  \n",
    "                '{}'.format(round(height)),   \n",
    "                ha=\"center\")\n",
    "    \n",
    "    height_list.sort()\n",
    "    ax.set(ylim = (0, height_list[-1]*1.15))"
   ]
  },
  {
   "cell_type": "code",
   "execution_count": 22,
   "metadata": {},
   "outputs": [
    {
     "data": {
      "image/png": "[encoded data removed]",
      "text/plain": [
       "<Figure size 1224x648 with 6 Axes>"
      ]
     },
     "metadata": {
      "needs_background": "light"
     },
     "output_type": "display_data"
    }
   ],
   "source": [
    "fig, axes = plt.subplots(2, 3, figsize = (17, 9))\n",
    "fig.suptitle('Categorical/Numerical features with nunique is less than 25', y = 1.01, fontsize = 15)\n",
    "\n",
    "ax_0 = sns.countplot(data = df, x = \"status\", ax = axes[0, 0])\n",
    "ax_1 = sns.countplot(data = df, x = \"gender\", ax = axes[0,1])\n",
    "ax_2 = sns.countplot(data = df, x = \"movement\", ax = axes[0,2])\n",
    "ax_3 = sns.countplot(data = df, x = 'txn_description', ax = axes[1,0])\n",
    "axes[1,0].set_xticklabels(df[s_cat_cols].txn_description.unique(), rotation = 90)\n",
    "ax_4 = sns.countplot(data = mer_plot, x = mer_plot['merchant_state'], ax = axes[1,1])\n",
    "ax_5 = sns.countplot(data = cpf_plot, x = 'card_present_flag', ax = axes[1,2])\n",
    "\n",
    "plot_height_per(df, ax_0)\n",
    "plot_height_per(df, ax_1)\n",
    "plot_height_per(df, ax_2)\n",
    "plot_height_per(df, ax_3)\n",
    "plot_height_per(df, ax_4)\n",
    "plot_height_per(df, ax_5)\n",
    "\n",
    "plt.tight_layout()\n",
    "plt.show()"
   ]
  },
  {
   "cell_type": "markdown",
   "metadata": {},
   "source": [
    "### Movement\n",
    "\n",
    "In movement, debit was used a lot more than credit, but credit had about threefold in amount.  "
   ]
  },
  {
   "cell_type": "code",
   "execution_count": 23,
   "metadata": {},
   "outputs": [
    {
     "name": "stdout",
     "output_type": "stream",
     "text": [
      "              amount  count\n",
      "movement                   \n",
      "credit    1676576.85    883\n",
      "debit      586707.35  11160\n"
     ]
    },
    {
     "data": {
      "image/png": "[encoded data removed]",
      "text/plain": [
       "<Figure size 720x288 with 2 Axes>"
      ]
     },
     "metadata": {
      "needs_background": "light"
     },
     "output_type": "display_data"
    }
   ],
   "source": [
    "print(pd.DataFrame({'amount': round(df.groupby('movement')['amount'].sum(),2), 'count': df.groupby('movement')['amount'].count()}))\n",
    "mv = pd.DataFrame({'amount': round(df.groupby('movement')['amount'].sum(),2), 'count': df.groupby('movement')['amount'].count()}).reset_index()\n",
    "fig, ax = plt.subplots(1, 2, figsize = (10,4))\n",
    "\n",
    "ax[0] = sns.countplot(data = df, x = 'movement', order = ['debit','credit'] , ax = ax[0])\n",
    "ax[0].set_title('Count')\n",
    "\n",
    "ax[1] = sns.barplot(data = mv, x = 'movement', y = 'amount', order = ['debit','credit'], ax = ax[1])\n",
    "ax[1].set_title('Amount')\n",
    "plt.ticklabel_format(style='plain', axis='y')\n",
    "\n",
    "plot_height(df, ax[0])\n",
    "plot_height(df, ax[1])\n",
    "\n",
    "plt.tight_layout()\n",
    "plt.show()"
   ]
  },
  {
   "cell_type": "markdown",
   "metadata": {},
   "source": [
    "### Amount by gender and age group\n",
    "\n",
    "It is clear that males spend more many than females except in the group '<20'.\n",
    "\n",
    "PAY/SALARY, PAYMENT and POS are most common transactions across every age group.\n",
    "\n",
    "It's quite interesting that men spend more moeny than women."
   ]
  },
  {
   "cell_type": "code",
   "execution_count": null,
   "metadata": {},
   "outputs": [],
   "source": [
    "df['age_group'] = pd.cut(df.age,[0,20,30,40,50,60,99999],labels=['<20','20-30','30-40','40-50','50-60','>60'])\n",
    "\n",
    "age = df.groupby(['month_name','age_group', 'gender'])['amount'].sum().reset_index()\n",
    "age['mean'] = df.groupby(['month_name','age_group', 'gender'])['amount'].mean().values\n",
    "age['count'] = df.groupby(['month_name','age_group', 'gender'])['amount'].count().values"
   ]
  },
  {
   "cell_type": "code",
   "execution_count": 32,
   "metadata": {},
   "outputs": [
    {
     "data": {
      "image/png": "[encoded data removed]",
      "text/plain": [
       "<Figure size 432x288 with 1 Axes>"
      ]
     },
     "metadata": {
      "needs_background": "light"
     },
     "output_type": "display_data"
    },
    {
     "data": {
      "image/png": "[encoded data removed]",
      "text/plain": [
       "<Figure size 648x432 with 1 Axes>"
      ]
     },
     "metadata": {
      "needs_background": "light"
     },
     "output_type": "display_data"
    }
   ],
   "source": [
    "plot_height(age, sns.barplot(data = age, x = 'age_group', y = 'amount', hue = 'gender', hue_order = ['M', 'F']))\n",
    "\n",
    "txn_stck = df.groupby(['age_group', 'txn_description'])['amount'].sum().unstack()#.fillna(0)\n",
    "txn_stck.plot(kind = 'bar', stacked = True, figsize = (9,6))\n",
    "\n",
    "plt.show()"
   ]
  },
  {
   "cell_type": "markdown",
   "metadata": {},
   "source": [
    "### Transaction Description\n",
    "\n",
    "Most of the trasaction were made by PAY/SALARY.\n",
    "\n",
    "It is interesting that PAY/SALARY was done with only credit and the others were done with only debit."
   ]
  },
  {
   "cell_type": "code",
   "execution_count": null,
   "metadata": {},
   "outputs": [],
   "source": [
    "len(df[df.movement == 'credit'])\n",
    "a = df[['txn_description', 'amount']][df.movement == 'credit'].reset_index()\n",
    "a.amount.sum()"
   ]
  },
  {
   "cell_type": "code",
   "execution_count": 25,
   "metadata": {},
   "outputs": [
    {
     "name": "stdout",
     "output_type": "stream",
     "text": [
      "  txn_description movement      amount  count\n",
      "0      INTER BANK    debit    64331.00    742\n",
      "1      PAY/SALARY   credit  1676576.85    883\n",
      "2         PAYMENT    debit   201794.00   2600\n",
      "3      PHONE BANK    debit    10716.00    101\n",
      "4             POS    debit   152861.24   3783\n",
      "5       SALES-POS    debit   157005.11   3934\n"
     ]
    },
    {
     "data": {
      "image/png": "[encoded data removed]",
      "text/plain": [
       "<Figure size 720x288 with 2 Axes>"
      ]
     },
     "metadata": {
      "needs_background": "light"
     },
     "output_type": "display_data"
    }
   ],
   "source": [
    "# sns.barplot(data = age, x = 'age_group', y = 'amount', hue = 'gender')\n",
    "txn = df.groupby(['txn_description', 'movement'])['amount'].sum().reset_index()\n",
    "txn['count'] = df.groupby('txn_description')['amount'].count().values\n",
    "print(txn)\n",
    "\n",
    "fig, ax = plt.subplots(1, 2, figsize = (10,4))\n",
    "\n",
    "ax[0] = sns.barplot(data = txn, x = 'txn_description', y = 'amount', ax = ax[0])\n",
    "ax[0].ticklabel_format(style = 'plain', axis = 'y')\n",
    "ax[0].set_xticklabels(labels = txn['txn_description'],rotation = 45)\n",
    "\n",
    "ax[1] = sns.barplot(data = txn, x = 'txn_description', y = 'amount', hue = 'movement', ax = ax[1])\n",
    "ax[1].ticklabel_format(style = 'plain', axis = 'y')\n",
    "ax[1].set_xticklabels(labels = txn['txn_description'], rotation = 45)\n",
    "\n",
    "plot_height(txn, ax[0])\n",
    "# plot_height(txn, ax[1])\n",
    "\n",
    "plt.tight_layout()\n",
    "plt.show()"
   ]
  },
  {
   "cell_type": "markdown",
   "metadata": {},
   "source": [
    "### Age group and gender.\n",
    "\n",
    "The major customer groups are people in 20's and 30's.  "
   ]
  },
  {
   "cell_type": "code",
   "execution_count": 33,
   "metadata": {},
   "outputs": [
    {
     "data": {
      "image/png": "[encoded data removed]",
      "text/plain": [
       "<Figure size 720x288 with 2 Axes>"
      ]
     },
     "metadata": {
      "needs_background": "light"
     },
     "output_type": "display_data"
    }
   ],
   "source": [
    "fig, axes = plt.subplots(1,2, figsize = (10, 4))\n",
    "\n",
    "axes[0] = sns.countplot(data = df, x = 'age_group', ax = axes[0])\n",
    "axes[1] = sns.countplot(data = df, x = 'age_group', hue = 'gender', hue_order = ['M','F'], ax = axes[1])\n",
    "\n",
    "plot_height_per(df, axes[0])\n",
    "plot_height_per(df, axes[1])\n",
    "\n",
    "plt.tight_layout()\n",
    "plt.show()"
   ]
  },
  {
   "cell_type": "markdown",
   "metadata": {},
   "source": [
    "### The average of total transaction amount"
   ]
  },
  {
   "cell_type": "code",
   "execution_count": 27,
   "metadata": {},
   "outputs": [
    {
     "data": {
      "text/plain": [
       "187.93358797641767"
      ]
     },
     "execution_count": 27,
     "metadata": {},
     "output_type": "execute_result"
    }
   ],
   "source": [
    "df['amount'].mean()"
   ]
  },
  {
   "cell_type": "markdown",
   "metadata": {},
   "source": [
    "### The total amount and average of each month"
   ]
  },
  {
   "cell_type": "code",
   "execution_count": 28,
   "metadata": {},
   "outputs": [],
   "source": [
    "df['day_name'] = df['date'].dt.day_name()\n",
    "df['month_name'] = df['date'].dt.month_name()"
   ]
  },
  {
   "cell_type": "code",
   "execution_count": 29,
   "metadata": {},
   "outputs": [
    {
     "name": "stdout",
     "output_type": "stream",
     "text": [
      "       Month      Total     Average\n",
      "0     August  729935.52  185.121867\n",
      "1    October  802798.47  196.427323\n",
      "2  September  730550.21  182.045903\n"
     ]
    },
    {
     "data": {
      "image/png": "[encoded data removed]",
      "text/plain": [
       "<Figure size 720x360 with 2 Axes>"
      ]
     },
     "metadata": {
      "needs_background": "light"
     },
     "output_type": "display_data"
    }
   ],
   "source": [
    "month_total = df.groupby('month_name')['amount'].sum().reset_index()\n",
    "month_avg = df.groupby('month_name')['amount'].mean().reset_index()\n",
    "\n",
    "print(pd.DataFrame({'Month' :month_total['month_name'], 'Total': month_total['amount'], 'Average':month_avg['amount']}))\n",
    "\n",
    "fig, axes = plt.subplots(1,2, figsize = (10, 5))\n",
    "# sns.axes_style(\"darkgrid\")\n",
    "fig.suptitle('Total amount and average of each month')\n",
    "\n",
    "sns.barplot(ax = axes[0], data = month_total, x = 'month_name', y = 'amount')\n",
    "axes[0].set_title('Total Amount')\n",
    "axes[0].set(xlabel = 'Month', ylabel = 'Amount', ylim = (0, 900000))\n",
    "\n",
    "sns.barplot(ax = axes[1], data = month_avg, x = 'month_name', y = 'amount')\n",
    "axes[1].set_title('Avergae Amount')\n",
    "axes[1].set(xlabel = 'Month', ylabel = 'Avg', ylim = (0, 300))\n",
    "\n",
    "plot_height(month_total, axes[0])\n",
    "plot_height(month_avg, axes[1])\n",
    "\n",
    "plt.tight_layout()\n",
    "plt.show()"
   ]
  },
  {
   "cell_type": "markdown",
   "metadata": {},
   "source": [
    "### Spending in each month by gender"
   ]
  },
  {
   "cell_type": "code",
   "execution_count": 30,
   "metadata": {},
   "outputs": [],
   "source": [
    "# Add age_group. The min and max values are 18 and 78 in age.\n",
    "df['age_group'] = pd.cut(df.age,[0,20,30,40,50,60,99999],labels=['<20','20-30','30-40','40-50','50-60','>60'])\n",
    "\n",
    "age = df.groupby(['month_name','age_group', 'gender'])['amount'].sum().reset_index()\n",
    "age['mean'] = df.groupby(['month_name','age_group', 'gender'])['amount'].mean().values\n",
    "age['count'] = df.groupby(['month_name','age_group', 'gender'])['amount'].count().values"
   ]
  },
  {
   "cell_type": "code",
   "execution_count": 31,
   "metadata": {},
   "outputs": [
    {
     "data": {
      "image/png": "[encoded data removed]",
      "text/plain": [
       "<Figure size 648x360 with 3 Axes>"
      ]
     },
     "metadata": {
      "needs_background": "light"
     },
     "output_type": "display_data"
    }
   ],
   "source": [
    "age = df.groupby(['month_name','age_group', 'gender'])['amount'].sum().reset_index()\n",
    "age['mean'] = df.groupby(['month_name','age_group', 'gender'])['amount'].mean().values\n",
    "age['count'] = df.groupby(['month_name','age_group', 'gender'])['amount'].count().values\n",
    "\n",
    "g = sns.FacetGrid(age, col = 'month_name', hue='gender', hue_order = ['M','F'], margin_titles=True, height = 5, aspect=.6)\n",
    "g.map(sns.barplot, \"gender\", \"mean\", order = ['M','F'])\n",
    "g.fig.subplots_adjust(top=0.85)\n",
    "g.fig.suptitle('Average of spending in each month by gender')\n",
    "\n",
    "plt.show()"
   ]
  },
  {
   "cell_type": "markdown",
   "metadata": {},
   "source": [
    "### Transactions that customers make each month\n",
    "Each customer makes about 40 transactions in every month"
   ]
  },
  {
   "cell_type": "code",
   "execution_count": 35,
   "metadata": {},
   "outputs": [],
   "source": [
    "month_trans = df.groupby('month_name')['amount'].count().reset_index()\n",
    "month_num_cust = df.groupby('month_name')['customer_id'].nunique().reset_index()\n",
    "month_trans['mean'] = month_trans['amount'] / month_num_cust['customer_id']\n",
    "month_trans.rename(columns = {'amount': 'count'}, inplace = True)"
   ]
  },
  {
   "cell_type": "code",
   "execution_count": 36,
   "metadata": {
    "scrolled": false
   },
   "outputs": [
    {
     "name": "stdout",
     "output_type": "stream",
     "text": [
      "       Month  Total  Average\n",
      "0     August   3943    39.43\n",
      "1    October   4087    40.87\n",
      "2  September   4013    40.13\n"
     ]
    },
    {
     "data": {
      "image/png": "[encoded data removed]",
      "text/plain": [
       "<Figure size 720x288 with 2 Axes>"
      ]
     },
     "metadata": {
      "needs_background": "light"
     },
     "output_type": "display_data"
    }
   ],
   "source": [
    "print(pd.DataFrame({'Month' :month_trans['month_name'], 'Total': month_trans['count'], 'Average':month_trans['mean']}))\n",
    "\n",
    "fig, axes = plt.subplots(1,2, figsize = (10, 4))\n",
    "# sns.axes_style(\"darkgrid\")\n",
    "\n",
    "sns.barplot(ax = axes[0], data = month_trans, x = 'month_name', y = 'count')\n",
    "axes[0].set_title('Total Transactions')\n",
    "axes[0].set(xlabel = 'Month', ylabel = 'Counts', ylim = (0, 4400))\n",
    "\n",
    "sns.barplot(ax = axes[1], data = month_trans, x = 'month_name', y = 'mean')\n",
    "axes[1].set_title('Average Transactions')\n",
    "axes[1].set(xlabel = 'Month', ylabel = 'Average', ylim = (0, 50))\n",
    "# sns.barplot(ax = axes[1], data = month_trans_avg, x = 'month_name', y = 'amount')\n",
    "# axes[1].set_title('Avergae Amount')\n",
    "\n",
    "plot_height(month_trans, axes[0])\n",
    "plot_height(month_trans, axes[1])\n",
    "\n",
    "plt.tight_layout()\n",
    "plt.show()"
   ]
  },
  {
   "cell_type": "markdown",
   "metadata": {},
   "source": [
    "## 4. Visualisation?\n",
    "\n",
    "Segment the dataset by transaction date and time. \n",
    "\n",
    "Visualise transaction volume and spending over the course of an average day or week. \n",
    "\n",
    "Consider the effect of any outliers that may distort your analysis."
   ]
  },
  {
   "cell_type": "markdown",
   "metadata": {},
   "source": [
    "### 4-1. Segment the dataset by transaction date and time. ??? \n",
    "\n",
    "Does it mean extract date and time from exraction? I failed to understand it...\n",
    "\n",
    "The 'date' column indicates transaction date. \n",
    "\n",
    "Do I still need to make another transaction date column?  \n",
    "\n",
    "Let's just add transaction date and time."
   ]
  },
  {
   "cell_type": "code",
   "execution_count": 37,
   "metadata": {},
   "outputs": [
    {
     "data": {
      "text/html": [
       "<div>\n",
       "<style scoped>\n",
       "    .dataframe tbody tr th:only-of-type {\n",
       "        vertical-align: middle;\n",
       "    }\n",
       "\n",
       "    .dataframe tbody tr th {\n",
       "        vertical-align: top;\n",
       "    }\n",
       "\n",
       "    .dataframe thead th {\n",
       "        text-align: right;\n",
       "    }\n",
       "</style>\n",
       "<table border=\"1\" class=\"dataframe\">\n",
       "  <thead>\n",
       "    <tr style=\"text-align: right;\">\n",
       "      <th></th>\n",
       "      <th>status</th>\n",
       "      <th>card_present_flag</th>\n",
       "      <th>bpay_biller_code</th>\n",
       "      <th>account</th>\n",
       "      <th>currency</th>\n",
       "      <th>long_lat</th>\n",
       "      <th>txn_description</th>\n",
       "      <th>merchant_id</th>\n",
       "      <th>merchant_code</th>\n",
       "      <th>first_name</th>\n",
       "      <th>balance</th>\n",
       "      <th>date</th>\n",
       "      <th>gender</th>\n",
       "      <th>age</th>\n",
       "      <th>merchant_suburb</th>\n",
       "      <th>merchant_state</th>\n",
       "      <th>extraction</th>\n",
       "      <th>amount</th>\n",
       "      <th>transaction_id</th>\n",
       "      <th>country</th>\n",
       "      <th>customer_id</th>\n",
       "      <th>merchant_long_lat</th>\n",
       "      <th>movement</th>\n",
       "      <th>day_name</th>\n",
       "      <th>month_name</th>\n",
       "      <th>age_group</th>\n",
       "      <th>transaction_date</th>\n",
       "      <th>transaction_time</th>\n",
       "    </tr>\n",
       "  </thead>\n",
       "  <tbody>\n",
       "    <tr>\n",
       "      <th>0</th>\n",
       "      <td>authorized</td>\n",
       "      <td>1</td>\n",
       "      <td>NaN</td>\n",
       "      <td>ACC-1598451071</td>\n",
       "      <td>AUD</td>\n",
       "      <td>153.41 -27.95</td>\n",
       "      <td>POS</td>\n",
       "      <td>81c48296-73be-44a7-befa-d053f48ce7cd</td>\n",
       "      <td>NaN</td>\n",
       "      <td>Diana</td>\n",
       "      <td>35.39</td>\n",
       "      <td>2018-08-01</td>\n",
       "      <td>F</td>\n",
       "      <td>26</td>\n",
       "      <td>Ashmore</td>\n",
       "      <td>QLD</td>\n",
       "      <td>2018-08-01T01:01:15.000+0000</td>\n",
       "      <td>16.25</td>\n",
       "      <td>a623070bfead4541a6b0fff8a09e706c</td>\n",
       "      <td>Australia</td>\n",
       "      <td>CUS-2487424745</td>\n",
       "      <td>153.38 -27.99</td>\n",
       "      <td>debit</td>\n",
       "      <td>Wednesday</td>\n",
       "      <td>August</td>\n",
       "      <td>20-30</td>\n",
       "      <td>2018-08-01</td>\n",
       "      <td>01:01:15</td>\n",
       "    </tr>\n",
       "    <tr>\n",
       "      <th>1</th>\n",
       "      <td>authorized</td>\n",
       "      <td>0</td>\n",
       "      <td>NaN</td>\n",
       "      <td>ACC-1598451071</td>\n",
       "      <td>AUD</td>\n",
       "      <td>153.41 -27.95</td>\n",
       "      <td>SALES-POS</td>\n",
       "      <td>830a451c-316e-4a6a-bf25-e37caedca49e</td>\n",
       "      <td>NaN</td>\n",
       "      <td>Diana</td>\n",
       "      <td>21.20</td>\n",
       "      <td>2018-08-01</td>\n",
       "      <td>F</td>\n",
       "      <td>26</td>\n",
       "      <td>Sydney</td>\n",
       "      <td>NSW</td>\n",
       "      <td>2018-08-01T01:13:45.000+0000</td>\n",
       "      <td>14.19</td>\n",
       "      <td>13270a2a902145da9db4c951e04b51b9</td>\n",
       "      <td>Australia</td>\n",
       "      <td>CUS-2487424745</td>\n",
       "      <td>151.21 -33.87</td>\n",
       "      <td>debit</td>\n",
       "      <td>Wednesday</td>\n",
       "      <td>August</td>\n",
       "      <td>20-30</td>\n",
       "      <td>2018-08-01</td>\n",
       "      <td>01:13:45</td>\n",
       "    </tr>\n",
       "    <tr>\n",
       "      <th>2</th>\n",
       "      <td>authorized</td>\n",
       "      <td>1</td>\n",
       "      <td>NaN</td>\n",
       "      <td>ACC-1222300524</td>\n",
       "      <td>AUD</td>\n",
       "      <td>151.23 -33.94</td>\n",
       "      <td>POS</td>\n",
       "      <td>835c231d-8cdf-4e96-859d-e9d571760cf0</td>\n",
       "      <td>NaN</td>\n",
       "      <td>Michael</td>\n",
       "      <td>5.71</td>\n",
       "      <td>2018-08-01</td>\n",
       "      <td>M</td>\n",
       "      <td>38</td>\n",
       "      <td>Sydney</td>\n",
       "      <td>NSW</td>\n",
       "      <td>2018-08-01T01:26:15.000+0000</td>\n",
       "      <td>6.42</td>\n",
       "      <td>feb79e7ecd7048a5a36ec889d1a94270</td>\n",
       "      <td>Australia</td>\n",
       "      <td>CUS-2142601169</td>\n",
       "      <td>151.21 -33.87</td>\n",
       "      <td>debit</td>\n",
       "      <td>Wednesday</td>\n",
       "      <td>August</td>\n",
       "      <td>30-40</td>\n",
       "      <td>2018-08-01</td>\n",
       "      <td>01:26:15</td>\n",
       "    </tr>\n",
       "    <tr>\n",
       "      <th>3</th>\n",
       "      <td>authorized</td>\n",
       "      <td>1</td>\n",
       "      <td>NaN</td>\n",
       "      <td>ACC-1037050564</td>\n",
       "      <td>AUD</td>\n",
       "      <td>153.10 -27.66</td>\n",
       "      <td>SALES-POS</td>\n",
       "      <td>48514682-c78a-4a88-b0da-2d6302e64673</td>\n",
       "      <td>NaN</td>\n",
       "      <td>Rhonda</td>\n",
       "      <td>2117.22</td>\n",
       "      <td>2018-08-01</td>\n",
       "      <td>F</td>\n",
       "      <td>40</td>\n",
       "      <td>Buderim</td>\n",
       "      <td>QLD</td>\n",
       "      <td>2018-08-01T01:38:45.000+0000</td>\n",
       "      <td>40.90</td>\n",
       "      <td>2698170da3704fd981b15e64a006079e</td>\n",
       "      <td>Australia</td>\n",
       "      <td>CUS-1614226872</td>\n",
       "      <td>153.05 -26.68</td>\n",
       "      <td>debit</td>\n",
       "      <td>Wednesday</td>\n",
       "      <td>August</td>\n",
       "      <td>30-40</td>\n",
       "      <td>2018-08-01</td>\n",
       "      <td>01:38:45</td>\n",
       "    </tr>\n",
       "    <tr>\n",
       "      <th>4</th>\n",
       "      <td>authorized</td>\n",
       "      <td>1</td>\n",
       "      <td>NaN</td>\n",
       "      <td>ACC-1598451071</td>\n",
       "      <td>AUD</td>\n",
       "      <td>153.41 -27.95</td>\n",
       "      <td>SALES-POS</td>\n",
       "      <td>b4e02c10-0852-4273-b8fd-7b3395e32eb0</td>\n",
       "      <td>NaN</td>\n",
       "      <td>Diana</td>\n",
       "      <td>17.95</td>\n",
       "      <td>2018-08-01</td>\n",
       "      <td>F</td>\n",
       "      <td>26</td>\n",
       "      <td>Mermaid Beach</td>\n",
       "      <td>QLD</td>\n",
       "      <td>2018-08-01T01:51:15.000+0000</td>\n",
       "      <td>3.25</td>\n",
       "      <td>329adf79878c4cf0aeb4188b4691c266</td>\n",
       "      <td>Australia</td>\n",
       "      <td>CUS-2487424745</td>\n",
       "      <td>153.44 -28.06</td>\n",
       "      <td>debit</td>\n",
       "      <td>Wednesday</td>\n",
       "      <td>August</td>\n",
       "      <td>20-30</td>\n",
       "      <td>2018-08-01</td>\n",
       "      <td>01:51:15</td>\n",
       "    </tr>\n",
       "  </tbody>\n",
       "</table>\n",
       "</div>"
      ],
      "text/plain": [
       "       status  card_present_flag bpay_biller_code         account currency  \\\n",
       "0  authorized                  1              NaN  ACC-1598451071      AUD   \n",
       "1  authorized                  0              NaN  ACC-1598451071      AUD   \n",
       "2  authorized                  1              NaN  ACC-1222300524      AUD   \n",
       "3  authorized                  1              NaN  ACC-1037050564      AUD   \n",
       "4  authorized                  1              NaN  ACC-1598451071      AUD   \n",
       "\n",
       "        long_lat txn_description                           merchant_id  \\\n",
       "0  153.41 -27.95             POS  81c48296-73be-44a7-befa-d053f48ce7cd   \n",
       "1  153.41 -27.95       SALES-POS  830a451c-316e-4a6a-bf25-e37caedca49e   \n",
       "2  151.23 -33.94             POS  835c231d-8cdf-4e96-859d-e9d571760cf0   \n",
       "3  153.10 -27.66       SALES-POS  48514682-c78a-4a88-b0da-2d6302e64673   \n",
       "4  153.41 -27.95       SALES-POS  b4e02c10-0852-4273-b8fd-7b3395e32eb0   \n",
       "\n",
       "   merchant_code first_name  balance       date gender  age merchant_suburb  \\\n",
       "0            NaN      Diana    35.39 2018-08-01      F   26         Ashmore   \n",
       "1            NaN      Diana    21.20 2018-08-01      F   26          Sydney   \n",
       "2            NaN    Michael     5.71 2018-08-01      M   38          Sydney   \n",
       "3            NaN     Rhonda  2117.22 2018-08-01      F   40         Buderim   \n",
       "4            NaN      Diana    17.95 2018-08-01      F   26   Mermaid Beach   \n",
       "\n",
       "  merchant_state                    extraction  amount  \\\n",
       "0            QLD  2018-08-01T01:01:15.000+0000   16.25   \n",
       "1            NSW  2018-08-01T01:13:45.000+0000   14.19   \n",
       "2            NSW  2018-08-01T01:26:15.000+0000    6.42   \n",
       "3            QLD  2018-08-01T01:38:45.000+0000   40.90   \n",
       "4            QLD  2018-08-01T01:51:15.000+0000    3.25   \n",
       "\n",
       "                     transaction_id    country     customer_id  \\\n",
       "0  a623070bfead4541a6b0fff8a09e706c  Australia  CUS-2487424745   \n",
       "1  13270a2a902145da9db4c951e04b51b9  Australia  CUS-2487424745   \n",
       "2  feb79e7ecd7048a5a36ec889d1a94270  Australia  CUS-2142601169   \n",
       "3  2698170da3704fd981b15e64a006079e  Australia  CUS-1614226872   \n",
       "4  329adf79878c4cf0aeb4188b4691c266  Australia  CUS-2487424745   \n",
       "\n",
       "  merchant_long_lat movement   day_name month_name age_group transaction_date  \\\n",
       "0     153.38 -27.99    debit  Wednesday     August     20-30       2018-08-01   \n",
       "1     151.21 -33.87    debit  Wednesday     August     20-30       2018-08-01   \n",
       "2     151.21 -33.87    debit  Wednesday     August     30-40       2018-08-01   \n",
       "3     153.05 -26.68    debit  Wednesday     August     30-40       2018-08-01   \n",
       "4     153.44 -28.06    debit  Wednesday     August     20-30       2018-08-01   \n",
       "\n",
       "  transaction_time  \n",
       "0         01:01:15  \n",
       "1         01:13:45  \n",
       "2         01:26:15  \n",
       "3         01:38:45  \n",
       "4         01:51:15  "
      ]
     },
     "execution_count": 37,
     "metadata": {},
     "output_type": "execute_result"
    }
   ],
   "source": [
    "# Add transaction_date and transaction_time\n",
    "df['transaction_date'] = df['extraction'].astype(str).str[:10]   # 2018-08-01\n",
    "df['transaction_time'] = df['extraction'].astype(str).str[11:19] # 23:34:25\n",
    "\n",
    "df.head()"
   ]
  },
  {
   "cell_type": "markdown",
   "metadata": {},
   "source": [
    "### 4-2. Visualise transaction volume and spending over the course of an average day or week."
   ]
  },
  {
   "cell_type": "markdown",
   "metadata": {},
   "source": [
    "amount is right skewed "
   ]
  },
  {
   "cell_type": "code",
   "execution_count": null,
   "metadata": {},
   "outputs": [],
   "source": [
    "# most frequent amounts in each\n",
    "# more than 1000\n",
    "# more than 3000 etc. "
   ]
  },
  {
   "cell_type": "code",
   "execution_count": null,
   "metadata": {},
   "outputs": [],
   "source": [
    "a = df['amount'].value_counts().reset_index()"
   ]
  },
  {
   "cell_type": "code",
   "execution_count": null,
   "metadata": {
    "scrolled": false
   },
   "outputs": [],
   "source": [
    "df['amount'].describe()"
   ]
  },
  {
   "cell_type": "code",
   "execution_count": 38,
   "metadata": {},
   "outputs": [
    {
     "name": "stderr",
     "output_type": "stream",
     "text": [
      "D:\\Anaconda3\\lib\\site-packages\\seaborn\\distributions.py:2551: FutureWarning: `distplot` is a deprecated function and will be removed in a future version. Please adapt your code to use either `displot` (a figure-level function with similar flexibility) or `histplot` (an axes-level function for histograms).\n",
      "  warnings.warn(msg, FutureWarning)\n"
     ]
    },
    {
     "data": {
      "image/png": "[encoded data removed]",
      "text/plain": [
       "<Figure size 936x360 with 2 Axes>"
      ]
     },
     "metadata": {
      "needs_background": "light"
     },
     "output_type": "display_data"
    }
   ],
   "source": [
    "fig, axes = plt.subplots(1, 2, figsize = (13, 5))\n",
    "fig.suptitle('Skewness in amount')\n",
    "\n",
    "# Boxplot\n",
    "sns.violinplot(ax = axes[0], x=df['amount'])\n",
    "axes[0].set_title('Violin plot')\n",
    "\n",
    "# Histogram\n",
    "sns.distplot(x = df['amount'])\n",
    "# sns.histplot(ax = axes[1], x = 'amount', bins = 10, data = df)\n",
    "axes[1].set_title('Histogram')\n",
    "\n",
    "plt.tight_layout()\n",
    "plt.show()"
   ]
  },
  {
   "cell_type": "code",
   "execution_count": null,
   "metadata": {},
   "outputs": [],
   "source": [
    "# cumulate\n",
    "\n",
    "#        count transaction\n",
    "# cust_1\n",
    "# cust_2\n",
    "# cust_3\n"
   ]
  },
  {
   "cell_type": "code",
   "execution_count": 40,
   "metadata": {},
   "outputs": [],
   "source": [
    "df['month_name'] = df['date'].dt.month_name()\n",
    "df['date_name'] = df['date'].dt.day_name()"
   ]
  },
  {
   "cell_type": "markdown",
   "metadata": {},
   "source": [
    "### Transaction amount and volumn by days\n",
    "\n",
    "* **Mon** - buy things expensive?\n",
    "\n",
    "* **Fri** - the largest amount and volume because it is Friday. \n",
    "\n",
    "* **Sat, Sun** - high volumn, but not a large amount for its volumn."
   ]
  },
  {
   "cell_type": "code",
   "execution_count": 41,
   "metadata": {},
   "outputs": [
    {
     "data": {
      "image/png": "[encoded data removed]",
      "text/plain": [
       "<Figure size 936x360 with 2 Axes>"
      ]
     },
     "metadata": {
      "needs_background": "light"
     },
     "output_type": "display_data"
    }
   ],
   "source": [
    "daily_spending = df.groupby('date_name')['amount'].sum().sort_values(ascending = False).reset_index()\n",
    "daily_trans_vol = df.groupby('date_name')['amount'].count().sort_values(ascending = False).reset_index()\n",
    "\n",
    "fig, axes = plt.subplots(1,2, figsize = (13,5))\n",
    "fig.suptitle('Daily Transaction')\n",
    "\n",
    "sns.barplot(ax = axes[0], data = daily_spending, x = 'date_name', y = 'amount', order = ['Monday', 'Tuesday', 'Wednesday', 'Thursday', 'Friday', 'Saturday', 'Sunday'] )\n",
    "axes[0].set_title('Transaction Amount')\n",
    "axes[0].set(xlabel = 'Days', ylabel = 'Amount')\n",
    "\n",
    "sns.barplot(ax = axes[1], data = daily_trans_vol, x = 'date_name', y = 'amount', order = ['Monday', 'Tuesday', 'Wednesday', 'Thursday', 'Friday', 'Saturday', 'Sunday'])\n",
    "axes[1].set_title('Transaction Volume')\n",
    "axes[1].set(xlabel = 'Days', ylabel = 'Volume')\n",
    "\n",
    "plot_height(daily_spending, axes[0])\n",
    "plot_height(daily_trans_vol, axes[1])\n",
    "\n",
    "plt.tight_layout()\n",
    "plt.show()"
   ]
  },
  {
   "cell_type": "markdown",
   "metadata": {},
   "source": [
    "### Transaction amount and volumn by weekly basis."
   ]
  },
  {
   "cell_type": "code",
   "execution_count": 42,
   "metadata": {},
   "outputs": [],
   "source": [
    "# Separate transaction_date by weekly basis\n",
    "weekly_trans_amount = df.groupby([pd.Grouper(key='date', freq='W-MON')])['amount'].sum().reset_index().sort_values('date')\n",
    "weekly_trans_volume = df.groupby([pd.Grouper(key='date', freq='W-MON')])['amount'].count().reset_index().sort_values('date')"
   ]
  },
  {
   "cell_type": "code",
   "execution_count": 43,
   "metadata": {
    "scrolled": false
   },
   "outputs": [
    {
     "data": {
      "image/png": "[encoded data removed]",
      "text/plain": [
       "<Figure size 1080x360 with 2 Axes>"
      ]
     },
     "metadata": {
      "needs_background": "light"
     },
     "output_type": "display_data"
    }
   ],
   "source": [
    "fig, axes = plt.subplots(1,2, figsize = (15,5))\n",
    "fig.suptitle('Weekly Transaction')\n",
    "\n",
    "# Transaction amount\n",
    "sns.barplot(ax = axes[0], data = weekly_trans_amount, x = 'date', y = 'amount' )\n",
    "axes[0].set_title('Transaction Amount')\n",
    "axes[0].set(xlabel = 'Days', ylabel = 'Amount', ylim = (0, 200000))\n",
    "axes[0].set_xticklabels(weekly_trans_amount['date'].astype(str), rotation = 60)\n",
    "\n",
    "# Transaction volume\n",
    "sns.barplot(ax = axes[1], data = weekly_trans_volume, x = 'date', y = 'amount')\n",
    "axes[1].set_title('Transaction Volume')\n",
    "axes[1].set(xlabel = 'Days',ylabel = 'Volume', ylim = (0, 1000))\n",
    "axes[1].set_xticklabels(weekly_trans_volume['date'].astype(str), rotation = 60)\n",
    "plt.show()"
   ]
  },
  {
   "cell_type": "markdown",
   "metadata": {},
   "source": [
    "### Location (Suburb and state)\n",
    "\n",
    "location information provided in the dataset?"
   ]
  },
  {
   "cell_type": "code",
   "execution_count": 44,
   "metadata": {},
   "outputs": [
    {
     "data": {
      "text/plain": [
       "1609"
      ]
     },
     "execution_count": 44,
     "metadata": {},
     "output_type": "execute_result"
    }
   ],
   "source": [
    "# df.merchant_state.nunique()\n",
    "df.merchant_suburb.nunique()"
   ]
  },
  {
   "cell_type": "code",
   "execution_count": 45,
   "metadata": {},
   "outputs": [
    {
     "data": {
      "text/plain": [
       "merchant_state\n",
       "ACT      4876.68\n",
       "NSW    102021.77\n",
       "NT       9168.89\n",
       "QLD     53483.45\n",
       "SA      16776.57\n",
       "TAS      1962.93\n",
       "VIC     87584.00\n",
       "WA      33992.06\n",
       "Name: amount, dtype: float64"
      ]
     },
     "execution_count": 45,
     "metadata": {},
     "output_type": "execute_result"
    }
   ],
   "source": [
    "df.groupby('merchant_state')['amount'].sum()"
   ]
  },
  {
   "cell_type": "code",
   "execution_count": 46,
   "metadata": {},
   "outputs": [],
   "source": [
    "mer_loc = df.groupby(['merchant_state'])['merchant_suburb'].nunique().reset_index()\n",
    "mer_loc['amount'] = df.groupby('merchant_state')['amount'].sum().values\n",
    "mer_loc.sort_values('merchant_suburb', ascending = False, inplace = True)"
   ]
  },
  {
   "cell_type": "markdown",
   "metadata": {},
   "source": [
    "The number of distinct merchants in each state."
   ]
  },
  {
   "cell_type": "code",
   "execution_count": 47,
   "metadata": {},
   "outputs": [
    {
     "data": {
      "image/png": "[encoded data removed]",
      "text/plain": [
       "<Figure size 432x288 with 1 Axes>"
      ]
     },
     "metadata": {
      "needs_background": "light"
     },
     "output_type": "display_data"
    }
   ],
   "source": [
    "g = sns.barplot(data = mer_loc, x = 'merchant_state', y = 'merchant_suburb', palette=\"vlag\")\n",
    "g.set_ylabel('Count')\n",
    "plot_height(mer_loc, g)\n",
    "plt.show()"
   ]
  },
  {
   "cell_type": "markdown",
   "metadata": {},
   "source": [
    "The amount that the merchants generated in each state"
   ]
  },
  {
   "cell_type": "code",
   "execution_count": 48,
   "metadata": {},
   "outputs": [
    {
     "data": {
      "image/png": "[encoded data removed]",
      "text/plain": [
       "<Figure size 432x288 with 1 Axes>"
      ]
     },
     "metadata": {
      "needs_background": "light"
     },
     "output_type": "display_data"
    }
   ],
   "source": [
    "g = sns.barplot(data = mer_loc, x = 'merchant_state', y = 'amount', palette = 'vlag')\n",
    "plot_height(mer_loc, g)\n",
    "plt.show()"
   ]
  },
  {
   "cell_type": "markdown",
   "metadata": {},
   "source": [
    "Number 2 is the sum of amount from rows where merchant_state and merchant_suburb are null. \n",
    "\n",
    "1. 309866.35000000015\n",
    "2. 1953417.85\n",
    "3. 2263284.2\n",
    "\n",
    "1 + 2 = 3"
   ]
  },
  {
   "cell_type": "code",
   "execution_count": 49,
   "metadata": {},
   "outputs": [
    {
     "name": "stdout",
     "output_type": "stream",
     "text": [
      "309866.35000000015\n",
      "1953417.85\n",
      "2263284.2\n"
     ]
    }
   ],
   "source": [
    "# 1. amount with currently available values\n",
    "print(mer_loc['amount'].sum())\n",
    "# 2. amount with missing values\n",
    "print(df['amount'][df['merchant_state'].isnull() | df['merchant_suburb'].isnull()].sum())\n",
    "# 3. total amount\n",
    "print(df['amount'].sum())"
   ]
  },
  {
   "cell_type": "code",
   "execution_count": 50,
   "metadata": {},
   "outputs": [
    {
     "data": {
      "text/plain": [
       "2263284.2"
      ]
     },
     "execution_count": 50,
     "metadata": {},
     "output_type": "execute_result"
    }
   ],
   "source": [
    "1953417.85 + 309866.35000000015"
   ]
  },
  {
   "cell_type": "code",
   "execution_count": null,
   "metadata": {},
   "outputs": [],
   "source": []
  },
  {
   "cell_type": "code",
   "execution_count": null,
   "metadata": {},
   "outputs": [],
   "source": []
  },
  {
   "cell_type": "code",
   "execution_count": null,
   "metadata": {},
   "outputs": [],
   "source": []
  },
  {
   "cell_type": "markdown",
   "metadata": {},
   "source": [
    "\n",
    "https://www.youtube.com/watch?v=fX237OP1UAs\n",
    "\n",
    "https://www.kaggle.com/abhat222/anz-data-anz-program\n",
    "\n",
    "https://www.kaggle.com/ashikshafi/anztransaction"
   ]
  },
  {
   "cell_type": "code",
   "execution_count": null,
   "metadata": {},
   "outputs": [],
   "source": []
  },
  {
   "cell_type": "code",
   "execution_count": null,
   "metadata": {},
   "outputs": [],
   "source": [
    "years = list(set(df['date'].astype('str').str[:4]))\n",
    "months = list(set(df['date'].astype('str').str[5:7]))\n",
    "months.sort()\n",
    "print(years, months)"
   ]
  },
  {
   "cell_type": "code",
   "execution_count": null,
   "metadata": {},
   "outputs": [],
   "source": [
    "for y in range(len(years)):\n",
    "    print('Year \\t Month \\t Amount \\t Average')\n",
    "    for m in range(len(months)):\n",
    "        end_month = int(months[m])\n",
    "        if end_month+1 == 13:\n",
    "            months[m] = '1'\n",
    "        else: \n",
    "            end_month += 1\n",
    "            \n",
    "        start_date = years[y] + '-' + months[m] + '-01'\n",
    "        end_date = years[y] + '-' + str(end_month) + '-01'\n",
    "        \n",
    "        month_sum = round(df['amount'].loc[(df['date'] >= start_date) & (df['date'] < end_date)].sum(), 2)\n",
    "        month_avg = round(df['amount'].loc[(df['date'] >= start_date) & (df['date'] < end_date)].mean(), 2)\n",
    "        \n",
    "        print(f'{years[y]} \\t {months[m]} \\t {month_sum} \\t {month_avg}')"
   ]
  },
  {
   "cell_type": "code",
   "execution_count": null,
   "metadata": {},
   "outputs": [],
   "source": [
    "# Number of transactions each month on average\n",
    "for y in range(len(years)):\n",
    "    print('Year \\t Month \\t Total_transactions \\t Avg_transactions')\n",
    "    for m in range(len(months)):\n",
    "        end_month = int(months[m])\n",
    "        if end_month+1 == 13:\n",
    "            months[m] = '1'\n",
    "        else: \n",
    "            end_month += 1\n",
    "            \n",
    "        start_date = years[y] + '-' + months[m] + '-01'\n",
    "        end_date = years[y] + '-' + str(end_month) + '-01'\n",
    "        \n",
    "        # dtype = np.int32\n",
    "        month_total_trans = df['transaction_id'].loc[(df['date'] >= start_date) & (df['date'] < end_date)].count()\n",
    "        month_unique_cust = df['customer_id'].loc[(df['date'] >= start_date) & (df['date'] < end_date)].nunique()\n",
    "        month_avg_trans = month_total_trans/month_unique_cust\n",
    "        \n",
    "        print(f'{years[y]} \\t {months[m]} \\t {month_total_trans} \\t\\t\\t {month_avg_trans}')"
   ]
  },
  {
   "cell_type": "code",
   "execution_count": null,
   "metadata": {},
   "outputs": [],
   "source": [
    "# 91 dates \n",
    "day_sum = pd.DataFrame(df.groupby('date')['amount'].sum().reset_index())\n",
    "day_avg = pd.DataFrame(df.groupby('date')['amount'].mean().reset_index())\n",
    "day_trans = pd.DataFrame(df.groupby('date')['amount'].count().reset_index())\n",
    "# day_cust = pd.DataFrame(df.groupby('date', dropna = False)['customer_id'].nunique())\n",
    "\n",
    "pd.DataFrame({'date': day_sum['date'], 'amount_sum': day_sum['amount'], 'amount_avg': day_avg['amount'], 'trans_volume': day_trans['amount']}).set_index('date')\n"
   ]
  },
  {
   "cell_type": "code",
   "execution_count": null,
   "metadata": {},
   "outputs": [],
   "source": [
    "# Transaction volume\n",
    "plt.bar(weekly_trans_volume['transaction_date'], weekly_trans_volume['amount'], width = 5)\n",
    "plt.xlabel('Date (Weekly)')\n",
    "x_tics = weekly_trans_volume['transaction_date']\n",
    "plt.xticks(x_tics, weekly_trans_volume['transaction_date'].astype(str), rotation = 'vertical')\n",
    "plt.ylabel('Volume')\n",
    "plt.ylim(0, 1000)\n",
    "plt.title('Transaction volume over weeks')\n",
    "plt.show"
   ]
  },
  {
   "cell_type": "code",
   "execution_count": null,
   "metadata": {},
   "outputs": [],
   "source": [
    "# Transaction amount\n",
    "weekly_trans_amount = df.groupby([pd.Grouper(key='transaction_date', freq='W-MON')])['amount'].sum().reset_index().sort_values('transaction_date')"
   ]
  },
  {
   "cell_type": "code",
   "execution_count": null,
   "metadata": {},
   "outputs": [],
   "source": [
    "weekly_trans_amount"
   ]
  },
  {
   "cell_type": "code",
   "execution_count": null,
   "metadata": {},
   "outputs": [],
   "source": [
    "plt.bar(weekly_trans_amount['transaction_date'], weekly_trans_amount['amount'], width = 5)\n",
    "plt.xlabel('Date (Weekly)')\n",
    "x_tics = weekly_trans_amount['transaction_date']\n",
    "plt.xticks(x_tics, weekly_trans_amount['transaction_date'].astype(str), rotation = 'vertical')\n",
    "plt.ylabel('Amount')\n",
    "plt.ylim(0, 200000)\n",
    "plt.title('Transaction amount over weeks')\n",
    "plt.show"
   ]
  },
  {
   "cell_type": "code",
   "execution_count": null,
   "metadata": {},
   "outputs": [],
   "source": [
    "# Transaction volumn\n",
    "df.groupby('date')['transaction_id'].count().hist()\n",
    "plt.show()"
   ]
  },
  {
   "cell_type": "code",
   "execution_count": null,
   "metadata": {},
   "outputs": [],
   "source": []
  },
  {
   "cell_type": "code",
   "execution_count": null,
   "metadata": {},
   "outputs": [],
   "source": []
  },
  {
   "cell_type": "code",
   "execution_count": null,
   "metadata": {},
   "outputs": [],
   "source": []
  },
  {
   "cell_type": "code",
   "execution_count": null,
   "metadata": {},
   "outputs": [],
   "source": [
    "months = ['10', '11', '12', '1', '2', '12', '3', '5']"
   ]
  },
  {
   "cell_type": "code",
   "execution_count": null,
   "metadata": {},
   "outputs": [],
   "source": [
    "for y in range(len(years)):\n",
    "    print('Year \\t Month \\t Amount \\t Average')\n",
    "    for m in range(len(months)):\n",
    "        test = int(months[m])\n",
    "        if test+1 == 13:\n",
    "            months[m] = '1'\n",
    "        else: \n",
    "            test += 1\n",
    "#         print(months[m], test)\n",
    "        start_date = years[y] + '-' + months[m] + '-01'\n",
    "        end_date = years[y] + '-' + str(test) + '-01'\n",
    "#         print(years[y] + '-' + test + '-01')\n",
    "#         print(start_date + ' ' + end_date)\n",
    "#         print(df['amount'].loc[(df['date'] > start_date) & (df['date'] < end_date)].sum())\n",
    "        month_sum = round(df['amount'].loc[(df['date'] > start_date) & (df['date'] < end_date)].sum(), 2)\n",
    "        month_avg = round(df['amount'].loc[(df['date'] > start_date) & (df['date'] < end_date)].mean(), 2)\n",
    "#         month_sum = round(df['amount'].loc[df['date'] <= years[y] + '-' + months[m] + '-01' ].to_numpy().sum(), 2)\n",
    "#         month_avg = round(df['amount'].loc[df['date'] <= years[y] + '-' + months[m] + '-01' ].to_numpy().mean(), 2)\n",
    "        print(f'{years[y]} \\t {months[m]} \\t {month_sum} \\t {month_avg}')"
   ]
  },
  {
   "cell_type": "code",
   "execution_count": null,
   "metadata": {},
   "outputs": [],
   "source": [
    "df['amount'].mean()"
   ]
  },
  {
   "cell_type": "code",
   "execution_count": null,
   "metadata": {},
   "outputs": [],
   "source": [
    "# df['date'].loc[df['date'] == '2018-09']\n",
    "# df.groupby('date')['amount'].sum() \n",
    "for y in range(len(years)):\n",
    "    print('Year \\t Month \\t Total_transactions \\t Avg_transactions')\n",
    "    for m in range(len(months)):\n",
    "        end_month = int(months[m])\n",
    "        if end_month+1 == 13:\n",
    "            months[m] = '1'\n",
    "        else: \n",
    "            end_month += 1\n",
    "            \n",
    "        start_date = years[y] + '-' + months[m] + '-01'\n",
    "        end_date = years[y] + '-' + str(end_month) + '-01'\n",
    "        \n",
    "        # dtype = np.int32\n",
    "        month_total_trans = df['transaction_id'].loc[(df['date'] >= start_date) & (df['date'] < end_date)].count()\n",
    "        month_unique_cust = df['customer_id'].loc[(df['date'] >= start_date) & (df['date'] < end_date)].nunique()\n",
    "#         print(month_total_trans/month_unique_cust)\n",
    "#         print(month_unique_cust/month_total_trans)\n",
    "#         print(type(month_total_trans))\n",
    "#         print(type(int(month_total_trans)))\n",
    "        month_avg_trans = month_total_trans/month_unique_cust\n",
    "        print(f'{years[y]} \\t {months[m]} \\t {month_total_trans} \\t\\t\\t {month_avg_trans}')"
   ]
  },
  {
   "cell_type": "code",
   "execution_count": null,
   "metadata": {},
   "outputs": [],
   "source": [
    "# len(df['transaction_id'].loc[(df['date'] >= start_date) & (df['date'] < end_date)])\n",
    "df['customer_id'].loc[(df['date'] >= start_date) & (df['date'] < end_date)].nunique()"
   ]
  },
  {
   "cell_type": "code",
   "execution_count": null,
   "metadata": {},
   "outputs": [],
   "source": [
    "pd.date_range(start = '2018-03-01', end = '2018-04-01', closed = 'left')\n",
    "\n",
    "#a in df['date'].astype('str')"
   ]
  },
  {
   "cell_type": "code",
   "execution_count": null,
   "metadata": {},
   "outputs": [],
   "source": []
  }
 ],
 "metadata": {
  "kernelspec": {
   "display_name": "Python 3",
   "language": "python",
   "name": "python3"
  },
  "language_info": {
   "codemirror_mode": {
    "name": "ipython",
    "version": 3
   },
   "file_extension": ".py",
   "mimetype": "text/x-python",
   "name": "python",
   "nbconvert_exporter": "python",
   "pygments_lexer": "ipython3",
   "version": "3.8.5"
  }
 },
 "nbformat": 4,
 "nbformat_minor": 4
}
