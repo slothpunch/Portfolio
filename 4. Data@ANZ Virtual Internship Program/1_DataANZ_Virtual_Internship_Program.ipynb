{
 "cells": [
  {
   "cell_type": "markdown",
   "metadata": {},
   "source": [
    "# Task 1. Exploratory Data Analysis (EDA)"
   ]
  },
  {
   "cell_type": "markdown",
   "metadata": {},
   "source": [
    "## Background Information\n",
    "\n",
    "This task is based on a synthesised transaction dataset containing 3 months’ worth of transactions for 100 hypothetical customers. It contains purchases, recurring transactions, and salary transactions.\n",
    "\n",
    "The dataset is designed to simulate realistic transaction behaviours that are observed in ANZ’s real transaction data, so many of the insights you can gather from the tasks below will be genuine.\n",
    "\n",
    "The relevant dataset is linked below for you. "
   ]
  },
  {
   "cell_type": "markdown",
   "metadata": {},
   "source": [
    "## Tasks\n",
    "\n",
    "1. Load the transaction dataset below into an analysis tool of your choice (Excel, R, SAS, Tableau, or similar)\n",
    "\n",
    "\n",
    "2. Start by doing some basic checks – are there any data issues? Does the data need to be cleaned?\n",
    "\n",
    "\n",
    "3. Gather some interesting overall insights about the data. For example -- what is the average transaction amount? How many transactions do customers make each month, on average?\n",
    "\n",
    "\n",
    "4. Segment the dataset by transaction date and time. Visualise transaction volume and spending over the course of an average day or week. Consider the effect of any outliers that may distort your analysis.\n",
    "\n",
    "\n",
    "5. For a challenge – what insights can you draw from the location information provided in the dataset?\n",
    "\n",
    "\n",
    "6. Put together 2-3 slides summarising your most interesting findings to ANZ management."
   ]
  },
  {
   "cell_type": "code",
   "execution_count": 1,
   "metadata": {},
   "outputs": [
    {
     "name": "stdout",
     "output_type": "stream",
     "text": [
      "Matplotlib Version : 3.3.2\n",
      "Seaborn Version : 0.11.0\n"
     ]
    }
   ],
   "source": [
    "import os\n",
    "from datetime import *\n",
    "\n",
    "import pandas as pd\n",
    "import numpy as np\n",
    "\n",
    "import matplotlib as mpl\n",
    "import matplotlib.pyplot as plt\n",
    "%matplotlib inline\n",
    "\n",
    "import seaborn as sns\n",
    "\n",
    "# import matplotlib.gridspec as gridspec # Alignments\n",
    "\n",
    "print(f\"Matplotlib Version : {mpl.__version__}\")\n",
    "print(f\"Seaborn Version : {sns.__version__}\")"
   ]
  },
  {
   "cell_type": "code",
   "execution_count": 2,
   "metadata": {
    "scrolled": true
   },
   "outputs": [
    {
     "name": "stdout",
     "output_type": "stream",
     "text": [
      " Volume in drive D is New Volume\n",
      " Volume Serial Number is AA35-4C60\n",
      "\n",
      " Directory of D:\\1. Data365\\1. Data Analyst Portfolio\\4. DataANZ\n",
      "\n",
      "01/10/2021  11:11 PM    <DIR>          .\n",
      "01/10/2021  11:11 PM    <DIR>          ..\n",
      "01/10/2021  02:32 PM    <DIR>          .ipynb_checkpoints\n",
      "01/10/2021  11:08 PM           140,236 1_DataANZ_Virtual_Internship_Program.ipynb\n",
      "01/10/2021  02:25 PM         1,782,724 ANZ synthesised transaction dataset.xlsx\n",
      "01/10/2021  08:46 PM            17,348 DataANZ.docx\n",
      "               3 File(s)      1,940,308 bytes\n",
      "               3 Dir(s)  125,651,877,888 bytes free\n"
     ]
    }
   ],
   "source": [
    "%ls"
   ]
  },
  {
   "cell_type": "code",
   "execution_count": 2,
   "metadata": {},
   "outputs": [],
   "source": [
    "pd.options.display.max_columns = 40\n",
    "pd.options.display.max_rows = 1000\n",
    "# pd.set_option('display.max.rows', 100)"
   ]
  },
  {
   "cell_type": "code",
   "execution_count": 4,
   "metadata": {},
   "outputs": [
    {
     "name": "stdout",
     "output_type": "stream",
     "text": [
      "40\n",
      "1000\n"
     ]
    }
   ],
   "source": [
    "print(pd.get_option('display.max.columns'))\n",
    "print(pd.get_option('display.max.rows'))"
   ]
  },
  {
   "cell_type": "markdown",
   "metadata": {},
   "source": [
    "## 1. Load the dataset\n",
    "\n",
    "**card_present_flag** - A card-not-present (CNP) transaction occurs when neither the cardholder nor the credit card is physically present at the time of the transaction. It’s most common for orders that happen remotely — over the phone, internet or mail.\n",
    "\n",
    "**bpay_biller_code** - The biller code is a unique number required to process a BPAY® transaction and you can find it on your statement.\n"
   ]
  },
  {
   "cell_type": "code",
   "execution_count": 3,
   "metadata": {},
   "outputs": [
    {
     "name": "stdout",
     "output_type": "stream",
     "text": [
      "(12043, 23)\n"
     ]
    },
    {
     "data": {
      "text/html": [
       "<div>\n",
       "<style scoped>\n",
       "    .dataframe tbody tr th:only-of-type {\n",
       "        vertical-align: middle;\n",
       "    }\n",
       "\n",
       "    .dataframe tbody tr th {\n",
       "        vertical-align: top;\n",
       "    }\n",
       "\n",
       "    .dataframe thead th {\n",
       "        text-align: right;\n",
       "    }\n",
       "</style>\n",
       "<table border=\"1\" class=\"dataframe\">\n",
       "  <thead>\n",
       "    <tr style=\"text-align: right;\">\n",
       "      <th></th>\n",
       "      <th>status</th>\n",
       "      <th>card_present_flag</th>\n",
       "      <th>bpay_biller_code</th>\n",
       "      <th>account</th>\n",
       "      <th>currency</th>\n",
       "      <th>long_lat</th>\n",
       "      <th>txn_description</th>\n",
       "      <th>merchant_id</th>\n",
       "      <th>merchant_code</th>\n",
       "      <th>first_name</th>\n",
       "      <th>balance</th>\n",
       "      <th>date</th>\n",
       "      <th>gender</th>\n",
       "      <th>age</th>\n",
       "      <th>merchant_suburb</th>\n",
       "      <th>merchant_state</th>\n",
       "      <th>extraction</th>\n",
       "      <th>amount</th>\n",
       "      <th>transaction_id</th>\n",
       "      <th>country</th>\n",
       "      <th>customer_id</th>\n",
       "      <th>merchant_long_lat</th>\n",
       "      <th>movement</th>\n",
       "    </tr>\n",
       "  </thead>\n",
       "  <tbody>\n",
       "    <tr>\n",
       "      <th>0</th>\n",
       "      <td>authorized</td>\n",
       "      <td>1.0</td>\n",
       "      <td>NaN</td>\n",
       "      <td>ACC-1598451071</td>\n",
       "      <td>AUD</td>\n",
       "      <td>153.41 -27.95</td>\n",
       "      <td>POS</td>\n",
       "      <td>81c48296-73be-44a7-befa-d053f48ce7cd</td>\n",
       "      <td>NaN</td>\n",
       "      <td>Diana</td>\n",
       "      <td>35.39</td>\n",
       "      <td>2018-08-01</td>\n",
       "      <td>F</td>\n",
       "      <td>26</td>\n",
       "      <td>Ashmore</td>\n",
       "      <td>QLD</td>\n",
       "      <td>2018-08-01T01:01:15.000+0000</td>\n",
       "      <td>16.25</td>\n",
       "      <td>a623070bfead4541a6b0fff8a09e706c</td>\n",
       "      <td>Australia</td>\n",
       "      <td>CUS-2487424745</td>\n",
       "      <td>153.38 -27.99</td>\n",
       "      <td>debit</td>\n",
       "    </tr>\n",
       "    <tr>\n",
       "      <th>1</th>\n",
       "      <td>authorized</td>\n",
       "      <td>0.0</td>\n",
       "      <td>NaN</td>\n",
       "      <td>ACC-1598451071</td>\n",
       "      <td>AUD</td>\n",
       "      <td>153.41 -27.95</td>\n",
       "      <td>SALES-POS</td>\n",
       "      <td>830a451c-316e-4a6a-bf25-e37caedca49e</td>\n",
       "      <td>NaN</td>\n",
       "      <td>Diana</td>\n",
       "      <td>21.20</td>\n",
       "      <td>2018-08-01</td>\n",
       "      <td>F</td>\n",
       "      <td>26</td>\n",
       "      <td>Sydney</td>\n",
       "      <td>NSW</td>\n",
       "      <td>2018-08-01T01:13:45.000+0000</td>\n",
       "      <td>14.19</td>\n",
       "      <td>13270a2a902145da9db4c951e04b51b9</td>\n",
       "      <td>Australia</td>\n",
       "      <td>CUS-2487424745</td>\n",
       "      <td>151.21 -33.87</td>\n",
       "      <td>debit</td>\n",
       "    </tr>\n",
       "    <tr>\n",
       "      <th>2</th>\n",
       "      <td>authorized</td>\n",
       "      <td>1.0</td>\n",
       "      <td>NaN</td>\n",
       "      <td>ACC-1222300524</td>\n",
       "      <td>AUD</td>\n",
       "      <td>151.23 -33.94</td>\n",
       "      <td>POS</td>\n",
       "      <td>835c231d-8cdf-4e96-859d-e9d571760cf0</td>\n",
       "      <td>NaN</td>\n",
       "      <td>Michael</td>\n",
       "      <td>5.71</td>\n",
       "      <td>2018-08-01</td>\n",
       "      <td>M</td>\n",
       "      <td>38</td>\n",
       "      <td>Sydney</td>\n",
       "      <td>NSW</td>\n",
       "      <td>2018-08-01T01:26:15.000+0000</td>\n",
       "      <td>6.42</td>\n",
       "      <td>feb79e7ecd7048a5a36ec889d1a94270</td>\n",
       "      <td>Australia</td>\n",
       "      <td>CUS-2142601169</td>\n",
       "      <td>151.21 -33.87</td>\n",
       "      <td>debit</td>\n",
       "    </tr>\n",
       "    <tr>\n",
       "      <th>3</th>\n",
       "      <td>authorized</td>\n",
       "      <td>1.0</td>\n",
       "      <td>NaN</td>\n",
       "      <td>ACC-1037050564</td>\n",
       "      <td>AUD</td>\n",
       "      <td>153.10 -27.66</td>\n",
       "      <td>SALES-POS</td>\n",
       "      <td>48514682-c78a-4a88-b0da-2d6302e64673</td>\n",
       "      <td>NaN</td>\n",
       "      <td>Rhonda</td>\n",
       "      <td>2117.22</td>\n",
       "      <td>2018-08-01</td>\n",
       "      <td>F</td>\n",
       "      <td>40</td>\n",
       "      <td>Buderim</td>\n",
       "      <td>QLD</td>\n",
       "      <td>2018-08-01T01:38:45.000+0000</td>\n",
       "      <td>40.90</td>\n",
       "      <td>2698170da3704fd981b15e64a006079e</td>\n",
       "      <td>Australia</td>\n",
       "      <td>CUS-1614226872</td>\n",
       "      <td>153.05 -26.68</td>\n",
       "      <td>debit</td>\n",
       "    </tr>\n",
       "    <tr>\n",
       "      <th>4</th>\n",
       "      <td>authorized</td>\n",
       "      <td>1.0</td>\n",
       "      <td>NaN</td>\n",
       "      <td>ACC-1598451071</td>\n",
       "      <td>AUD</td>\n",
       "      <td>153.41 -27.95</td>\n",
       "      <td>SALES-POS</td>\n",
       "      <td>b4e02c10-0852-4273-b8fd-7b3395e32eb0</td>\n",
       "      <td>NaN</td>\n",
       "      <td>Diana</td>\n",
       "      <td>17.95</td>\n",
       "      <td>2018-08-01</td>\n",
       "      <td>F</td>\n",
       "      <td>26</td>\n",
       "      <td>Mermaid Beach</td>\n",
       "      <td>QLD</td>\n",
       "      <td>2018-08-01T01:51:15.000+0000</td>\n",
       "      <td>3.25</td>\n",
       "      <td>329adf79878c4cf0aeb4188b4691c266</td>\n",
       "      <td>Australia</td>\n",
       "      <td>CUS-2487424745</td>\n",
       "      <td>153.44 -28.06</td>\n",
       "      <td>debit</td>\n",
       "    </tr>\n",
       "  </tbody>\n",
       "</table>\n",
       "</div>"
      ],
      "text/plain": [
       "       status  card_present_flag bpay_biller_code         account currency  \\\n",
       "0  authorized                1.0              NaN  ACC-1598451071      AUD   \n",
       "1  authorized                0.0              NaN  ACC-1598451071      AUD   \n",
       "2  authorized                1.0              NaN  ACC-1222300524      AUD   \n",
       "3  authorized                1.0              NaN  ACC-1037050564      AUD   \n",
       "4  authorized                1.0              NaN  ACC-1598451071      AUD   \n",
       "\n",
       "        long_lat txn_description                           merchant_id  \\\n",
       "0  153.41 -27.95             POS  81c48296-73be-44a7-befa-d053f48ce7cd   \n",
       "1  153.41 -27.95       SALES-POS  830a451c-316e-4a6a-bf25-e37caedca49e   \n",
       "2  151.23 -33.94             POS  835c231d-8cdf-4e96-859d-e9d571760cf0   \n",
       "3  153.10 -27.66       SALES-POS  48514682-c78a-4a88-b0da-2d6302e64673   \n",
       "4  153.41 -27.95       SALES-POS  b4e02c10-0852-4273-b8fd-7b3395e32eb0   \n",
       "\n",
       "   merchant_code first_name  balance       date gender  age merchant_suburb  \\\n",
       "0            NaN      Diana    35.39 2018-08-01      F   26         Ashmore   \n",
       "1            NaN      Diana    21.20 2018-08-01      F   26          Sydney   \n",
       "2            NaN    Michael     5.71 2018-08-01      M   38          Sydney   \n",
       "3            NaN     Rhonda  2117.22 2018-08-01      F   40         Buderim   \n",
       "4            NaN      Diana    17.95 2018-08-01      F   26   Mermaid Beach   \n",
       "\n",
       "  merchant_state                    extraction  amount  \\\n",
       "0            QLD  2018-08-01T01:01:15.000+0000   16.25   \n",
       "1            NSW  2018-08-01T01:13:45.000+0000   14.19   \n",
       "2            NSW  2018-08-01T01:26:15.000+0000    6.42   \n",
       "3            QLD  2018-08-01T01:38:45.000+0000   40.90   \n",
       "4            QLD  2018-08-01T01:51:15.000+0000    3.25   \n",
       "\n",
       "                     transaction_id    country     customer_id  \\\n",
       "0  a623070bfead4541a6b0fff8a09e706c  Australia  CUS-2487424745   \n",
       "1  13270a2a902145da9db4c951e04b51b9  Australia  CUS-2487424745   \n",
       "2  feb79e7ecd7048a5a36ec889d1a94270  Australia  CUS-2142601169   \n",
       "3  2698170da3704fd981b15e64a006079e  Australia  CUS-1614226872   \n",
       "4  329adf79878c4cf0aeb4188b4691c266  Australia  CUS-2487424745   \n",
       "\n",
       "  merchant_long_lat movement  \n",
       "0     153.38 -27.99    debit  \n",
       "1     151.21 -33.87    debit  \n",
       "2     151.21 -33.87    debit  \n",
       "3     153.05 -26.68    debit  \n",
       "4     153.44 -28.06    debit  "
      ]
     },
     "execution_count": 3,
     "metadata": {},
     "output_type": "execute_result"
    }
   ],
   "source": [
    "df = pd.read_excel('ANZ synthesised transaction dataset.xlsx')\n",
    "print(df.shape) # 12,043 rows and 23 columns\n",
    "df.head()"
   ]
  },
  {
   "cell_type": "markdown",
   "metadata": {},
   "source": [
    "## 2. Basic checks"
   ]
  },
  {
   "cell_type": "code",
   "execution_count": 5,
   "metadata": {
    "scrolled": false
   },
   "outputs": [
    {
     "name": "stdout",
     "output_type": "stream",
     "text": [
      "<class 'pandas.core.frame.DataFrame'>\n",
      "RangeIndex: 12043 entries, 0 to 12042\n",
      "Data columns (total 23 columns):\n",
      " #   Column             Non-Null Count  Dtype         \n",
      "---  ------             --------------  -----         \n",
      " 0   status             12043 non-null  object        \n",
      " 1   card_present_flag  7717 non-null   float64       \n",
      " 2   bpay_biller_code   885 non-null    object        \n",
      " 3   account            12043 non-null  object        \n",
      " 4   currency           12043 non-null  object        \n",
      " 5   long_lat           12043 non-null  object        \n",
      " 6   txn_description    12043 non-null  object        \n",
      " 7   merchant_id        7717 non-null   object        \n",
      " 8   merchant_code      883 non-null    float64       \n",
      " 9   first_name         12043 non-null  object        \n",
      " 10  balance            12043 non-null  float64       \n",
      " 11  date               12043 non-null  datetime64[ns]\n",
      " 12  gender             12043 non-null  object        \n",
      " 13  age                12043 non-null  int64         \n",
      " 14  merchant_suburb    7717 non-null   object        \n",
      " 15  merchant_state     7717 non-null   object        \n",
      " 16  extraction         12043 non-null  object        \n",
      " 17  amount             12043 non-null  float64       \n",
      " 18  transaction_id     12043 non-null  object        \n",
      " 19  country            12043 non-null  object        \n",
      " 20  customer_id        12043 non-null  object        \n",
      " 21  merchant_long_lat  7717 non-null   object        \n",
      " 22  movement           12043 non-null  object        \n",
      "dtypes: datetime64[ns](1), float64(4), int64(1), object(17)\n",
      "memory usage: 2.1+ MB\n"
     ]
    }
   ],
   "source": [
    "# Check types of data\n",
    "df.info()"
   ]
  },
  {
   "cell_type": "code",
   "execution_count": 49,
   "metadata": {},
   "outputs": [
    {
     "data": {
      "text/plain": [
       "0"
      ]
     },
     "execution_count": 49,
     "metadata": {},
     "output_type": "execute_result"
    }
   ],
   "source": [
    "# Check duplicates\n",
    "df.duplicated().sum()"
   ]
  },
  {
   "cell_type": "markdown",
   "metadata": {},
   "source": [
    "Many missing values in **bpay_biller_code** and **merchant_code**, and I might simply be able to drop the columns.\n",
    "\n",
    "The following features have the same amount of missing data:\n",
    "* card_present_flag\n",
    "* merchant_id\n",
    "* merchant_suburb\n",
    "* merchant_state\n",
    "* merchant_long_lat\n",
    "\n",
    "It might be reasonable to think that if a row doesn't have a value in any of those columns, the row is unlikely to have values in the other columns as well."
   ]
  },
  {
   "cell_type": "code",
   "execution_count": 41,
   "metadata": {},
   "outputs": [
    {
     "data": {
      "text/html": [
       "<div>\n",
       "<style scoped>\n",
       "    .dataframe tbody tr th:only-of-type {\n",
       "        vertical-align: middle;\n",
       "    }\n",
       "\n",
       "    .dataframe tbody tr th {\n",
       "        vertical-align: top;\n",
       "    }\n",
       "\n",
       "    .dataframe thead th {\n",
       "        text-align: right;\n",
       "    }\n",
       "</style>\n",
       "<table border=\"1\" class=\"dataframe\">\n",
       "  <thead>\n",
       "    <tr style=\"text-align: right;\">\n",
       "      <th></th>\n",
       "      <th>Number of missing values</th>\n",
       "      <th>Percentage (%)</th>\n",
       "    </tr>\n",
       "  </thead>\n",
       "  <tbody>\n",
       "    <tr>\n",
       "      <th>merchant_code</th>\n",
       "      <td>11160</td>\n",
       "      <td>92.67</td>\n",
       "    </tr>\n",
       "    <tr>\n",
       "      <th>bpay_biller_code</th>\n",
       "      <td>11158</td>\n",
       "      <td>92.65</td>\n",
       "    </tr>\n",
       "    <tr>\n",
       "      <th>card_present_flag</th>\n",
       "      <td>4326</td>\n",
       "      <td>35.92</td>\n",
       "    </tr>\n",
       "    <tr>\n",
       "      <th>merchant_id</th>\n",
       "      <td>4326</td>\n",
       "      <td>35.92</td>\n",
       "    </tr>\n",
       "    <tr>\n",
       "      <th>merchant_suburb</th>\n",
       "      <td>4326</td>\n",
       "      <td>35.92</td>\n",
       "    </tr>\n",
       "    <tr>\n",
       "      <th>merchant_state</th>\n",
       "      <td>4326</td>\n",
       "      <td>35.92</td>\n",
       "    </tr>\n",
       "    <tr>\n",
       "      <th>merchant_long_lat</th>\n",
       "      <td>4326</td>\n",
       "      <td>35.92</td>\n",
       "    </tr>\n",
       "  </tbody>\n",
       "</table>\n",
       "</div>"
      ],
      "text/plain": [
       "                   Number of missing values  Percentage (%)\n",
       "merchant_code                         11160           92.67\n",
       "bpay_biller_code                      11158           92.65\n",
       "card_present_flag                      4326           35.92\n",
       "merchant_id                            4326           35.92\n",
       "merchant_suburb                        4326           35.92\n",
       "merchant_state                         4326           35.92\n",
       "merchant_long_lat                      4326           35.92"
      ]
     },
     "execution_count": 41,
     "metadata": {},
     "output_type": "execute_result"
    }
   ],
   "source": [
    "# Check missing values\n",
    "missing = df.isnull().sum()\n",
    "missing = missing[missing >= 1]\n",
    "per = round(a/len(df)*100, 2)\n",
    "pd.DataFrame({'Number of missing values':missing, 'Percentage (%)': per}).sort_values(by = 'Percentage (%)', ascending = False)"
   ]
  },
  {
   "cell_type": "code",
   "execution_count": 34,
   "metadata": {},
   "outputs": [],
   "source": [
    "mis_val_cols = []\n",
    "\n",
    "for col in df.columns:\n",
    "    if df[col].isnull().sum() >= 1:\n",
    "        mis_val_cols.append(col)"
   ]
  },
  {
   "cell_type": "markdown",
   "metadata": {},
   "source": [
    "My inference seems right. The below code shows the rows that have missing values more than 3, and there are 4326 rows."
   ]
  },
  {
   "cell_type": "code",
   "execution_count": 9,
   "metadata": {
    "scrolled": true
   },
   "outputs": [
    {
     "data": {
      "text/html": [
       "<div>\n",
       "<style scoped>\n",
       "    .dataframe tbody tr th:only-of-type {\n",
       "        vertical-align: middle;\n",
       "    }\n",
       "\n",
       "    .dataframe tbody tr th {\n",
       "        vertical-align: top;\n",
       "    }\n",
       "\n",
       "    .dataframe thead th {\n",
       "        text-align: right;\n",
       "    }\n",
       "</style>\n",
       "<table border=\"1\" class=\"dataframe\">\n",
       "  <thead>\n",
       "    <tr style=\"text-align: right;\">\n",
       "      <th></th>\n",
       "      <th>status</th>\n",
       "      <th>card_present_flag</th>\n",
       "      <th>bpay_biller_code</th>\n",
       "      <th>account</th>\n",
       "      <th>currency</th>\n",
       "      <th>long_lat</th>\n",
       "      <th>txn_description</th>\n",
       "      <th>merchant_id</th>\n",
       "      <th>merchant_code</th>\n",
       "      <th>first_name</th>\n",
       "      <th>balance</th>\n",
       "      <th>date</th>\n",
       "      <th>gender</th>\n",
       "      <th>age</th>\n",
       "      <th>merchant_suburb</th>\n",
       "      <th>merchant_state</th>\n",
       "      <th>extraction</th>\n",
       "      <th>amount</th>\n",
       "      <th>transaction_id</th>\n",
       "      <th>country</th>\n",
       "      <th>customer_id</th>\n",
       "      <th>merchant_long_lat</th>\n",
       "      <th>movement</th>\n",
       "    </tr>\n",
       "  </thead>\n",
       "  <tbody>\n",
       "    <tr>\n",
       "      <th>5</th>\n",
       "      <td>posted</td>\n",
       "      <td>NaN</td>\n",
       "      <td>NaN</td>\n",
       "      <td>ACC-1608363396</td>\n",
       "      <td>AUD</td>\n",
       "      <td>151.22 -33.87</td>\n",
       "      <td>PAYMENT</td>\n",
       "      <td>NaN</td>\n",
       "      <td>NaN</td>\n",
       "      <td>Robert</td>\n",
       "      <td>1705.43</td>\n",
       "      <td>2018-08-01</td>\n",
       "      <td>M</td>\n",
       "      <td>20</td>\n",
       "      <td>NaN</td>\n",
       "      <td>NaN</td>\n",
       "      <td>2018-08-01T02:00:00.000+0000</td>\n",
       "      <td>163.0</td>\n",
       "      <td>1005b48a6eda4ffd85e9b649dc9467d3</td>\n",
       "      <td>Australia</td>\n",
       "      <td>CUS-2688605418</td>\n",
       "      <td>NaN</td>\n",
       "      <td>debit</td>\n",
       "    </tr>\n",
       "    <tr>\n",
       "      <th>9</th>\n",
       "      <td>posted</td>\n",
       "      <td>NaN</td>\n",
       "      <td>NaN</td>\n",
       "      <td>ACC-602667573</td>\n",
       "      <td>AUD</td>\n",
       "      <td>151.23 -33.96</td>\n",
       "      <td>INTER BANK</td>\n",
       "      <td>NaN</td>\n",
       "      <td>NaN</td>\n",
       "      <td>Michael</td>\n",
       "      <td>466.58</td>\n",
       "      <td>2018-08-01</td>\n",
       "      <td>M</td>\n",
       "      <td>40</td>\n",
       "      <td>NaN</td>\n",
       "      <td>NaN</td>\n",
       "      <td>2018-08-01T06:00:00.000+0000</td>\n",
       "      <td>21.0</td>\n",
       "      <td>798a77869014441b840a7a8a23408332</td>\n",
       "      <td>Australia</td>\n",
       "      <td>CUS-2031327464</td>\n",
       "      <td>NaN</td>\n",
       "      <td>debit</td>\n",
       "    </tr>\n",
       "    <tr>\n",
       "      <th>10</th>\n",
       "      <td>posted</td>\n",
       "      <td>NaN</td>\n",
       "      <td>NaN</td>\n",
       "      <td>ACC-2171593283</td>\n",
       "      <td>AUD</td>\n",
       "      <td>146.94 -36.04</td>\n",
       "      <td>PAYMENT</td>\n",
       "      <td>NaN</td>\n",
       "      <td>NaN</td>\n",
       "      <td>Fernando</td>\n",
       "      <td>4348.50</td>\n",
       "      <td>2018-08-01</td>\n",
       "      <td>M</td>\n",
       "      <td>19</td>\n",
       "      <td>NaN</td>\n",
       "      <td>NaN</td>\n",
       "      <td>2018-08-01T06:00:00.000+0000</td>\n",
       "      <td>27.0</td>\n",
       "      <td>baff17b27b2643c48c84fca7129e9611</td>\n",
       "      <td>Australia</td>\n",
       "      <td>CUS-2317998716</td>\n",
       "      <td>NaN</td>\n",
       "      <td>debit</td>\n",
       "    </tr>\n",
       "    <tr>\n",
       "      <th>11</th>\n",
       "      <td>posted</td>\n",
       "      <td>NaN</td>\n",
       "      <td>NaN</td>\n",
       "      <td>ACC-2776252858</td>\n",
       "      <td>AUD</td>\n",
       "      <td>144.95 -37.76</td>\n",
       "      <td>PAYMENT</td>\n",
       "      <td>NaN</td>\n",
       "      <td>NaN</td>\n",
       "      <td>Kristin</td>\n",
       "      <td>1203.75</td>\n",
       "      <td>2018-08-01</td>\n",
       "      <td>F</td>\n",
       "      <td>43</td>\n",
       "      <td>NaN</td>\n",
       "      <td>NaN</td>\n",
       "      <td>2018-08-01T06:00:00.000+0000</td>\n",
       "      <td>29.0</td>\n",
       "      <td>78a1b6c3a5534d48828d8ed266ba9c2e</td>\n",
       "      <td>Australia</td>\n",
       "      <td>CUS-4123612273</td>\n",
       "      <td>NaN</td>\n",
       "      <td>debit</td>\n",
       "    </tr>\n",
       "    <tr>\n",
       "      <th>13</th>\n",
       "      <td>posted</td>\n",
       "      <td>NaN</td>\n",
       "      <td>NaN</td>\n",
       "      <td>ACC-588564840</td>\n",
       "      <td>AUD</td>\n",
       "      <td>151.27 -33.76</td>\n",
       "      <td>INTER BANK</td>\n",
       "      <td>NaN</td>\n",
       "      <td>NaN</td>\n",
       "      <td>Isaiah</td>\n",
       "      <td>4438.16</td>\n",
       "      <td>2018-08-01</td>\n",
       "      <td>M</td>\n",
       "      <td>23</td>\n",
       "      <td>NaN</td>\n",
       "      <td>NaN</td>\n",
       "      <td>2018-08-01T07:00:00.000+0000</td>\n",
       "      <td>25.0</td>\n",
       "      <td>eaafa602902b4f4194efb96a105dd7ab</td>\n",
       "      <td>Australia</td>\n",
       "      <td>CUS-1462656821</td>\n",
       "      <td>NaN</td>\n",
       "      <td>debit</td>\n",
       "    </tr>\n",
       "    <tr>\n",
       "      <th>...</th>\n",
       "      <td>...</td>\n",
       "      <td>...</td>\n",
       "      <td>...</td>\n",
       "      <td>...</td>\n",
       "      <td>...</td>\n",
       "      <td>...</td>\n",
       "      <td>...</td>\n",
       "      <td>...</td>\n",
       "      <td>...</td>\n",
       "      <td>...</td>\n",
       "      <td>...</td>\n",
       "      <td>...</td>\n",
       "      <td>...</td>\n",
       "      <td>...</td>\n",
       "      <td>...</td>\n",
       "      <td>...</td>\n",
       "      <td>...</td>\n",
       "      <td>...</td>\n",
       "      <td>...</td>\n",
       "      <td>...</td>\n",
       "      <td>...</td>\n",
       "      <td>...</td>\n",
       "      <td>...</td>\n",
       "    </tr>\n",
       "    <tr>\n",
       "      <th>12027</th>\n",
       "      <td>posted</td>\n",
       "      <td>NaN</td>\n",
       "      <td>NaN</td>\n",
       "      <td>ACC-2173390920</td>\n",
       "      <td>AUD</td>\n",
       "      <td>144.71 -37.58</td>\n",
       "      <td>PHONE BANK</td>\n",
       "      <td>NaN</td>\n",
       "      <td>NaN</td>\n",
       "      <td>Luis</td>\n",
       "      <td>13537.75</td>\n",
       "      <td>2018-10-31</td>\n",
       "      <td>M</td>\n",
       "      <td>27</td>\n",
       "      <td>NaN</td>\n",
       "      <td>NaN</td>\n",
       "      <td>2018-10-31T21:00:00.000+0000</td>\n",
       "      <td>67.0</td>\n",
       "      <td>b2c42c27bb24464cb5e3e0ffbf9b1977</td>\n",
       "      <td>Australia</td>\n",
       "      <td>CUS-3180318393</td>\n",
       "      <td>NaN</td>\n",
       "      <td>debit</td>\n",
       "    </tr>\n",
       "    <tr>\n",
       "      <th>12032</th>\n",
       "      <td>posted</td>\n",
       "      <td>NaN</td>\n",
       "      <td>NaN</td>\n",
       "      <td>ACC-1710017148</td>\n",
       "      <td>AUD</td>\n",
       "      <td>150.82 -34.01</td>\n",
       "      <td>PAYMENT</td>\n",
       "      <td>NaN</td>\n",
       "      <td>NaN</td>\n",
       "      <td>Michelle</td>\n",
       "      <td>20699.90</td>\n",
       "      <td>2018-10-31</td>\n",
       "      <td>F</td>\n",
       "      <td>19</td>\n",
       "      <td>NaN</td>\n",
       "      <td>NaN</td>\n",
       "      <td>2018-10-31T22:00:00.000+0000</td>\n",
       "      <td>33.0</td>\n",
       "      <td>96fe9c5dcda24b599e81b6f6d5bdcb66</td>\n",
       "      <td>Australia</td>\n",
       "      <td>CUS-883482547</td>\n",
       "      <td>NaN</td>\n",
       "      <td>debit</td>\n",
       "    </tr>\n",
       "    <tr>\n",
       "      <th>12035</th>\n",
       "      <td>posted</td>\n",
       "      <td>NaN</td>\n",
       "      <td>NaN</td>\n",
       "      <td>ACC-1973887809</td>\n",
       "      <td>AUD</td>\n",
       "      <td>115.78 -31.90</td>\n",
       "      <td>PAYMENT</td>\n",
       "      <td>NaN</td>\n",
       "      <td>NaN</td>\n",
       "      <td>Antonio</td>\n",
       "      <td>9349.51</td>\n",
       "      <td>2018-10-31</td>\n",
       "      <td>M</td>\n",
       "      <td>26</td>\n",
       "      <td>NaN</td>\n",
       "      <td>NaN</td>\n",
       "      <td>2018-10-31T23:00:00.000+0000</td>\n",
       "      <td>29.0</td>\n",
       "      <td>dda53e538c5b4d5aae2481be22e60440</td>\n",
       "      <td>Australia</td>\n",
       "      <td>CUS-1646621553</td>\n",
       "      <td>NaN</td>\n",
       "      <td>debit</td>\n",
       "    </tr>\n",
       "    <tr>\n",
       "      <th>12036</th>\n",
       "      <td>posted</td>\n",
       "      <td>NaN</td>\n",
       "      <td>NaN</td>\n",
       "      <td>ACC-1349834573</td>\n",
       "      <td>AUD</td>\n",
       "      <td>145.17 -37.84</td>\n",
       "      <td>PAYMENT</td>\n",
       "      <td>NaN</td>\n",
       "      <td>NaN</td>\n",
       "      <td>Matthew</td>\n",
       "      <td>18127.50</td>\n",
       "      <td>2018-10-31</td>\n",
       "      <td>M</td>\n",
       "      <td>39</td>\n",
       "      <td>NaN</td>\n",
       "      <td>NaN</td>\n",
       "      <td>2018-10-31T23:00:00.000+0000</td>\n",
       "      <td>32.0</td>\n",
       "      <td>df15d6f039554dcbb3ca02631ce22068</td>\n",
       "      <td>Australia</td>\n",
       "      <td>CUS-1790886359</td>\n",
       "      <td>NaN</td>\n",
       "      <td>debit</td>\n",
       "    </tr>\n",
       "    <tr>\n",
       "      <th>12037</th>\n",
       "      <td>posted</td>\n",
       "      <td>NaN</td>\n",
       "      <td>NaN</td>\n",
       "      <td>ACC-240804743</td>\n",
       "      <td>AUD</td>\n",
       "      <td>121.48 -30.75</td>\n",
       "      <td>PAYMENT</td>\n",
       "      <td>NaN</td>\n",
       "      <td>NaN</td>\n",
       "      <td>Kenneth</td>\n",
       "      <td>24775.66</td>\n",
       "      <td>2018-10-31</td>\n",
       "      <td>M</td>\n",
       "      <td>29</td>\n",
       "      <td>NaN</td>\n",
       "      <td>NaN</td>\n",
       "      <td>2018-10-31T23:00:00.000+0000</td>\n",
       "      <td>39.0</td>\n",
       "      <td>c7bc398b9eb04e73933dc6d5a7beae0b</td>\n",
       "      <td>Australia</td>\n",
       "      <td>CUS-261674136</td>\n",
       "      <td>NaN</td>\n",
       "      <td>debit</td>\n",
       "    </tr>\n",
       "  </tbody>\n",
       "</table>\n",
       "<p>4326 rows × 23 columns</p>\n",
       "</div>"
      ],
      "text/plain": [
       "       status  card_present_flag bpay_biller_code         account currency  \\\n",
       "5      posted                NaN              NaN  ACC-1608363396      AUD   \n",
       "9      posted                NaN              NaN   ACC-602667573      AUD   \n",
       "10     posted                NaN              NaN  ACC-2171593283      AUD   \n",
       "11     posted                NaN              NaN  ACC-2776252858      AUD   \n",
       "13     posted                NaN              NaN   ACC-588564840      AUD   \n",
       "...       ...                ...              ...             ...      ...   \n",
       "12027  posted                NaN              NaN  ACC-2173390920      AUD   \n",
       "12032  posted                NaN              NaN  ACC-1710017148      AUD   \n",
       "12035  posted                NaN              NaN  ACC-1973887809      AUD   \n",
       "12036  posted                NaN              NaN  ACC-1349834573      AUD   \n",
       "12037  posted                NaN              NaN   ACC-240804743      AUD   \n",
       "\n",
       "            long_lat txn_description merchant_id  merchant_code first_name  \\\n",
       "5      151.22 -33.87         PAYMENT         NaN            NaN     Robert   \n",
       "9      151.23 -33.96      INTER BANK         NaN            NaN    Michael   \n",
       "10     146.94 -36.04         PAYMENT         NaN            NaN   Fernando   \n",
       "11     144.95 -37.76         PAYMENT         NaN            NaN    Kristin   \n",
       "13     151.27 -33.76      INTER BANK         NaN            NaN     Isaiah   \n",
       "...              ...             ...         ...            ...        ...   \n",
       "12027  144.71 -37.58      PHONE BANK         NaN            NaN       Luis   \n",
       "12032  150.82 -34.01         PAYMENT         NaN            NaN   Michelle   \n",
       "12035  115.78 -31.90         PAYMENT         NaN            NaN    Antonio   \n",
       "12036  145.17 -37.84         PAYMENT         NaN            NaN    Matthew   \n",
       "12037  121.48 -30.75         PAYMENT         NaN            NaN    Kenneth   \n",
       "\n",
       "        balance       date gender  age merchant_suburb merchant_state  \\\n",
       "5       1705.43 2018-08-01      M   20             NaN            NaN   \n",
       "9        466.58 2018-08-01      M   40             NaN            NaN   \n",
       "10      4348.50 2018-08-01      M   19             NaN            NaN   \n",
       "11      1203.75 2018-08-01      F   43             NaN            NaN   \n",
       "13      4438.16 2018-08-01      M   23             NaN            NaN   \n",
       "...         ...        ...    ...  ...             ...            ...   \n",
       "12027  13537.75 2018-10-31      M   27             NaN            NaN   \n",
       "12032  20699.90 2018-10-31      F   19             NaN            NaN   \n",
       "12035   9349.51 2018-10-31      M   26             NaN            NaN   \n",
       "12036  18127.50 2018-10-31      M   39             NaN            NaN   \n",
       "12037  24775.66 2018-10-31      M   29             NaN            NaN   \n",
       "\n",
       "                         extraction  amount                    transaction_id  \\\n",
       "5      2018-08-01T02:00:00.000+0000   163.0  1005b48a6eda4ffd85e9b649dc9467d3   \n",
       "9      2018-08-01T06:00:00.000+0000    21.0  798a77869014441b840a7a8a23408332   \n",
       "10     2018-08-01T06:00:00.000+0000    27.0  baff17b27b2643c48c84fca7129e9611   \n",
       "11     2018-08-01T06:00:00.000+0000    29.0  78a1b6c3a5534d48828d8ed266ba9c2e   \n",
       "13     2018-08-01T07:00:00.000+0000    25.0  eaafa602902b4f4194efb96a105dd7ab   \n",
       "...                             ...     ...                               ...   \n",
       "12027  2018-10-31T21:00:00.000+0000    67.0  b2c42c27bb24464cb5e3e0ffbf9b1977   \n",
       "12032  2018-10-31T22:00:00.000+0000    33.0  96fe9c5dcda24b599e81b6f6d5bdcb66   \n",
       "12035  2018-10-31T23:00:00.000+0000    29.0  dda53e538c5b4d5aae2481be22e60440   \n",
       "12036  2018-10-31T23:00:00.000+0000    32.0  df15d6f039554dcbb3ca02631ce22068   \n",
       "12037  2018-10-31T23:00:00.000+0000    39.0  c7bc398b9eb04e73933dc6d5a7beae0b   \n",
       "\n",
       "         country     customer_id merchant_long_lat movement  \n",
       "5      Australia  CUS-2688605418               NaN    debit  \n",
       "9      Australia  CUS-2031327464               NaN    debit  \n",
       "10     Australia  CUS-2317998716               NaN    debit  \n",
       "11     Australia  CUS-4123612273               NaN    debit  \n",
       "13     Australia  CUS-1462656821               NaN    debit  \n",
       "...          ...             ...               ...      ...  \n",
       "12027  Australia  CUS-3180318393               NaN    debit  \n",
       "12032  Australia   CUS-883482547               NaN    debit  \n",
       "12035  Australia  CUS-1646621553               NaN    debit  \n",
       "12036  Australia  CUS-1790886359               NaN    debit  \n",
       "12037  Australia   CUS-261674136               NaN    debit  \n",
       "\n",
       "[4326 rows x 23 columns]"
      ]
     },
     "execution_count": 9,
     "metadata": {},
     "output_type": "execute_result"
    }
   ],
   "source": [
    "df.iloc[df[(df.isnull().sum(axis=1) >= 3)].index] # 4326 rows"
   ]
  },
  {
   "cell_type": "code",
   "execution_count": 422,
   "metadata": {
    "scrolled": true
   },
   "outputs": [
    {
     "data": {
      "text/html": [
       "<div>\n",
       "<style scoped>\n",
       "    .dataframe tbody tr th:only-of-type {\n",
       "        vertical-align: middle;\n",
       "    }\n",
       "\n",
       "    .dataframe tbody tr th {\n",
       "        vertical-align: top;\n",
       "    }\n",
       "\n",
       "    .dataframe thead th {\n",
       "        text-align: right;\n",
       "    }\n",
       "</style>\n",
       "<table border=\"1\" class=\"dataframe\">\n",
       "  <thead>\n",
       "    <tr style=\"text-align: right;\">\n",
       "      <th></th>\n",
       "      <th>card_present_flag</th>\n",
       "      <th>bpay_biller_code</th>\n",
       "      <th>merchant_id</th>\n",
       "      <th>merchant_code</th>\n",
       "      <th>merchant_suburb</th>\n",
       "      <th>merchant_state</th>\n",
       "      <th>merchant_long_lat</th>\n",
       "    </tr>\n",
       "  </thead>\n",
       "  <tbody>\n",
       "    <tr>\n",
       "      <th>5</th>\n",
       "      <td>NaN</td>\n",
       "      <td>NaN</td>\n",
       "      <td>NaN</td>\n",
       "      <td>NaN</td>\n",
       "      <td>NaN</td>\n",
       "      <td>NaN</td>\n",
       "      <td>NaN</td>\n",
       "    </tr>\n",
       "    <tr>\n",
       "      <th>9</th>\n",
       "      <td>NaN</td>\n",
       "      <td>NaN</td>\n",
       "      <td>NaN</td>\n",
       "      <td>NaN</td>\n",
       "      <td>NaN</td>\n",
       "      <td>NaN</td>\n",
       "      <td>NaN</td>\n",
       "    </tr>\n",
       "    <tr>\n",
       "      <th>10</th>\n",
       "      <td>NaN</td>\n",
       "      <td>NaN</td>\n",
       "      <td>NaN</td>\n",
       "      <td>NaN</td>\n",
       "      <td>NaN</td>\n",
       "      <td>NaN</td>\n",
       "      <td>NaN</td>\n",
       "    </tr>\n",
       "    <tr>\n",
       "      <th>11</th>\n",
       "      <td>NaN</td>\n",
       "      <td>NaN</td>\n",
       "      <td>NaN</td>\n",
       "      <td>NaN</td>\n",
       "      <td>NaN</td>\n",
       "      <td>NaN</td>\n",
       "      <td>NaN</td>\n",
       "    </tr>\n",
       "    <tr>\n",
       "      <th>13</th>\n",
       "      <td>NaN</td>\n",
       "      <td>NaN</td>\n",
       "      <td>NaN</td>\n",
       "      <td>NaN</td>\n",
       "      <td>NaN</td>\n",
       "      <td>NaN</td>\n",
       "      <td>NaN</td>\n",
       "    </tr>\n",
       "    <tr>\n",
       "      <th>...</th>\n",
       "      <td>...</td>\n",
       "      <td>...</td>\n",
       "      <td>...</td>\n",
       "      <td>...</td>\n",
       "      <td>...</td>\n",
       "      <td>...</td>\n",
       "      <td>...</td>\n",
       "    </tr>\n",
       "    <tr>\n",
       "      <th>12027</th>\n",
       "      <td>NaN</td>\n",
       "      <td>NaN</td>\n",
       "      <td>NaN</td>\n",
       "      <td>NaN</td>\n",
       "      <td>NaN</td>\n",
       "      <td>NaN</td>\n",
       "      <td>NaN</td>\n",
       "    </tr>\n",
       "    <tr>\n",
       "      <th>12032</th>\n",
       "      <td>NaN</td>\n",
       "      <td>NaN</td>\n",
       "      <td>NaN</td>\n",
       "      <td>NaN</td>\n",
       "      <td>NaN</td>\n",
       "      <td>NaN</td>\n",
       "      <td>NaN</td>\n",
       "    </tr>\n",
       "    <tr>\n",
       "      <th>12035</th>\n",
       "      <td>NaN</td>\n",
       "      <td>NaN</td>\n",
       "      <td>NaN</td>\n",
       "      <td>NaN</td>\n",
       "      <td>NaN</td>\n",
       "      <td>NaN</td>\n",
       "      <td>NaN</td>\n",
       "    </tr>\n",
       "    <tr>\n",
       "      <th>12036</th>\n",
       "      <td>NaN</td>\n",
       "      <td>NaN</td>\n",
       "      <td>NaN</td>\n",
       "      <td>NaN</td>\n",
       "      <td>NaN</td>\n",
       "      <td>NaN</td>\n",
       "      <td>NaN</td>\n",
       "    </tr>\n",
       "    <tr>\n",
       "      <th>12037</th>\n",
       "      <td>NaN</td>\n",
       "      <td>NaN</td>\n",
       "      <td>NaN</td>\n",
       "      <td>NaN</td>\n",
       "      <td>NaN</td>\n",
       "      <td>NaN</td>\n",
       "      <td>NaN</td>\n",
       "    </tr>\n",
       "  </tbody>\n",
       "</table>\n",
       "<p>4326 rows × 7 columns</p>\n",
       "</div>"
      ],
      "text/plain": [
       "       card_present_flag bpay_biller_code merchant_id  merchant_code  \\\n",
       "5                    NaN              NaN         NaN            NaN   \n",
       "9                    NaN              NaN         NaN            NaN   \n",
       "10                   NaN              NaN         NaN            NaN   \n",
       "11                   NaN              NaN         NaN            NaN   \n",
       "13                   NaN              NaN         NaN            NaN   \n",
       "...                  ...              ...         ...            ...   \n",
       "12027                NaN              NaN         NaN            NaN   \n",
       "12032                NaN              NaN         NaN            NaN   \n",
       "12035                NaN              NaN         NaN            NaN   \n",
       "12036                NaN              NaN         NaN            NaN   \n",
       "12037                NaN              NaN         NaN            NaN   \n",
       "\n",
       "      merchant_suburb merchant_state merchant_long_lat  \n",
       "5                 NaN            NaN               NaN  \n",
       "9                 NaN            NaN               NaN  \n",
       "10                NaN            NaN               NaN  \n",
       "11                NaN            NaN               NaN  \n",
       "13                NaN            NaN               NaN  \n",
       "...               ...            ...               ...  \n",
       "12027             NaN            NaN               NaN  \n",
       "12032             NaN            NaN               NaN  \n",
       "12035             NaN            NaN               NaN  \n",
       "12036             NaN            NaN               NaN  \n",
       "12037             NaN            NaN               NaN  \n",
       "\n",
       "[4326 rows x 7 columns]"
      ]
     },
     "execution_count": 422,
     "metadata": {},
     "output_type": "execute_result"
    }
   ],
   "source": [
    "df[mis_val_cols].iloc[df[(df.isnull().sum(axis=1) >= 3)].index] # 4326 rows"
   ]
  },
  {
   "cell_type": "markdown",
   "metadata": {},
   "source": [
    "Date starts from 2018-08-01 to 2018-10-31."
   ]
  },
  {
   "cell_type": "code",
   "execution_count": 11,
   "metadata": {},
   "outputs": [
    {
     "data": {
      "text/html": [
       "<div>\n",
       "<style scoped>\n",
       "    .dataframe tbody tr th:only-of-type {\n",
       "        vertical-align: middle;\n",
       "    }\n",
       "\n",
       "    .dataframe tbody tr th {\n",
       "        vertical-align: top;\n",
       "    }\n",
       "\n",
       "    .dataframe thead th {\n",
       "        text-align: right;\n",
       "    }\n",
       "</style>\n",
       "<table border=\"1\" class=\"dataframe\">\n",
       "  <thead>\n",
       "    <tr style=\"text-align: right;\">\n",
       "      <th></th>\n",
       "      <th>date</th>\n",
       "    </tr>\n",
       "  </thead>\n",
       "  <tbody>\n",
       "    <tr>\n",
       "      <th>count</th>\n",
       "      <td>12043</td>\n",
       "    </tr>\n",
       "    <tr>\n",
       "      <th>mean</th>\n",
       "      <td>2018-09-15 21:27:39.951812864</td>\n",
       "    </tr>\n",
       "    <tr>\n",
       "      <th>min</th>\n",
       "      <td>2018-08-01 00:00:00</td>\n",
       "    </tr>\n",
       "    <tr>\n",
       "      <th>25%</th>\n",
       "      <td>2018-08-24 00:00:00</td>\n",
       "    </tr>\n",
       "    <tr>\n",
       "      <th>50%</th>\n",
       "      <td>2018-09-16 00:00:00</td>\n",
       "    </tr>\n",
       "    <tr>\n",
       "      <th>75%</th>\n",
       "      <td>2018-10-09 00:00:00</td>\n",
       "    </tr>\n",
       "    <tr>\n",
       "      <th>max</th>\n",
       "      <td>2018-10-31 00:00:00</td>\n",
       "    </tr>\n",
       "  </tbody>\n",
       "</table>\n",
       "</div>"
      ],
      "text/plain": [
       "                                date\n",
       "count                          12043\n",
       "mean   2018-09-15 21:27:39.951812864\n",
       "min              2018-08-01 00:00:00\n",
       "25%              2018-08-24 00:00:00\n",
       "50%              2018-09-16 00:00:00\n",
       "75%              2018-10-09 00:00:00\n",
       "max              2018-10-31 00:00:00"
      ]
     },
     "execution_count": 11,
     "metadata": {},
     "output_type": "execute_result"
    }
   ],
   "source": [
    "# Statistical summary for date\n",
    "df.describe(include = 'datetime', datetime_is_numeric=True)"
   ]
  },
  {
   "cell_type": "code",
   "execution_count": 4,
   "metadata": {},
   "outputs": [
    {
     "data": {
      "text/html": [
       "<div>\n",
       "<style scoped>\n",
       "    .dataframe tbody tr th:only-of-type {\n",
       "        vertical-align: middle;\n",
       "    }\n",
       "\n",
       "    .dataframe tbody tr th {\n",
       "        vertical-align: top;\n",
       "    }\n",
       "\n",
       "    .dataframe thead th {\n",
       "        text-align: right;\n",
       "    }\n",
       "</style>\n",
       "<table border=\"1\" class=\"dataframe\">\n",
       "  <thead>\n",
       "    <tr style=\"text-align: right;\">\n",
       "      <th></th>\n",
       "      <th>status</th>\n",
       "      <th>bpay_biller_code</th>\n",
       "      <th>account</th>\n",
       "      <th>currency</th>\n",
       "      <th>long_lat</th>\n",
       "      <th>txn_description</th>\n",
       "      <th>merchant_id</th>\n",
       "      <th>first_name</th>\n",
       "      <th>gender</th>\n",
       "      <th>merchant_suburb</th>\n",
       "      <th>merchant_state</th>\n",
       "      <th>extraction</th>\n",
       "      <th>transaction_id</th>\n",
       "      <th>country</th>\n",
       "      <th>customer_id</th>\n",
       "      <th>merchant_long_lat</th>\n",
       "      <th>movement</th>\n",
       "    </tr>\n",
       "  </thead>\n",
       "  <tbody>\n",
       "    <tr>\n",
       "      <th>count</th>\n",
       "      <td>12043</td>\n",
       "      <td>885</td>\n",
       "      <td>12043</td>\n",
       "      <td>12043</td>\n",
       "      <td>12043</td>\n",
       "      <td>12043</td>\n",
       "      <td>7717</td>\n",
       "      <td>12043</td>\n",
       "      <td>12043</td>\n",
       "      <td>7717</td>\n",
       "      <td>7717</td>\n",
       "      <td>12043</td>\n",
       "      <td>12043</td>\n",
       "      <td>12043</td>\n",
       "      <td>12043</td>\n",
       "      <td>7717</td>\n",
       "      <td>12043</td>\n",
       "    </tr>\n",
       "    <tr>\n",
       "      <th>unique</th>\n",
       "      <td>2</td>\n",
       "      <td>3</td>\n",
       "      <td>100</td>\n",
       "      <td>1</td>\n",
       "      <td>100</td>\n",
       "      <td>6</td>\n",
       "      <td>5725</td>\n",
       "      <td>80</td>\n",
       "      <td>2</td>\n",
       "      <td>1609</td>\n",
       "      <td>8</td>\n",
       "      <td>9442</td>\n",
       "      <td>12043</td>\n",
       "      <td>1</td>\n",
       "      <td>100</td>\n",
       "      <td>2703</td>\n",
       "      <td>2</td>\n",
       "    </tr>\n",
       "    <tr>\n",
       "      <th>top</th>\n",
       "      <td>authorized</td>\n",
       "      <td>0</td>\n",
       "      <td>ACC-1598451071</td>\n",
       "      <td>AUD</td>\n",
       "      <td>153.41 -27.95</td>\n",
       "      <td>SALES-POS</td>\n",
       "      <td>106e1272-44ab-4dcb-a438-dd98e0071e51</td>\n",
       "      <td>Michael</td>\n",
       "      <td>M</td>\n",
       "      <td>Melbourne</td>\n",
       "      <td>NSW</td>\n",
       "      <td>2018-09-03T11:00:00.000+0000</td>\n",
       "      <td>5cd1e7f829d947a19d68cab7daa0d7fb</td>\n",
       "      <td>Australia</td>\n",
       "      <td>CUS-2487424745</td>\n",
       "      <td>151.21 -33.87</td>\n",
       "      <td>debit</td>\n",
       "    </tr>\n",
       "    <tr>\n",
       "      <th>freq</th>\n",
       "      <td>7717</td>\n",
       "      <td>883</td>\n",
       "      <td>578</td>\n",
       "      <td>12043</td>\n",
       "      <td>578</td>\n",
       "      <td>3934</td>\n",
       "      <td>14</td>\n",
       "      <td>746</td>\n",
       "      <td>6285</td>\n",
       "      <td>255</td>\n",
       "      <td>2169</td>\n",
       "      <td>10</td>\n",
       "      <td>1</td>\n",
       "      <td>12043</td>\n",
       "      <td>578</td>\n",
       "      <td>145</td>\n",
       "      <td>11160</td>\n",
       "    </tr>\n",
       "  </tbody>\n",
       "</table>\n",
       "</div>"
      ],
      "text/plain": [
       "            status  bpay_biller_code         account currency       long_lat  \\\n",
       "count        12043               885           12043    12043          12043   \n",
       "unique           2                 3             100        1            100   \n",
       "top     authorized                 0  ACC-1598451071      AUD  153.41 -27.95   \n",
       "freq          7717               883             578    12043            578   \n",
       "\n",
       "       txn_description                           merchant_id first_name  \\\n",
       "count            12043                                  7717      12043   \n",
       "unique               6                                  5725         80   \n",
       "top          SALES-POS  106e1272-44ab-4dcb-a438-dd98e0071e51    Michael   \n",
       "freq              3934                                    14        746   \n",
       "\n",
       "       gender merchant_suburb merchant_state                    extraction  \\\n",
       "count   12043            7717           7717                         12043   \n",
       "unique      2            1609              8                          9442   \n",
       "top         M       Melbourne            NSW  2018-09-03T11:00:00.000+0000   \n",
       "freq     6285             255           2169                            10   \n",
       "\n",
       "                          transaction_id    country     customer_id  \\\n",
       "count                              12043      12043           12043   \n",
       "unique                             12043          1             100   \n",
       "top     5cd1e7f829d947a19d68cab7daa0d7fb  Australia  CUS-2487424745   \n",
       "freq                                   1      12043             578   \n",
       "\n",
       "       merchant_long_lat movement  \n",
       "count               7717    12043  \n",
       "unique              2703        2  \n",
       "top        151.21 -33.87    debit  \n",
       "freq                 145    11160  "
      ]
     },
     "execution_count": 4,
     "metadata": {},
     "output_type": "execute_result"
    }
   ],
   "source": [
    "# Statistical summary for categorical features\n",
    "df.describe(include = 'object')"
   ]
  },
  {
   "cell_type": "markdown",
   "metadata": {},
   "source": [
    "Select columns that have unique values more than 1 and less than 25."
   ]
  },
  {
   "cell_type": "code",
   "execution_count": 5,
   "metadata": {},
   "outputs": [
    {
     "data": {
      "text/plain": [
       "['account',\n",
       " 'long_lat',\n",
       " 'merchant_id',\n",
       " 'first_name',\n",
       " 'merchant_suburb',\n",
       " 'extraction',\n",
       " 'transaction_id',\n",
       " 'customer_id',\n",
       " 'merchant_long_lat']"
      ]
     },
     "execution_count": 5,
     "metadata": {},
     "output_type": "execute_result"
    }
   ],
   "source": [
    "[col for col in df.select_dtypes(include = 'O').columns if df[col].nunique() > 25]"
   ]
  },
  {
   "cell_type": "code",
   "execution_count": 115,
   "metadata": {},
   "outputs": [
    {
     "data": {
      "text/plain": [
       "['status',\n",
       " 'bpay_biller_code',\n",
       " 'txn_description',\n",
       " 'gender',\n",
       " 'merchant_state',\n",
       " 'movement']"
      ]
     },
     "execution_count": 115,
     "metadata": {},
     "output_type": "execute_result"
    }
   ],
   "source": [
    "s_cat_cols = [col for col in df.select_dtypes(include = 'O').columns if (df[col].nunique() < 25) & (df[col].nunique() > 1)]\n",
    "s_cat_cols"
   ]
  },
  {
   "cell_type": "markdown",
   "metadata": {},
   "source": [
    "Change 'card_present_flag' to Int64"
   ]
  },
  {
   "cell_type": "code",
   "execution_count": 132,
   "metadata": {},
   "outputs": [],
   "source": [
    "df['card_present_flag'] = df['card_present_flag'].astype('Int64')"
   ]
  },
  {
   "cell_type": "markdown",
   "metadata": {},
   "source": [
    "Drop the null values in 'merchant_state' for visualisation"
   ]
  },
  {
   "cell_type": "code",
   "execution_count": 106,
   "metadata": {},
   "outputs": [],
   "source": [
    "mer_plot = pd.DataFrame(df['merchant_state'])\n",
    "mer_plot.dropna(inplace=True)"
   ]
  },
  {
   "cell_type": "markdown",
   "metadata": {},
   "source": [
    "* **status** - 4000 transaction are waiting\n",
    "* **gender** - more men than women\n",
    "* **movement** - most of transactions were made by debit card\n",
    "* **txn_description** - SALES-POS, POSE and PAYMENT are dominant and there are not many transactions in INTER BANK, PAY/SALARY and PHONE BANK.\n",
    "* **merchant_state** - most merchants are in NSW, QLD, VIC and WA. \n",
    "* **card_present_flag** - most transactions were made online than offline"
   ]
  },
  {
   "cell_type": "code",
   "execution_count": 168,
   "metadata": {},
   "outputs": [],
   "source": [
    "cpf_plot = pd.DataFrame(df.card_present_flag)\n",
    "cpf_plot.dropna(axis = 0, inplace = True)"
   ]
  },
  {
   "cell_type": "code",
   "execution_count": 169,
   "metadata": {
    "scrolled": false
   },
   "outputs": [
    {
     "data": {
      "image/png": "[encoded data removed]",
      "text/plain": [
       "<Figure size 936x504 with 6 Axes>"
      ]
     },
     "metadata": {},
     "output_type": "display_data"
    }
   ],
   "source": [
    "# fig, axs = plt.subplots(2, 3, figsize=(10, 7))\n",
    "fig, axes = plt.subplots(2, 3, figsize = (13, 7))\n",
    "\n",
    "sns.countplot(data = df, x = \"status\", ax = axes[0, 0])\n",
    "sns.countplot(data = df, x = \"gender\", ax = axes[0,1])\n",
    "sns.countplot(data = df, x = \"movement\", ax = axes[0,2])\n",
    "sns.countplot(data = df, x = 'txn_description', ax = axes[1,0])\n",
    "axes[1,0].set_xticklabels(df[s_cat_cols].txn_description.unique(), rotation = 90)\n",
    "sns.countplot(data = mer_plot, x = mer_plot['merchant_state'], ax = axes[1,1])\n",
    "# sns.histplot(data = df, x = 'card_present_flag', ax = axes[1,2])\n",
    "sns.countplot(data = cpf_plot, x = 'card_present_flag', ax = axes[1,2])\n",
    "\n",
    "# axes[1,2].bar_label(ax.containers[0])\n",
    "\n",
    "plt.tight_layout()\n",
    "plt.show()"
   ]
  },
  {
   "cell_type": "code",
   "execution_count": null,
   "metadata": {},
   "outputs": [],
   "source": [
    "plt.figure(figsize=(10,7))\n",
    "ax = sns.countplot(x=\"day_name\", hue=\"gender\", data=df) # for Seaborn version 0.7 and more\n",
    "total = float(len(df))\n",
    "for p in ax.patches:\n",
    "    height = p.get_height()\n",
    "    ax.text(p.get_x()+p.get_width()/2.,\n",
    "            height + 3,\n",
    "            '{:.2%}'.format(height/total),\n",
    "            ha=\"center\") \n",
    "\n",
    "plt.title('Number of transaction made on each day of\\n'+'a week with gender comparison',bbox={'facecolor':'0.9', 'pad':5})\n",
    "plt.show()"
   ]
  },
  {
   "cell_type": "code",
   "execution_count": 139,
   "metadata": {
    "scrolled": true
   },
   "outputs": [],
   "source": [
    "#  'bpay_biller_code' and 'merchant_state' cause errors because they have missing values.\n",
    "\n",
    "# row = 2\n",
    "# col = 3\n",
    "# fig, axes = plt.subplots(row, col, figsize = (13, 7))\n",
    "# count = 0\n",
    "# for r in range(row):\n",
    "#     for c in range(col):\n",
    "#         sns.histplot(data = df[s_cat_cols], x = s_cat_cols[count], ax = axes[r,c])\n",
    "#         count += 1\n",
    "# plt.tight_layout()\n",
    "# plt.show()"
   ]
  },
  {
   "cell_type": "code",
   "execution_count": 13,
   "metadata": {
    "scrolled": true
   },
   "outputs": [
    {
     "data": {
      "text/html": [
       "<div>\n",
       "<style scoped>\n",
       "    .dataframe tbody tr th:only-of-type {\n",
       "        vertical-align: middle;\n",
       "    }\n",
       "\n",
       "    .dataframe tbody tr th {\n",
       "        vertical-align: top;\n",
       "    }\n",
       "\n",
       "    .dataframe thead th {\n",
       "        text-align: right;\n",
       "    }\n",
       "</style>\n",
       "<table border=\"1\" class=\"dataframe\">\n",
       "  <thead>\n",
       "    <tr style=\"text-align: right;\">\n",
       "      <th></th>\n",
       "      <th>card_present_flag</th>\n",
       "      <th>merchant_code</th>\n",
       "      <th>balance</th>\n",
       "      <th>age</th>\n",
       "      <th>amount</th>\n",
       "    </tr>\n",
       "  </thead>\n",
       "  <tbody>\n",
       "    <tr>\n",
       "      <th>count</th>\n",
       "      <td>7717.000000</td>\n",
       "      <td>883.0</td>\n",
       "      <td>12043.000000</td>\n",
       "      <td>12043.000000</td>\n",
       "      <td>12043.000000</td>\n",
       "    </tr>\n",
       "    <tr>\n",
       "      <th>mean</th>\n",
       "      <td>0.802644</td>\n",
       "      <td>0.0</td>\n",
       "      <td>14704.195553</td>\n",
       "      <td>30.582330</td>\n",
       "      <td>187.933588</td>\n",
       "    </tr>\n",
       "    <tr>\n",
       "      <th>std</th>\n",
       "      <td>0.398029</td>\n",
       "      <td>0.0</td>\n",
       "      <td>31503.722652</td>\n",
       "      <td>10.046343</td>\n",
       "      <td>592.599934</td>\n",
       "    </tr>\n",
       "    <tr>\n",
       "      <th>min</th>\n",
       "      <td>0.000000</td>\n",
       "      <td>0.0</td>\n",
       "      <td>0.240000</td>\n",
       "      <td>18.000000</td>\n",
       "      <td>0.100000</td>\n",
       "    </tr>\n",
       "    <tr>\n",
       "      <th>25%</th>\n",
       "      <td>1.000000</td>\n",
       "      <td>0.0</td>\n",
       "      <td>3158.585000</td>\n",
       "      <td>22.000000</td>\n",
       "      <td>16.000000</td>\n",
       "    </tr>\n",
       "    <tr>\n",
       "      <th>50%</th>\n",
       "      <td>1.000000</td>\n",
       "      <td>0.0</td>\n",
       "      <td>6432.010000</td>\n",
       "      <td>28.000000</td>\n",
       "      <td>29.000000</td>\n",
       "    </tr>\n",
       "    <tr>\n",
       "      <th>75%</th>\n",
       "      <td>1.000000</td>\n",
       "      <td>0.0</td>\n",
       "      <td>12465.945000</td>\n",
       "      <td>38.000000</td>\n",
       "      <td>53.655000</td>\n",
       "    </tr>\n",
       "    <tr>\n",
       "      <th>max</th>\n",
       "      <td>1.000000</td>\n",
       "      <td>0.0</td>\n",
       "      <td>267128.520000</td>\n",
       "      <td>78.000000</td>\n",
       "      <td>8835.980000</td>\n",
       "    </tr>\n",
       "  </tbody>\n",
       "</table>\n",
       "</div>"
      ],
      "text/plain": [
       "       card_present_flag  merchant_code        balance           age  \\\n",
       "count        7717.000000          883.0   12043.000000  12043.000000   \n",
       "mean            0.802644            0.0   14704.195553     30.582330   \n",
       "std             0.398029            0.0   31503.722652     10.046343   \n",
       "min             0.000000            0.0       0.240000     18.000000   \n",
       "25%             1.000000            0.0    3158.585000     22.000000   \n",
       "50%             1.000000            0.0    6432.010000     28.000000   \n",
       "75%             1.000000            0.0   12465.945000     38.000000   \n",
       "max             1.000000            0.0  267128.520000     78.000000   \n",
       "\n",
       "             amount  \n",
       "count  12043.000000  \n",
       "mean     187.933588  \n",
       "std      592.599934  \n",
       "min        0.100000  \n",
       "25%       16.000000  \n",
       "50%       29.000000  \n",
       "75%       53.655000  \n",
       "max     8835.980000  "
      ]
     },
     "execution_count": 13,
     "metadata": {},
     "output_type": "execute_result"
    }
   ],
   "source": [
    "# Statistical summary for numerical features\n",
    "df.describe()"
   ]
  },
  {
   "cell_type": "code",
   "execution_count": 53,
   "metadata": {},
   "outputs": [
    {
     "data": {
      "text/plain": [
       "country                  1\n",
       "currency                 1\n",
       "status                   2\n",
       "gender                   2\n",
       "movement                 2\n",
       "bpay_biller_code         3\n",
       "txn_description          6\n",
       "merchant_state           8\n",
       "first_name              80\n",
       "long_lat               100\n",
       "customer_id            100\n",
       "account                100\n",
       "merchant_suburb       1609\n",
       "merchant_long_lat     2703\n",
       "merchant_id           5725\n",
       "extraction            9442\n",
       "transaction_id       12043\n",
       "dtype: int64"
      ]
     },
     "execution_count": 53,
     "metadata": {},
     "output_type": "execute_result"
    }
   ],
   "source": [
    "# Number of unique values in categorical columns\n",
    "df.select_dtypes(include = 'O').nunique().sort_values()"
   ]
  },
  {
   "cell_type": "code",
   "execution_count": 54,
   "metadata": {},
   "outputs": [
    {
     "data": {
      "text/plain": [
       "merchant_code            1\n",
       "card_present_flag        2\n",
       "age                     33\n",
       "date                    91\n",
       "amount                4457\n",
       "balance              12006\n",
       "dtype: int64"
      ]
     },
     "execution_count": 54,
     "metadata": {},
     "output_type": "execute_result"
    }
   ],
   "source": [
    "# Number of unique values in numerical/date columns\n",
    "df.select_dtypes(exclude = 'O').nunique().sort_values()"
   ]
  },
  {
   "cell_type": "code",
   "execution_count": 15,
   "metadata": {
    "scrolled": true
   },
   "outputs": [
    {
     "data": {
      "text/plain": [
       "1.0    6194\n",
       "0.0    1523\n",
       "Name: card_present_flag, dtype: int64"
      ]
     },
     "execution_count": 15,
     "metadata": {},
     "output_type": "execute_result"
    }
   ],
   "source": [
    "df.card_present_flag.value_counts()"
   ]
  },
  {
   "cell_type": "code",
   "execution_count": 16,
   "metadata": {
    "scrolled": true
   },
   "outputs": [
    {
     "data": {
      "text/plain": [
       "0.0    883\n",
       "Name: merchant_code, dtype: int64"
      ]
     },
     "execution_count": 16,
     "metadata": {},
     "output_type": "execute_result"
    }
   ],
   "source": [
    "df['merchant_code'].value_counts()"
   ]
  },
  {
   "cell_type": "code",
   "execution_count": 17,
   "metadata": {
    "scrolled": true
   },
   "outputs": [
    {
     "data": {
      "text/plain": [
       "0                                        883\n",
       " LAND WATER & PLANNING East Melbourne      1\n",
       " THE DISCOUNT CHEMIST GROUP                1\n",
       "Name: bpay_biller_code, dtype: int64"
      ]
     },
     "execution_count": 17,
     "metadata": {},
     "output_type": "execute_result"
    }
   ],
   "source": [
    "df['bpay_biller_code'].value_counts()"
   ]
  },
  {
   "cell_type": "markdown",
   "metadata": {},
   "source": [
    "## 3. Some interesting overall insights"
   ]
  },
  {
   "cell_type": "markdown",
   "metadata": {},
   "source": [
    "### 3-1. The average of total transaction amount"
   ]
  },
  {
   "cell_type": "code",
   "execution_count": 20,
   "metadata": {},
   "outputs": [
    {
     "data": {
      "text/plain": [
       "187.93358797641767"
      ]
     },
     "execution_count": 20,
     "metadata": {},
     "output_type": "execute_result"
    }
   ],
   "source": [
    "df['amount'].mean()"
   ]
  },
  {
   "cell_type": "code",
   "execution_count": 152,
   "metadata": {},
   "outputs": [],
   "source": [
    "# by gender, area"
   ]
  },
  {
   "cell_type": "markdown",
   "metadata": {},
   "source": [
    "### 3-2. The total amount and average of each month"
   ]
  },
  {
   "cell_type": "code",
   "execution_count": 340,
   "metadata": {},
   "outputs": [
    {
     "name": "stdout",
     "output_type": "stream",
     "text": [
      "       Month      Total     Average\n",
      "0     August  729935.52  185.121867\n",
      "1    October  802798.47  196.427323\n",
      "2  September  730550.21  182.045903\n"
     ]
    },
    {
     "data": {
      "image/png": "[encoded data removed]",
      "text/plain": [
       "<Figure size 936x432 with 2 Axes>"
      ]
     },
     "metadata": {},
     "output_type": "display_data"
    }
   ],
   "source": [
    "month_total = df.groupby('month_name')['amount'].sum().reset_index()\n",
    "month_avg = df.groupby('month_name')['amount'].mean().reset_index()\n",
    "\n",
    "print(pd.DataFrame({'Month' :month_total['month_name'], 'Total': month_total['amount'], 'Average':month_avg['amount']}))\n",
    "\n",
    "fig, axes = plt.subplots(1,2, figsize = (13, 6))\n",
    "# sns.axes_style(\"darkgrid\")\n",
    "fig.suptitle('Total amount and average of each month')\n",
    "\n",
    "sns.barplot(ax = axes[0], data = month_total, x = 'month_name', y = 'amount')\n",
    "axes[0].set_title('Total Amount')\n",
    "axes[0].set(xlabel = 'Month', ylabel = 'Amount', ylim = (0, 900000))\n",
    "\n",
    "sns.barplot(ax = axes[1], data = month_avg, x = 'month_name', y = 'amount')\n",
    "axes[1].set_title('Avergae Amount')\n",
    "axes[1].set(xlabel = 'Month', ylabel = 'Avg', ylim = (0, 300))\n",
    "\n",
    "plt.tight_layout()\n",
    "plt.show()"
   ]
  },
  {
   "cell_type": "markdown",
   "metadata": {},
   "source": [
    "### 3-3. Transactions that customers make each month\n",
    "Each customer makes about 40 transactions in every month"
   ]
  },
  {
   "cell_type": "code",
   "execution_count": 339,
   "metadata": {},
   "outputs": [],
   "source": [
    "month_trans_total = df.groupby('month_name')['amount'].count().reset_index()\n",
    "month_cust_total = df.groupby('month_name')['customer_id'].nunique().reset_index()\n",
    "month_trans_avg = month_trans_total['amount'] / month_cust_total['customer_id']\n",
    "month_trans_avg = pd.DataFrame({'month_name': month_trans_total['month_name'], 'average' : month_trans_avg})"
   ]
  },
  {
   "cell_type": "code",
   "execution_count": 341,
   "metadata": {
    "scrolled": false
   },
   "outputs": [
    {
     "name": "stdout",
     "output_type": "stream",
     "text": [
      "       Month  Total  Average\n",
      "0     August   3943    39.43\n",
      "1    October   4087    40.87\n",
      "2  September   4013    40.13\n"
     ]
    },
    {
     "data": {
      "image/png": "[encoded data removed]",
      "text/plain": [
       "<Figure size 936x432 with 2 Axes>"
      ]
     },
     "metadata": {},
     "output_type": "display_data"
    }
   ],
   "source": [
    "print(pd.DataFrame({'Month' :month_trans_total['month_name'], 'Total': month_trans_total['amount'], 'Average':month_trans_avg['average']}))\n",
    "\n",
    "fig, axes = plt.subplots(1,2, figsize = (13, 6))\n",
    "# sns.axes_style(\"darkgrid\")\n",
    "\n",
    "sns.barplot(ax = axes[0], data = month_trans_total, x = 'month_name', y = 'amount')\n",
    "axes[0].set_title('Total Transactions')\n",
    "axes[0].set(xlabel = 'Month', ylabel = 'Counts', ylim = (0, 4400))\n",
    "\n",
    "sns.barplot(ax = axes[1], data = month_trans_avg, x = 'month_name', y = 'average')\n",
    "axes[1].set_title('Average Transactions')\n",
    "axes[1].set(xlabel = 'Month', ylabel = 'Average', ylim = (0, 50))\n",
    "# sns.barplot(ax = axes[1], data = month_trans_avg, x = 'month_name', y = 'amount')\n",
    "# axes[1].set_title('Avergae Amount')\n",
    "\n",
    "plt.tight_layout()\n",
    "plt.show()"
   ]
  },
  {
   "cell_type": "code",
   "execution_count": 342,
   "metadata": {},
   "outputs": [
    {
     "data": {
      "text/plain": [
       "gender\n",
       "F     970322.63\n",
       "M    1292961.57\n",
       "Name: amount, dtype: float64"
      ]
     },
     "execution_count": 342,
     "metadata": {},
     "output_type": "execute_result"
    }
   ],
   "source": [
    "df.groupby('gender')['amount'].sum()"
   ]
  },
  {
   "cell_type": "code",
   "execution_count": null,
   "metadata": {},
   "outputs": [],
   "source": [
    "cols = ['card_present_flag', 'status', 'txn_description' , 'movement' , 'gender', 'merchant_state']\n",
    "#Subplot initialization\n",
    "fig = make_subplots(\n",
    "                     rows=3, \n",
    "                     cols=2,\n",
    "                     subplot_titles=('card_present_flag', 'status', 'txn_description' , 'movement','gender', 'merchant_state'),\n",
    "                     horizontal_spacing=0.2,\n",
    "                     vertical_spacing=0.2 \n",
    "                   )\n",
    "# Adding subplots\n",
    "count=0\n",
    "for i in range(1,4): \n",
    "    for j in range(1,3): \n",
    "        fig.add_trace(go.Bar(x=df1.groupby(by=cols[count]).sum()['amount'].index,\n",
    "                             y=df1.groupby(by=cols[count]).sum()['amount'].values.round(2),\n",
    "                             name=cols[count],\n",
    "                             textposition='auto',\n",
    "                             text=[str(round((i/sum(df1.groupby(by=cols[count]).sum()['amount'].values))*100))+'%' \n",
    "                                   for i in df1.groupby(by=cols[count]).sum()['amount'].values]\n",
    "                            ),\n",
    "                      row=i,col=j)\n",
    "        count+=1\n",
    "fig.update_layout(\n",
    "                    title=dict(text = \"Analyze Categorical variables (Total Txn Amount/Percentage)\",x=0.5,y=0.95),\n",
    "                    title_font_size=20,\n",
    "                    showlegend=False,\n",
    "                    height = 920,\n",
    "                    margin=dict(l=80, r=80, t=150, b=80)\n",
    "                  )\n",
    "fig.show()"
   ]
  },
  {
   "cell_type": "code",
   "execution_count": 343,
   "metadata": {},
   "outputs": [
    {
     "data": {
      "text/html": [
       "<div>\n",
       "<style scoped>\n",
       "    .dataframe tbody tr th:only-of-type {\n",
       "        vertical-align: middle;\n",
       "    }\n",
       "\n",
       "    .dataframe tbody tr th {\n",
       "        vertical-align: top;\n",
       "    }\n",
       "\n",
       "    .dataframe thead th {\n",
       "        text-align: right;\n",
       "    }\n",
       "</style>\n",
       "<table border=\"1\" class=\"dataframe\">\n",
       "  <thead>\n",
       "    <tr style=\"text-align: right;\">\n",
       "      <th></th>\n",
       "      <th>status</th>\n",
       "      <th>card_present_flag</th>\n",
       "      <th>bpay_biller_code</th>\n",
       "      <th>account</th>\n",
       "      <th>currency</th>\n",
       "      <th>long_lat</th>\n",
       "      <th>txn_description</th>\n",
       "      <th>merchant_id</th>\n",
       "      <th>merchant_code</th>\n",
       "      <th>first_name</th>\n",
       "      <th>balance</th>\n",
       "      <th>date</th>\n",
       "      <th>gender</th>\n",
       "      <th>age</th>\n",
       "      <th>merchant_suburb</th>\n",
       "      <th>merchant_state</th>\n",
       "      <th>extraction</th>\n",
       "      <th>amount</th>\n",
       "      <th>transaction_id</th>\n",
       "      <th>country</th>\n",
       "      <th>customer_id</th>\n",
       "      <th>merchant_long_lat</th>\n",
       "      <th>movement</th>\n",
       "      <th>month_name</th>\n",
       "      <th>date_name</th>\n",
       "      <th>transaction_date</th>\n",
       "      <th>transaction_time</th>\n",
       "    </tr>\n",
       "  </thead>\n",
       "  <tbody>\n",
       "    <tr>\n",
       "      <th>0</th>\n",
       "      <td>authorized</td>\n",
       "      <td>1.0</td>\n",
       "      <td>NaN</td>\n",
       "      <td>ACC-1598451071</td>\n",
       "      <td>AUD</td>\n",
       "      <td>153.41 -27.95</td>\n",
       "      <td>POS</td>\n",
       "      <td>81c48296-73be-44a7-befa-d053f48ce7cd</td>\n",
       "      <td>NaN</td>\n",
       "      <td>Diana</td>\n",
       "      <td>35.39</td>\n",
       "      <td>2018-08-01</td>\n",
       "      <td>F</td>\n",
       "      <td>26</td>\n",
       "      <td>Ashmore</td>\n",
       "      <td>QLD</td>\n",
       "      <td>2018-08-01T01:01:15.000+0000</td>\n",
       "      <td>16.25</td>\n",
       "      <td>a623070bfead4541a6b0fff8a09e706c</td>\n",
       "      <td>Australia</td>\n",
       "      <td>CUS-2487424745</td>\n",
       "      <td>153.38 -27.99</td>\n",
       "      <td>debit</td>\n",
       "      <td>August</td>\n",
       "      <td>Wednesday</td>\n",
       "      <td>2018-08-01</td>\n",
       "      <td>01:01:15</td>\n",
       "    </tr>\n",
       "    <tr>\n",
       "      <th>1</th>\n",
       "      <td>authorized</td>\n",
       "      <td>0.0</td>\n",
       "      <td>NaN</td>\n",
       "      <td>ACC-1598451071</td>\n",
       "      <td>AUD</td>\n",
       "      <td>153.41 -27.95</td>\n",
       "      <td>SALES-POS</td>\n",
       "      <td>830a451c-316e-4a6a-bf25-e37caedca49e</td>\n",
       "      <td>NaN</td>\n",
       "      <td>Diana</td>\n",
       "      <td>21.20</td>\n",
       "      <td>2018-08-01</td>\n",
       "      <td>F</td>\n",
       "      <td>26</td>\n",
       "      <td>Sydney</td>\n",
       "      <td>NSW</td>\n",
       "      <td>2018-08-01T01:13:45.000+0000</td>\n",
       "      <td>14.19</td>\n",
       "      <td>13270a2a902145da9db4c951e04b51b9</td>\n",
       "      <td>Australia</td>\n",
       "      <td>CUS-2487424745</td>\n",
       "      <td>151.21 -33.87</td>\n",
       "      <td>debit</td>\n",
       "      <td>August</td>\n",
       "      <td>Wednesday</td>\n",
       "      <td>2018-08-01</td>\n",
       "      <td>01:13:45</td>\n",
       "    </tr>\n",
       "    <tr>\n",
       "      <th>2</th>\n",
       "      <td>authorized</td>\n",
       "      <td>1.0</td>\n",
       "      <td>NaN</td>\n",
       "      <td>ACC-1222300524</td>\n",
       "      <td>AUD</td>\n",
       "      <td>151.23 -33.94</td>\n",
       "      <td>POS</td>\n",
       "      <td>835c231d-8cdf-4e96-859d-e9d571760cf0</td>\n",
       "      <td>NaN</td>\n",
       "      <td>Michael</td>\n",
       "      <td>5.71</td>\n",
       "      <td>2018-08-01</td>\n",
       "      <td>M</td>\n",
       "      <td>38</td>\n",
       "      <td>Sydney</td>\n",
       "      <td>NSW</td>\n",
       "      <td>2018-08-01T01:26:15.000+0000</td>\n",
       "      <td>6.42</td>\n",
       "      <td>feb79e7ecd7048a5a36ec889d1a94270</td>\n",
       "      <td>Australia</td>\n",
       "      <td>CUS-2142601169</td>\n",
       "      <td>151.21 -33.87</td>\n",
       "      <td>debit</td>\n",
       "      <td>August</td>\n",
       "      <td>Wednesday</td>\n",
       "      <td>2018-08-01</td>\n",
       "      <td>01:26:15</td>\n",
       "    </tr>\n",
       "    <tr>\n",
       "      <th>3</th>\n",
       "      <td>authorized</td>\n",
       "      <td>1.0</td>\n",
       "      <td>NaN</td>\n",
       "      <td>ACC-1037050564</td>\n",
       "      <td>AUD</td>\n",
       "      <td>153.10 -27.66</td>\n",
       "      <td>SALES-POS</td>\n",
       "      <td>48514682-c78a-4a88-b0da-2d6302e64673</td>\n",
       "      <td>NaN</td>\n",
       "      <td>Rhonda</td>\n",
       "      <td>2117.22</td>\n",
       "      <td>2018-08-01</td>\n",
       "      <td>F</td>\n",
       "      <td>40</td>\n",
       "      <td>Buderim</td>\n",
       "      <td>QLD</td>\n",
       "      <td>2018-08-01T01:38:45.000+0000</td>\n",
       "      <td>40.90</td>\n",
       "      <td>2698170da3704fd981b15e64a006079e</td>\n",
       "      <td>Australia</td>\n",
       "      <td>CUS-1614226872</td>\n",
       "      <td>153.05 -26.68</td>\n",
       "      <td>debit</td>\n",
       "      <td>August</td>\n",
       "      <td>Wednesday</td>\n",
       "      <td>2018-08-01</td>\n",
       "      <td>01:38:45</td>\n",
       "    </tr>\n",
       "    <tr>\n",
       "      <th>4</th>\n",
       "      <td>authorized</td>\n",
       "      <td>1.0</td>\n",
       "      <td>NaN</td>\n",
       "      <td>ACC-1598451071</td>\n",
       "      <td>AUD</td>\n",
       "      <td>153.41 -27.95</td>\n",
       "      <td>SALES-POS</td>\n",
       "      <td>b4e02c10-0852-4273-b8fd-7b3395e32eb0</td>\n",
       "      <td>NaN</td>\n",
       "      <td>Diana</td>\n",
       "      <td>17.95</td>\n",
       "      <td>2018-08-01</td>\n",
       "      <td>F</td>\n",
       "      <td>26</td>\n",
       "      <td>Mermaid Beach</td>\n",
       "      <td>QLD</td>\n",
       "      <td>2018-08-01T01:51:15.000+0000</td>\n",
       "      <td>3.25</td>\n",
       "      <td>329adf79878c4cf0aeb4188b4691c266</td>\n",
       "      <td>Australia</td>\n",
       "      <td>CUS-2487424745</td>\n",
       "      <td>153.44 -28.06</td>\n",
       "      <td>debit</td>\n",
       "      <td>August</td>\n",
       "      <td>Wednesday</td>\n",
       "      <td>2018-08-01</td>\n",
       "      <td>01:51:15</td>\n",
       "    </tr>\n",
       "  </tbody>\n",
       "</table>\n",
       "</div>"
      ],
      "text/plain": [
       "       status  card_present_flag bpay_biller_code         account currency  \\\n",
       "0  authorized                1.0              NaN  ACC-1598451071      AUD   \n",
       "1  authorized                0.0              NaN  ACC-1598451071      AUD   \n",
       "2  authorized                1.0              NaN  ACC-1222300524      AUD   \n",
       "3  authorized                1.0              NaN  ACC-1037050564      AUD   \n",
       "4  authorized                1.0              NaN  ACC-1598451071      AUD   \n",
       "\n",
       "        long_lat txn_description                           merchant_id  \\\n",
       "0  153.41 -27.95             POS  81c48296-73be-44a7-befa-d053f48ce7cd   \n",
       "1  153.41 -27.95       SALES-POS  830a451c-316e-4a6a-bf25-e37caedca49e   \n",
       "2  151.23 -33.94             POS  835c231d-8cdf-4e96-859d-e9d571760cf0   \n",
       "3  153.10 -27.66       SALES-POS  48514682-c78a-4a88-b0da-2d6302e64673   \n",
       "4  153.41 -27.95       SALES-POS  b4e02c10-0852-4273-b8fd-7b3395e32eb0   \n",
       "\n",
       "   merchant_code first_name  balance       date gender  age merchant_suburb  \\\n",
       "0            NaN      Diana    35.39 2018-08-01      F   26         Ashmore   \n",
       "1            NaN      Diana    21.20 2018-08-01      F   26          Sydney   \n",
       "2            NaN    Michael     5.71 2018-08-01      M   38          Sydney   \n",
       "3            NaN     Rhonda  2117.22 2018-08-01      F   40         Buderim   \n",
       "4            NaN      Diana    17.95 2018-08-01      F   26   Mermaid Beach   \n",
       "\n",
       "  merchant_state                    extraction  amount  \\\n",
       "0            QLD  2018-08-01T01:01:15.000+0000   16.25   \n",
       "1            NSW  2018-08-01T01:13:45.000+0000   14.19   \n",
       "2            NSW  2018-08-01T01:26:15.000+0000    6.42   \n",
       "3            QLD  2018-08-01T01:38:45.000+0000   40.90   \n",
       "4            QLD  2018-08-01T01:51:15.000+0000    3.25   \n",
       "\n",
       "                     transaction_id    country     customer_id  \\\n",
       "0  a623070bfead4541a6b0fff8a09e706c  Australia  CUS-2487424745   \n",
       "1  13270a2a902145da9db4c951e04b51b9  Australia  CUS-2487424745   \n",
       "2  feb79e7ecd7048a5a36ec889d1a94270  Australia  CUS-2142601169   \n",
       "3  2698170da3704fd981b15e64a006079e  Australia  CUS-1614226872   \n",
       "4  329adf79878c4cf0aeb4188b4691c266  Australia  CUS-2487424745   \n",
       "\n",
       "  merchant_long_lat movement month_name  date_name transaction_date  \\\n",
       "0     153.38 -27.99    debit     August  Wednesday       2018-08-01   \n",
       "1     151.21 -33.87    debit     August  Wednesday       2018-08-01   \n",
       "2     151.21 -33.87    debit     August  Wednesday       2018-08-01   \n",
       "3     153.05 -26.68    debit     August  Wednesday       2018-08-01   \n",
       "4     153.44 -28.06    debit     August  Wednesday       2018-08-01   \n",
       "\n",
       "  transaction_time  \n",
       "0         01:01:15  \n",
       "1         01:13:45  \n",
       "2         01:26:15  \n",
       "3         01:38:45  \n",
       "4         01:51:15  "
      ]
     },
     "execution_count": 343,
     "metadata": {},
     "output_type": "execute_result"
    }
   ],
   "source": [
    "df.head()"
   ]
  },
  {
   "cell_type": "code",
   "execution_count": null,
   "metadata": {},
   "outputs": [],
   "source": []
  },
  {
   "cell_type": "markdown",
   "metadata": {},
   "source": [
    "## 4. Visualisation?\n",
    "\n",
    "Segment the dataset by transaction date and time. \n",
    "\n",
    "Visualise transaction volume and spending over the course of an average day or week. \n",
    "\n",
    "Consider the effect of any outliers that may distort your analysis."
   ]
  },
  {
   "cell_type": "markdown",
   "metadata": {},
   "source": [
    "### 4-1. Segment the dataset by transaction date and time. ??? \n",
    "\n",
    "Does it mean extract date and time from exraction? I failed to understand it...\n",
    "\n",
    "The 'date' column indicates transaction date. \n",
    "\n",
    "Do I still need to make another transaction date column?  \n",
    "\n",
    "Let's just add transaction date and time."
   ]
  },
  {
   "cell_type": "code",
   "execution_count": 259,
   "metadata": {},
   "outputs": [
    {
     "data": {
      "text/html": [
       "<div>\n",
       "<style scoped>\n",
       "    .dataframe tbody tr th:only-of-type {\n",
       "        vertical-align: middle;\n",
       "    }\n",
       "\n",
       "    .dataframe tbody tr th {\n",
       "        vertical-align: top;\n",
       "    }\n",
       "\n",
       "    .dataframe thead th {\n",
       "        text-align: right;\n",
       "    }\n",
       "</style>\n",
       "<table border=\"1\" class=\"dataframe\">\n",
       "  <thead>\n",
       "    <tr style=\"text-align: right;\">\n",
       "      <th></th>\n",
       "      <th>status</th>\n",
       "      <th>card_present_flag</th>\n",
       "      <th>bpay_biller_code</th>\n",
       "      <th>account</th>\n",
       "      <th>currency</th>\n",
       "      <th>long_lat</th>\n",
       "      <th>txn_description</th>\n",
       "      <th>merchant_id</th>\n",
       "      <th>merchant_code</th>\n",
       "      <th>first_name</th>\n",
       "      <th>balance</th>\n",
       "      <th>date</th>\n",
       "      <th>gender</th>\n",
       "      <th>age</th>\n",
       "      <th>merchant_suburb</th>\n",
       "      <th>merchant_state</th>\n",
       "      <th>extraction</th>\n",
       "      <th>amount</th>\n",
       "      <th>transaction_id</th>\n",
       "      <th>country</th>\n",
       "      <th>customer_id</th>\n",
       "      <th>merchant_long_lat</th>\n",
       "      <th>movement</th>\n",
       "      <th>month_name</th>\n",
       "      <th>date_name</th>\n",
       "      <th>transaction_date</th>\n",
       "      <th>transaction_time</th>\n",
       "    </tr>\n",
       "  </thead>\n",
       "  <tbody>\n",
       "    <tr>\n",
       "      <th>0</th>\n",
       "      <td>authorized</td>\n",
       "      <td>1.0</td>\n",
       "      <td>NaN</td>\n",
       "      <td>ACC-1598451071</td>\n",
       "      <td>AUD</td>\n",
       "      <td>153.41 -27.95</td>\n",
       "      <td>POS</td>\n",
       "      <td>81c48296-73be-44a7-befa-d053f48ce7cd</td>\n",
       "      <td>NaN</td>\n",
       "      <td>Diana</td>\n",
       "      <td>35.39</td>\n",
       "      <td>2018-08-01</td>\n",
       "      <td>F</td>\n",
       "      <td>26</td>\n",
       "      <td>Ashmore</td>\n",
       "      <td>QLD</td>\n",
       "      <td>2018-08-01T01:01:15.000+0000</td>\n",
       "      <td>16.25</td>\n",
       "      <td>a623070bfead4541a6b0fff8a09e706c</td>\n",
       "      <td>Australia</td>\n",
       "      <td>CUS-2487424745</td>\n",
       "      <td>153.38 -27.99</td>\n",
       "      <td>debit</td>\n",
       "      <td>August</td>\n",
       "      <td>Wednesday</td>\n",
       "      <td>2018-08-01</td>\n",
       "      <td>01:01:15</td>\n",
       "    </tr>\n",
       "    <tr>\n",
       "      <th>1</th>\n",
       "      <td>authorized</td>\n",
       "      <td>0.0</td>\n",
       "      <td>NaN</td>\n",
       "      <td>ACC-1598451071</td>\n",
       "      <td>AUD</td>\n",
       "      <td>153.41 -27.95</td>\n",
       "      <td>SALES-POS</td>\n",
       "      <td>830a451c-316e-4a6a-bf25-e37caedca49e</td>\n",
       "      <td>NaN</td>\n",
       "      <td>Diana</td>\n",
       "      <td>21.20</td>\n",
       "      <td>2018-08-01</td>\n",
       "      <td>F</td>\n",
       "      <td>26</td>\n",
       "      <td>Sydney</td>\n",
       "      <td>NSW</td>\n",
       "      <td>2018-08-01T01:13:45.000+0000</td>\n",
       "      <td>14.19</td>\n",
       "      <td>13270a2a902145da9db4c951e04b51b9</td>\n",
       "      <td>Australia</td>\n",
       "      <td>CUS-2487424745</td>\n",
       "      <td>151.21 -33.87</td>\n",
       "      <td>debit</td>\n",
       "      <td>August</td>\n",
       "      <td>Wednesday</td>\n",
       "      <td>2018-08-01</td>\n",
       "      <td>01:13:45</td>\n",
       "    </tr>\n",
       "    <tr>\n",
       "      <th>2</th>\n",
       "      <td>authorized</td>\n",
       "      <td>1.0</td>\n",
       "      <td>NaN</td>\n",
       "      <td>ACC-1222300524</td>\n",
       "      <td>AUD</td>\n",
       "      <td>151.23 -33.94</td>\n",
       "      <td>POS</td>\n",
       "      <td>835c231d-8cdf-4e96-859d-e9d571760cf0</td>\n",
       "      <td>NaN</td>\n",
       "      <td>Michael</td>\n",
       "      <td>5.71</td>\n",
       "      <td>2018-08-01</td>\n",
       "      <td>M</td>\n",
       "      <td>38</td>\n",
       "      <td>Sydney</td>\n",
       "      <td>NSW</td>\n",
       "      <td>2018-08-01T01:26:15.000+0000</td>\n",
       "      <td>6.42</td>\n",
       "      <td>feb79e7ecd7048a5a36ec889d1a94270</td>\n",
       "      <td>Australia</td>\n",
       "      <td>CUS-2142601169</td>\n",
       "      <td>151.21 -33.87</td>\n",
       "      <td>debit</td>\n",
       "      <td>August</td>\n",
       "      <td>Wednesday</td>\n",
       "      <td>2018-08-01</td>\n",
       "      <td>01:26:15</td>\n",
       "    </tr>\n",
       "    <tr>\n",
       "      <th>3</th>\n",
       "      <td>authorized</td>\n",
       "      <td>1.0</td>\n",
       "      <td>NaN</td>\n",
       "      <td>ACC-1037050564</td>\n",
       "      <td>AUD</td>\n",
       "      <td>153.10 -27.66</td>\n",
       "      <td>SALES-POS</td>\n",
       "      <td>48514682-c78a-4a88-b0da-2d6302e64673</td>\n",
       "      <td>NaN</td>\n",
       "      <td>Rhonda</td>\n",
       "      <td>2117.22</td>\n",
       "      <td>2018-08-01</td>\n",
       "      <td>F</td>\n",
       "      <td>40</td>\n",
       "      <td>Buderim</td>\n",
       "      <td>QLD</td>\n",
       "      <td>2018-08-01T01:38:45.000+0000</td>\n",
       "      <td>40.90</td>\n",
       "      <td>2698170da3704fd981b15e64a006079e</td>\n",
       "      <td>Australia</td>\n",
       "      <td>CUS-1614226872</td>\n",
       "      <td>153.05 -26.68</td>\n",
       "      <td>debit</td>\n",
       "      <td>August</td>\n",
       "      <td>Wednesday</td>\n",
       "      <td>2018-08-01</td>\n",
       "      <td>01:38:45</td>\n",
       "    </tr>\n",
       "    <tr>\n",
       "      <th>4</th>\n",
       "      <td>authorized</td>\n",
       "      <td>1.0</td>\n",
       "      <td>NaN</td>\n",
       "      <td>ACC-1598451071</td>\n",
       "      <td>AUD</td>\n",
       "      <td>153.41 -27.95</td>\n",
       "      <td>SALES-POS</td>\n",
       "      <td>b4e02c10-0852-4273-b8fd-7b3395e32eb0</td>\n",
       "      <td>NaN</td>\n",
       "      <td>Diana</td>\n",
       "      <td>17.95</td>\n",
       "      <td>2018-08-01</td>\n",
       "      <td>F</td>\n",
       "      <td>26</td>\n",
       "      <td>Mermaid Beach</td>\n",
       "      <td>QLD</td>\n",
       "      <td>2018-08-01T01:51:15.000+0000</td>\n",
       "      <td>3.25</td>\n",
       "      <td>329adf79878c4cf0aeb4188b4691c266</td>\n",
       "      <td>Australia</td>\n",
       "      <td>CUS-2487424745</td>\n",
       "      <td>153.44 -28.06</td>\n",
       "      <td>debit</td>\n",
       "      <td>August</td>\n",
       "      <td>Wednesday</td>\n",
       "      <td>2018-08-01</td>\n",
       "      <td>01:51:15</td>\n",
       "    </tr>\n",
       "  </tbody>\n",
       "</table>\n",
       "</div>"
      ],
      "text/plain": [
       "       status  card_present_flag bpay_biller_code         account currency  \\\n",
       "0  authorized                1.0              NaN  ACC-1598451071      AUD   \n",
       "1  authorized                0.0              NaN  ACC-1598451071      AUD   \n",
       "2  authorized                1.0              NaN  ACC-1222300524      AUD   \n",
       "3  authorized                1.0              NaN  ACC-1037050564      AUD   \n",
       "4  authorized                1.0              NaN  ACC-1598451071      AUD   \n",
       "\n",
       "        long_lat txn_description                           merchant_id  \\\n",
       "0  153.41 -27.95             POS  81c48296-73be-44a7-befa-d053f48ce7cd   \n",
       "1  153.41 -27.95       SALES-POS  830a451c-316e-4a6a-bf25-e37caedca49e   \n",
       "2  151.23 -33.94             POS  835c231d-8cdf-4e96-859d-e9d571760cf0   \n",
       "3  153.10 -27.66       SALES-POS  48514682-c78a-4a88-b0da-2d6302e64673   \n",
       "4  153.41 -27.95       SALES-POS  b4e02c10-0852-4273-b8fd-7b3395e32eb0   \n",
       "\n",
       "   merchant_code first_name  balance       date gender  age merchant_suburb  \\\n",
       "0            NaN      Diana    35.39 2018-08-01      F   26         Ashmore   \n",
       "1            NaN      Diana    21.20 2018-08-01      F   26          Sydney   \n",
       "2            NaN    Michael     5.71 2018-08-01      M   38          Sydney   \n",
       "3            NaN     Rhonda  2117.22 2018-08-01      F   40         Buderim   \n",
       "4            NaN      Diana    17.95 2018-08-01      F   26   Mermaid Beach   \n",
       "\n",
       "  merchant_state                    extraction  amount  \\\n",
       "0            QLD  2018-08-01T01:01:15.000+0000   16.25   \n",
       "1            NSW  2018-08-01T01:13:45.000+0000   14.19   \n",
       "2            NSW  2018-08-01T01:26:15.000+0000    6.42   \n",
       "3            QLD  2018-08-01T01:38:45.000+0000   40.90   \n",
       "4            QLD  2018-08-01T01:51:15.000+0000    3.25   \n",
       "\n",
       "                     transaction_id    country     customer_id  \\\n",
       "0  a623070bfead4541a6b0fff8a09e706c  Australia  CUS-2487424745   \n",
       "1  13270a2a902145da9db4c951e04b51b9  Australia  CUS-2487424745   \n",
       "2  feb79e7ecd7048a5a36ec889d1a94270  Australia  CUS-2142601169   \n",
       "3  2698170da3704fd981b15e64a006079e  Australia  CUS-1614226872   \n",
       "4  329adf79878c4cf0aeb4188b4691c266  Australia  CUS-2487424745   \n",
       "\n",
       "  merchant_long_lat movement month_name  date_name transaction_date  \\\n",
       "0     153.38 -27.99    debit     August  Wednesday       2018-08-01   \n",
       "1     151.21 -33.87    debit     August  Wednesday       2018-08-01   \n",
       "2     151.21 -33.87    debit     August  Wednesday       2018-08-01   \n",
       "3     153.05 -26.68    debit     August  Wednesday       2018-08-01   \n",
       "4     153.44 -28.06    debit     August  Wednesday       2018-08-01   \n",
       "\n",
       "  transaction_time  \n",
       "0         01:01:15  \n",
       "1         01:13:45  \n",
       "2         01:26:15  \n",
       "3         01:38:45  \n",
       "4         01:51:15  "
      ]
     },
     "execution_count": 259,
     "metadata": {},
     "output_type": "execute_result"
    }
   ],
   "source": [
    "# Add transaction_date and transaction_time\n",
    "df['transaction_date'] = df['extraction'].astype(str).str[:10]   # 2018-08-01\n",
    "df['transaction_time'] = df['extraction'].astype(str).str[11:19] # 23:34:25\n",
    "\n",
    "df.head()"
   ]
  },
  {
   "cell_type": "markdown",
   "metadata": {},
   "source": [
    "### 4-2. Visualise transaction volume and spending over the course of an average day or week."
   ]
  },
  {
   "cell_type": "markdown",
   "metadata": {},
   "source": [
    "amount is right skewed "
   ]
  },
  {
   "cell_type": "code",
   "execution_count": 24,
   "metadata": {},
   "outputs": [
    {
     "data": {
      "image/png": "[encoded data removed]",
      "text/plain": [
       "<Figure size 936x360 with 2 Axes>"
      ]
     },
     "metadata": {
      "needs_background": "light"
     },
     "output_type": "display_data"
    }
   ],
   "source": [
    "fig, axes = plt.subplots(1, 2, figsize = (13, 5))\n",
    "fig.suptitle('Skewness in amount')\n",
    "\n",
    "# Boxplot\n",
    "sns.boxplot(ax = axes[0], x=df['amount'])\n",
    "axes[0].set_title('Boxplot')\n",
    "\n",
    "# Histogram\n",
    "sns.histplot(ax = axes[1], x = 'amount', bins = 10, data = df)\n",
    "axes[1].set_title('Histogram')\n",
    "\n",
    "plt.tight_layout()\n",
    "plt.show()"
   ]
  },
  {
   "cell_type": "code",
   "execution_count": 66,
   "metadata": {},
   "outputs": [
    {
     "data": {
      "text/plain": [
       "2263284.2"
      ]
     },
     "execution_count": 66,
     "metadata": {},
     "output_type": "execute_result"
    }
   ],
   "source": [
    "df['amount'].sum()"
   ]
  },
  {
   "cell_type": "code",
   "execution_count": null,
   "metadata": {},
   "outputs": [],
   "source": [
    "# cumulate\n",
    "\n",
    "#        count transaction\n",
    "# cust_1\n",
    "# cust_2\n",
    "# cust_3\n"
   ]
  },
  {
   "cell_type": "code",
   "execution_count": null,
   "metadata": {},
   "outputs": [],
   "source": [
    "df['month_name'] = df['date'].dt.month_name()\n",
    "df['date_name'] = df['date'].dt.day_name()\n",
    "\n",
    "df.head()"
   ]
  },
  {
   "cell_type": "markdown",
   "metadata": {},
   "source": [
    "Transaction amount and volumn by days"
   ]
  },
  {
   "cell_type": "code",
   "execution_count": 234,
   "metadata": {},
   "outputs": [
    {
     "data": {
      "image/png": "[encoded data removed]",
      "text/plain": [
       "<Figure size 1080x360 with 2 Axes>"
      ]
     },
     "metadata": {},
     "output_type": "display_data"
    }
   ],
   "source": [
    "daily_spending = df.groupby('date_name')['amount'].sum().sort_values(ascending = False).reset_index()\n",
    "daily_trans_vol = df.groupby('date_name')['amount'].count().sort_values(ascending = False).reset_index()\n",
    "\n",
    "fig, axes = plt.subplots(1,2, figsize = (15,5))\n",
    "fig.suptitle('Daily Transaction')\n",
    "\n",
    "sns.barplot(ax = axes[0], data = daily_spending, x = 'date_name', y = 'amount', order = ['Monday', 'Tuesday', 'Wednesday', 'Thursday', 'Friday', 'Saturday', 'Sunday'] )\n",
    "axes[0].set_title('Transaction Amount')\n",
    "axes[0].set(xlabel = 'Days', ylabel = 'Amount')\n",
    "\n",
    "sns.barplot(ax = axes[1], data = daily_trans_vol, x = 'date_name', y = 'amount', order = ['Monday', 'Tuesday', 'Wednesday', 'Thursday', 'Friday', 'Saturday', 'Sunday'])\n",
    "axes[1].set_title('Transaction Volume')\n",
    "axes[1].set(xlabel = 'Days', ylabel = 'Volume')\n",
    "plt.show()"
   ]
  },
  {
   "cell_type": "markdown",
   "metadata": {},
   "source": [
    "Transaction amount and volumn by weekly basis."
   ]
  },
  {
   "cell_type": "code",
   "execution_count": 237,
   "metadata": {},
   "outputs": [],
   "source": [
    "# Separate transaction_date by weekly basis\n",
    "weekly_trans_amount = df.groupby([pd.Grouper(key='date', freq='W-MON')])['amount'].sum().reset_index().sort_values('date')\n",
    "weekly_trans_volume = df.groupby([pd.Grouper(key='date', freq='W-MON')])['amount'].count().reset_index().sort_values('date')"
   ]
  },
  {
   "cell_type": "code",
   "execution_count": 258,
   "metadata": {
    "scrolled": false
   },
   "outputs": [
    {
     "data": {
      "image/png": "[encoded data removed]",
      "text/plain": [
       "<Figure size 1080x360 with 2 Axes>"
      ]
     },
     "metadata": {},
     "output_type": "display_data"
    }
   ],
   "source": [
    "fig, axes = plt.subplots(1,2, figsize = (15,5))\n",
    "fig.suptitle('Weekly Transaction')\n",
    "\n",
    "# Transaction amount\n",
    "sns.barplot(ax = axes[0], data = weekly_trans_amount, x = 'date', y = 'amount' )\n",
    "axes[0].set_title('Transaction Amount')\n",
    "axes[0].set(xlabel = 'Days', ylabel = 'Amount', ylim = (0, 200000))\n",
    "axes[0].set_xticklabels(weekly_trans_amount['date'].astype(str), rotation = 60)\n",
    "\n",
    "# Transaction volume\n",
    "sns.barplot(ax = axes[1], data = weekly_trans_volume, x = 'date', y = 'amount')\n",
    "axes[1].set_title('Transaction Volume')\n",
    "axes[1].set(xlabel = 'Days',ylabel = 'Volume', ylim = (0, 1000))\n",
    "axes[1].set_xticklabels(weekly_trans_volume['date'].astype(str), rotation = 60)\n",
    "plt.show()"
   ]
  },
  {
   "cell_type": "code",
   "execution_count": null,
   "metadata": {},
   "outputs": [],
   "source": []
  },
  {
   "cell_type": "code",
   "execution_count": null,
   "metadata": {},
   "outputs": [],
   "source": []
  },
  {
   "cell_type": "code",
   "execution_count": null,
   "metadata": {},
   "outputs": [],
   "source": []
  },
  {
   "cell_type": "code",
   "execution_count": null,
   "metadata": {},
   "outputs": [],
   "source": []
  },
  {
   "cell_type": "code",
   "execution_count": null,
   "metadata": {},
   "outputs": [],
   "source": [
    "years = list(set(df['date'].astype('str').str[:4]))\n",
    "months = list(set(df['date'].astype('str').str[5:7]))\n",
    "months.sort()\n",
    "print(years, months)"
   ]
  },
  {
   "cell_type": "code",
   "execution_count": null,
   "metadata": {},
   "outputs": [],
   "source": [
    "for y in range(len(years)):\n",
    "    print('Year \\t Month \\t Amount \\t Average')\n",
    "    for m in range(len(months)):\n",
    "        end_month = int(months[m])\n",
    "        if end_month+1 == 13:\n",
    "            months[m] = '1'\n",
    "        else: \n",
    "            end_month += 1\n",
    "            \n",
    "        start_date = years[y] + '-' + months[m] + '-01'\n",
    "        end_date = years[y] + '-' + str(end_month) + '-01'\n",
    "        \n",
    "        month_sum = round(df['amount'].loc[(df['date'] >= start_date) & (df['date'] < end_date)].sum(), 2)\n",
    "        month_avg = round(df['amount'].loc[(df['date'] >= start_date) & (df['date'] < end_date)].mean(), 2)\n",
    "        \n",
    "        print(f'{years[y]} \\t {months[m]} \\t {month_sum} \\t {month_avg}')"
   ]
  },
  {
   "cell_type": "code",
   "execution_count": null,
   "metadata": {},
   "outputs": [],
   "source": [
    "# Number of transactions each month on average\n",
    "for y in range(len(years)):\n",
    "    print('Year \\t Month \\t Total_transactions \\t Avg_transactions')\n",
    "    for m in range(len(months)):\n",
    "        end_month = int(months[m])\n",
    "        if end_month+1 == 13:\n",
    "            months[m] = '1'\n",
    "        else: \n",
    "            end_month += 1\n",
    "            \n",
    "        start_date = years[y] + '-' + months[m] + '-01'\n",
    "        end_date = years[y] + '-' + str(end_month) + '-01'\n",
    "        \n",
    "        # dtype = np.int32\n",
    "        month_total_trans = df['transaction_id'].loc[(df['date'] >= start_date) & (df['date'] < end_date)].count()\n",
    "        month_unique_cust = df['customer_id'].loc[(df['date'] >= start_date) & (df['date'] < end_date)].nunique()\n",
    "        month_avg_trans = month_total_trans/month_unique_cust\n",
    "        \n",
    "        print(f'{years[y]} \\t {months[m]} \\t {month_total_trans} \\t\\t\\t {month_avg_trans}')"
   ]
  },
  {
   "cell_type": "code",
   "execution_count": null,
   "metadata": {},
   "outputs": [],
   "source": [
    "# 91 dates \n",
    "day_sum = pd.DataFrame(df.groupby('date')['amount'].sum().reset_index())\n",
    "day_avg = pd.DataFrame(df.groupby('date')['amount'].mean().reset_index())\n",
    "day_trans = pd.DataFrame(df.groupby('date')['amount'].count().reset_index())\n",
    "# day_cust = pd.DataFrame(df.groupby('date', dropna = False)['customer_id'].nunique())\n",
    "\n",
    "pd.DataFrame({'date': day_sum['date'], 'amount_sum': day_sum['amount'], 'amount_avg': day_avg['amount'], 'trans_volume': day_trans['amount']}).set_index('date')\n"
   ]
  },
  {
   "cell_type": "code",
   "execution_count": 27,
   "metadata": {},
   "outputs": [
    {
     "data": {
      "text/plain": [
       "<function matplotlib.pyplot.show(close=None, block=None)>"
      ]
     },
     "execution_count": 27,
     "metadata": {},
     "output_type": "execute_result"
    },
    {
     "data": {
      "image/png": "[encoded data removed]",
      "text/plain": [
       "<Figure size 432x288 with 1 Axes>"
      ]
     },
     "metadata": {
      "needs_background": "light"
     },
     "output_type": "display_data"
    }
   ],
   "source": [
    "# Transaction volume\n",
    "plt.bar(weekly_trans_volume['transaction_date'], weekly_trans_volume['amount'], width = 5)\n",
    "plt.xlabel('Date (Weekly)')\n",
    "x_tics = weekly_trans_volume['transaction_date']\n",
    "plt.xticks(x_tics, weekly_trans_volume['transaction_date'].astype(str), rotation = 'vertical')\n",
    "plt.ylabel('Volume')\n",
    "plt.ylim(0, 1000)\n",
    "plt.title('Transaction volume over weeks')\n",
    "plt.show"
   ]
  },
  {
   "cell_type": "code",
   "execution_count": 28,
   "metadata": {},
   "outputs": [],
   "source": [
    "# Transaction amount\n",
    "weekly_trans_amount = df.groupby([pd.Grouper(key='transaction_date', freq='W-MON')])['amount'].sum().reset_index().sort_values('transaction_date')"
   ]
  },
  {
   "cell_type": "code",
   "execution_count": 29,
   "metadata": {},
   "outputs": [
    {
     "data": {
      "text/html": [
       "<div>\n",
       "<style scoped>\n",
       "    .dataframe tbody tr th:only-of-type {\n",
       "        vertical-align: middle;\n",
       "    }\n",
       "\n",
       "    .dataframe tbody tr th {\n",
       "        vertical-align: top;\n",
       "    }\n",
       "\n",
       "    .dataframe thead th {\n",
       "        text-align: right;\n",
       "    }\n",
       "</style>\n",
       "<table border=\"1\" class=\"dataframe\">\n",
       "  <thead>\n",
       "    <tr style=\"text-align: right;\">\n",
       "      <th></th>\n",
       "      <th>transaction_date</th>\n",
       "      <th>amount</th>\n",
       "    </tr>\n",
       "  </thead>\n",
       "  <tbody>\n",
       "    <tr>\n",
       "      <th>0</th>\n",
       "      <td>2018-08-06</td>\n",
       "      <td>142761.62</td>\n",
       "    </tr>\n",
       "    <tr>\n",
       "      <th>1</th>\n",
       "      <td>2018-08-13</td>\n",
       "      <td>160555.43</td>\n",
       "    </tr>\n",
       "    <tr>\n",
       "      <th>2</th>\n",
       "      <td>2018-08-20</td>\n",
       "      <td>159361.42</td>\n",
       "    </tr>\n",
       "    <tr>\n",
       "      <th>3</th>\n",
       "      <td>2018-08-27</td>\n",
       "      <td>158531.13</td>\n",
       "    </tr>\n",
       "    <tr>\n",
       "      <th>4</th>\n",
       "      <td>2018-09-03</td>\n",
       "      <td>161532.78</td>\n",
       "    </tr>\n",
       "    <tr>\n",
       "      <th>5</th>\n",
       "      <td>2018-09-10</td>\n",
       "      <td>174702.96</td>\n",
       "    </tr>\n",
       "    <tr>\n",
       "      <th>6</th>\n",
       "      <td>2018-09-17</td>\n",
       "      <td>182506.22</td>\n",
       "    </tr>\n",
       "    <tr>\n",
       "      <th>7</th>\n",
       "      <td>2018-09-24</td>\n",
       "      <td>180968.98</td>\n",
       "    </tr>\n",
       "    <tr>\n",
       "      <th>8</th>\n",
       "      <td>2018-10-01</td>\n",
       "      <td>180388.22</td>\n",
       "    </tr>\n",
       "    <tr>\n",
       "      <th>9</th>\n",
       "      <td>2018-10-08</td>\n",
       "      <td>161923.42</td>\n",
       "    </tr>\n",
       "    <tr>\n",
       "      <th>10</th>\n",
       "      <td>2018-10-15</td>\n",
       "      <td>181208.84</td>\n",
       "    </tr>\n",
       "    <tr>\n",
       "      <th>11</th>\n",
       "      <td>2018-10-22</td>\n",
       "      <td>189530.24</td>\n",
       "    </tr>\n",
       "    <tr>\n",
       "      <th>12</th>\n",
       "      <td>2018-10-29</td>\n",
       "      <td>185283.47</td>\n",
       "    </tr>\n",
       "    <tr>\n",
       "      <th>13</th>\n",
       "      <td>2018-11-05</td>\n",
       "      <td>44029.47</td>\n",
       "    </tr>\n",
       "  </tbody>\n",
       "</table>\n",
       "</div>"
      ],
      "text/plain": [
       "   transaction_date     amount\n",
       "0        2018-08-06  142761.62\n",
       "1        2018-08-13  160555.43\n",
       "2        2018-08-20  159361.42\n",
       "3        2018-08-27  158531.13\n",
       "4        2018-09-03  161532.78\n",
       "5        2018-09-10  174702.96\n",
       "6        2018-09-17  182506.22\n",
       "7        2018-09-24  180968.98\n",
       "8        2018-10-01  180388.22\n",
       "9        2018-10-08  161923.42\n",
       "10       2018-10-15  181208.84\n",
       "11       2018-10-22  189530.24\n",
       "12       2018-10-29  185283.47\n",
       "13       2018-11-05   44029.47"
      ]
     },
     "execution_count": 29,
     "metadata": {},
     "output_type": "execute_result"
    }
   ],
   "source": [
    "weekly_trans_amount"
   ]
  },
  {
   "cell_type": "code",
   "execution_count": 30,
   "metadata": {},
   "outputs": [
    {
     "data": {
      "text/plain": [
       "<function matplotlib.pyplot.show(close=None, block=None)>"
      ]
     },
     "execution_count": 30,
     "metadata": {},
     "output_type": "execute_result"
    },
    {
     "data": {
      "image/png": "[encoded data removed]",
      "text/plain": [
       "<Figure size 432x288 with 1 Axes>"
      ]
     },
     "metadata": {
      "needs_background": "light"
     },
     "output_type": "display_data"
    }
   ],
   "source": [
    "plt.bar(weekly_trans_amount['transaction_date'], weekly_trans_amount['amount'], width = 5)\n",
    "plt.xlabel('Date (Weekly)')\n",
    "x_tics = weekly_trans_amount['transaction_date']\n",
    "plt.xticks(x_tics, weekly_trans_amount['transaction_date'].astype(str), rotation = 'vertical')\n",
    "plt.ylabel('Amount')\n",
    "plt.ylim(0, 200000)\n",
    "plt.title('Transaction amount over weeks')\n",
    "plt.show"
   ]
  },
  {
   "cell_type": "code",
   "execution_count": 31,
   "metadata": {},
   "outputs": [
    {
     "data": {
      "image/png": "[encoded data removed]",
      "text/plain": [
       "<Figure size 432x288 with 1 Axes>"
      ]
     },
     "metadata": {
      "needs_background": "light"
     },
     "output_type": "display_data"
    }
   ],
   "source": [
    "# Transaction volumn\n",
    "df.groupby('date')['transaction_id'].count().hist()\n",
    "plt.show()"
   ]
  },
  {
   "cell_type": "code",
   "execution_count": null,
   "metadata": {},
   "outputs": [],
   "source": []
  },
  {
   "cell_type": "code",
   "execution_count": null,
   "metadata": {},
   "outputs": [],
   "source": []
  },
  {
   "cell_type": "code",
   "execution_count": null,
   "metadata": {},
   "outputs": [],
   "source": []
  },
  {
   "cell_type": "code",
   "execution_count": null,
   "metadata": {},
   "outputs": [],
   "source": [
    "months = ['10', '11', '12', '1', '2', '12', '3', '5']"
   ]
  },
  {
   "cell_type": "code",
   "execution_count": null,
   "metadata": {},
   "outputs": [],
   "source": [
    "for y in range(len(years)):\n",
    "    print('Year \\t Month \\t Amount \\t Average')\n",
    "    for m in range(len(months)):\n",
    "        test = int(months[m])\n",
    "        if test+1 == 13:\n",
    "            months[m] = '1'\n",
    "        else: \n",
    "            test += 1\n",
    "#         print(months[m], test)\n",
    "        start_date = years[y] + '-' + months[m] + '-01'\n",
    "        end_date = years[y] + '-' + str(test) + '-01'\n",
    "#         print(years[y] + '-' + test + '-01')\n",
    "#         print(start_date + ' ' + end_date)\n",
    "#         print(df['amount'].loc[(df['date'] > start_date) & (df['date'] < end_date)].sum())\n",
    "        month_sum = round(df['amount'].loc[(df['date'] > start_date) & (df['date'] < end_date)].sum(), 2)\n",
    "        month_avg = round(df['amount'].loc[(df['date'] > start_date) & (df['date'] < end_date)].mean(), 2)\n",
    "#         month_sum = round(df['amount'].loc[df['date'] <= years[y] + '-' + months[m] + '-01' ].to_numpy().sum(), 2)\n",
    "#         month_avg = round(df['amount'].loc[df['date'] <= years[y] + '-' + months[m] + '-01' ].to_numpy().mean(), 2)\n",
    "        print(f'{years[y]} \\t {months[m]} \\t {month_sum} \\t {month_avg}')"
   ]
  },
  {
   "cell_type": "code",
   "execution_count": null,
   "metadata": {},
   "outputs": [],
   "source": [
    "df['amount'].mean()"
   ]
  },
  {
   "cell_type": "code",
   "execution_count": null,
   "metadata": {},
   "outputs": [],
   "source": [
    "# df['date'].loc[df['date'] == '2018-09']\n",
    "# df.groupby('date')['amount'].sum() \n",
    "for y in range(len(years)):\n",
    "    print('Year \\t Month \\t Total_transactions \\t Avg_transactions')\n",
    "    for m in range(len(months)):\n",
    "        end_month = int(months[m])\n",
    "        if end_month+1 == 13:\n",
    "            months[m] = '1'\n",
    "        else: \n",
    "            end_month += 1\n",
    "            \n",
    "        start_date = years[y] + '-' + months[m] + '-01'\n",
    "        end_date = years[y] + '-' + str(end_month) + '-01'\n",
    "        \n",
    "        # dtype = np.int32\n",
    "        month_total_trans = df['transaction_id'].loc[(df['date'] >= start_date) & (df['date'] < end_date)].count()\n",
    "        month_unique_cust = df['customer_id'].loc[(df['date'] >= start_date) & (df['date'] < end_date)].nunique()\n",
    "#         print(month_total_trans/month_unique_cust)\n",
    "#         print(month_unique_cust/month_total_trans)\n",
    "#         print(type(month_total_trans))\n",
    "#         print(type(int(month_total_trans)))\n",
    "        month_avg_trans = month_total_trans/month_unique_cust\n",
    "        print(f'{years[y]} \\t {months[m]} \\t {month_total_trans} \\t\\t\\t {month_avg_trans}')"
   ]
  },
  {
   "cell_type": "code",
   "execution_count": null,
   "metadata": {},
   "outputs": [],
   "source": [
    "# len(df['transaction_id'].loc[(df['date'] >= start_date) & (df['date'] < end_date)])\n",
    "df['customer_id'].loc[(df['date'] >= start_date) & (df['date'] < end_date)].nunique()"
   ]
  },
  {
   "cell_type": "code",
   "execution_count": null,
   "metadata": {},
   "outputs": [],
   "source": [
    "pd.date_range(start = '2018-03-01', end = '2018-04-01', closed = 'left')\n",
    "\n",
    "#a in df['date'].astype('str')"
   ]
  },
  {
   "cell_type": "code",
   "execution_count": null,
   "metadata": {},
   "outputs": [],
   "source": []
  }
 ],
 "metadata": {
  "kernelspec": {
   "display_name": "Python 3",
   "language": "python",
   "name": "python3"
  },
  "language_info": {
   "codemirror_mode": {
    "name": "ipython",
    "version": 3
   },
   "file_extension": ".py",
   "mimetype": "text/x-python",
   "name": "python",
   "nbconvert_exporter": "python",
   "pygments_lexer": "ipython3",
   "version": "3.8.5"
  }
 },
 "nbformat": 4,
 "nbformat_minor": 4
}
