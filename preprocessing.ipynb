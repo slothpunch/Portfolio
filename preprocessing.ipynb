{
 "cells": [
  {
   "cell_type": "markdown",
   "metadata": {},
   "source": [
    "Find keywords from Job Description"
   ]
  },
  {
   "cell_type": "code",
   "execution_count": 4,
   "metadata": {},
   "outputs": [],
   "source": [
    "import pandas as pd\n",
    "import numpy as np\n",
    "\n",
    "import matplotlib.pyplot as plt\n",
    "import seaborn as sns"
   ]
  },
  {
   "cell_type": "code",
   "execution_count": 42,
   "metadata": {},
   "outputs": [
    {
     "data": {
      "text/html": [
       "<div>\n",
       "<style scoped>\n",
       "    .dataframe tbody tr th:only-of-type {\n",
       "        vertical-align: middle;\n",
       "    }\n",
       "\n",
       "    .dataframe tbody tr th {\n",
       "        vertical-align: top;\n",
       "    }\n",
       "\n",
       "    .dataframe thead th {\n",
       "        text-align: right;\n",
       "    }\n",
       "</style>\n",
       "<table border=\"1\" class=\"dataframe\">\n",
       "  <thead>\n",
       "    <tr style=\"text-align: right;\">\n",
       "      <th></th>\n",
       "      <th>no</th>\n",
       "      <th>????????1</th>\n",
       "      <th>????????2</th>\n",
       "      <th>??????</th>\n",
       "      <th>????</th>\n",
       "      <th>????.1</th>\n",
       "    </tr>\n",
       "  </thead>\n",
       "  <tbody>\n",
       "    <tr>\n",
       "      <th>0</th>\n",
       "      <td>70203</td>\n",
       "      <td>?????????? 1????</td>\n",
       "      <td>??????????</td>\n",
       "      <td>64bit ?????????? Full SSD ??????</td>\n",
       "      <td>?????? .d?? ???? ???????????? ?? ????</td>\n",
       "      <td>??????????: padm php?? ?????? ???? ??????</td>\n",
       "    </tr>\n",
       "    <tr>\n",
       "      <th>1</th>\n",
       "      <td>70203</td>\n",
       "      <td>?????????? 3????</td>\n",
       "      <td>??????????</td>\n",
       "      <td>65bit ?????????? Full SSD ??????</td>\n",
       "      <td>???? ???? ????????</td>\n",
       "      <td>??????????: padm php?? ?????? ???? ??????</td>\n",
       "    </tr>\n",
       "    <tr>\n",
       "      <th>2</th>\n",
       "      <td>70204</td>\n",
       "      <td>?????????? 2????</td>\n",
       "      <td>??????????</td>\n",
       "      <td>64bit ?????????? Full SSD</td>\n",
       "      <td>???????? ??????????</td>\n",
       "      <td>??????????: padm php?? ?????? ???? ??????</td>\n",
       "    </tr>\n",
       "    <tr>\n",
       "      <th>3</th>\n",
       "      <td>70205</td>\n",
       "      <td>?????????? 1????</td>\n",
       "      <td>??????????</td>\n",
       "      <td>64bit ?????????? Full SSD ??????</td>\n",
       "      <td>??????????</td>\n",
       "      <td>??????????: padm php?? ?????? ???? ??????</td>\n",
       "    </tr>\n",
       "    <tr>\n",
       "      <th>4</th>\n",
       "      <td>70206</td>\n",
       "      <td>?????????? 1????</td>\n",
       "      <td>??????????</td>\n",
       "      <td>64bit ?????????? Full SSD ????</td>\n",
       "      <td>NaN</td>\n",
       "      <td>??????????: padm php?? ?????? ???? ??????</td>\n",
       "    </tr>\n",
       "  </tbody>\n",
       "</table>\n",
       "</div>"
      ],
      "text/plain": [
       "      no         ????????1   ????????2                            ??????  \\\n",
       "0  70203  ?????????? 1????  ??????????  64bit ?????????? Full SSD ??????   \n",
       "1  70203  ?????????? 3????  ??????????  65bit ?????????? Full SSD ??????   \n",
       "2  70204  ?????????? 2????  ??????????         64bit ?????????? Full SSD   \n",
       "3  70205  ?????????? 1????  ??????????  64bit ?????????? Full SSD ??????   \n",
       "4  70206  ?????????? 1????  ??????????    64bit ?????????? Full SSD ????   \n",
       "\n",
       "                                    ????  \\\n",
       "0  ?????? .d?? ???? ???????????? ?? ????   \n",
       "1                     ???? ???? ????????   \n",
       "2                    ???????? ??????????   \n",
       "3                             ??????????   \n",
       "4                                    NaN   \n",
       "\n",
       "                                      ????.1  \n",
       "0  ??????????: padm php?? ?????? ???? ??????  \n",
       "1  ??????????: padm php?? ?????? ???? ??????  \n",
       "2  ??????????: padm php?? ?????? ???? ??????  \n",
       "3  ??????????: padm php?? ?????? ???? ??????  \n",
       "4  ??????????: padm php?? ?????? ???? ??????  "
      ]
     },
     "execution_count": 42,
     "metadata": {},
     "output_type": "execute_result"
    }
   ],
   "source": [
    "# Load file\n",
    "# df = pd.read_csv('glassdoor_jobs.csv')\n",
    "# df = pd.read_csv('전국_평균_분양가격_2018.6월_.csv', encoding='euc-kr')\n",
    "df = pd.read_csv('확인.csv')\n",
    "df.head()"
   ]
  },
  {
   "cell_type": "code",
   "execution_count": 43,
   "metadata": {
    "scrolled": false
   },
   "outputs": [
    {
     "name": "stdout",
     "output_type": "stream",
     "text": [
      "<class 'pandas.core.frame.DataFrame'>\n",
      "RangeIndex: 5 entries, 0 to 4\n",
      "Data columns (total 6 columns):\n",
      " #   Column     Non-Null Count  Dtype \n",
      "---  ------     --------------  ----- \n",
      " 0   no         5 non-null      int64 \n",
      " 1   ????????1  5 non-null      object\n",
      " 2   ????????2  5 non-null      object\n",
      " 3   ??????     5 non-null      object\n",
      " 4   ????       4 non-null      object\n",
      " 5   ????.1     5 non-null      object\n",
      "dtypes: int64(1), object(5)\n",
      "memory usage: 368.0+ bytes\n"
     ]
    }
   ],
   "source": [
    "df.info()"
   ]
  },
  {
   "cell_type": "code",
   "execution_count": 12,
   "metadata": {},
   "outputs": [
    {
     "data": {
      "text/plain": [
       "{'전용면적 102㎡초과', '전용면적 60㎡이하', '전용면적 60㎡초과 85㎡이하', '전용면적 85㎡초과 102㎡이하', '전체'}"
      ]
     },
     "execution_count": 12,
     "metadata": {},
     "output_type": "execute_result"
    }
   ],
   "source": [
    "set(df['규모구분'])"
   ]
  },
  {
   "cell_type": "code",
   "execution_count": 31,
   "metadata": {},
   "outputs": [],
   "source": [
    "df = df.dropna(axis = 0)"
   ]
  },
  {
   "cell_type": "code",
   "execution_count": 35,
   "metadata": {
    "scrolled": true
   },
   "outputs": [
    {
     "name": "stderr",
     "output_type": "stream",
     "text": [
      "<ipython-input-35-b7cdd230635b>:11: SettingWithCopyWarning: \n",
      "A value is trying to be set on a copy of a slice from a DataFrame\n",
      "\n",
      "See the caveats in the documentation: https://pandas.pydata.org/pandas-docs/stable/user_guide/indexing.html#returning-a-view-versus-a-copy\n",
      "  df[create_col][n]=1\n"
     ]
    }
   ],
   "source": [
    "def cat_labelling(df_col, create_col, first_key, keywords):\n",
    "    \n",
    "    # create the column\n",
    "#     print(df[df_col])\n",
    "    df[create_col] = df[df_col].apply(lambda x: 1 if first_key in x else 0)\n",
    "\n",
    "    # change 0s to 1s if the text contains the keywords \n",
    "    for i in range(len(keywords)):\n",
    "        for n in range(len(df[df_col])):\n",
    "            if keywords[i] in df[df_col][n]:\n",
    "                df[create_col][n]=1\n",
    "\n",
    "# the column where the text is stored \n",
    "df_col = '제목' \n",
    "# the name of column you want to make \n",
    "create_col = '카테고리3' \n",
    "# first keyword to create a column\n",
    "first_key = '혹시'\n",
    "# the rest of keywords\n",
    "keywords = ['가능'] \n",
    "\n",
    "cat_labelling(df_col, create_col, first_key, keywords)\n",
    "\n",
    "# df.head()"
   ]
  },
  {
   "cell_type": "code",
   "execution_count": 36,
   "metadata": {},
   "outputs": [
    {
     "data": {
      "text/html": [
       "<div>\n",
       "<style scoped>\n",
       "    .dataframe tbody tr th:only-of-type {\n",
       "        vertical-align: middle;\n",
       "    }\n",
       "\n",
       "    .dataframe tbody tr th {\n",
       "        vertical-align: top;\n",
       "    }\n",
       "\n",
       "    .dataframe thead th {\n",
       "        text-align: right;\n",
       "    }\n",
       "</style>\n",
       "<table border=\"1\" class=\"dataframe\">\n",
       "  <thead>\n",
       "    <tr style=\"text-align: right;\">\n",
       "      <th></th>\n",
       "      <th>no</th>\n",
       "      <th>카테고리1</th>\n",
       "      <th>카테고리2</th>\n",
       "      <th>상품명</th>\n",
       "      <th>제목</th>\n",
       "      <th>내용</th>\n",
       "      <th>카테고리3</th>\n",
       "    </tr>\n",
       "  </thead>\n",
       "  <tbody>\n",
       "    <tr>\n",
       "      <th>0</th>\n",
       "      <td>70203.0</td>\n",
       "      <td>기술지원팀 1파트</td>\n",
       "      <td>기술지원팀</td>\n",
       "      <td>64bit 광아우토반 Full SSD 일반형</td>\n",
       "      <td>확장자 .d로 인식 세티우탁드린 것 실행</td>\n",
       "      <td>대상아이디: padm php로 작성한 거을 확장자</td>\n",
       "      <td>0</td>\n",
       "    </tr>\n",
       "    <tr>\n",
       "      <th>1</th>\n",
       "      <td>70203.0</td>\n",
       "      <td>기술지원팀 3파트</td>\n",
       "      <td>기술지원팀</td>\n",
       "      <td>65bit 광아우토반 Full SSD 일반형</td>\n",
       "      <td>이거 혹시 아닌가요</td>\n",
       "      <td>대상아이디: padm php로 작성한 거을 확장자</td>\n",
       "      <td>1</td>\n",
       "    </tr>\n",
       "    <tr>\n",
       "      <th>2</th>\n",
       "      <td>70204.0</td>\n",
       "      <td>기술지원팀 2파트</td>\n",
       "      <td>기술지원팀</td>\n",
       "      <td>64bit 광아우토반 Full SSD</td>\n",
       "      <td>가능할지 모르겠네요</td>\n",
       "      <td>대상아이디: padm php로 작성한 거을 확장자</td>\n",
       "      <td>1</td>\n",
       "    </tr>\n",
       "    <tr>\n",
       "      <th>3</th>\n",
       "      <td>70205.0</td>\n",
       "      <td>기술지원팀 1파트</td>\n",
       "      <td>기술지원팀</td>\n",
       "      <td>64bit 광아우토반 Full SSD 고급형</td>\n",
       "      <td>가능한가요</td>\n",
       "      <td>대상아이디: padm php로 작성한 거을 확장자</td>\n",
       "      <td>1</td>\n",
       "    </tr>\n",
       "    <tr>\n",
       "      <th>4</th>\n",
       "      <td>70206.0</td>\n",
       "      <td>기술지원팀 1파트</td>\n",
       "      <td>기술지원팀</td>\n",
       "      <td>64bit 광아우토반 Full SSD 중형</td>\n",
       "      <td>할 수 있다</td>\n",
       "      <td>대상아이디: padm php로 작성한 거을 확장자</td>\n",
       "      <td>0</td>\n",
       "    </tr>\n",
       "  </tbody>\n",
       "</table>\n",
       "</div>"
      ],
      "text/plain": [
       "        no      카테고리1  카테고리2                       상품명  \\\n",
       "0  70203.0  기술지원팀 1파트  기술지원팀  64bit 광아우토반 Full SSD 일반형   \n",
       "1  70203.0  기술지원팀 3파트  기술지원팀  65bit 광아우토반 Full SSD 일반형   \n",
       "2  70204.0  기술지원팀 2파트  기술지원팀      64bit 광아우토반 Full SSD   \n",
       "3  70205.0  기술지원팀 1파트  기술지원팀  64bit 광아우토반 Full SSD 고급형   \n",
       "4  70206.0  기술지원팀 1파트  기술지원팀   64bit 광아우토반 Full SSD 중형   \n",
       "\n",
       "                       제목                           내용  카테고리3  \n",
       "0  확장자 .d로 인식 세티우탁드린 것 실행  대상아이디: padm php로 작성한 거을 확장자      0  \n",
       "1              이거 혹시 아닌가요  대상아이디: padm php로 작성한 거을 확장자      1  \n",
       "2              가능할지 모르겠네요  대상아이디: padm php로 작성한 거을 확장자      1  \n",
       "3                   가능한가요  대상아이디: padm php로 작성한 거을 확장자      1  \n",
       "4                  할 수 있다  대상아이디: padm php로 작성한 거을 확장자      0  "
      ]
     },
     "execution_count": 36,
     "metadata": {},
     "output_type": "execute_result"
    }
   ],
   "source": [
    "df.head()"
   ]
  },
  {
   "cell_type": "code",
   "execution_count": 37,
   "metadata": {},
   "outputs": [
    {
     "data": {
      "text/plain": [
       "no       0\n",
       "카테고리1    0\n",
       "카테고리2    0\n",
       "상품명      0\n",
       "제목       0\n",
       "내용       0\n",
       "카테고리3    0\n",
       "dtype: int64"
      ]
     },
     "execution_count": 37,
     "metadata": {},
     "output_type": "execute_result"
    }
   ],
   "source": [
    "df.isnull().sum()"
   ]
  },
  {
   "cell_type": "code",
   "execution_count": 164,
   "metadata": {},
   "outputs": [
    {
     "data": {
      "text/html": [
       "<div>\n",
       "<style scoped>\n",
       "    .dataframe tbody tr th:only-of-type {\n",
       "        vertical-align: middle;\n",
       "    }\n",
       "\n",
       "    .dataframe tbody tr th {\n",
       "        vertical-align: top;\n",
       "    }\n",
       "\n",
       "    .dataframe thead th {\n",
       "        text-align: right;\n",
       "    }\n",
       "</style>\n",
       "<table border=\"1\" class=\"dataframe\">\n",
       "  <thead>\n",
       "    <tr style=\"text-align: right;\">\n",
       "      <th></th>\n",
       "      <th>Job Title</th>\n",
       "      <th>senior_1</th>\n",
       "      <th>senior_2</th>\n",
       "      <th>senior_3</th>\n",
       "      <th>senior_4</th>\n",
       "    </tr>\n",
       "  </thead>\n",
       "  <tbody>\n",
       "    <tr>\n",
       "      <th>495</th>\n",
       "      <td>Senior Clinical Scientist - Clinical Trial Mgm...</td>\n",
       "      <td>1</td>\n",
       "      <td>0</td>\n",
       "      <td>0</td>\n",
       "      <td>1</td>\n",
       "    </tr>\n",
       "    <tr>\n",
       "      <th>496</th>\n",
       "      <td>Senior Data Engineer</td>\n",
       "      <td>1</td>\n",
       "      <td>0</td>\n",
       "      <td>0</td>\n",
       "      <td>1</td>\n",
       "    </tr>\n",
       "    <tr>\n",
       "      <th>497</th>\n",
       "      <td>Sr Data Engineer</td>\n",
       "      <td>0</td>\n",
       "      <td>0</td>\n",
       "      <td>0</td>\n",
       "      <td>0</td>\n",
       "    </tr>\n",
       "    <tr>\n",
       "      <th>498</th>\n",
       "      <td>Lead Big Data Engineer</td>\n",
       "      <td>0</td>\n",
       "      <td>0</td>\n",
       "      <td>0</td>\n",
       "      <td>0</td>\n",
       "    </tr>\n",
       "    <tr>\n",
       "      <th>499</th>\n",
       "      <td>Senior Software Engineer, Data Platform</td>\n",
       "      <td>1</td>\n",
       "      <td>0</td>\n",
       "      <td>0</td>\n",
       "      <td>1</td>\n",
       "    </tr>\n",
       "  </tbody>\n",
       "</table>\n",
       "</div>"
      ],
      "text/plain": [
       "                                             Job Title  senior_1  senior_2  \\\n",
       "495  Senior Clinical Scientist - Clinical Trial Mgm...         1         0   \n",
       "496                               Senior Data Engineer         1         0   \n",
       "497                                   Sr Data Engineer         0         0   \n",
       "498                             Lead Big Data Engineer         0         0   \n",
       "499            Senior Software Engineer, Data Platform         1         0   \n",
       "\n",
       "     senior_3  senior_4  \n",
       "495         0         1  \n",
       "496         0         1  \n",
       "497         0         0  \n",
       "498         0         0  \n",
       "499         0         1  "
      ]
     },
     "execution_count": 164,
     "metadata": {},
     "output_type": "execute_result"
    }
   ],
   "source": [
    "# df['junior'] = df['Job Description'].apply(lambda x:1 if 'junior' in x.lower() else 0)\n",
    "df['senior_1'] = df['Job Title'].apply(lambda x:1 if 'senior' in x.lower() else 0)\n",
    "df['senior_2'] = df['Job Title'].apply(lambda x:1 if x.lower() in 'senior' else 0)\n",
    "df['senior_3'] = df['Job Title'].apply(lambda x:1 if 'senior' in x else 0)\n",
    "df['senior_4'] = df['Job Title'].apply(lambda x:1 if 'Senior' in x else 0)\n",
    "df[['Job Title', 'senior_1', 'senior_2', 'senior_3', 'senior_4']].tail()"
   ]
  },
  {
   "cell_type": "code",
   "execution_count": 174,
   "metadata": {},
   "outputs": [
    {
     "data": {
      "text/plain": [
       "True"
      ]
     },
     "execution_count": 174,
     "metadata": {},
     "output_type": "execute_result"
    }
   ],
   "source": [
    "keywords[1] in df['Job Title'][499].lower()\n",
    "# type(df['Job Title'][499].lower())"
   ]
  },
  {
   "cell_type": "code",
   "execution_count": 200,
   "metadata": {
    "scrolled": false
   },
   "outputs": [
    {
     "name": "stderr",
     "output_type": "stream",
     "text": [
      "<ipython-input-200-03144de9ac83>:13: SettingWithCopyWarning: \n",
      "A value is trying to be set on a copy of a slice from a DataFrame\n",
      "\n",
      "See the caveats in the documentation: https://pandas.pydata.org/pandas-docs/stable/user_guide/indexing.html#returning-a-view-versus-a-copy\n",
      "  df[create_col][n]=1\n"
     ]
    },
    {
     "data": {
      "text/html": [
       "<div>\n",
       "<style scoped>\n",
       "    .dataframe tbody tr th:only-of-type {\n",
       "        vertical-align: middle;\n",
       "    }\n",
       "\n",
       "    .dataframe tbody tr th {\n",
       "        vertical-align: top;\n",
       "    }\n",
       "\n",
       "    .dataframe thead th {\n",
       "        text-align: right;\n",
       "    }\n",
       "</style>\n",
       "<table border=\"1\" class=\"dataframe\">\n",
       "  <thead>\n",
       "    <tr style=\"text-align: right;\">\n",
       "      <th></th>\n",
       "      <th>Job Title</th>\n",
       "      <th>Salary Estimate</th>\n",
       "      <th>Job Description</th>\n",
       "      <th>Rating</th>\n",
       "      <th>Company Name</th>\n",
       "      <th>Location</th>\n",
       "      <th>Size</th>\n",
       "      <th>Founded</th>\n",
       "      <th>Type of ownership</th>\n",
       "      <th>Industry</th>\n",
       "      <th>Sector</th>\n",
       "      <th>Revenue</th>\n",
       "      <th>Junior</th>\n",
       "    </tr>\n",
       "  </thead>\n",
       "  <tbody>\n",
       "    <tr>\n",
       "      <th>0</th>\n",
       "      <td>Professional Services Consultant</td>\n",
       "      <td>$48K-$97K\\n(Glassdoor Est.)</td>\n",
       "      <td>Thycotic, a global leader in IT security, is t...</td>\n",
       "      <td>4.1</td>\n",
       "      <td>Thycotic\\n4.1</td>\n",
       "      <td>Chicago, IL</td>\n",
       "      <td>201 to 500 Employees</td>\n",
       "      <td>1996</td>\n",
       "      <td>Company - Private</td>\n",
       "      <td>Enterprise Software &amp; Network Solutions</td>\n",
       "      <td>Information Technology</td>\n",
       "      <td>$50 to $100 million (USD)</td>\n",
       "      <td>0</td>\n",
       "    </tr>\n",
       "    <tr>\n",
       "      <th>1</th>\n",
       "      <td>Associate Managing Consultant</td>\n",
       "      <td>$83K-$150K\\n(Glassdoor Est.)</td>\n",
       "      <td>Business Title\\nAssociate Managing Consultant\\...</td>\n",
       "      <td>4.1</td>\n",
       "      <td>Synopsys\\n4.1</td>\n",
       "      <td>Chicago, IL</td>\n",
       "      <td>10000+ Employees</td>\n",
       "      <td>1986</td>\n",
       "      <td>Company - Public</td>\n",
       "      <td>Computer Hardware &amp; Software</td>\n",
       "      <td>Information Technology</td>\n",
       "      <td>$2 to $5 billion (USD)</td>\n",
       "      <td>0</td>\n",
       "    </tr>\n",
       "    <tr>\n",
       "      <th>2</th>\n",
       "      <td>BI Developer - Jaspersoft</td>\n",
       "      <td>$81K-$135K\\n(Glassdoor Est.)</td>\n",
       "      <td>Summary\\n\\nUsing statistical analysis and vari...</td>\n",
       "      <td>2.4</td>\n",
       "      <td>Options Clearing Corporation\\n2.4</td>\n",
       "      <td>Chicago, IL</td>\n",
       "      <td>501 to 1000 Employees</td>\n",
       "      <td>1973</td>\n",
       "      <td>Company - Private</td>\n",
       "      <td>Financial Transaction Processing</td>\n",
       "      <td>Finance</td>\n",
       "      <td>$100 to $500 million (USD)</td>\n",
       "      <td>0</td>\n",
       "    </tr>\n",
       "    <tr>\n",
       "      <th>3</th>\n",
       "      <td>Warehouse Worker - Package Handler</td>\n",
       "      <td>$10-$16 Per Hour\\n(Glassdoor Est.)</td>\n",
       "      <td>$14.50/hr. paid weekly for Package Handlers!\\n...</td>\n",
       "      <td>3.5</td>\n",
       "      <td>UNITED PARCEL SERVICE\\n3.5</td>\n",
       "      <td>Northbrook, IL</td>\n",
       "      <td>10000+ Employees</td>\n",
       "      <td>1907</td>\n",
       "      <td>Company - Public</td>\n",
       "      <td>Logistics &amp; Supply Chain</td>\n",
       "      <td>Transportation &amp; Logistics</td>\n",
       "      <td>$10+ billion (USD)</td>\n",
       "      <td>0</td>\n",
       "    </tr>\n",
       "    <tr>\n",
       "      <th>4</th>\n",
       "      <td>Experienced Technician &amp; Experienced Installer...</td>\n",
       "      <td>-1</td>\n",
       "      <td>IMMEDIATE OPENINGS: *\\nHVAC* Installer with *e...</td>\n",
       "      <td>-1.0</td>\n",
       "      <td>Giant HVAC</td>\n",
       "      <td>Chicago, IL</td>\n",
       "      <td>-1</td>\n",
       "      <td>-1</td>\n",
       "      <td>-1</td>\n",
       "      <td>-1</td>\n",
       "      <td>-1</td>\n",
       "      <td>-1</td>\n",
       "      <td>0</td>\n",
       "    </tr>\n",
       "  </tbody>\n",
       "</table>\n",
       "</div>"
      ],
      "text/plain": [
       "                                           Job Title  \\\n",
       "0                   Professional Services Consultant   \n",
       "1                      Associate Managing Consultant   \n",
       "2                          BI Developer - Jaspersoft   \n",
       "3                 Warehouse Worker - Package Handler   \n",
       "4  Experienced Technician & Experienced Installer...   \n",
       "\n",
       "                      Salary Estimate  \\\n",
       "0         $48K-$97K\\n(Glassdoor Est.)   \n",
       "1        $83K-$150K\\n(Glassdoor Est.)   \n",
       "2        $81K-$135K\\n(Glassdoor Est.)   \n",
       "3  $10-$16 Per Hour\\n(Glassdoor Est.)   \n",
       "4                                  -1   \n",
       "\n",
       "                                     Job Description  Rating  \\\n",
       "0  Thycotic, a global leader in IT security, is t...     4.1   \n",
       "1  Business Title\\nAssociate Managing Consultant\\...     4.1   \n",
       "2  Summary\\n\\nUsing statistical analysis and vari...     2.4   \n",
       "3  $14.50/hr. paid weekly for Package Handlers!\\n...     3.5   \n",
       "4  IMMEDIATE OPENINGS: *\\nHVAC* Installer with *e...    -1.0   \n",
       "\n",
       "                        Company Name        Location                   Size  \\\n",
       "0                      Thycotic\\n4.1     Chicago, IL   201 to 500 Employees   \n",
       "1                      Synopsys\\n4.1     Chicago, IL       10000+ Employees   \n",
       "2  Options Clearing Corporation\\n2.4     Chicago, IL  501 to 1000 Employees   \n",
       "3         UNITED PARCEL SERVICE\\n3.5  Northbrook, IL       10000+ Employees   \n",
       "4                         Giant HVAC     Chicago, IL                     -1   \n",
       "\n",
       "   Founded  Type of ownership                                 Industry  \\\n",
       "0     1996  Company - Private  Enterprise Software & Network Solutions   \n",
       "1     1986   Company - Public             Computer Hardware & Software   \n",
       "2     1973  Company - Private         Financial Transaction Processing   \n",
       "3     1907   Company - Public                 Logistics & Supply Chain   \n",
       "4       -1                 -1                                       -1   \n",
       "\n",
       "                       Sector                     Revenue  Junior  \n",
       "0      Information Technology   $50 to $100 million (USD)       0  \n",
       "1      Information Technology      $2 to $5 billion (USD)       0  \n",
       "2                     Finance  $100 to $500 million (USD)       0  \n",
       "3  Transportation & Logistics          $10+ billion (USD)       0  \n",
       "4                          -1                          -1       0  "
      ]
     },
     "execution_count": 200,
     "metadata": {},
     "output_type": "execute_result"
    }
   ],
   "source": [
    "def cat_labelling(df_col, create_col, first_key, keywords):\n",
    "    \n",
    "    # create the column\n",
    "    df[create_col] = df[df_col].apply(lambda x: 1 if first_key in x.lower() else 0)\n",
    "\n",
    "    # change 0s to 1s if the text contains the keywords \n",
    "    for i in range(len(keywords)):\n",
    "        for n in range(len(df[df_col])):\n",
    "            if keywords[i] in df[df_col][n].lower():\n",
    "                df[create_col][n]=1\n",
    "\n",
    "# the column where the text is stored \n",
    "df_col = 'Job Title' \n",
    "df_col = ''\n",
    "# the name of column you want to make \n",
    "create_col = 'Junior' \n",
    "# first keyword to create a column\n",
    "first_key = 'intern'\n",
    "# the rest of keywords\n",
    "keywords = ['junior', 'jr'] \n",
    "\n",
    "cat_labelling(df_col, create_col, first_key, keywords)\n",
    "\n",
    "'''\n",
    "df_col = 'Enquiries' \n",
    "create_col = 'Speed Improvement' \n",
    "first_key = 'slow'\n",
    "keywords = ['slowed', 'slowing', 'slowly'] \n",
    "\n",
    "cat_labelling(df_col, create_col, first_key, keywords)\n",
    "\n",
    "'''\n",
    "\n",
    "# df[['Job Title', 'Junior']].head(50)\n",
    "df.head()"
   ]
  },
  {
   "cell_type": "code",
   "execution_count": 20,
   "metadata": {
    "scrolled": true
   },
   "outputs": [
    {
     "name": "stdout",
     "output_type": "stream",
     "text": [
      "0\n"
     ]
    }
   ],
   "source": [
    "x= 'hi'\n",
    "if x.lower() in ('go' or 'stop' or 'hi' or 'se'):\n",
    "    print(1)\n",
    "else:\n",
    "    print(0)"
   ]
  }
 ],
 "metadata": {
  "kernelspec": {
   "display_name": "Python 3",
   "language": "python",
   "name": "python3"
  },
  "language_info": {
   "codemirror_mode": {
    "name": "ipython",
    "version": 3
   },
   "file_extension": ".py",
   "mimetype": "text/x-python",
   "name": "python",
   "nbconvert_exporter": "python",
   "pygments_lexer": "ipython3",
   "version": "3.8.5"
  }
 },
 "nbformat": 4,
 "nbformat_minor": 4
}
