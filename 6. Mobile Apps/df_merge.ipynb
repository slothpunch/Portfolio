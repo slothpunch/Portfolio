{
 "cells": [
  {
   "cell_type": "code",
   "execution_count": 2,
   "metadata": {},
   "outputs": [],
   "source": [
    "from dotenv import load_dotenv, find_dotenv\n",
    "import os\n",
    "# import pprint\n",
    "# import missingno as msno\n",
    "from pymongo import MongoClient\n",
    "import pandas as pd \n",
    "import numpy as np\n",
    "import regex as re\n"
   ]
  },
  {
   "cell_type": "code",
   "execution_count": 22,
   "metadata": {},
   "outputs": [],
   "source": [
    "# au_app_df = pd.read_csv('../data/power_bi/individuals/au_app_df.csv')\n",
    "# au_app_num_df = pd.read_csv('../data/power_bi/individuals/au_app_num_df_more_than_10.csv')\n",
    "# au_rank_df = pd.read_csv('../data/power_bi/individuals/au_rank_df.csv')\n",
    "\n",
    "# kr_app_df = pd.read_csv('../data/power_bi/individuals/ko_app_df_en.csv')\n",
    "# kr_app_num_df = pd.read_csv('../data/power_bi/individuals/ko_app_num_df_more_than_10.csv')\n",
    "# kr_rank_df = pd.read_csv('../data/power_bi/individuals/ko_rank_df.csv')"
   ]
  },
  {
   "cell_type": "code",
   "execution_count": 23,
   "metadata": {},
   "outputs": [],
   "source": [
    "# dec_au_app_df = pd.read_csv('../data/power_bi/individuals/december/12_au_app_df.csv')\n",
    "# dec_au_app_num_df = pd.read_csv('../data/power_bi/individuals/december/12_au_app_num_df_10.csv')\n",
    "# dec_au_rank_df = pd.read_csv('../data/power_bi/individuals/december/12_au_rank_df.csv')\n",
    "\n",
    "# dec_kr_app_df = pd.read_csv('../data/power_bi/individuals/december/12_kr_app_df.csv')\n",
    "# dec_kr_app_num_df = pd.read_csv('../data/power_bi/individuals/december/12_kr_app_num_df_10.csv')\n",
    "# dec_kr_rank_df = pd.read_csv('../data/power_bi/individuals/december/12_kr_rank_df.csv')"
   ]
  },
  {
   "cell_type": "code",
   "execution_count": null,
   "metadata": {},
   "outputs": [],
   "source": [
    "# au_app_df = dec_au_app_df.copy(deep=True)\n",
    "# au_app_num_df = dec_au_app_num_df.copy(deep=True)\n",
    "# au_rank_df = dec_au_rank_df.copy(deep=True)\n",
    "\n",
    "# kr_app_df = dec_kr_app_df.copy(deep=True)\n",
    "# kr_app_num_df = dec_kr_app_num_df.copy(deep=True)\n",
    "# kr_rank_df = dec_kr_rank_df.copy(deep=True)"
   ]
  },
  {
   "cell_type": "code",
   "execution_count": 3,
   "metadata": {},
   "outputs": [],
   "source": [
    "au_app_df = pd.read_csv('../data/power_bi/individuals/december/12_au_app_df.csv')\n",
    "au_app_num_df = pd.read_csv('../data/power_bi/individuals/december/12_au_app_num_df_10.csv')\n",
    "au_rank_df = pd.read_csv('../data/power_bi/individuals/december/12_au_rank_df.csv')\n",
    "\n",
    "kr_app_df = pd.read_csv('../data/power_bi/individuals/december/12_kr_app_df.csv')\n",
    "kr_app_num_df = pd.read_csv('../data/power_bi/individuals/december/12_kr_app_num_df_10.csv')\n",
    "kr_rank_df = pd.read_csv('../data/power_bi/individuals/december/12_kr_rank_df.csv')"
   ]
  },
  {
   "cell_type": "code",
   "execution_count": null,
   "metadata": {},
   "outputs": [],
   "source": [
    "# kr_app_df['released'][kr_app_df['app_id'] == 'com.ntori.Jicheon'] = '2023-12-12'\n",
    "# kr_app_df['released'][kr_app_df['app_id'] == 'com.intsig.BizCardReader'] = '2023-12-17'\n",
    "# kr_app_df['released'][kr_app_df['app_id'] == 'com.speedsoftware.rootexplorer'] = '2023-10-13'\n",
    "# kr_app_df['released'][kr_app_df['app_id'] == 'com.facebook.katana'] = '2007-01-10'\n",
    "# kr_app_df['released'][kr_app_df['app_id'] == 'com.google.android.apps.translate'] = '2010-01-01'\n",
    "\n",
    "# kr_app_df.to_csv('12_kr_app_df.csv', index = False)"
   ]
  },
  {
   "cell_type": "code",
   "execution_count": 4,
   "metadata": {},
   "outputs": [],
   "source": [
    "au_app_df['country'] = 'Australia'\n",
    "au_app_num_df['country'] = 'Australia'\n",
    "au_rank_df['country'] = 'Australia'\n",
    "kr_app_df['country'] = 'Korea'\n",
    "kr_app_num_df['country'] = 'Korea'\n",
    "kr_rank_df['country'] = 'Korea'"
   ]
  },
  {
   "cell_type": "code",
   "execution_count": 20,
   "metadata": {},
   "outputs": [],
   "source": [
    "merged_app_df = pd.concat([au_app_df, kr_app_df])\n",
    "merged_app_num_df = pd.concat([au_app_num_df, kr_app_num_df])\n",
    "merged_rank_df = pd.concat([au_rank_df, kr_rank_df])"
   ]
  },
  {
   "cell_type": "code",
   "execution_count": 21,
   "metadata": {},
   "outputs": [
    {
     "name": "stderr",
     "output_type": "stream",
     "text": [
      "C:\\Users\\GIS\\AppData\\Local\\Temp\\ipykernel_18900\\3776679345.py:8: SettingWithCopyWarning: \n",
      "A value is trying to be set on a copy of a slice from a DataFrame\n",
      "\n",
      "See the caveats in the documentation: https://pandas.pydata.org/pandas-docs/stable/user_guide/indexing.html#returning-a-view-versus-a-copy\n",
      "  merged_app_df['app_dup'][merged_app_df.duplicated(subset='app_id', keep = False)] = 1\n"
     ]
    },
    {
     "data": {
      "text/plain": [
       "0    2598\n",
       "1    1204\n",
       "Name: app_dup, dtype: int64"
      ]
     },
     "execution_count": 21,
     "metadata": {},
     "output_type": "execute_result"
    }
   ],
   "source": [
    "merged_app_df['ko_genre'] = 0\n",
    "merged_app_df['ko_contentRating'] = 0\n",
    "merged_app_df['ko_min_price'] = 0\n",
    "merged_app_df['ko_max_price'] = 0\n",
    "\n",
    "# Mark duplciated app rows\n",
    "merged_app_df['app_dup'] = 0\n",
    "merged_app_df['app_dup'][merged_app_df.duplicated(subset='app_id', keep = False)] = 1 \n",
    "merged_app_df['app_dup'].value_counts()"
   ]
  },
  {
   "cell_type": "code",
   "execution_count": 23,
   "metadata": {},
   "outputs": [
    {
     "data": {
      "text/plain": [
       "{-1}"
      ]
     },
     "execution_count": 23,
     "metadata": {},
     "output_type": "execute_result"
    }
   ],
   "source": [
    "# For the duplicated values, Australia comes first and South Korea comes next \n",
    "merged_app_df = merged_app_df.sort_values(['app_id', 'country']).reset_index(drop = True)\n",
    "\n",
    "# Check if South Korea comes right after Australia. If there are only -1s, then it is true\n",
    "au_index = merged_app_df[(merged_app_df.duplicated(subset='app_id', keep = False)) & (merged_app_df['country'] == 'Australia')].index\n",
    "ko_index = merged_app_df[(merged_app_df.duplicated(subset='app_id', keep = False)) & (merged_app_df['country'] == 'Korea')].index\n",
    "idx = au_index - ko_index\n",
    "set(idx)"
   ]
  },
  {
   "cell_type": "code",
   "execution_count": null,
   "metadata": {},
   "outputs": [],
   "source": []
  },
  {
   "cell_type": "code",
   "execution_count": 34,
   "metadata": {},
   "outputs": [],
   "source": [
    "# Put duplicated app's info that country is South Korea to duplicated apps' rows that country is Australia\n",
    "\n",
    "#                   app_id                          title\tdate_collected\tfree  currency\tdeveloper\t        email\t            address\t                                        genre   contentRating\treleased   min_price max_price\tdev_country\t   country\tapp_dup\tko_genre  ko_contentRating\tko_min_price\tko_max_price\n",
    "# 2\tage.of.civilizations2.jakowski.lukasz\tAge of History II\t2023-08-15\tFalse\tUSD\tŁukasz Jakowski\tjakowskidev@gmail.com\ttwitter: @jakowskidev łukasz jakowski games pi...\tStrategy\tEveryone\t2018-12-04\t0.000\t0.00\t          uk\t  Australia\t    1\t    0\t        0\t            0.000\t    0.00\n",
    "# 3\tage.of.civilizations2.jakowski.lukasz\tAge of History II\t2023-08-10\tFalse\tKRW\tŁukasz Jakowski\tjakowskidev@gmail.com\ttwitter: @jakowskidev łukasz jakowski games pi...\tStrategy\t3 years+\t2018-12-04\t0.000\t0.00\t          uk\t  South Korea\t1\t    0\t        0\t            0.000\t    0.00\n",
    "# It turns into:\n",
    "#                   app_id                          title\tdate_collected\tfree  currency\tdeveloper\t        email\t            address\t                                        genre   contentRating\treleased\tmin_price\tmax_price\tdev_country\tcountry\t    app_dup\t    ko_genre\tko_contentRating\tko_min_price\tko_max_price\n",
    "# 2\tage.of.civilizations2.jakowski.lukasz\tAge of History II\t2023-08-15\tFalse\tUSD\tŁukasz Jakowski\tjakowskidev@gmail.com\ttwitter: @jakowskidev łukasz jakowski games pi...\tStrategy\tEveryone\t2018-12-04\t  0.000\t        0.00\t    uk\t    Australia\t    1\t    Strategy\t  3 years+\t            0.000\t        0.00\n",
    "\n",
    "for i in au_index:\n",
    "    merged_app_df.loc[i, 'ko_genre'] = merged_app_df.loc[i+1, 'en_genre']\n",
    "    merged_app_df.loc[i, 'ko_contentRating'] = merged_app_df.loc[i+1, 'en_content_rating']\n",
    "    merged_app_df.loc[i, 'ko_min_price'] = merged_app_df.loc[i+1, 'min_price']\n",
    "    merged_app_df.loc[i, 'ko_max_price'] = merged_app_df.loc[i+1, 'max_price']\n"
   ]
  },
  {
   "cell_type": "code",
   "execution_count": 24,
   "metadata": {},
   "outputs": [
    {
     "name": "stdout",
     "output_type": "stream",
     "text": [
      "3802\n"
     ]
    }
   ],
   "source": [
    "print(len(merged_app_df))"
   ]
  },
  {
   "cell_type": "code",
   "execution_count": 35,
   "metadata": {},
   "outputs": [
    {
     "data": {
      "text/html": [
       "<div>\n",
       "<style scoped>\n",
       "    .dataframe tbody tr th:only-of-type {\n",
       "        vertical-align: middle;\n",
       "    }\n",
       "\n",
       "    .dataframe tbody tr th {\n",
       "        vertical-align: top;\n",
       "    }\n",
       "\n",
       "    .dataframe thead th {\n",
       "        text-align: right;\n",
       "    }\n",
       "</style>\n",
       "<table border=\"1\" class=\"dataframe\">\n",
       "  <thead>\n",
       "    <tr style=\"text-align: right;\">\n",
       "      <th></th>\n",
       "      <th>app_id</th>\n",
       "      <th>title</th>\n",
       "      <th>date_collected</th>\n",
       "      <th>free</th>\n",
       "      <th>currency</th>\n",
       "      <th>developer</th>\n",
       "      <th>email</th>\n",
       "      <th>address</th>\n",
       "      <th>genre</th>\n",
       "      <th>content_rating</th>\n",
       "      <th>...</th>\n",
       "      <th>max_price</th>\n",
       "      <th>dev_country</th>\n",
       "      <th>country</th>\n",
       "      <th>en_genre</th>\n",
       "      <th>en_content_rating</th>\n",
       "      <th>ko_genre</th>\n",
       "      <th>ko_contentRating</th>\n",
       "      <th>ko_min_price</th>\n",
       "      <th>ko_max_price</th>\n",
       "      <th>app_dup</th>\n",
       "    </tr>\n",
       "  </thead>\n",
       "  <tbody>\n",
       "    <tr>\n",
       "      <th>2022</th>\n",
       "      <td>com.openai.chatgpt</td>\n",
       "      <td>ChatGPT</td>\n",
       "      <td>2023-08-10</td>\n",
       "      <td>True</td>\n",
       "      <td>USD</td>\n",
       "      <td>OpenAI</td>\n",
       "      <td>support@openai.com</td>\n",
       "      <td>none</td>\n",
       "      <td>Productivity</td>\n",
       "      <td>Teen</td>\n",
       "      <td>...</td>\n",
       "      <td>19.99</td>\n",
       "      <td>0</td>\n",
       "      <td>Australia</td>\n",
       "      <td>NaN</td>\n",
       "      <td>NaN</td>\n",
       "      <td>Productivity</td>\n",
       "      <td>12 years+</td>\n",
       "      <td>21.46</td>\n",
       "      <td>21.46</td>\n",
       "      <td>1</td>\n",
       "    </tr>\n",
       "    <tr>\n",
       "      <th>2023</th>\n",
       "      <td>com.openai.chatgpt</td>\n",
       "      <td>ChatGPT</td>\n",
       "      <td>2023-08-10</td>\n",
       "      <td>True</td>\n",
       "      <td>KRW</td>\n",
       "      <td>OpenAI</td>\n",
       "      <td>support@openai.com</td>\n",
       "      <td>none</td>\n",
       "      <td>생산성</td>\n",
       "      <td>12세 이상</td>\n",
       "      <td>...</td>\n",
       "      <td>21.46</td>\n",
       "      <td>0</td>\n",
       "      <td>Korea</td>\n",
       "      <td>Productivity</td>\n",
       "      <td>12 years+</td>\n",
       "      <td>0</td>\n",
       "      <td>0</td>\n",
       "      <td>0.00</td>\n",
       "      <td>0.00</td>\n",
       "      <td>1</td>\n",
       "    </tr>\n",
       "  </tbody>\n",
       "</table>\n",
       "<p>2 rows × 23 columns</p>\n",
       "</div>"
      ],
      "text/plain": [
       "                  app_id    title date_collected  free currency developer  \\\n",
       "2022  com.openai.chatgpt  ChatGPT     2023-08-10  True      USD    OpenAI   \n",
       "2023  com.openai.chatgpt  ChatGPT     2023-08-10  True      KRW    OpenAI   \n",
       "\n",
       "                   email address         genre content_rating  ... max_price  \\\n",
       "2022  support@openai.com    none  Productivity           Teen  ...     19.99   \n",
       "2023  support@openai.com    none           생산성         12세 이상  ...     21.46   \n",
       "\n",
       "     dev_country    country      en_genre en_content_rating      ko_genre  \\\n",
       "2022           0  Australia           NaN               NaN  Productivity   \n",
       "2023           0      Korea  Productivity         12 years+             0   \n",
       "\n",
       "     ko_contentRating ko_min_price ko_max_price app_dup  \n",
       "2022        12 years+        21.46        21.46       1  \n",
       "2023                0         0.00         0.00       1  \n",
       "\n",
       "[2 rows x 23 columns]"
      ]
     },
     "execution_count": 35,
     "metadata": {},
     "output_type": "execute_result"
    }
   ],
   "source": [
    "merged_app_df[merged_app_df['title'] == 'ChatGPT']"
   ]
  },
  {
   "cell_type": "code",
   "execution_count": 30,
   "metadata": {},
   "outputs": [
    {
     "name": "stdout",
     "output_type": "stream",
     "text": [
      "1204\n"
     ]
    }
   ],
   "source": [
    "print(len(merged_app_df[merged_app_df.duplicated(subset='app_id', keep = False)]))"
   ]
  },
  {
   "cell_type": "code",
   "execution_count": 38,
   "metadata": {},
   "outputs": [
    {
     "data": {
      "text/plain": [
       "3200.0"
      ]
     },
     "execution_count": 38,
     "metadata": {},
     "output_type": "execute_result"
    }
   ],
   "source": [
    "3802 - (1204/2)"
   ]
  },
  {
   "cell_type": "code",
   "execution_count": 39,
   "metadata": {},
   "outputs": [
    {
     "name": "stdout",
     "output_type": "stream",
     "text": [
      "3200\n"
     ]
    },
    {
     "data": {
      "text/html": [
       "<div>\n",
       "<style scoped>\n",
       "    .dataframe tbody tr th:only-of-type {\n",
       "        vertical-align: middle;\n",
       "    }\n",
       "\n",
       "    .dataframe tbody tr th {\n",
       "        vertical-align: top;\n",
       "    }\n",
       "\n",
       "    .dataframe thead th {\n",
       "        text-align: right;\n",
       "    }\n",
       "</style>\n",
       "<table border=\"1\" class=\"dataframe\">\n",
       "  <thead>\n",
       "    <tr style=\"text-align: right;\">\n",
       "      <th></th>\n",
       "      <th>app_id</th>\n",
       "      <th>title</th>\n",
       "      <th>date_collected</th>\n",
       "      <th>free</th>\n",
       "      <th>currency</th>\n",
       "      <th>developer</th>\n",
       "      <th>email</th>\n",
       "      <th>address</th>\n",
       "      <th>genre</th>\n",
       "      <th>content_rating</th>\n",
       "      <th>...</th>\n",
       "      <th>max_price</th>\n",
       "      <th>dev_country</th>\n",
       "      <th>country</th>\n",
       "      <th>en_genre</th>\n",
       "      <th>en_content_rating</th>\n",
       "      <th>ko_genre</th>\n",
       "      <th>ko_contentRating</th>\n",
       "      <th>ko_min_price</th>\n",
       "      <th>ko_max_price</th>\n",
       "      <th>app_dup</th>\n",
       "    </tr>\n",
       "  </thead>\n",
       "  <tbody>\n",
       "    <tr>\n",
       "      <th>0</th>\n",
       "      <td>OCTech.Mobile.Applications.TouchScan</td>\n",
       "      <td>OBD Fusion (Car Diagnostics)</td>\n",
       "      <td>2023-09-08</td>\n",
       "      <td>False</td>\n",
       "      <td>USD</td>\n",
       "      <td>OCTech, LLC</td>\n",
       "      <td>service@obdsoftware.net</td>\n",
       "      <td>4098 gibsonia road #215 gibsonia, pa 15044</td>\n",
       "      <td>Communication</td>\n",
       "      <td>Everyone</td>\n",
       "      <td>...</td>\n",
       "      <td>74.99</td>\n",
       "      <td>USA</td>\n",
       "      <td>Australia</td>\n",
       "      <td>NaN</td>\n",
       "      <td>NaN</td>\n",
       "      <td>0</td>\n",
       "      <td>0</td>\n",
       "      <td>0.000</td>\n",
       "      <td>0.00</td>\n",
       "      <td>0</td>\n",
       "    </tr>\n",
       "    <tr>\n",
       "      <th>1</th>\n",
       "      <td>adaptive.toons.app</td>\n",
       "      <td>Adaptive Toons Icon Pack</td>\n",
       "      <td>2023-10-10</td>\n",
       "      <td>False</td>\n",
       "      <td>USD</td>\n",
       "      <td>SKwallpapers</td>\n",
       "      <td>msk8898255565@gmail.com</td>\n",
       "      <td>mumbai, maharashtra.</td>\n",
       "      <td>Personalization</td>\n",
       "      <td>Everyone</td>\n",
       "      <td>...</td>\n",
       "      <td>0.00</td>\n",
       "      <td>0</td>\n",
       "      <td>Australia</td>\n",
       "      <td>NaN</td>\n",
       "      <td>NaN</td>\n",
       "      <td>0</td>\n",
       "      <td>0</td>\n",
       "      <td>0.000</td>\n",
       "      <td>0.00</td>\n",
       "      <td>0</td>\n",
       "    </tr>\n",
       "    <tr>\n",
       "      <th>2</th>\n",
       "      <td>age.of.civilizations2.jakowski.lukasz</td>\n",
       "      <td>Age of History II</td>\n",
       "      <td>2023-08-15</td>\n",
       "      <td>False</td>\n",
       "      <td>USD</td>\n",
       "      <td>Łukasz Jakowski</td>\n",
       "      <td>jakowskidev@gmail.com</td>\n",
       "      <td>twitter: @jakowskidev łukasz jakowski games pi...</td>\n",
       "      <td>Strategy</td>\n",
       "      <td>Everyone</td>\n",
       "      <td>...</td>\n",
       "      <td>0.00</td>\n",
       "      <td>UK</td>\n",
       "      <td>Australia</td>\n",
       "      <td>NaN</td>\n",
       "      <td>NaN</td>\n",
       "      <td>Strategy</td>\n",
       "      <td>3 years+</td>\n",
       "      <td>0.000</td>\n",
       "      <td>0.00</td>\n",
       "      <td>1</td>\n",
       "    </tr>\n",
       "    <tr>\n",
       "      <th>3</th>\n",
       "      <td>ai.art.generator.paint.draw.photo</td>\n",
       "      <td>AI Art Generator: Photo, Draw</td>\n",
       "      <td>2023-08-11</td>\n",
       "      <td>True</td>\n",
       "      <td>USD</td>\n",
       "      <td>Smart AI DEV</td>\n",
       "      <td>summerdaysc@outlook.com</td>\n",
       "      <td>none</td>\n",
       "      <td>Art &amp; Design</td>\n",
       "      <td>Everyone</td>\n",
       "      <td>...</td>\n",
       "      <td>39.99</td>\n",
       "      <td>0</td>\n",
       "      <td>Australia</td>\n",
       "      <td>NaN</td>\n",
       "      <td>NaN</td>\n",
       "      <td>Art/Design</td>\n",
       "      <td>3 years+</td>\n",
       "      <td>3.182</td>\n",
       "      <td>43.66</td>\n",
       "      <td>1</td>\n",
       "    </tr>\n",
       "    <tr>\n",
       "      <th>4</th>\n",
       "      <td>ai.chat.gpt.bot</td>\n",
       "      <td>ChatOn - 지능적인 AI 챗봇 한글버전</td>\n",
       "      <td>2023-12-13</td>\n",
       "      <td>True</td>\n",
       "      <td>KRW</td>\n",
       "      <td>AIBY Inc.</td>\n",
       "      <td>support@aiby.com</td>\n",
       "      <td>7901 4th street n ste 4913 st petersburg, fl 3...</td>\n",
       "      <td>생산성</td>\n",
       "      <td>3세 이상</td>\n",
       "      <td>...</td>\n",
       "      <td>62.90</td>\n",
       "      <td>USA</td>\n",
       "      <td>Korea</td>\n",
       "      <td>Productivity</td>\n",
       "      <td>3 years+</td>\n",
       "      <td>0</td>\n",
       "      <td>0</td>\n",
       "      <td>0.000</td>\n",
       "      <td>0.00</td>\n",
       "      <td>0</td>\n",
       "    </tr>\n",
       "  </tbody>\n",
       "</table>\n",
       "<p>5 rows × 23 columns</p>\n",
       "</div>"
      ],
      "text/plain": [
       "                                  app_id                          title  \\\n",
       "0   OCTech.Mobile.Applications.TouchScan   OBD Fusion (Car Diagnostics)   \n",
       "1                     adaptive.toons.app       Adaptive Toons Icon Pack   \n",
       "2  age.of.civilizations2.jakowski.lukasz              Age of History II   \n",
       "3      ai.art.generator.paint.draw.photo  AI Art Generator: Photo, Draw   \n",
       "4                        ai.chat.gpt.bot       ChatOn - 지능적인 AI 챗봇 한글버전   \n",
       "\n",
       "  date_collected   free currency        developer                    email  \\\n",
       "0     2023-09-08  False      USD      OCTech, LLC  service@obdsoftware.net   \n",
       "1     2023-10-10  False      USD     SKwallpapers  msk8898255565@gmail.com   \n",
       "2     2023-08-15  False      USD  Łukasz Jakowski    jakowskidev@gmail.com   \n",
       "3     2023-08-11   True      USD     Smart AI DEV  summerdaysc@outlook.com   \n",
       "4     2023-12-13   True      KRW        AIBY Inc.         support@aiby.com   \n",
       "\n",
       "                                             address            genre  \\\n",
       "0         4098 gibsonia road #215 gibsonia, pa 15044    Communication   \n",
       "1                               mumbai, maharashtra.  Personalization   \n",
       "2  twitter: @jakowskidev łukasz jakowski games pi...         Strategy   \n",
       "3                                               none     Art & Design   \n",
       "4  7901 4th street n ste 4913 st petersburg, fl 3...              생산성   \n",
       "\n",
       "  content_rating  ... max_price dev_country    country      en_genre  \\\n",
       "0       Everyone  ...     74.99         USA  Australia           NaN   \n",
       "1       Everyone  ...      0.00           0  Australia           NaN   \n",
       "2       Everyone  ...      0.00          UK  Australia           NaN   \n",
       "3       Everyone  ...     39.99           0  Australia           NaN   \n",
       "4          3세 이상  ...     62.90         USA      Korea  Productivity   \n",
       "\n",
       "  en_content_rating    ko_genre ko_contentRating ko_min_price ko_max_price  \\\n",
       "0               NaN           0                0        0.000         0.00   \n",
       "1               NaN           0                0        0.000         0.00   \n",
       "2               NaN    Strategy         3 years+        0.000         0.00   \n",
       "3               NaN  Art/Design         3 years+        3.182        43.66   \n",
       "4          3 years+           0                0        0.000         0.00   \n",
       "\n",
       "  app_dup  \n",
       "0       0  \n",
       "1       0  \n",
       "2       1  \n",
       "3       1  \n",
       "4       0  \n",
       "\n",
       "[5 rows x 23 columns]"
      ]
     },
     "execution_count": 39,
     "metadata": {},
     "output_type": "execute_result"
    }
   ],
   "source": [
    "merged_app_df.drop(index = ko_index, inplace = True)\n",
    "merged_app_df = merged_app_df.reset_index(drop = True)\n",
    "print(len(merged_app_df))\n",
    "merged_app_df.head()"
   ]
  },
  {
   "cell_type": "code",
   "execution_count": 41,
   "metadata": {},
   "outputs": [
    {
     "data": {
      "text/plain": [
       "Index(['app_id', 'date_collected', 'real_installs', 'score', 'ratings',\n",
       "       'reviews', 'score_1', 'score_2', 'score_3', 'score_4', 'score_5',\n",
       "       'price', 'install_diff', 'score_diff', 'rating_diff', 'review_diff',\n",
       "       'score_1_diff', 'score_2_diff', 'score_3_diff', 'score_4_diff',\n",
       "       'score_5_diff', 'country'],\n",
       "      dtype='object')"
      ]
     },
     "execution_count": 41,
     "metadata": {},
     "output_type": "execute_result"
    }
   ],
   "source": [
    "merged_app_num_df.columns"
   ]
  },
  {
   "cell_type": "code",
   "execution_count": 57,
   "metadata": {},
   "outputs": [
    {
     "data": {
      "text/plain": [
       "nan"
      ]
     },
     "execution_count": 57,
     "metadata": {},
     "output_type": "execute_result"
    }
   ],
   "source": [
    "np.nan"
   ]
  },
  {
   "cell_type": "code",
   "execution_count": null,
   "metadata": {},
   "outputs": [],
   "source": []
  },
  {
   "cell_type": "code",
   "execution_count": 62,
   "metadata": {},
   "outputs": [],
   "source": [
    "merged_app_df['date_collected'] = pd.to_datetime(merged_app_df['date_collected'])\n",
    "merged_app_df['released'] = pd.to_datetime(merged_app_df['released'].apply(lambda x: np.nan if x == '-1' else x))\n",
    "au_app_df['released'] = pd.to_datetime(au_app_df['released'].apply(lambda x: np.nan if x == '-1' else x))\n",
    "kr_app_df['released'] = pd.to_datetime(kr_app_df['released'].apply(lambda x: np.nan if x == '-1' else x))\n"
   ]
  },
  {
   "cell_type": "code",
   "execution_count": 63,
   "metadata": {},
   "outputs": [],
   "source": [
    "merged_app_df.to_csv('merged_app_df.csv', index = False)\n",
    "merged_app_num_df.to_csv('merged_app_num_df.csv', index = False)\n",
    "merged_rank_df.to_csv('merged_rank_df.csv', index = False)\n",
    "au_app_df.to_csv('12_au_app_df.csv', index = False)\n",
    "kr_app_df.to_csv('12_kr_app_df.csv', index = False)\n"
   ]
  },
  {
   "cell_type": "code",
   "execution_count": null,
   "metadata": {},
   "outputs": [],
   "source": []
  }
 ],
 "metadata": {
  "kernelspec": {
   "display_name": "Python 3",
   "language": "python",
   "name": "python3"
  },
  "language_info": {
   "codemirror_mode": {
    "name": "ipython",
    "version": 3
   },
   "file_extension": ".py",
   "mimetype": "text/x-python",
   "name": "python",
   "nbconvert_exporter": "python",
   "pygments_lexer": "ipython3",
   "version": "3.9.4"
  }
 },
 "nbformat": 4,
 "nbformat_minor": 2
}
