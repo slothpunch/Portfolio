{
 "cells": [
  {
   "cell_type": "code",
   "execution_count": 2,
   "id": "54806ad7",
   "metadata": {},
   "outputs": [],
   "source": [
    "import pandas as pd\n",
    "import re\n",
    "\n",
    "from geopy.geocoders import Nominatim\n",
    "# Call the nominatim tool\n",
    "geo_loc = Nominatim(user_agent=\"get_loc\")\n",
    "\n",
    "# For distance calculation\n",
    "from geopy.distance import geodesic"
   ]
  },
  {
   "cell_type": "code",
   "execution_count": 4,
   "id": "ec30456a",
   "metadata": {},
   "outputs": [],
   "source": [
    "pd.options.display.max_columns = 30\n",
    "pd.options.display.max_rows = 300"
   ]
  },
  {
   "cell_type": "markdown",
   "id": "9e0bc2e6",
   "metadata": {},
   "source": [
    "# Define df2"
   ]
  },
  {
   "cell_type": "markdown",
   "id": "8da81f64",
   "metadata": {},
   "source": [
    "I saved df2 as a file named Cyclistic_202010_202109_zip_code.csv. While working with this file in Tableau, I realised that I also needed coordinates for end points. So, I saved the file and named Cyclistic_202010_202109_zip_code_Tableau.csv. The Tableau.csv file containes more columns than the former one. "
   ]
  },
  {
   "cell_type": "code",
   "execution_count": 6,
   "id": "0a6c72af",
   "metadata": {},
   "outputs": [
    {
     "name": "stderr",
     "output_type": "stream",
     "text": [
      "D:\\Anaconda3\\lib\\site-packages\\IPython\\core\\interactiveshell.py:3441: DtypeWarning: Columns (6,8) have mixed types.Specify dtype option on import or set low_memory=False.\n",
      "  exec(code_obj, self.user_global_ns, self.user_ns)\n"
     ]
    },
    {
     "data": {
      "text/html": [
       "<div>\n",
       "<style scoped>\n",
       "    .dataframe tbody tr th:only-of-type {\n",
       "        vertical-align: middle;\n",
       "    }\n",
       "\n",
       "    .dataframe tbody tr th {\n",
       "        vertical-align: top;\n",
       "    }\n",
       "\n",
       "    .dataframe thead th {\n",
       "        text-align: right;\n",
       "    }\n",
       "</style>\n",
       "<table border=\"1\" class=\"dataframe\">\n",
       "  <thead>\n",
       "    <tr style=\"text-align: right;\">\n",
       "      <th></th>\n",
       "      <th>Unnamed: 0</th>\n",
       "      <th>ride_id</th>\n",
       "      <th>rideable_type</th>\n",
       "      <th>started_at</th>\n",
       "      <th>ended_at</th>\n",
       "      <th>start_station_name</th>\n",
       "      <th>start_station_id</th>\n",
       "      <th>end_station_name</th>\n",
       "      <th>end_station_id</th>\n",
       "      <th>start_lat</th>\n",
       "      <th>start_lng</th>\n",
       "      <th>end_lat</th>\n",
       "      <th>end_lng</th>\n",
       "      <th>member_casual</th>\n",
       "      <th>riding_days</th>\n",
       "      <th>riding_time</th>\n",
       "      <th>zip_code</th>\n",
       "    </tr>\n",
       "  </thead>\n",
       "  <tbody>\n",
       "    <tr>\n",
       "      <th>0</th>\n",
       "      <td>0</td>\n",
       "      <td>ACB6B40CF5B9044C</td>\n",
       "      <td>electric_bike</td>\n",
       "      <td>2020-10-31 19:39:43</td>\n",
       "      <td>2020-10-31 19:57:12</td>\n",
       "      <td>Lakeview Ave &amp; Fullerton Pkwy</td>\n",
       "      <td>313.0</td>\n",
       "      <td>Rush St &amp; Hubbard St</td>\n",
       "      <td>125.0</td>\n",
       "      <td>41.926101</td>\n",
       "      <td>-87.638977</td>\n",
       "      <td>41.890345</td>\n",
       "      <td>-87.626068</td>\n",
       "      <td>casual</td>\n",
       "      <td>0</td>\n",
       "      <td>00:17:29</td>\n",
       "      <td>60614</td>\n",
       "    </tr>\n",
       "    <tr>\n",
       "      <th>1</th>\n",
       "      <td>1</td>\n",
       "      <td>DF450C72FD109C01</td>\n",
       "      <td>electric_bike</td>\n",
       "      <td>2020-10-31 23:50:08</td>\n",
       "      <td>2020-11-01 00:04:16</td>\n",
       "      <td>Southport Ave &amp; Waveland Ave</td>\n",
       "      <td>227.0</td>\n",
       "      <td>Kedzie Ave &amp; Milwaukee Ave</td>\n",
       "      <td>260.0</td>\n",
       "      <td>41.948172</td>\n",
       "      <td>-87.663911</td>\n",
       "      <td>41.929528</td>\n",
       "      <td>-87.707818</td>\n",
       "      <td>casual</td>\n",
       "      <td>0</td>\n",
       "      <td>00:14:08</td>\n",
       "      <td>60613</td>\n",
       "    </tr>\n",
       "    <tr>\n",
       "      <th>2</th>\n",
       "      <td>2</td>\n",
       "      <td>B6396B54A15AC0DF</td>\n",
       "      <td>electric_bike</td>\n",
       "      <td>2020-10-31 23:00:01</td>\n",
       "      <td>2020-10-31 23:08:22</td>\n",
       "      <td>Stony Island Ave &amp; 67th St</td>\n",
       "      <td>102.0</td>\n",
       "      <td>University Ave &amp; 57th St</td>\n",
       "      <td>423.0</td>\n",
       "      <td>41.773462</td>\n",
       "      <td>-87.585372</td>\n",
       "      <td>41.791455</td>\n",
       "      <td>-87.600050</td>\n",
       "      <td>casual</td>\n",
       "      <td>0</td>\n",
       "      <td>00:08:21</td>\n",
       "      <td>60649</td>\n",
       "    </tr>\n",
       "    <tr>\n",
       "      <th>3</th>\n",
       "      <td>3</td>\n",
       "      <td>44A4AEE261B9E854</td>\n",
       "      <td>electric_bike</td>\n",
       "      <td>2020-10-31 22:16:43</td>\n",
       "      <td>2020-10-31 22:19:35</td>\n",
       "      <td>Clark St &amp; Grace St</td>\n",
       "      <td>165.0</td>\n",
       "      <td>Broadway &amp; Sheridan Rd</td>\n",
       "      <td>256.0</td>\n",
       "      <td>41.950855</td>\n",
       "      <td>-87.659244</td>\n",
       "      <td>41.952809</td>\n",
       "      <td>-87.650103</td>\n",
       "      <td>casual</td>\n",
       "      <td>0</td>\n",
       "      <td>00:02:52</td>\n",
       "      <td>60613</td>\n",
       "    </tr>\n",
       "    <tr>\n",
       "      <th>4</th>\n",
       "      <td>4</td>\n",
       "      <td>10B7DD76A6A2EB95</td>\n",
       "      <td>electric_bike</td>\n",
       "      <td>2020-10-31 19:38:19</td>\n",
       "      <td>2020-10-31 19:54:32</td>\n",
       "      <td>Southport Ave &amp; Wrightwood Ave</td>\n",
       "      <td>190.0</td>\n",
       "      <td>Stave St &amp; Armitage Ave</td>\n",
       "      <td>185.0</td>\n",
       "      <td>41.928857</td>\n",
       "      <td>-87.663962</td>\n",
       "      <td>41.917777</td>\n",
       "      <td>-87.691434</td>\n",
       "      <td>casual</td>\n",
       "      <td>0</td>\n",
       "      <td>00:16:13</td>\n",
       "      <td>60613</td>\n",
       "    </tr>\n",
       "  </tbody>\n",
       "</table>\n",
       "</div>"
      ],
      "text/plain": [
       "   Unnamed: 0           ride_id  rideable_type           started_at  \\\n",
       "0           0  ACB6B40CF5B9044C  electric_bike  2020-10-31 19:39:43   \n",
       "1           1  DF450C72FD109C01  electric_bike  2020-10-31 23:50:08   \n",
       "2           2  B6396B54A15AC0DF  electric_bike  2020-10-31 23:00:01   \n",
       "3           3  44A4AEE261B9E854  electric_bike  2020-10-31 22:16:43   \n",
       "4           4  10B7DD76A6A2EB95  electric_bike  2020-10-31 19:38:19   \n",
       "\n",
       "              ended_at              start_station_name start_station_id  \\\n",
       "0  2020-10-31 19:57:12   Lakeview Ave & Fullerton Pkwy            313.0   \n",
       "1  2020-11-01 00:04:16    Southport Ave & Waveland Ave            227.0   \n",
       "2  2020-10-31 23:08:22      Stony Island Ave & 67th St            102.0   \n",
       "3  2020-10-31 22:19:35             Clark St & Grace St            165.0   \n",
       "4  2020-10-31 19:54:32  Southport Ave & Wrightwood Ave            190.0   \n",
       "\n",
       "             end_station_name end_station_id  start_lat  start_lng    end_lat  \\\n",
       "0        Rush St & Hubbard St          125.0  41.926101 -87.638977  41.890345   \n",
       "1  Kedzie Ave & Milwaukee Ave          260.0  41.948172 -87.663911  41.929528   \n",
       "2    University Ave & 57th St          423.0  41.773462 -87.585372  41.791455   \n",
       "3      Broadway & Sheridan Rd          256.0  41.950855 -87.659244  41.952809   \n",
       "4     Stave St & Armitage Ave          185.0  41.928857 -87.663962  41.917777   \n",
       "\n",
       "     end_lng member_casual  riding_days riding_time  zip_code  \n",
       "0 -87.626068        casual            0    00:17:29     60614  \n",
       "1 -87.707818        casual            0    00:14:08     60613  \n",
       "2 -87.600050        casual            0    00:08:21     60649  \n",
       "3 -87.650103        casual            0    00:02:52     60613  \n",
       "4 -87.691434        casual            0    00:16:13     60613  "
      ]
     },
     "execution_count": 6,
     "metadata": {},
     "output_type": "execute_result"
    }
   ],
   "source": [
    "pd.read_csv('Cyclistic_202010_202109_zip_code.csv').head()"
   ]
  },
  {
   "cell_type": "code",
   "execution_count": 5,
   "id": "ec90ce38",
   "metadata": {},
   "outputs": [
    {
     "data": {
      "text/html": [
       "<div>\n",
       "<style scoped>\n",
       "    .dataframe tbody tr th:only-of-type {\n",
       "        vertical-align: middle;\n",
       "    }\n",
       "\n",
       "    .dataframe tbody tr th {\n",
       "        vertical-align: top;\n",
       "    }\n",
       "\n",
       "    .dataframe thead th {\n",
       "        text-align: right;\n",
       "    }\n",
       "</style>\n",
       "<table border=\"1\" class=\"dataframe\">\n",
       "  <thead>\n",
       "    <tr style=\"text-align: right;\">\n",
       "      <th></th>\n",
       "      <th>day_of_week</th>\n",
       "      <th>End Station Id</th>\n",
       "      <th>End Station Name</th>\n",
       "      <th>Ended At</th>\n",
       "      <th>Member Casual</th>\n",
       "      <th>Ride Id</th>\n",
       "      <th>Rideable Type</th>\n",
       "      <th>Riding Time</th>\n",
       "      <th>season</th>\n",
       "      <th>Start Station Id</th>\n",
       "      <th>Start Station Name</th>\n",
       "      <th>Started At</th>\n",
       "      <th>Zip Code</th>\n",
       "      <th>classic_bike</th>\n",
       "      <th>docked_bike</th>\n",
       "      <th>electrict_bike</th>\n",
       "      <th>End Lat</th>\n",
       "      <th>End Lng</th>\n",
       "      <th>F1</th>\n",
       "      <th>Riding Days</th>\n",
       "      <th>riding_time</th>\n",
       "      <th>Start Lat</th>\n",
       "      <th>Start Lng</th>\n",
       "      <th>test</th>\n",
       "    </tr>\n",
       "  </thead>\n",
       "  <tbody>\n",
       "    <tr>\n",
       "      <th>0</th>\n",
       "      <td>Friday</td>\n",
       "      <td>NaN</td>\n",
       "      <td>Central St &amp; Girard Ave</td>\n",
       "      <td>26/03/2021 4:28:58 PM</td>\n",
       "      <td>casual</td>\n",
       "      <td>56A8B5FB254C94A8</td>\n",
       "      <td>classic_bike</td>\n",
       "      <td>30/12/1899 12:02:15 AM</td>\n",
       "      <td>SPRING</td>\n",
       "      <td>NaN</td>\n",
       "      <td>Central St &amp; Girard Ave</td>\n",
       "      <td>26/03/2021 4:26:43 PM</td>\n",
       "      <td>60201</td>\n",
       "      <td>100</td>\n",
       "      <td>0</td>\n",
       "      <td>0</td>\n",
       "      <td>42.064313</td>\n",
       "      <td>-87.686152</td>\n",
       "      <td>1069469</td>\n",
       "      <td>0</td>\n",
       "      <td>2.250000</td>\n",
       "      <td>42.064313</td>\n",
       "      <td>-87.686152</td>\n",
       "      <td>12</td>\n",
       "    </tr>\n",
       "    <tr>\n",
       "      <th>1</th>\n",
       "      <td>Sunday</td>\n",
       "      <td>NaN</td>\n",
       "      <td>Chicago Ave &amp; Sheridan Rd</td>\n",
       "      <td>21/03/2021 12:34:04 AM</td>\n",
       "      <td>casual</td>\n",
       "      <td>A590F743136B3155</td>\n",
       "      <td>classic_bike</td>\n",
       "      <td>30/12/1899 12:07:54 AM</td>\n",
       "      <td>SPRING</td>\n",
       "      <td>NaN</td>\n",
       "      <td>Central St &amp; Girard Ave</td>\n",
       "      <td>21/03/2021 12:26:10 AM</td>\n",
       "      <td>60201</td>\n",
       "      <td>100</td>\n",
       "      <td>0</td>\n",
       "      <td>0</td>\n",
       "      <td>42.050491</td>\n",
       "      <td>-87.677821</td>\n",
       "      <td>1120787</td>\n",
       "      <td>0</td>\n",
       "      <td>7.900000</td>\n",
       "      <td>42.064313</td>\n",
       "      <td>-87.686152</td>\n",
       "      <td>12</td>\n",
       "    </tr>\n",
       "    <tr>\n",
       "      <th>2</th>\n",
       "      <td>Saturday</td>\n",
       "      <td>NaN</td>\n",
       "      <td>Chicago Ave &amp; Sheridan Rd</td>\n",
       "      <td>27/03/2021 11:57:42 PM</td>\n",
       "      <td>casual</td>\n",
       "      <td>B31A34D7687BCCB6</td>\n",
       "      <td>classic_bike</td>\n",
       "      <td>30/12/1899 12:09:31 AM</td>\n",
       "      <td>SPRING</td>\n",
       "      <td>NaN</td>\n",
       "      <td>Central St &amp; Girard Ave</td>\n",
       "      <td>27/03/2021 11:48:11 PM</td>\n",
       "      <td>60201</td>\n",
       "      <td>100</td>\n",
       "      <td>0</td>\n",
       "      <td>0</td>\n",
       "      <td>42.050491</td>\n",
       "      <td>-87.677821</td>\n",
       "      <td>1120786</td>\n",
       "      <td>0</td>\n",
       "      <td>9.516667</td>\n",
       "      <td>42.064313</td>\n",
       "      <td>-87.686152</td>\n",
       "      <td>12</td>\n",
       "    </tr>\n",
       "    <tr>\n",
       "      <th>3</th>\n",
       "      <td>Tuesday</td>\n",
       "      <td>NaN</td>\n",
       "      <td>Chicago Ave &amp; Sheridan Rd</td>\n",
       "      <td>30/03/2021 12:49:23 AM</td>\n",
       "      <td>casual</td>\n",
       "      <td>EC02351300FB9ACA</td>\n",
       "      <td>classic_bike</td>\n",
       "      <td>30/12/1899 12:10:59 AM</td>\n",
       "      <td>SPRING</td>\n",
       "      <td>NaN</td>\n",
       "      <td>Central St &amp; Girard Ave</td>\n",
       "      <td>30/03/2021 12:38:24 AM</td>\n",
       "      <td>60201</td>\n",
       "      <td>100</td>\n",
       "      <td>0</td>\n",
       "      <td>0</td>\n",
       "      <td>42.050491</td>\n",
       "      <td>-87.677821</td>\n",
       "      <td>1120758</td>\n",
       "      <td>0</td>\n",
       "      <td>10.983333</td>\n",
       "      <td>42.064313</td>\n",
       "      <td>-87.686152</td>\n",
       "      <td>12</td>\n",
       "    </tr>\n",
       "    <tr>\n",
       "      <th>4</th>\n",
       "      <td>Friday</td>\n",
       "      <td>NaN</td>\n",
       "      <td>Chicago Ave &amp; Washington St</td>\n",
       "      <td>19/03/2021 4:08:50 PM</td>\n",
       "      <td>casual</td>\n",
       "      <td>EBB287674E81F7F2</td>\n",
       "      <td>classic_bike</td>\n",
       "      <td>30/12/1899 12:25:59 AM</td>\n",
       "      <td>WINTER</td>\n",
       "      <td>NaN</td>\n",
       "      <td>Central St &amp; Girard Ave</td>\n",
       "      <td>19/03/2021 3:42:51 PM</td>\n",
       "      <td>60201</td>\n",
       "      <td>100</td>\n",
       "      <td>0</td>\n",
       "      <td>0</td>\n",
       "      <td>42.032562</td>\n",
       "      <td>-87.679101</td>\n",
       "      <td>1075926</td>\n",
       "      <td>0</td>\n",
       "      <td>25.983333</td>\n",
       "      <td>42.064313</td>\n",
       "      <td>-87.686152</td>\n",
       "      <td>12</td>\n",
       "    </tr>\n",
       "  </tbody>\n",
       "</table>\n",
       "</div>"
      ],
      "text/plain": [
       "  day_of_week  End Station Id             End Station Name  \\\n",
       "0      Friday             NaN      Central St & Girard Ave   \n",
       "1      Sunday             NaN    Chicago Ave & Sheridan Rd   \n",
       "2    Saturday             NaN    Chicago Ave & Sheridan Rd   \n",
       "3     Tuesday             NaN    Chicago Ave & Sheridan Rd   \n",
       "4      Friday             NaN  Chicago Ave & Washington St   \n",
       "\n",
       "                 Ended At Member Casual           Ride Id Rideable Type  \\\n",
       "0   26/03/2021 4:28:58 PM        casual  56A8B5FB254C94A8  classic_bike   \n",
       "1  21/03/2021 12:34:04 AM        casual  A590F743136B3155  classic_bike   \n",
       "2  27/03/2021 11:57:42 PM        casual  B31A34D7687BCCB6  classic_bike   \n",
       "3  30/03/2021 12:49:23 AM        casual  EC02351300FB9ACA  classic_bike   \n",
       "4   19/03/2021 4:08:50 PM        casual  EBB287674E81F7F2  classic_bike   \n",
       "\n",
       "              Riding Time  season  Start Station Id       Start Station Name  \\\n",
       "0  30/12/1899 12:02:15 AM  SPRING               NaN  Central St & Girard Ave   \n",
       "1  30/12/1899 12:07:54 AM  SPRING               NaN  Central St & Girard Ave   \n",
       "2  30/12/1899 12:09:31 AM  SPRING               NaN  Central St & Girard Ave   \n",
       "3  30/12/1899 12:10:59 AM  SPRING               NaN  Central St & Girard Ave   \n",
       "4  30/12/1899 12:25:59 AM  WINTER               NaN  Central St & Girard Ave   \n",
       "\n",
       "               Started At  Zip Code  classic_bike  docked_bike  \\\n",
       "0   26/03/2021 4:26:43 PM     60201           100            0   \n",
       "1  21/03/2021 12:26:10 AM     60201           100            0   \n",
       "2  27/03/2021 11:48:11 PM     60201           100            0   \n",
       "3  30/03/2021 12:38:24 AM     60201           100            0   \n",
       "4   19/03/2021 3:42:51 PM     60201           100            0   \n",
       "\n",
       "   electrict_bike    End Lat    End Lng       F1  Riding Days  riding_time  \\\n",
       "0               0  42.064313 -87.686152  1069469            0     2.250000   \n",
       "1               0  42.050491 -87.677821  1120787            0     7.900000   \n",
       "2               0  42.050491 -87.677821  1120786            0     9.516667   \n",
       "3               0  42.050491 -87.677821  1120758            0    10.983333   \n",
       "4               0  42.032562 -87.679101  1075926            0    25.983333   \n",
       "\n",
       "   Start Lat  Start Lng  test  \n",
       "0  42.064313 -87.686152    12  \n",
       "1  42.064313 -87.686152    12  \n",
       "2  42.064313 -87.686152    12  \n",
       "3  42.064313 -87.686152    12  \n",
       "4  42.064313 -87.686152    12  "
      ]
     },
     "execution_count": 5,
     "metadata": {},
     "output_type": "execute_result"
    }
   ],
   "source": [
    "df2 = pd.read_csv('Cyclistic_202010_202109_zip_code_Tableau.csv')\n",
    "df2.head()"
   ]
  },
  {
   "cell_type": "code",
   "execution_count": null,
   "id": "2c8646c2",
   "metadata": {},
   "outputs": [],
   "source": [
    "df2.isnull().sum()"
   ]
  },
  {
   "cell_type": "markdown",
   "id": "1a90f6e7",
   "metadata": {},
   "source": [
    "Drop null *End Lat* and *End Lng*"
   ]
  },
  {
   "cell_type": "code",
   "execution_count": null,
   "id": "182e2551",
   "metadata": {},
   "outputs": [],
   "source": [
    "len(df2)"
   ]
  },
  {
   "cell_type": "code",
   "execution_count": null,
   "id": "4e8177ca",
   "metadata": {},
   "outputs": [],
   "source": [
    "len(df2.loc[(df2['End Lat'].isnull()) | (df2['End Lng'].isnull())])"
   ]
  },
  {
   "cell_type": "code",
   "execution_count": null,
   "id": "db78441e",
   "metadata": {},
   "outputs": [],
   "source": [
    "5132294 - 2661"
   ]
  },
  {
   "cell_type": "code",
   "execution_count": null,
   "id": "e1b7d4ea",
   "metadata": {},
   "outputs": [],
   "source": [
    "len(df2.dropna(axis = 0, subset = ['End Lat', 'End Lng']))"
   ]
  },
  {
   "cell_type": "code",
   "execution_count": null,
   "id": "6f40b7e9",
   "metadata": {},
   "outputs": [],
   "source": [
    "df2 = df2.dropna(axis = 0, subset = ['End Lat', 'End Lng'])\n",
    "df2.isnull().sum()"
   ]
  },
  {
   "cell_type": "code",
   "execution_count": null,
   "id": "e0acc552",
   "metadata": {},
   "outputs": [],
   "source": [
    "df2.columns"
   ]
  },
  {
   "cell_type": "markdown",
   "id": "598b497d",
   "metadata": {},
   "source": [
    "# Define df3"
   ]
  },
  {
   "cell_type": "code",
   "execution_count": null,
   "id": "f458d1ad",
   "metadata": {},
   "outputs": [],
   "source": [
    "df3 = df2.loc[:,('Start Lat', 'Start Lng', 'Zip Code', 'End Lat', 'End Lng')].astype(str)\n",
    "df3['start_lat_lng'] = df3.loc[:, 'Start Lat'].str[:6]+', '+df3.loc[:, 'Start Lng'].str[:7]\n",
    "df3['end_lat_lng'] = df3.loc[:, 'End Lat'].str[:6]+', '+df3.loc[:, 'End Lng'].str[:7]\n",
    "df3.head()"
   ]
  },
  {
   "cell_type": "code",
   "execution_count": null,
   "id": "7983d5f6",
   "metadata": {},
   "outputs": [],
   "source": [
    "df3['end_lat_lng'].nunique()"
   ]
  },
  {
   "cell_type": "code",
   "execution_count": null,
   "id": "1b4b1abb",
   "metadata": {},
   "outputs": [],
   "source": [
    "# Drop duplicates of end_lat_lng\n",
    "df3 = df3.drop_duplicates(subset = 'end_lat_lng')\n",
    "df3 = df3.reset_index()\n",
    "df3.head()"
   ]
  },
  {
   "cell_type": "code",
   "execution_count": null,
   "id": "714f8c7c",
   "metadata": {},
   "outputs": [],
   "source": [
    "print(len(df3))\n",
    "df3.isnull().sum()"
   ]
  },
  {
   "cell_type": "code",
   "execution_count": null,
   "id": "1ff773d0",
   "metadata": {},
   "outputs": [],
   "source": [
    "print(df3['start_lat_lng'].nunique(), df3['end_lat_lng'].nunique())"
   ]
  },
  {
   "cell_type": "markdown",
   "id": "66b2b4e5",
   "metadata": {},
   "source": [
    "# df3 End lat lng\n",
    "\n",
    "Take the integer part\n",
    "\n",
    "[start:end]\n",
    "\n",
    "[start:end]\n",
    "\n",
    "...\n",
    "\n",
    "Last. [start:]"
   ]
  },
  {
   "cell_type": "code",
   "execution_count": null,
   "id": "70b1a602",
   "metadata": {},
   "outputs": [],
   "source": [
    "df3['end_lat_lng'].nunique()/800 # 6801"
   ]
  },
  {
   "cell_type": "code",
   "execution_count": null,
   "id": "7d67db25",
   "metadata": {},
   "outputs": [],
   "source": [
    "# Set segement size\n",
    "seg_size = 800\n",
    "# Take only integer part\n",
    "integer_part = df3['end_lat_lng'].nunique()//seg_size\n",
    "# Set 0 for start and seg_size (800) for end\n",
    "start = 0\n",
    "end = seg_size\n",
    "\n",
    "seg_list = []\n",
    "index_list = []\n",
    "\n",
    "# The range is integer_part + 1, which is 8 + 1. The last loop 1 is for residual numbers. \n",
    "for i in range(integer_part+1):\n",
    "    if i != integer_part:\n",
    "        seg_list.append(df3.loc[start:end])\n",
    "        index_list.append(seg_list[i].index)\n",
    "        start = end + 1\n",
    "        end = end + seg_size    \n",
    "    else:\n",
    "        seg_list.append(df3.loc[start:])\n",
    "        index_list.append(seg_list[i].index)"
   ]
  },
  {
   "cell_type": "code",
   "execution_count": null,
   "id": "5a94137e",
   "metadata": {},
   "outputs": [],
   "source": [
    "# Get addresses \n",
    "add_list = []\n",
    "# 1704 - 1750\n",
    "for i in range(len(index_list)):\n",
    "    for j in range(index_list[i].start, index_list[i].stop):\n",
    "#         zip_code_list.append(geo_loc.reverse(df3.loc[j, 'end_lat_lng']).raw['address']['postcode'])\n",
    "        # Get address part\n",
    "        add_list.append(geo_loc.geocode(seg_list[i].loc[j, 'end_lat_lng']).address)    \n"
   ]
  },
  {
   "cell_type": "code",
   "execution_count": null,
   "id": "1b166319",
   "metadata": {},
   "outputs": [],
   "source": [
    "# combine add_list into comb_add_list\n",
    "comb_add_list = []\n",
    "\n",
    "for i in range(len(add_list)):\n",
    "    comb_add_list += add_list[i]\n",
    "len(comb_add_list)"
   ]
  },
  {
   "cell_type": "code",
   "execution_count": null,
   "id": "7138b8e5",
   "metadata": {},
   "outputs": [],
   "source": [
    "# Add comb_add_list to df3 as end_address\n",
    "df3['end_address'] = comb_add_list\n",
    "df3.head()"
   ]
  },
  {
   "cell_type": "code",
   "execution_count": null,
   "id": "be52ebdf",
   "metadata": {},
   "outputs": [],
   "source": [
    "# Check null values\n",
    "df3.isnull().sum()"
   ]
  },
  {
   "cell_type": "code",
   "execution_count": null,
   "id": "6e042b52",
   "metadata": {},
   "outputs": [],
   "source": [
    "# Save df3 to csv file\n",
    "df3.to_csv('df3_end_add_n_distance.csv')"
   ]
  },
  {
   "cell_type": "code",
   "execution_count": null,
   "id": "a9c807e3",
   "metadata": {},
   "outputs": [],
   "source": [
    "df3 = pd.read_csv('df3_end_add_n_distance.csv')\n",
    "df3.drop(columns = 'Unnamed: 0', inplace = True)\n",
    "df3.head()"
   ]
  },
  {
   "cell_type": "code",
   "execution_count": null,
   "id": "8dd00377",
   "metadata": {},
   "outputs": [],
   "source": [
    "# Extract zip codes located at the second from the end\n",
    "df3['zip_code'] = df3['end_address'].apply(lambda x: x.split(',')[-2].strip())\n",
    "df3.head()"
   ]
  },
  {
   "cell_type": "code",
   "execution_count": null,
   "id": "91837cac",
   "metadata": {},
   "outputs": [],
   "source": [
    "# Check unqiue zip codes\n",
    "df3['zip_code'].unique()"
   ]
  },
  {
   "cell_type": "code",
   "execution_count": null,
   "id": "35129fe2",
   "metadata": {},
   "outputs": [],
   "source": [
    "# Select the wrong zip codes\n",
    "end_wrg_dict = {'index' : [], 'end_lat_lng': [], 'end_address' : [], 'zip_code' : []}\n",
    "\n",
    "for i in range(len(df3)):\n",
    "    # Select if the length of zip_code is not 5 or it doesn't start with 60 \n",
    "    if (len(df3['zip_code'][i]) != 5) | (re.search('^60', df3['zip_code'][i]) == None):\n",
    "        end_wrg_dict['index'].append(df3['index'][i])\n",
    "        end_wrg_dict['end_lat_lng'].append(df3['end_lat_lng'][i])\n",
    "        end_wrg_dict['end_address'].append(df3['end_address'][i])\n",
    "        end_wrg_dict['zip_code'].append(df3['zip_code'][i])\n",
    "\n",
    "df_end_wrg_dict = pd.DataFrame(end_wrg_dict)\n",
    "df_end_wrg_dict.head()"
   ]
  },
  {
   "cell_type": "code",
   "execution_count": null,
   "id": "cdf8ee63",
   "metadata": {},
   "outputs": [],
   "source": [
    "# Check value counts\n",
    "df_end_wrg_dict['zip_code'].value_counts()"
   ]
  },
  {
   "cell_type": "markdown",
   "id": "43627a46",
   "metadata": {},
   "source": [
    "# Different Geocoders\n",
    "https://gisgeography.com/geocoders/\n",
    "\n",
    "I chose ArcGIS for the incorrect zip codes. ArcGIS is free."
   ]
  },
  {
   "cell_type": "code",
   "execution_count": null,
   "id": "968a1ad0",
   "metadata": {},
   "outputs": [],
   "source": [
    "from geopy.geocoders import AzureMaps\n",
    "sub_key = ''\n",
    "# Set geocoder. I used AzureMaps I have a free subscription\n",
    "# Free geocoders sometimes give the wrong address, and that is the reason why I am doing an extra work\n",
    "# as they've given me the wrong addresses.\n",
    "geocoder = AzureMaps(subscription_key= sub_key ,user_agent = 'geoloc')"
   ]
  },
  {
   "cell_type": "code",
   "execution_count": null,
   "id": "3bb62787",
   "metadata": {},
   "outputs": [],
   "source": [
    "# Extract zip codes only from the full address\n",
    "df_end_wrg_dict['crr_zip_code'] = df_end_wrg_dict['end_lat_lng'].apply(lambda x: geocoder.reverse(query=(x)).raw['address']['postalCode'])\n",
    "df_end_wrg_dict.head()"
   ]
  },
  {
   "cell_type": "code",
   "execution_count": null,
   "id": "652411f3",
   "metadata": {},
   "outputs": [],
   "source": [
    "df_end_wrg_dict['crr_zip_code'].unique()"
   ]
  },
  {
   "cell_type": "markdown",
   "id": "b6cedbe9",
   "metadata": {},
   "source": [
    "#### But still there are some incorrect zip codes: '46327', '46320', '46312', '46394'"
   ]
  },
  {
   "cell_type": "code",
   "execution_count": null,
   "id": "be4b4162",
   "metadata": {},
   "outputs": [],
   "source": [
    "#\n",
    "incr_zc = {'index': [], 'end_lat_lng': [], 'crr_zip_code': []}\n",
    "\n",
    "for i in range(len(df_end_wrg_dict)):\n",
    "    if re.search('^6', df_end_wrg_dict['crr_zip_code'][i]) == None:\n",
    "        incr_zc['index'].append(df_end_wrg_dict['index'][i])\n",
    "        incr_zc['end_lat_lng'].append(df_end_wrg_dict['end_lat_lng'][i])\n",
    "        incr_zc['crr_zip_code'].append(df_end_wrg_dict['crr_zip_code'][i])\n",
    "\n",
    "df_incr_zc = pd.DataFrame(incr_zc)\n",
    "df_incr_zc.head()"
   ]
  },
  {
   "cell_type": "markdown",
   "id": "d9a2b17a",
   "metadata": {},
   "source": [
    "#### Only 71 out of 5M rows have these coordinates in list, so I can ignore them. "
   ]
  },
  {
   "cell_type": "code",
   "execution_count": null,
   "id": "d5693397",
   "metadata": {},
   "outputs": [],
   "source": [
    "list = df_incr_zc['end_lat_lng'].to_list()\n",
    "df2['end_lat_lng'].apply(lambda x: x in list).sum()"
   ]
  },
  {
   "cell_type": "code",
   "execution_count": null,
   "id": "9f4de041",
   "metadata": {},
   "outputs": [],
   "source": [
    "df_end_wrg_dict['crr_zip_code'].unique()"
   ]
  },
  {
   "cell_type": "code",
   "execution_count": null,
   "id": "9c2dd033",
   "metadata": {},
   "outputs": [],
   "source": [
    "df3['zip_code'].unique()"
   ]
  },
  {
   "cell_type": "markdown",
   "id": "b317cb8e",
   "metadata": {},
   "source": [
    "#### Put the correct zip codes from df_end_wrg_dict into df3 where 'index' matches"
   ]
  },
  {
   "cell_type": "code",
   "execution_count": null,
   "id": "5355600e",
   "metadata": {},
   "outputs": [],
   "source": [
    "row_num = 0\n",
    "\n",
    "for i in df_end_wrg_dict['index']:\n",
    "    df3.loc[df3['index'] == i, 'zip_code'] = df_end_wrg_dict.loc[df_end_wrg_dict['index'] == i, 'crr_zip_code'][row_num]\n",
    "    row_num += 1\n",
    "\n",
    "# Show the unique zip codes\n",
    "df3['zip_code'].unique()"
   ]
  },
  {
   "cell_type": "markdown",
   "id": "84c5e196",
   "metadata": {},
   "source": [
    "## Take the zip codes from *df3* and put them into *df2* "
   ]
  },
  {
   "cell_type": "code",
   "execution_count": null,
   "id": "37d3f93c",
   "metadata": {},
   "outputs": [],
   "source": [
    "# Change Zip Code to start_zip_code\n",
    "df2 = df2.rename(columns= {'Zip Code': 'start_zip_code'})\n",
    "# Add end_lat_lng_short\n",
    "df2['end_lat_lng_short'] = df2['End Lat'].astype(str).str[:6]+', '+df2['End Lng'].astype(str).str[:7]\n",
    "df2.head()"
   ]
  },
  {
   "cell_type": "code",
   "execution_count": null,
   "id": "daee10e7",
   "metadata": {},
   "outputs": [],
   "source": [
    "# Create end_zip_code\n",
    "df2['end_zip_code'] = 0\n",
    "row_no = 0\n",
    "# 1440 - 1526\n",
    "# Put the zip codes from df3 into df2\n",
    "for i in df3['end_lat_lng']:\n",
    "    print(row_no)\n",
    "    df2.loc[df2['end_lat_lng_short'] == i, 'end_zip_code'] = df3.loc[df3['end_lat_lng'] == i, 'zip_code'][row_no]\n",
    "    row_no += 1"
   ]
  },
  {
   "cell_type": "code",
   "execution_count": null,
   "id": "d0d5b735",
   "metadata": {},
   "outputs": [],
   "source": [
    "df2.isnull().sum()"
   ]
  },
  {
   "cell_type": "markdown",
   "id": "a96e3892",
   "metadata": {},
   "source": [
    "#### Add distance between start and end latitude and longitude"
   ]
  },
  {
   "cell_type": "code",
   "execution_count": null,
   "id": "801cadff",
   "metadata": {},
   "outputs": [],
   "source": [
    "df2['start_lat_lng'] = df2['Start Lat'].astype(str).str[:10]+', '+df2['Start Lng'].astype(str).str[:11]\n",
    "df2['end_lat_lng'] = df2['End Lat'].astype(str).str[:10]+', '+df2['End Lng'].astype(str).str[:11]\n",
    "\n",
    "# Calculate the distance between coordinates\n",
    "dist_list = []\n",
    "# 2008 - 2037\n",
    "for i in range(len(df2)):\n",
    "    dist_list.append(geodesic(df2.loc[i, 'start_lat_lng'], df2.loc[i, 'end_lat_lng']).m)\n",
    "\n",
    "df2['distance_m'] = dist_list\n",
    "df2['distance_m'] = round(df2['distance_m'],2)"
   ]
  },
  {
   "cell_type": "code",
   "execution_count": null,
   "id": "c8c41549",
   "metadata": {},
   "outputs": [],
   "source": [
    "df2.isnull().sum()"
   ]
  },
  {
   "cell_type": "code",
   "execution_count": null,
   "id": "517cb98c",
   "metadata": {},
   "outputs": [],
   "source": [
    "# Drop unnecessary columns\n",
    "df2 = df2.drop(columns = ['End Station Id', 'Start Station Id', 'Unnamed: 0', 'day_of_week', 'Riding Time', \n",
    "                    'F1', 'riding_time', 'season', 'classic_bike', 'docked_bike', 'electrict_bike', \n",
    "                    'test', 'start_lat_lng', 'end_lat_lng', 'end_lat_lng_short'])"
   ]
  },
  {
   "cell_type": "code",
   "execution_count": null,
   "id": "615c17d6",
   "metadata": {},
   "outputs": [],
   "source": [
    "# Save df2\n",
    "df2.to_csv('divvy_data_202010_202109.csv', index = False)"
   ]
  }
 ],
 "metadata": {
  "kernelspec": {
   "display_name": "Python 3 (ipykernel)",
   "language": "python",
   "name": "python3"
  },
  "language_info": {
   "codemirror_mode": {
    "name": "ipython",
    "version": 3
   },
   "file_extension": ".py",
   "mimetype": "text/x-python",
   "name": "python",
   "nbconvert_exporter": "python",
   "pygments_lexer": "ipython3",
   "version": "3.8.5"
  }
 },
 "nbformat": 4,
 "nbformat_minor": 5
}
