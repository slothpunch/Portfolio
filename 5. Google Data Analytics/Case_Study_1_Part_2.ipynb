{
 "cells": [
  {
   "cell_type": "code",
   "execution_count": 1,
   "id": "0e1cf5c2",
   "metadata": {},
   "outputs": [],
   "source": [
    "import pandas as pd\n",
    "import numpy as np\n",
    "# from datetime import *\n",
    "\n",
    "import matplotlib.pyplot as plt\n",
    "import seaborn as sns\n",
    "%matplotlib inline"
   ]
  },
  {
   "cell_type": "code",
   "execution_count": 2,
   "id": "b0226468",
   "metadata": {},
   "outputs": [
    {
     "name": "stdout",
     "output_type": "stream",
     "text": [
      " Volume in drive C has no label.\n",
      " Volume Serial Number is 72D0-BC6E\n",
      "\n",
      " Directory of C:\\Users\\GIS\\Documents\\A.Udemy\\Python\\Coursera\n",
      "\n",
      "22/11/2021  10:15 PM    <DIR>          .\n",
      "22/11/2021  10:15 PM    <DIR>          ..\n",
      "21/11/2021  08:44 PM    <DIR>          .ipynb_checkpoints\n",
      "11/11/2021  10:12 PM            16,449 .Rhistory\n",
      "11/11/2021  05:58 PM               907 123.md\n",
      "11/11/2021  05:58 PM               721 123.Rmd\n",
      "11/11/2021  05:58 PM    <DIR>          123_files\n",
      "05/11/2020  12:04 AM        69,333,608 202010-divvy-tripdata.csv\n",
      "05/12/2020  09:08 AM        46,203,255 202011-divvy-tripdata.csv\n",
      "06/01/2021  12:43 AM        25,031,027 202012-divvy-tripdata.csv\n",
      "05/02/2021  08:42 AM        18,391,685 202101-divvy-tripdata.csv\n",
      "10/03/2021  10:41 AM         9,365,975 202102-divvy-tripdata.csv\n",
      "09/04/2021  01:17 AM        43,555,310 202103-divvy-tripdata.csv\n",
      "08/05/2021  01:03 AM        64,035,536 202104-divvy-tripdata.csv\n",
      "12/06/2021  01:34 AM        99,896,575 202105-divvy-tripdata.csv\n",
      "16/07/2021  09:45 AM       136,439,093 202106-divvy-tripdata.csv\n",
      "14/08/2021  04:42 PM       154,040,041 202107-divvy-tripdata.csv\n",
      "03/09/2021  08:09 AM       150,970,305 202108-divvy-tripdata.csv\n",
      "05/10/2021  03:02 AM       141,130,996 202109-divvy-tripdata.csv\n",
      "04/11/2021  10:11 PM           257,529 Case Study 1.ipynb\n",
      "04/11/2021  09:57 PM            92,570 Case Study 1-Copy1.ipynb\n",
      "04/11/2021  01:39 PM           244,739 Case Study 1-Copy2.ipynb\n",
      "11/11/2021  10:12 PM             4,613 case_study_1.R\n",
      "04/11/2021  10:07 PM            66,973 Case_Study_1_Part_1.ipynb\n",
      "12/11/2021  05:54 PM           268,657 Case_Study_1_Part_2 - Copy (2).ipynb\n",
      "12/11/2021  05:04 PM           282,063 Case_Study_1_Part_2 - Copy.ipynb\n",
      "22/11/2021  10:15 PM           344,336 Case_Study_1_Part_2.ipynb\n",
      "21/11/2021  08:44 PM           344,188 Case_Study_1_Part_2-Copy1.ipynb\n",
      "02/11/2021  04:49 PM     1,056,898,058 Cyclistic_202010_202109.csv\n",
      "12/11/2021  09:50 PM             9,421 daily_hourly_ride_use.csv\n",
      "01/11/2021  03:18 PM             8,367 data_pd_concat.ipynb\n",
      "01/11/2021  02:47 PM       969,186,266 Divvy_Trips_202010_202109.csv\n",
      "02/11/2021  04:34 PM     1,056,235,761 finally.csv\n",
      "12/11/2021  06:29 PM     1,157,089,721 zero_Cyclistic_202010_202109.csv\n",
      "              30 File(s)  5,199,744,745 bytes\n",
      "               4 Dir(s)  56,546,832,384 bytes free\n"
     ]
    }
   ],
   "source": [
    "%ls"
   ]
  },
  {
   "cell_type": "code",
   "execution_count": 3,
   "id": "f3b84eb2",
   "metadata": {},
   "outputs": [
    {
     "name": "stderr",
     "output_type": "stream",
     "text": [
      "D:\\Anaconda3\\lib\\site-packages\\IPython\\core\\interactiveshell.py:3441: DtypeWarning: Columns (6,8) have mixed types.Specify dtype option on import or set low_memory=False.\n",
      "  exec(code_obj, self.user_global_ns, self.user_ns)\n"
     ]
    },
    {
     "data": {
      "text/html": [
       "<div>\n",
       "<style scoped>\n",
       "    .dataframe tbody tr th:only-of-type {\n",
       "        vertical-align: middle;\n",
       "    }\n",
       "\n",
       "    .dataframe tbody tr th {\n",
       "        vertical-align: top;\n",
       "    }\n",
       "\n",
       "    .dataframe thead th {\n",
       "        text-align: right;\n",
       "    }\n",
       "</style>\n",
       "<table border=\"1\" class=\"dataframe\">\n",
       "  <thead>\n",
       "    <tr style=\"text-align: right;\">\n",
       "      <th></th>\n",
       "      <th>Unnamed: 0</th>\n",
       "      <th>ride_id</th>\n",
       "      <th>rideable_type</th>\n",
       "      <th>started_at</th>\n",
       "      <th>ended_at</th>\n",
       "      <th>start_station_name</th>\n",
       "      <th>start_station_id</th>\n",
       "      <th>end_station_name</th>\n",
       "      <th>end_station_id</th>\n",
       "      <th>start_lat</th>\n",
       "      <th>start_lng</th>\n",
       "      <th>end_lat</th>\n",
       "      <th>end_lng</th>\n",
       "      <th>member_casual</th>\n",
       "      <th>riding_days</th>\n",
       "      <th>riding_time</th>\n",
       "    </tr>\n",
       "  </thead>\n",
       "  <tbody>\n",
       "    <tr>\n",
       "      <th>0</th>\n",
       "      <td>0</td>\n",
       "      <td>ACB6B40CF5B9044C</td>\n",
       "      <td>electric_bike</td>\n",
       "      <td>2020-10-31 19:39:43</td>\n",
       "      <td>2020-10-31 19:57:12</td>\n",
       "      <td>Lakeview Ave &amp; Fullerton Pkwy</td>\n",
       "      <td>313.0</td>\n",
       "      <td>Rush St &amp; Hubbard St</td>\n",
       "      <td>125.0</td>\n",
       "      <td>41.926101</td>\n",
       "      <td>-87.638977</td>\n",
       "      <td>41.890345</td>\n",
       "      <td>-87.626068</td>\n",
       "      <td>casual</td>\n",
       "      <td>0</td>\n",
       "      <td>00:17:29</td>\n",
       "    </tr>\n",
       "    <tr>\n",
       "      <th>1</th>\n",
       "      <td>1</td>\n",
       "      <td>DF450C72FD109C01</td>\n",
       "      <td>electric_bike</td>\n",
       "      <td>2020-10-31 23:50:08</td>\n",
       "      <td>2020-11-01 00:04:16</td>\n",
       "      <td>Southport Ave &amp; Waveland Ave</td>\n",
       "      <td>227.0</td>\n",
       "      <td>Kedzie Ave &amp; Milwaukee Ave</td>\n",
       "      <td>260.0</td>\n",
       "      <td>41.948172</td>\n",
       "      <td>-87.663911</td>\n",
       "      <td>41.929528</td>\n",
       "      <td>-87.707818</td>\n",
       "      <td>casual</td>\n",
       "      <td>0</td>\n",
       "      <td>00:14:08</td>\n",
       "    </tr>\n",
       "    <tr>\n",
       "      <th>2</th>\n",
       "      <td>2</td>\n",
       "      <td>B6396B54A15AC0DF</td>\n",
       "      <td>electric_bike</td>\n",
       "      <td>2020-10-31 23:00:01</td>\n",
       "      <td>2020-10-31 23:08:22</td>\n",
       "      <td>Stony Island Ave &amp; 67th St</td>\n",
       "      <td>102.0</td>\n",
       "      <td>University Ave &amp; 57th St</td>\n",
       "      <td>423.0</td>\n",
       "      <td>41.773462</td>\n",
       "      <td>-87.585372</td>\n",
       "      <td>41.791455</td>\n",
       "      <td>-87.600050</td>\n",
       "      <td>casual</td>\n",
       "      <td>0</td>\n",
       "      <td>00:08:21</td>\n",
       "    </tr>\n",
       "    <tr>\n",
       "      <th>3</th>\n",
       "      <td>3</td>\n",
       "      <td>44A4AEE261B9E854</td>\n",
       "      <td>electric_bike</td>\n",
       "      <td>2020-10-31 22:16:43</td>\n",
       "      <td>2020-10-31 22:19:35</td>\n",
       "      <td>Clark St &amp; Grace St</td>\n",
       "      <td>165.0</td>\n",
       "      <td>Broadway &amp; Sheridan Rd</td>\n",
       "      <td>256.0</td>\n",
       "      <td>41.950855</td>\n",
       "      <td>-87.659244</td>\n",
       "      <td>41.952809</td>\n",
       "      <td>-87.650103</td>\n",
       "      <td>casual</td>\n",
       "      <td>0</td>\n",
       "      <td>00:02:52</td>\n",
       "    </tr>\n",
       "    <tr>\n",
       "      <th>4</th>\n",
       "      <td>4</td>\n",
       "      <td>10B7DD76A6A2EB95</td>\n",
       "      <td>electric_bike</td>\n",
       "      <td>2020-10-31 19:38:19</td>\n",
       "      <td>2020-10-31 19:54:32</td>\n",
       "      <td>Southport Ave &amp; Wrightwood Ave</td>\n",
       "      <td>190.0</td>\n",
       "      <td>Stave St &amp; Armitage Ave</td>\n",
       "      <td>185.0</td>\n",
       "      <td>41.928857</td>\n",
       "      <td>-87.663962</td>\n",
       "      <td>41.917777</td>\n",
       "      <td>-87.691434</td>\n",
       "      <td>casual</td>\n",
       "      <td>0</td>\n",
       "      <td>00:16:13</td>\n",
       "    </tr>\n",
       "  </tbody>\n",
       "</table>\n",
       "</div>"
      ],
      "text/plain": [
       "   Unnamed: 0           ride_id  rideable_type           started_at  \\\n",
       "0           0  ACB6B40CF5B9044C  electric_bike  2020-10-31 19:39:43   \n",
       "1           1  DF450C72FD109C01  electric_bike  2020-10-31 23:50:08   \n",
       "2           2  B6396B54A15AC0DF  electric_bike  2020-10-31 23:00:01   \n",
       "3           3  44A4AEE261B9E854  electric_bike  2020-10-31 22:16:43   \n",
       "4           4  10B7DD76A6A2EB95  electric_bike  2020-10-31 19:38:19   \n",
       "\n",
       "              ended_at              start_station_name start_station_id  \\\n",
       "0  2020-10-31 19:57:12   Lakeview Ave & Fullerton Pkwy            313.0   \n",
       "1  2020-11-01 00:04:16    Southport Ave & Waveland Ave            227.0   \n",
       "2  2020-10-31 23:08:22      Stony Island Ave & 67th St            102.0   \n",
       "3  2020-10-31 22:19:35             Clark St & Grace St            165.0   \n",
       "4  2020-10-31 19:54:32  Southport Ave & Wrightwood Ave            190.0   \n",
       "\n",
       "             end_station_name end_station_id  start_lat  start_lng    end_lat  \\\n",
       "0        Rush St & Hubbard St          125.0  41.926101 -87.638977  41.890345   \n",
       "1  Kedzie Ave & Milwaukee Ave          260.0  41.948172 -87.663911  41.929528   \n",
       "2    University Ave & 57th St          423.0  41.773462 -87.585372  41.791455   \n",
       "3      Broadway & Sheridan Rd          256.0  41.950855 -87.659244  41.952809   \n",
       "4     Stave St & Armitage Ave          185.0  41.928857 -87.663962  41.917777   \n",
       "\n",
       "     end_lng member_casual  riding_days riding_time  \n",
       "0 -87.626068        casual            0    00:17:29  \n",
       "1 -87.707818        casual            0    00:14:08  \n",
       "2 -87.600050        casual            0    00:08:21  \n",
       "3 -87.650103        casual            0    00:02:52  \n",
       "4 -87.691434        casual            0    00:16:13  "
      ]
     },
     "execution_count": 3,
     "metadata": {},
     "output_type": "execute_result"
    }
   ],
   "source": [
    "# Load the processed file completed in Case_Study_1_Part_1\n",
    "df = pd.read_csv(\"Cyclistic_202010_202109.csv\")\n",
    "df.head()"
   ]
  },
  {
   "cell_type": "code",
   "execution_count": 5,
   "id": "0bba3b76",
   "metadata": {
    "scrolled": true
   },
   "outputs": [
    {
     "name": "stdout",
     "output_type": "stream",
     "text": [
      "<class 'pandas.core.frame.DataFrame'>\n",
      "RangeIndex: 5136261 entries, 0 to 5136260\n",
      "Data columns (total 16 columns):\n",
      " #   Column              Dtype  \n",
      "---  ------              -----  \n",
      " 0   Unnamed: 0          int64  \n",
      " 1   ride_id             object \n",
      " 2   rideable_type       object \n",
      " 3   started_at          object \n",
      " 4   ended_at            object \n",
      " 5   start_station_name  object \n",
      " 6   start_station_id    object \n",
      " 7   end_station_name    object \n",
      " 8   end_station_id      object \n",
      " 9   start_lat           float64\n",
      " 10  start_lng           float64\n",
      " 11  end_lat             float64\n",
      " 12  end_lng             float64\n",
      " 13  member_casual       object \n",
      " 14  riding_days         int64  \n",
      " 15  riding_time         object \n",
      "dtypes: float64(4), int64(2), object(10)\n",
      "memory usage: 627.0+ MB\n"
     ]
    }
   ],
   "source": [
    "df.info()"
   ]
  },
  {
   "cell_type": "code",
   "execution_count": 79,
   "id": "ca54ade6",
   "metadata": {},
   "outputs": [
    {
     "data": {
      "text/plain": [
       "0"
      ]
     },
     "execution_count": 79,
     "metadata": {},
     "output_type": "execute_result"
    }
   ],
   "source": [
    "# Check any duplicates\n",
    "df.duplicated().sum()"
   ]
  },
  {
   "cell_type": "markdown",
   "id": "abdac8db",
   "metadata": {},
   "source": [
    "### 3-2. Add day_of_week\n",
    "* day_of_week - e.g.1 = Sunday and 7 = Saturday.\n",
    "\n",
    "dayofweek and day_of_week - 0 = Mon, ..., 6 = Sun\n",
    "The requirement is that day_of_week needs to start from Sunday, but I still haven't found the code for it\n",
    "I will replace the code when I find  it "
   ]
  },
  {
   "cell_type": "code",
   "execution_count": 6,
   "id": "462d1c2b",
   "metadata": {},
   "outputs": [
    {
     "name": "stdout",
     "output_type": "stream",
     "text": [
      "<class 'pandas.core.frame.DataFrame'>\n",
      "RangeIndex: 5136261 entries, 0 to 5136260\n",
      "Data columns (total 20 columns):\n",
      " #   Column              Dtype         \n",
      "---  ------              -----         \n",
      " 0   ride_id             object        \n",
      " 1   rideable_type       object        \n",
      " 2   started_at          datetime64[ns]\n",
      " 3   ended_at            datetime64[ns]\n",
      " 4   start_station_name  object        \n",
      " 5   start_station_id    object        \n",
      " 6   end_station_name    object        \n",
      " 7   end_station_id      object        \n",
      " 8   start_lat           float64       \n",
      " 9   start_lng           float64       \n",
      " 10  end_lat             float64       \n",
      " 11  end_lng             float64       \n",
      " 12  member_casual       object        \n",
      " 13  riding_days         int64         \n",
      " 14  riding_time         object        \n",
      " 15  riding_time_sces    int32         \n",
      " 16  year                int64         \n",
      " 17  month               int64         \n",
      " 18  day_of_week         int64         \n",
      " 19  day_name            object        \n",
      "dtypes: datetime64[ns](2), float64(4), int32(1), int64(4), object(9)\n",
      "memory usage: 764.1+ MB\n"
     ]
    }
   ],
   "source": [
    "# Convert started_at and ended_at into datetime as their types of data are object\n",
    "df['started_at'] = pd.to_datetime(df.started_at)\n",
    "df['ended_at'] = pd.to_datetime(df.ended_at)\n",
    "\n",
    "# Add riding_time, year, month, day_of_week, day_name\n",
    "df['riding_time_sces'] = (df.ended_at - df.started_at).dt.total_seconds().astype(int)\n",
    "\n",
    "df['year'] = df['started_at'].dt.year\n",
    "df['month'] = df['started_at'].dt.month\n",
    "df['day_of_week'] = df['started_at'].dt.dayofweek\n",
    "df['day_name'] = df['started_at'].dt.day_name()\n",
    "df['hour'] = df['started_at'].dt.hour\n",
    "\n",
    "# Drop the column called Unnamed: 0\n",
    "df.drop(columns = 'Unnamed: 0', inplace = True)\n",
    "\n",
    "df.info()"
   ]
  },
  {
   "cell_type": "markdown",
   "id": "3ce57b7c",
   "metadata": {},
   "source": [
    "As 0 riding day takes 99% of riding_days, I will use only 0 riding day."
   ]
  },
  {
   "cell_type": "code",
   "execution_count": 7,
   "id": "8ddbedb3",
   "metadata": {
    "scrolled": false
   },
   "outputs": [
    {
     "name": "stdout",
     "output_type": "stream",
     "text": [
      "0     99.922765\n",
      "1      0.056150\n",
      "19     0.006152\n",
      "2      0.003446\n",
      "3      0.002044\n",
      "Name: riding_days, dtype: float64\n"
     ]
    },
    {
     "name": "stderr",
     "output_type": "stream",
     "text": [
      "D:\\Anaconda3\\lib\\site-packages\\seaborn\\_decorators.py:36: FutureWarning: Pass the following variable as a keyword arg: x. From version 0.12, the only valid positional argument will be `data`, and passing other arguments without an explicit keyword will result in an error or misinterpretation.\n",
      "  warnings.warn(\n"
     ]
    },
    {
     "data": {
      "image/png": "[encoded data removed]",
      "text/plain": [
       "<Figure size 432x288 with 1 Axes>"
      ]
     },
     "metadata": {
      "needs_background": "light"
     },
     "output_type": "display_data"
    }
   ],
   "source": [
    "print(df.riding_days.value_counts().head()/len(df)*100)\n",
    "\n",
    "sns.boxplot(df['riding_days'], x = 'riding_days')\n",
    "plt.show()"
   ]
  },
  {
   "cell_type": "code",
   "execution_count": 8,
   "id": "1a12afb6",
   "metadata": {},
   "outputs": [
    {
     "data": {
      "text/plain": [
       "5132294"
      ]
     },
     "execution_count": 8,
     "metadata": {},
     "output_type": "execute_result"
    }
   ],
   "source": [
    "# Check the lengths \n",
    "len(df) # 5136261\n",
    "len(df[df['riding_days'] != 0]) # 3967 rows\n",
    "\n",
    "5136261 - 3967"
   ]
  },
  {
   "cell_type": "code",
   "execution_count": 9,
   "id": "0ef8efa7",
   "metadata": {},
   "outputs": [
    {
     "data": {
      "text/plain": [
       "5132294"
      ]
     },
     "execution_count": 9,
     "metadata": {},
     "output_type": "execute_result"
    }
   ],
   "source": [
    "# Leave only 0 riding day and drop the other riding days in riding_days\n",
    "df.drop(index = df[df['riding_days'] != 0].index, inplace = True)\n",
    "len(df)"
   ]
  },
  {
   "cell_type": "markdown",
   "id": "fa4cce1c",
   "metadata": {},
   "source": [
    "# 4. Analyse"
   ]
  },
  {
   "cell_type": "markdown",
   "id": "47c241e2",
   "metadata": {},
   "source": [
    "1. Find mean, max, and mode of ride length \n",
    "2. Calculate the average ride length for members and casual riders\n",
    "3. Calculate the average ride length for users by day of week\n",
    "4. Calculate the number of rides for users by day of week \n"
   ]
  },
  {
   "cell_type": "markdown",
   "id": "05edcd19",
   "metadata": {},
   "source": [
    "### 4-1. Find mean, max, and mode of ride length\n",
    "datetime -> astype(np.int64) -> mean() -> datetime"
   ]
  },
  {
   "cell_type": "code",
   "execution_count": 218,
   "id": "43dc5c36",
   "metadata": {},
   "outputs": [
    {
     "data": {
      "text/plain": [
       "array([1636745983000000000, 1636761008000000000, 1636758001000000000, ...,\n",
       "       1636734374000000000, 1636739817000000000, 1636736412000000000],\n",
       "      dtype=int64)"
      ]
     },
     "execution_count": 218,
     "metadata": {},
     "output_type": "execute_result"
    }
   ],
   "source": [
    "pd.to_datetime(df['riding_time']).values.astype(np.int64)"
   ]
  },
  {
   "cell_type": "code",
   "execution_count": 10,
   "id": "b25838ee",
   "metadata": {},
   "outputs": [],
   "source": [
    "# make a column called riding_time_int to save time and to calculate average time easily \n",
    "df['riding_time_int'] = pd.to_datetime(df['riding_time']).values.astype(np.int64)\n",
    "# only hours and minuts contain - 00:34, 12:33 ...\n",
    "df['riding_time_hm_int'] = pd.to_datetime(df.riding_time.astype(str).str[:5]).values.astype(np.int64)"
   ]
  },
  {
   "cell_type": "code",
   "execution_count": 11,
   "id": "c90fb31f",
   "metadata": {},
   "outputs": [
    {
     "data": {
      "text/plain": [
       "member    2777233\n",
       "casual    2355061\n",
       "Name: member_casual, dtype: int64"
      ]
     },
     "execution_count": 11,
     "metadata": {},
     "output_type": "execute_result"
    }
   ],
   "source": [
    "df.member_casual.value_counts()"
   ]
  },
  {
   "cell_type": "code",
   "execution_count": 12,
   "id": "0be9c3b0",
   "metadata": {},
   "outputs": [],
   "source": [
    "# https://stackoverflow.com/questions/52007139/get-the-average-date-from-multiple-dates-pandas\n",
    "# https://stackoverflow.com/questions/54813811/how-to-compute-the-average-time-in-python-pandas\n",
    "casual = df[df.member_casual == 'casual']\n",
    "member = df[df.member_casual == 'member']"
   ]
  },
  {
   "cell_type": "code",
   "execution_count": 13,
   "id": "c18c006b",
   "metadata": {},
   "outputs": [
    {
     "name": "stdout",
     "output_type": "stream",
     "text": [
      "Min, Max, Mean and Mode of ride length:\n",
      "\n",
      "Min riding time: 00:00:00\n",
      "Max riding time: 23:59:54\n",
      "\n",
      "Mean riding time: 00:20:20\n",
      "Mode riding time: 00:06:25\n"
     ]
    }
   ],
   "source": [
    "print('Min, Max, Mean and Mode of ride length:')\n",
    "print(\"\\nMin riding time: {}\" .format(pd.Series(pd.to_datetime(df.riding_time_int.min())).dt.time.astype(str).str[:8][0]))\n",
    "print(\"Max riding time: {}\" .format(pd.Series(pd.to_datetime(df.riding_time_int.max())).dt.time.astype(str).str[:8][0]))\n",
    "print(\"\\nMean riding time: {}\" .format(pd.Series(pd.to_datetime(df.riding_time_int.mean())).dt.time.astype(str).str[:8][0]))\n",
    "print(\"Mode riding time: {}\" .format(pd.Series(pd.to_datetime(df.riding_time_int.mode())).dt.time.astype(str).str[:8][0]))"
   ]
  },
  {
   "cell_type": "markdown",
   "id": "f25bd9a4",
   "metadata": {},
   "source": [
    "As most of the riding_days are 0, the mean and mode of riding_days is 0.\n",
    "\n",
    "It is intersting that 19 days is higher than 2, 3, and 4 days, and 20 days is higher than 5, 6 and 8.\n",
    "\n",
    "Were there any promotions? "
   ]
  },
  {
   "cell_type": "markdown",
   "id": "9b0d4c58",
   "metadata": {},
   "source": [
    "### 4-2. Calculate the average ride length for members and casual riders"
   ]
  },
  {
   "cell_type": "code",
   "execution_count": 14,
   "id": "6c43f327",
   "metadata": {},
   "outputs": [
    {
     "name": "stdout",
     "output_type": "stream",
     "text": [
      "Average riding time for:\n",
      "\n",
      "casual riders: 00:27:55\n",
      "members: 00:13:54\n"
     ]
    }
   ],
   "source": [
    "print('Average riding time for:')\n",
    "print(\"\\ncasual riders: {}\" .format(pd.Series(pd.to_datetime(casual.riding_time_int.mean())).dt.time.astype(str).str[:8][0]))\n",
    "print(\"members: {}\" .format(pd.Series(pd.to_datetime(member.riding_time_int.mean())).dt.time.astype(str).str[:8][0]))"
   ]
  },
  {
   "cell_type": "markdown",
   "id": "027d6727",
   "metadata": {},
   "source": [
    "### 4-3. Calculate the average ride length for users by day of week"
   ]
  },
  {
   "cell_type": "code",
   "execution_count": 15,
   "id": "10967d38",
   "metadata": {},
   "outputs": [
    {
     "name": "stdout",
     "output_type": "stream",
     "text": [
      "Average riding_time for users by day of week: \n"
     ]
    },
    {
     "data": {
      "text/html": [
       "<div>\n",
       "<style scoped>\n",
       "    .dataframe tbody tr th:only-of-type {\n",
       "        vertical-align: middle;\n",
       "    }\n",
       "\n",
       "    .dataframe tbody tr th {\n",
       "        vertical-align: top;\n",
       "    }\n",
       "\n",
       "    .dataframe thead th {\n",
       "        text-align: right;\n",
       "    }\n",
       "</style>\n",
       "<table border=\"1\" class=\"dataframe\">\n",
       "  <thead>\n",
       "    <tr style=\"text-align: right;\">\n",
       "      <th></th>\n",
       "      <th>day_of_week</th>\n",
       "      <th>day_name</th>\n",
       "      <th>riding_time_int</th>\n",
       "    </tr>\n",
       "  </thead>\n",
       "  <tbody>\n",
       "    <tr>\n",
       "      <th>0</th>\n",
       "      <td>0</td>\n",
       "      <td>Monday</td>\n",
       "      <td>00:19:30</td>\n",
       "    </tr>\n",
       "    <tr>\n",
       "      <th>1</th>\n",
       "      <td>1</td>\n",
       "      <td>Tuesday</td>\n",
       "      <td>00:17:52</td>\n",
       "    </tr>\n",
       "    <tr>\n",
       "      <th>2</th>\n",
       "      <td>2</td>\n",
       "      <td>Wednesday</td>\n",
       "      <td>00:17:26</td>\n",
       "    </tr>\n",
       "    <tr>\n",
       "      <th>3</th>\n",
       "      <td>3</td>\n",
       "      <td>Thursday</td>\n",
       "      <td>00:17:26</td>\n",
       "    </tr>\n",
       "    <tr>\n",
       "      <th>4</th>\n",
       "      <td>4</td>\n",
       "      <td>Friday</td>\n",
       "      <td>00:19:19</td>\n",
       "    </tr>\n",
       "    <tr>\n",
       "      <th>5</th>\n",
       "      <td>5</td>\n",
       "      <td>Saturday</td>\n",
       "      <td>00:23:55</td>\n",
       "    </tr>\n",
       "    <tr>\n",
       "      <th>6</th>\n",
       "      <td>6</td>\n",
       "      <td>Sunday</td>\n",
       "      <td>00:24:53</td>\n",
       "    </tr>\n",
       "  </tbody>\n",
       "</table>\n",
       "</div>"
      ],
      "text/plain": [
       "   day_of_week   day_name riding_time_int\n",
       "0            0     Monday        00:19:30\n",
       "1            1    Tuesday        00:17:52\n",
       "2            2  Wednesday        00:17:26\n",
       "3            3   Thursday        00:17:26\n",
       "4            4     Friday        00:19:19\n",
       "5            5   Saturday        00:23:55\n",
       "6            6     Sunday        00:24:53"
      ]
     },
     "execution_count": 15,
     "metadata": {},
     "output_type": "execute_result"
    }
   ],
   "source": [
    "print(\"Average riding_time for users by day of week: \")\n",
    "avg_rt = pd.to_datetime(df.groupby(['day_of_week', 'day_name'])['riding_time_int'].mean()).dt.time.astype(str).str[:8].reset_index()\n",
    "avg_rt"
   ]
  },
  {
   "cell_type": "markdown",
   "id": "0984e990",
   "metadata": {},
   "source": [
    "### 4-4. Calculate the number of rides for users by day of week"
   ]
  },
  {
   "cell_type": "code",
   "execution_count": 16,
   "id": "48fb06de",
   "metadata": {},
   "outputs": [
    {
     "name": "stdout",
     "output_type": "stream",
     "text": [
      "Number of rides for users by day_of_week: \n"
     ]
    },
    {
     "data": {
      "text/html": [
       "<div>\n",
       "<style scoped>\n",
       "    .dataframe tbody tr th:only-of-type {\n",
       "        vertical-align: middle;\n",
       "    }\n",
       "\n",
       "    .dataframe tbody tr th {\n",
       "        vertical-align: top;\n",
       "    }\n",
       "\n",
       "    .dataframe thead th {\n",
       "        text-align: right;\n",
       "    }\n",
       "</style>\n",
       "<table border=\"1\" class=\"dataframe\">\n",
       "  <thead>\n",
       "    <tr style=\"text-align: right;\">\n",
       "      <th></th>\n",
       "      <th>day_of_week</th>\n",
       "      <th>day_name</th>\n",
       "      <th>ride_id</th>\n",
       "    </tr>\n",
       "  </thead>\n",
       "  <tbody>\n",
       "    <tr>\n",
       "      <th>0</th>\n",
       "      <td>0</td>\n",
       "      <td>Monday</td>\n",
       "      <td>641879</td>\n",
       "    </tr>\n",
       "    <tr>\n",
       "      <th>1</th>\n",
       "      <td>1</td>\n",
       "      <td>Tuesday</td>\n",
       "      <td>658031</td>\n",
       "    </tr>\n",
       "    <tr>\n",
       "      <th>2</th>\n",
       "      <td>2</td>\n",
       "      <td>Wednesday</td>\n",
       "      <td>679737</td>\n",
       "    </tr>\n",
       "    <tr>\n",
       "      <th>3</th>\n",
       "      <td>3</td>\n",
       "      <td>Thursday</td>\n",
       "      <td>694859</td>\n",
       "    </tr>\n",
       "    <tr>\n",
       "      <th>4</th>\n",
       "      <td>4</td>\n",
       "      <td>Friday</td>\n",
       "      <td>744811</td>\n",
       "    </tr>\n",
       "    <tr>\n",
       "      <th>5</th>\n",
       "      <td>5</td>\n",
       "      <td>Saturday</td>\n",
       "      <td>923381</td>\n",
       "    </tr>\n",
       "    <tr>\n",
       "      <th>6</th>\n",
       "      <td>6</td>\n",
       "      <td>Sunday</td>\n",
       "      <td>789596</td>\n",
       "    </tr>\n",
       "  </tbody>\n",
       "</table>\n",
       "</div>"
      ],
      "text/plain": [
       "   day_of_week   day_name  ride_id\n",
       "0            0     Monday   641879\n",
       "1            1    Tuesday   658031\n",
       "2            2  Wednesday   679737\n",
       "3            3   Thursday   694859\n",
       "4            4     Friday   744811\n",
       "5            5   Saturday   923381\n",
       "6            6     Sunday   789596"
      ]
     },
     "execution_count": 16,
     "metadata": {},
     "output_type": "execute_result"
    }
   ],
   "source": [
    "print(\"Number of rides for users by day_of_week: \")\n",
    "no_dow = df.groupby(['day_of_week', 'day_name'])['ride_id'].count().reset_index()\n",
    "no_dow"
   ]
  },
  {
   "cell_type": "markdown",
   "id": "d38310be",
   "metadata": {},
   "source": [
    "Make users_dow so that I can easily visualise the data"
   ]
  },
  {
   "cell_type": "code",
   "execution_count": 17,
   "id": "769c4751",
   "metadata": {},
   "outputs": [
    {
     "name": "stderr",
     "output_type": "stream",
     "text": [
      "C:\\Users\\GIS\\AppData\\Local\\Temp/ipykernel_5644/3307976670.py:2: SettingWithCopyWarning: \n",
      "A value is trying to be set on a copy of a slice from a DataFrame.\n",
      "Try using .loc[row_indexer,col_indexer] = value instead\n",
      "\n",
      "See the caveats in the documentation: https://pandas.pydata.org/pandas-docs/stable/user_guide/indexing.html#returning-a-view-versus-a-copy\n",
      "  users_dow['all_user_count'] = no_dow['ride_id']\n"
     ]
    },
    {
     "data": {
      "text/html": [
       "<div>\n",
       "<style scoped>\n",
       "    .dataframe tbody tr th:only-of-type {\n",
       "        vertical-align: middle;\n",
       "    }\n",
       "\n",
       "    .dataframe tbody tr th {\n",
       "        vertical-align: top;\n",
       "    }\n",
       "\n",
       "    .dataframe thead th {\n",
       "        text-align: right;\n",
       "    }\n",
       "</style>\n",
       "<table border=\"1\" class=\"dataframe\">\n",
       "  <thead>\n",
       "    <tr style=\"text-align: right;\">\n",
       "      <th></th>\n",
       "      <th>day_of_week</th>\n",
       "      <th>day_name</th>\n",
       "      <th>riding_time_int</th>\n",
       "      <th>all_user_count</th>\n",
       "    </tr>\n",
       "  </thead>\n",
       "  <tbody>\n",
       "    <tr>\n",
       "      <th>0</th>\n",
       "      <td>0</td>\n",
       "      <td>Monday</td>\n",
       "      <td>00:19:30</td>\n",
       "      <td>641879</td>\n",
       "    </tr>\n",
       "    <tr>\n",
       "      <th>1</th>\n",
       "      <td>1</td>\n",
       "      <td>Tuesday</td>\n",
       "      <td>00:17:52</td>\n",
       "      <td>658031</td>\n",
       "    </tr>\n",
       "    <tr>\n",
       "      <th>2</th>\n",
       "      <td>2</td>\n",
       "      <td>Wednesday</td>\n",
       "      <td>00:17:26</td>\n",
       "      <td>679737</td>\n",
       "    </tr>\n",
       "    <tr>\n",
       "      <th>3</th>\n",
       "      <td>3</td>\n",
       "      <td>Thursday</td>\n",
       "      <td>00:17:26</td>\n",
       "      <td>694859</td>\n",
       "    </tr>\n",
       "    <tr>\n",
       "      <th>4</th>\n",
       "      <td>4</td>\n",
       "      <td>Friday</td>\n",
       "      <td>00:19:19</td>\n",
       "      <td>744811</td>\n",
       "    </tr>\n",
       "    <tr>\n",
       "      <th>5</th>\n",
       "      <td>5</td>\n",
       "      <td>Saturday</td>\n",
       "      <td>00:23:55</td>\n",
       "      <td>923381</td>\n",
       "    </tr>\n",
       "    <tr>\n",
       "      <th>6</th>\n",
       "      <td>6</td>\n",
       "      <td>Sunday</td>\n",
       "      <td>00:24:53</td>\n",
       "      <td>789596</td>\n",
       "    </tr>\n",
       "  </tbody>\n",
       "</table>\n",
       "</div>"
      ],
      "text/plain": [
       "   day_of_week   day_name riding_time_int  all_user_count\n",
       "0            0     Monday        00:19:30          641879\n",
       "1            1    Tuesday        00:17:52          658031\n",
       "2            2  Wednesday        00:17:26          679737\n",
       "3            3   Thursday        00:17:26          694859\n",
       "4            4     Friday        00:19:19          744811\n",
       "5            5   Saturday        00:23:55          923381\n",
       "6            6     Sunday        00:24:53          789596"
      ]
     },
     "execution_count": 17,
     "metadata": {},
     "output_type": "execute_result"
    }
   ],
   "source": [
    "users_dow = avg_rt.head(7)\n",
    "users_dow['all_user_count'] = no_dow['ride_id']\n",
    "users_dow"
   ]
  },
  {
   "cell_type": "code",
   "execution_count": 18,
   "id": "1361e6fa",
   "metadata": {},
   "outputs": [
    {
     "name": "stderr",
     "output_type": "stream",
     "text": [
      "C:\\Users\\GIS\\AppData\\Local\\Temp/ipykernel_5644/3550519905.py:2: SettingWithCopyWarning: \n",
      "A value is trying to be set on a copy of a slice from a DataFrame.\n",
      "Try using .loc[row_indexer,col_indexer] = value instead\n",
      "\n",
      "See the caveats in the documentation: https://pandas.pydata.org/pandas-docs/stable/user_guide/indexing.html#returning-a-view-versus-a-copy\n",
      "  users_dow['riding_time_int'] = avg_rt['riding_time_int'].str[3:].str.replace(':', '.').astype('float64')\n",
      "D:\\Anaconda3\\lib\\site-packages\\pandas\\core\\frame.py:5039: SettingWithCopyWarning: \n",
      "A value is trying to be set on a copy of a slice from a DataFrame\n",
      "\n",
      "See the caveats in the documentation: https://pandas.pydata.org/pandas-docs/stable/user_guide/indexing.html#returning-a-view-versus-a-copy\n",
      "  return super().rename(\n"
     ]
    },
    {
     "data": {
      "text/html": [
       "<div>\n",
       "<style scoped>\n",
       "    .dataframe tbody tr th:only-of-type {\n",
       "        vertical-align: middle;\n",
       "    }\n",
       "\n",
       "    .dataframe tbody tr th {\n",
       "        vertical-align: top;\n",
       "    }\n",
       "\n",
       "    .dataframe thead th {\n",
       "        text-align: right;\n",
       "    }\n",
       "</style>\n",
       "<table border=\"1\" class=\"dataframe\">\n",
       "  <thead>\n",
       "    <tr style=\"text-align: right;\">\n",
       "      <th></th>\n",
       "      <th>day_of_week</th>\n",
       "      <th>day_name</th>\n",
       "      <th>all_user_rt_mean</th>\n",
       "      <th>all_user_count</th>\n",
       "    </tr>\n",
       "  </thead>\n",
       "  <tbody>\n",
       "    <tr>\n",
       "      <th>0</th>\n",
       "      <td>0</td>\n",
       "      <td>Monday</td>\n",
       "      <td>19.30</td>\n",
       "      <td>641879</td>\n",
       "    </tr>\n",
       "    <tr>\n",
       "      <th>1</th>\n",
       "      <td>1</td>\n",
       "      <td>Tuesday</td>\n",
       "      <td>17.52</td>\n",
       "      <td>658031</td>\n",
       "    </tr>\n",
       "    <tr>\n",
       "      <th>2</th>\n",
       "      <td>2</td>\n",
       "      <td>Wednesday</td>\n",
       "      <td>17.26</td>\n",
       "      <td>679737</td>\n",
       "    </tr>\n",
       "    <tr>\n",
       "      <th>3</th>\n",
       "      <td>3</td>\n",
       "      <td>Thursday</td>\n",
       "      <td>17.26</td>\n",
       "      <td>694859</td>\n",
       "    </tr>\n",
       "    <tr>\n",
       "      <th>4</th>\n",
       "      <td>4</td>\n",
       "      <td>Friday</td>\n",
       "      <td>19.19</td>\n",
       "      <td>744811</td>\n",
       "    </tr>\n",
       "    <tr>\n",
       "      <th>5</th>\n",
       "      <td>5</td>\n",
       "      <td>Saturday</td>\n",
       "      <td>23.55</td>\n",
       "      <td>923381</td>\n",
       "    </tr>\n",
       "    <tr>\n",
       "      <th>6</th>\n",
       "      <td>6</td>\n",
       "      <td>Sunday</td>\n",
       "      <td>24.53</td>\n",
       "      <td>789596</td>\n",
       "    </tr>\n",
       "  </tbody>\n",
       "</table>\n",
       "</div>"
      ],
      "text/plain": [
       "   day_of_week   day_name  all_user_rt_mean  all_user_count\n",
       "0            0     Monday             19.30          641879\n",
       "1            1    Tuesday             17.52          658031\n",
       "2            2  Wednesday             17.26          679737\n",
       "3            3   Thursday             17.26          694859\n",
       "4            4     Friday             19.19          744811\n",
       "5            5   Saturday             23.55          923381\n",
       "6            6     Sunday             24.53          789596"
      ]
     },
     "execution_count": 18,
     "metadata": {},
     "output_type": "execute_result"
    }
   ],
   "source": [
    "# Change the format 00:28:28 to 28.28, so I can draw plots \n",
    "users_dow['riding_time_int'] = avg_rt['riding_time_int'].str[3:].str.replace(':', '.').astype('float64')\n",
    "users_dow.rename(columns = {'riding_time_int' : 'all_user_rt_mean'}, inplace=True)\n",
    "users_dow"
   ]
  },
  {
   "cell_type": "code",
   "execution_count": 19,
   "id": "947eb03e",
   "metadata": {},
   "outputs": [],
   "source": [
    "# casual riding time\n",
    "c_rt = casual.groupby(['day_of_week', 'day_name'])['riding_time_int'].mean().reset_index().sort_values(by = 'day_of_week')\n",
    "# casual ride count\n",
    "c_rc = casual.groupby(['day_of_week', 'day_name'])['ride_id'].count().reset_index().sort_values(by = 'day_of_week')\n",
    "\n",
    "# member rideing time\n",
    "m_rt = member.groupby(['day_of_week', 'day_name'])['riding_time_int'].mean().reset_index().sort_values(by = 'day_of_week')\n",
    "# member ride count\n",
    "m_rc = member.groupby(['day_of_week', 'day_name'])['ride_id'].count().reset_index().sort_values(by = 'day_of_week')"
   ]
  },
  {
   "cell_type": "code",
   "execution_count": 20,
   "id": "a0dc1513",
   "metadata": {},
   "outputs": [
    {
     "name": "stdout",
     "output_type": "stream",
     "text": [
      "0    266079\n",
      "1    251221\n",
      "2    256934\n",
      "3    274351\n",
      "4    338952\n",
      "5    523160\n",
      "6    444364\n",
      "Name: ride_id, dtype: int64\n",
      "0    375800\n",
      "1    406810\n",
      "2    422803\n",
      "3    420508\n",
      "4    405859\n",
      "5    400221\n",
      "6    345232\n",
      "Name: ride_id, dtype: int64\n"
     ]
    }
   ],
   "source": [
    "print(c_rc.ride_id)\n",
    "print(m_rc.ride_id)"
   ]
  },
  {
   "cell_type": "code",
   "execution_count": 21,
   "id": "ce6dc42e",
   "metadata": {},
   "outputs": [
    {
     "name": "stdout",
     "output_type": "stream",
     "text": [
      "0    641879\n",
      "1    658031\n",
      "2    679737\n",
      "3    694859\n",
      "4    744811\n",
      "5    923381\n",
      "6    789596\n",
      "Name: all_user_count, dtype: int64\n"
     ]
    },
    {
     "data": {
      "text/plain": [
       "0    641879\n",
       "1    658031\n",
       "2    679737\n",
       "3    694859\n",
       "4    744811\n",
       "5    923381\n",
       "6    789596\n",
       "Name: ride_id, dtype: int64"
      ]
     },
     "execution_count": 21,
     "metadata": {},
     "output_type": "execute_result"
    }
   ],
   "source": [
    "print(users_dow.all_user_count)\n",
    "c_rc.ride_id + m_rc.ride_id"
   ]
  },
  {
   "cell_type": "code",
   "execution_count": 22,
   "id": "0338701e",
   "metadata": {},
   "outputs": [
    {
     "name": "stderr",
     "output_type": "stream",
     "text": [
      "C:\\Users\\GIS\\AppData\\Local\\Temp/ipykernel_5644/354924929.py:2: SettingWithCopyWarning: \n",
      "A value is trying to be set on a copy of a slice from a DataFrame.\n",
      "Try using .loc[row_indexer,col_indexer] = value instead\n",
      "\n",
      "See the caveats in the documentation: https://pandas.pydata.org/pandas-docs/stable/user_guide/indexing.html#returning-a-view-versus-a-copy\n",
      "  users_dow['casual_user_rt_mean'] = pd.to_datetime(c_rt.riding_time_int).astype(str).str[14:19].str.replace(':', '.').astype('float64')\n",
      "C:\\Users\\GIS\\AppData\\Local\\Temp/ipykernel_5644/354924929.py:4: SettingWithCopyWarning: \n",
      "A value is trying to be set on a copy of a slice from a DataFrame.\n",
      "Try using .loc[row_indexer,col_indexer] = value instead\n",
      "\n",
      "See the caveats in the documentation: https://pandas.pydata.org/pandas-docs/stable/user_guide/indexing.html#returning-a-view-versus-a-copy\n",
      "  users_dow['casual_user_count'] = c_rc.ride_id\n",
      "C:\\Users\\GIS\\AppData\\Local\\Temp/ipykernel_5644/354924929.py:7: SettingWithCopyWarning: \n",
      "A value is trying to be set on a copy of a slice from a DataFrame.\n",
      "Try using .loc[row_indexer,col_indexer] = value instead\n",
      "\n",
      "See the caveats in the documentation: https://pandas.pydata.org/pandas-docs/stable/user_guide/indexing.html#returning-a-view-versus-a-copy\n",
      "  users_dow['member_user_rt_mean'] = pd.to_datetime(m_rt.riding_time_int).astype(str).str[14:19].str.replace(':', '.').astype('float64')\n",
      "C:\\Users\\GIS\\AppData\\Local\\Temp/ipykernel_5644/354924929.py:9: SettingWithCopyWarning: \n",
      "A value is trying to be set on a copy of a slice from a DataFrame.\n",
      "Try using .loc[row_indexer,col_indexer] = value instead\n",
      "\n",
      "See the caveats in the documentation: https://pandas.pydata.org/pandas-docs/stable/user_guide/indexing.html#returning-a-view-versus-a-copy\n",
      "  users_dow['member_user_count'] = m_rc.ride_id\n"
     ]
    }
   ],
   "source": [
    "# casual riding time mean minutes\n",
    "users_dow['casual_user_rt_mean'] = pd.to_datetime(c_rt.riding_time_int).astype(str).str[14:19].str.replace(':', '.').astype('float64')\n",
    "# casual ride count\n",
    "users_dow['casual_user_count'] = c_rc.ride_id\n",
    "\n",
    "# member riding time mean minutes\n",
    "users_dow['member_user_rt_mean'] = pd.to_datetime(m_rt.riding_time_int).astype(str).str[14:19].str.replace(':', '.').astype('float64')\n",
    "# member ride count\n",
    "users_dow['member_user_count'] = m_rc.ride_id"
   ]
  },
  {
   "cell_type": "code",
   "execution_count": 23,
   "id": "c3ef3561",
   "metadata": {},
   "outputs": [
    {
     "data": {
      "text/html": [
       "<div>\n",
       "<style scoped>\n",
       "    .dataframe tbody tr th:only-of-type {\n",
       "        vertical-align: middle;\n",
       "    }\n",
       "\n",
       "    .dataframe tbody tr th {\n",
       "        vertical-align: top;\n",
       "    }\n",
       "\n",
       "    .dataframe thead th {\n",
       "        text-align: right;\n",
       "    }\n",
       "</style>\n",
       "<table border=\"1\" class=\"dataframe\">\n",
       "  <thead>\n",
       "    <tr style=\"text-align: right;\">\n",
       "      <th></th>\n",
       "      <th>day_of_week</th>\n",
       "      <th>day_name</th>\n",
       "      <th>all_user_rt_mean</th>\n",
       "      <th>all_user_count</th>\n",
       "      <th>casual_user_rt_mean</th>\n",
       "      <th>casual_user_count</th>\n",
       "      <th>member_user_rt_mean</th>\n",
       "      <th>member_user_count</th>\n",
       "    </tr>\n",
       "  </thead>\n",
       "  <tbody>\n",
       "    <tr>\n",
       "      <th>0</th>\n",
       "      <td>0</td>\n",
       "      <td>Monday</td>\n",
       "      <td>19.30</td>\n",
       "      <td>641879</td>\n",
       "      <td>28.05</td>\n",
       "      <td>266079</td>\n",
       "      <td>13.26</td>\n",
       "      <td>375800</td>\n",
       "    </tr>\n",
       "    <tr>\n",
       "      <th>1</th>\n",
       "      <td>1</td>\n",
       "      <td>Tuesday</td>\n",
       "      <td>17.52</td>\n",
       "      <td>658031</td>\n",
       "      <td>25.35</td>\n",
       "      <td>251221</td>\n",
       "      <td>13.06</td>\n",
       "      <td>406810</td>\n",
       "    </tr>\n",
       "    <tr>\n",
       "      <th>2</th>\n",
       "      <td>2</td>\n",
       "      <td>Wednesday</td>\n",
       "      <td>17.26</td>\n",
       "      <td>679737</td>\n",
       "      <td>24.23</td>\n",
       "      <td>256934</td>\n",
       "      <td>13.12</td>\n",
       "      <td>422803</td>\n",
       "    </tr>\n",
       "    <tr>\n",
       "      <th>3</th>\n",
       "      <td>3</td>\n",
       "      <td>Thursday</td>\n",
       "      <td>17.26</td>\n",
       "      <td>694859</td>\n",
       "      <td>24.07</td>\n",
       "      <td>274351</td>\n",
       "      <td>13.04</td>\n",
       "      <td>420508</td>\n",
       "    </tr>\n",
       "    <tr>\n",
       "      <th>4</th>\n",
       "      <td>4</td>\n",
       "      <td>Friday</td>\n",
       "      <td>19.19</td>\n",
       "      <td>744811</td>\n",
       "      <td>26.03</td>\n",
       "      <td>338952</td>\n",
       "      <td>13.41</td>\n",
       "      <td>405859</td>\n",
       "    </tr>\n",
       "    <tr>\n",
       "      <th>5</th>\n",
       "      <td>5</td>\n",
       "      <td>Saturday</td>\n",
       "      <td>23.55</td>\n",
       "      <td>923381</td>\n",
       "      <td>30.24</td>\n",
       "      <td>523160</td>\n",
       "      <td>15.26</td>\n",
       "      <td>400221</td>\n",
       "    </tr>\n",
       "    <tr>\n",
       "      <th>6</th>\n",
       "      <td>6</td>\n",
       "      <td>Sunday</td>\n",
       "      <td>24.53</td>\n",
       "      <td>789596</td>\n",
       "      <td>31.59</td>\n",
       "      <td>444364</td>\n",
       "      <td>15.44</td>\n",
       "      <td>345232</td>\n",
       "    </tr>\n",
       "  </tbody>\n",
       "</table>\n",
       "</div>"
      ],
      "text/plain": [
       "   day_of_week   day_name  all_user_rt_mean  all_user_count  \\\n",
       "0            0     Monday             19.30          641879   \n",
       "1            1    Tuesday             17.52          658031   \n",
       "2            2  Wednesday             17.26          679737   \n",
       "3            3   Thursday             17.26          694859   \n",
       "4            4     Friday             19.19          744811   \n",
       "5            5   Saturday             23.55          923381   \n",
       "6            6     Sunday             24.53          789596   \n",
       "\n",
       "   casual_user_rt_mean  casual_user_count  member_user_rt_mean  \\\n",
       "0                28.05             266079                13.26   \n",
       "1                25.35             251221                13.06   \n",
       "2                24.23             256934                13.12   \n",
       "3                24.07             274351                13.04   \n",
       "4                26.03             338952                13.41   \n",
       "5                30.24             523160                15.26   \n",
       "6                31.59             444364                15.44   \n",
       "\n",
       "   member_user_count  \n",
       "0             375800  \n",
       "1             406810  \n",
       "2             422803  \n",
       "3             420508  \n",
       "4             405859  \n",
       "5             400221  \n",
       "6             345232  "
      ]
     },
     "execution_count": 23,
     "metadata": {},
     "output_type": "execute_result"
    }
   ],
   "source": [
    "users_dow"
   ]
  },
  {
   "cell_type": "code",
   "execution_count": 24,
   "id": "f0c3a71d",
   "metadata": {},
   "outputs": [
    {
     "name": "stdout",
     "output_type": "stream",
     "text": [
      "0    641879\n",
      "1    658031\n",
      "2    679737\n",
      "3    694859\n",
      "4    744811\n",
      "5    923381\n",
      "6    789596\n",
      "Name: all_user_count, dtype: int64\n"
     ]
    },
    {
     "data": {
      "text/plain": [
       "0    641879\n",
       "1    658031\n",
       "2    679737\n",
       "3    694859\n",
       "4    744811\n",
       "5    923381\n",
       "6    789596\n",
       "dtype: int64"
      ]
     },
     "execution_count": 24,
     "metadata": {},
     "output_type": "execute_result"
    }
   ],
   "source": [
    "# Check the number\n",
    "print(users_dow.all_user_count)\n",
    "users_dow.member_user_count + users_dow.casual_user_count"
   ]
  },
  {
   "cell_type": "markdown",
   "id": "23281e55",
   "metadata": {},
   "source": [
    "# 5. Share\n",
    "List of things to visualise:\n",
    "\n",
    "0. mean, max, and mode of ride time and days - table\n",
    "1. Number of memebers and casual riders - pie chart\n",
    "2. top 5 mode of ridie time and days - histogram\n",
    "3. the average ride length for members and casual riders - bar chart\n",
    "4. the average ride length for users by day of week - line or bar chart\n",
    "5. the number of rides for users by day of week - line or bar chart               \n",
    "---\n",
    "6. the number of members and casuals - pie chart\n",
    "7. rideable_tyle - pie or bar chart\n",
    "8. in which month people ride a bike most - bar chart \n",
    "9. top 5 frequent start and end station - hist\n"
   ]
  },
  {
   "cell_type": "markdown",
   "id": "61bcaa9a",
   "metadata": {},
   "source": [
    "## 5-1. Number of memebers and casual riders "
   ]
  },
  {
   "cell_type": "code",
   "execution_count": 25,
   "id": "25ae1974",
   "metadata": {},
   "outputs": [
    {
     "data": {
      "text/html": [
       "<div>\n",
       "<style scoped>\n",
       "    .dataframe tbody tr th:only-of-type {\n",
       "        vertical-align: middle;\n",
       "    }\n",
       "\n",
       "    .dataframe tbody tr th {\n",
       "        vertical-align: top;\n",
       "    }\n",
       "\n",
       "    .dataframe thead th {\n",
       "        text-align: right;\n",
       "    }\n",
       "</style>\n",
       "<table border=\"1\" class=\"dataframe\">\n",
       "  <thead>\n",
       "    <tr style=\"text-align: right;\">\n",
       "      <th></th>\n",
       "      <th>type</th>\n",
       "      <th>count</th>\n",
       "    </tr>\n",
       "  </thead>\n",
       "  <tbody>\n",
       "    <tr>\n",
       "      <th>0</th>\n",
       "      <td>member</td>\n",
       "      <td>2777233</td>\n",
       "    </tr>\n",
       "    <tr>\n",
       "      <th>1</th>\n",
       "      <td>casual</td>\n",
       "      <td>2355061</td>\n",
       "    </tr>\n",
       "  </tbody>\n",
       "</table>\n",
       "</div>"
      ],
      "text/plain": [
       "     type    count\n",
       "0  member  2777233\n",
       "1  casual  2355061"
      ]
     },
     "execution_count": 25,
     "metadata": {},
     "output_type": "execute_result"
    }
   ],
   "source": [
    "member_types = df.member_casual.value_counts().reset_index()\n",
    "member_types.rename(columns = {'index': 'type', 'member_casual': 'count'}, inplace = True)\n",
    "member_types"
   ]
  },
  {
   "cell_type": "code",
   "execution_count": 26,
   "id": "1d3832d5",
   "metadata": {},
   "outputs": [
    {
     "data": {
      "image/png": "[encoded data removed]",
      "text/plain": [
       "<Figure size 432x288 with 1 Axes>"
      ]
     },
     "metadata": {},
     "output_type": "display_data"
    }
   ],
   "source": [
    "pie_data = member_types['count'].values\n",
    "pie_labels = member_types['type'].values\n",
    "\n",
    "colours = sns.color_palette('pastel')[0:5]\n",
    "\n",
    "plt.pie(x = pie_data, labels = pie_labels, colors = colours, autopct='%.0f%%')\n",
    "plt.show()"
   ]
  },
  {
   "cell_type": "markdown",
   "id": "a9cc6f88",
   "metadata": {},
   "source": [
    "### 5-2. Top 5 frequent of ridie time and days"
   ]
  },
  {
   "cell_type": "code",
   "execution_count": 27,
   "id": "78934383",
   "metadata": {},
   "outputs": [
    {
     "name": "stdout",
     "output_type": "stream",
     "text": [
      "00:08    96829\n",
      "00:09    96778\n",
      "00:07    94685\n",
      "00:10    93337\n",
      "00:11    89680\n",
      "Name: riding_time_hm_int, dtype: int64\n",
      "00:05    188620\n",
      "00:06    183972\n",
      "00:04    182023\n",
      "00:07    171836\n",
      "00:08    157018\n",
      "Name: riding_time_hm_int, dtype: int64\n"
     ]
    }
   ],
   "source": [
    "print(pd.to_datetime(casual.riding_time_hm_int).astype(str).str[11:16].value_counts().head())\n",
    "print(pd.to_datetime(member.riding_time_hm_int).astype(str).str[11:16].value_counts().head())"
   ]
  },
  {
   "cell_type": "code",
   "execution_count": 28,
   "id": "5b7e5132",
   "metadata": {},
   "outputs": [],
   "source": [
    "rt_top_5 = pd.to_datetime(df.riding_time_hm_int).astype(str).str[11:16].value_counts().head()\n",
    "rt_top_5 = pd.DataFrame(rt_top_5).reset_index().rename(columns= {'index' : 'time', 'riding_time_hm_int' : 'count'})"
   ]
  },
  {
   "cell_type": "code",
   "execution_count": 29,
   "id": "63a46f6d",
   "metadata": {},
   "outputs": [
    {
     "data": {
      "image/png": "[encoded data removed]",
      "text/plain": [
       "<Figure size 432x288 with 1 Axes>"
      ]
     },
     "metadata": {
      "needs_background": "light"
     },
     "output_type": "display_data"
    }
   ],
   "source": [
    "chart = sns.barplot(data= rt_top_5, x = 'time', y = 'count')\n",
    "chart.set_title('Top 5 frequent ride times')\n",
    "chart.set(xlabel = 'Minute', ylabel = 'Count', ylim = (0, 300000))\n",
    "plt.show()"
   ]
  },
  {
   "cell_type": "markdown",
   "id": "86ff62d0",
   "metadata": {},
   "source": [
    "In casuals and members"
   ]
  },
  {
   "cell_type": "code",
   "execution_count": 63,
   "id": "dc114b76",
   "metadata": {},
   "outputs": [
    {
     "data": {
      "text/plain": [
       "00:08    96829\n",
       "00:09    96778\n",
       "00:07    94685\n",
       "00:10    93337\n",
       "00:11    89680\n",
       "00:06    89324\n",
       "00:12    84986\n",
       "00:13    80097\n",
       "00:05    79241\n",
       "00:14    75033\n",
       "Name: riding_time_hm_int, dtype: int64"
      ]
     },
     "execution_count": 63,
     "metadata": {},
     "output_type": "execute_result"
    }
   ],
   "source": [
    "pd.to_datetime(casual.riding_time_hm_int).astype(str).str[11:16].value_counts().head(10)"
   ]
  },
  {
   "cell_type": "code",
   "execution_count": 68,
   "id": "b6cbaa4d",
   "metadata": {},
   "outputs": [
    {
     "data": {
      "text/plain": [
       "8       97647\n",
       "10      96400\n",
       "9       95717\n",
       "7       91053\n",
       "11      90272\n",
       "        ...  \n",
       "1183        1\n",
       "1105        1\n",
       "1197        1\n",
       "1153        1\n",
       "1265        1\n",
       "Name: riding_time_sces, Length: 1403, dtype: int64"
      ]
     },
     "execution_count": 68,
     "metadata": {},
     "output_type": "execute_result"
    }
   ],
   "source": [
    "round(casual.riding_time_sces/60).astype('int64').value_counts()"
   ]
  },
  {
   "cell_type": "code",
   "execution_count": 30,
   "id": "ac0b279a",
   "metadata": {},
   "outputs": [],
   "source": [
    "casual_rt_top_5 = pd.to_datetime(casual.riding_time_hm_int).astype(str).str[11:16].value_counts().head()\n",
    "casual_rt_top_5 = pd.DataFrame(casual_rt_top_5).reset_index().rename(columns= {'index' : 'time', 'riding_time_hm_int' : 'count'})\n",
    "\n",
    "member_rt_top_5 = pd.to_datetime(member.riding_time_hm_int).astype(str).str[11:16].value_counts().head()\n",
    "member_rt_top_5 = pd.DataFrame(member_rt_top_5).reset_index().rename(columns= {'index' : 'time', 'riding_time_hm_int' : 'count'})"
   ]
  },
  {
   "cell_type": "code",
   "execution_count": 61,
   "id": "05d09c79",
   "metadata": {},
   "outputs": [
    {
     "name": "stdout",
     "output_type": "stream",
     "text": [
      "Casual:\n",
      "     time  count\n",
      "0  00:08  96829\n",
      "1  00:09  96778\n",
      "2  00:07  94685\n",
      "3  00:10  93337\n",
      "4  00:11  89680\n",
      "\n",
      "Member:\n",
      "     time   count\n",
      "0  00:05  188620\n",
      "1  00:06  183972\n",
      "2  00:04  182023\n",
      "3  00:07  171836\n",
      "4  00:08  157018\n"
     ]
    },
    {
     "data": {
      "image/png": "[encoded data removed]",
      "text/plain": [
       "<Figure size 1080x288 with 2 Axes>"
      ]
     },
     "metadata": {
      "needs_background": "light"
     },
     "output_type": "display_data"
    }
   ],
   "source": [
    "print('Casual:\\n {}'.format(casual_rt_top_5))\n",
    "print('\\nMember:\\n {}'.format(member_rt_top_5))\n",
    "\n",
    "fig, axes = plt.subplots(1, 2, figsize = (15, 4))\n",
    "fig.suptitle('Top 5 frequent of ride time for')\n",
    "\n",
    "sns.barplot(ax = axes[0], data= casual_rt_top_5, x = 'time', y = 'count')\n",
    "axes[0].set_title('Casuals')\n",
    "axes[0].set(xlabel = 'Minute', ylabel = 'Count')\n",
    "\n",
    "sns.barplot(ax = axes[1], data= member_rt_top_5, x = 'time', y = 'count')\n",
    "axes[1].set_title('Members')\n",
    "axes[1].set(xlabel = 'Minute', ylabel = 'Count')\n",
    "\n",
    "plt.show()"
   ]
  },
  {
   "cell_type": "markdown",
   "id": "06768729",
   "metadata": {},
   "source": [
    "### 5-3. Average ride length for members and casual riders"
   ]
  },
  {
   "cell_type": "code",
   "execution_count": 32,
   "id": "9b1c857c",
   "metadata": {},
   "outputs": [
    {
     "name": "stdout",
     "output_type": "stream",
     "text": [
      "All riders: 00:20:20\n",
      "casual riders: 00:27:55\n",
      "members: 00:13:54\n"
     ]
    }
   ],
   "source": [
    "print(\"All riders: {}\" .format(pd.Series(pd.to_datetime(df.riding_time_int.mean())).dt.time.astype(str).str[:8][0]))\n",
    "print(\"casual riders: {}\" .format(pd.Series(pd.to_datetime(casual.riding_time_int.mean())).dt.time.astype(str).str[:8][0]))\n",
    "print(\"members: {}\" .format(pd.Series(pd.to_datetime(member.riding_time_int.mean())).dt.time.astype(str).str[:8][0]))"
   ]
  },
  {
   "cell_type": "code",
   "execution_count": 42,
   "id": "f592a52b",
   "metadata": {},
   "outputs": [
    {
     "data": {
      "text/plain": [
       "member_casual\n",
       "casual    28\n",
       "member    14\n",
       "Name: riding_time_sces, dtype: int64"
      ]
     },
     "execution_count": 42,
     "metadata": {},
     "output_type": "execute_result"
    }
   ],
   "source": [
    "round(df.groupby('member_casual')['riding_time_sces'].mean()/60).astype('int64')"
   ]
  },
  {
   "cell_type": "code",
   "execution_count": 38,
   "id": "3acc40e7",
   "metadata": {},
   "outputs": [
    {
     "data": {
      "text/html": [
       "<div>\n",
       "<style scoped>\n",
       "    .dataframe tbody tr th:only-of-type {\n",
       "        vertical-align: middle;\n",
       "    }\n",
       "\n",
       "    .dataframe tbody tr th {\n",
       "        vertical-align: top;\n",
       "    }\n",
       "\n",
       "    .dataframe thead th {\n",
       "        text-align: right;\n",
       "    }\n",
       "</style>\n",
       "<table border=\"1\" class=\"dataframe\">\n",
       "  <thead>\n",
       "    <tr style=\"text-align: right;\">\n",
       "      <th></th>\n",
       "      <th>type</th>\n",
       "      <th>time</th>\n",
       "      <th>minutes</th>\n",
       "    </tr>\n",
       "  </thead>\n",
       "  <tbody>\n",
       "    <tr>\n",
       "      <th>0</th>\n",
       "      <td>casual</td>\n",
       "      <td>00:27:55</td>\n",
       "      <td>27</td>\n",
       "    </tr>\n",
       "    <tr>\n",
       "      <th>1</th>\n",
       "      <td>member</td>\n",
       "      <td>00:13:54</td>\n",
       "      <td>13</td>\n",
       "    </tr>\n",
       "  </tbody>\n",
       "</table>\n",
       "</div>"
      ],
      "text/plain": [
       "     type      time  minutes\n",
       "0  casual  00:27:55       27\n",
       "1  member  00:13:54       13"
      ]
     },
     "execution_count": 38,
     "metadata": {},
     "output_type": "execute_result"
    }
   ],
   "source": [
    "plt_df = pd.DataFrame(data = {'type' : ['casual', 'member'], 'time' : ['00:27:55', '00:13:54']})\n",
    "plt_df['minutes'] = plt_df.time.str[3:5].astype('int64')\n",
    "plt_df"
   ]
  },
  {
   "cell_type": "code",
   "execution_count": 39,
   "id": "59dbf0f5",
   "metadata": {},
   "outputs": [
    {
     "data": {
      "image/png": "[encoded data removed]",
      "text/plain": [
       "<Figure size 432x288 with 1 Axes>"
      ]
     },
     "metadata": {
      "needs_background": "light"
     },
     "output_type": "display_data"
    }
   ],
   "source": [
    "# casual_rt_mean = pd.Series(pd.to_datetime(casual.riding_time_int.mean())).dt.time.astype(str).str[:8]\n",
    "# member_rt_mean = pd.Series(pd.to_datetime(member.riding_time_int.mean())).dt.time.astype(str).str[:8]\n",
    "chart = sns.barplot(x = plt_df['type'], y = plt_df['minutes'])\n",
    "chart.set_title(\"Average ride length for casuals and members\")\n",
    "chart.set_ylim(0,33)\n",
    "for p in chart.patches:\n",
    "    chart.annotate(\"%.0f\" % p.get_height(), (p.get_x() + p.get_width() / 2., p.get_height()),\n",
    "    ha='center', va='center', fontsize=10, color='black', xytext=(0, 5),\n",
    "    textcoords='offset points')\n",
    "plt.show()"
   ]
  },
  {
   "cell_type": "markdown",
   "id": "b8eee01f",
   "metadata": {},
   "source": [
    "### 5-4. Average ride length for users by day of week - line or bar chart"
   ]
  },
  {
   "cell_type": "code",
   "execution_count": 43,
   "id": "b5472dba",
   "metadata": {},
   "outputs": [
    {
     "name": "stdout",
     "output_type": "stream",
     "text": [
      "    day_name  all_user_rt_mean\n",
      "0     Monday             19.30\n",
      "1    Tuesday             17.52\n",
      "2  Wednesday             17.26\n",
      "3   Thursday             17.26\n",
      "4     Friday             19.19\n",
      "5   Saturday             23.55\n",
      "6     Sunday             24.53\n"
     ]
    },
    {
     "data": {
      "image/png": "[encoded data removed]",
      "text/plain": [
       "<Figure size 720x360 with 1 Axes>"
      ]
     },
     "metadata": {
      "needs_background": "light"
     },
     "output_type": "display_data"
    }
   ],
   "source": [
    "print(users_dow[['day_name', 'all_user_rt_mean']])\n",
    "\n",
    "fig, axes = plt.subplots(1,1, figsize = (10, 5))\n",
    "chart = sns.barplot(x = users_dow.day_name, y = users_dow.all_user_rt_mean)\n",
    "chart.set_title(\"Average ride length for users by day of week\")\n",
    "chart.set(xlabel = 'Day', ylabel = 'Minute', ylim = (0, 27))\n",
    "plt.show()"
   ]
  },
  {
   "cell_type": "code",
   "execution_count": 44,
   "id": "8bfe3b5e",
   "metadata": {
    "scrolled": true
   },
   "outputs": [
    {
     "name": "stdout",
     "output_type": "stream",
     "text": [
      "    day_name  casual_user_rt_mean  member_user_rt_mean\n",
      "0     Monday                28.05                13.26\n",
      "1    Tuesday                25.35                13.06\n",
      "2  Wednesday                24.23                13.12\n",
      "3   Thursday                24.07                13.04\n",
      "4     Friday                26.03                13.41\n",
      "5   Saturday                30.24                15.26\n",
      "6     Sunday                31.59                15.44\n"
     ]
    },
    {
     "data": {
      "image/png": "[encoded data removed]",
      "text/plain": [
       "<Figure size 1080x288 with 2 Axes>"
      ]
     },
     "metadata": {
      "needs_background": "light"
     },
     "output_type": "display_data"
    }
   ],
   "source": [
    "print(users_dow[['day_name', 'casual_user_rt_mean', 'member_user_rt_mean']])\n",
    "\n",
    "fig, axes = plt.subplots(1,2, figsize = (15, 4))\n",
    "fig.suptitle('Riding time for')\n",
    "\n",
    "sns.lineplot(ax = axes[0], x = users_dow.day_name, y = users_dow.casual_user_rt_mean)\n",
    "axes[0].set_title('Casuals')\n",
    "axes[0].set(xlabel = 'Day', ylabel = 'Minute', ylim = (0, 35))\n",
    "\n",
    "sns.lineplot(ax = axes[1], x = users_dow.day_name, y = users_dow.member_user_rt_mean)\n",
    "axes[1].set_title('Members')\n",
    "axes[1].set(xlabel = 'Day', ylabel = 'Minute', ylim = (0, 35))\n",
    "plt.show()"
   ]
  },
  {
   "cell_type": "markdown",
   "id": "9632d0b3",
   "metadata": {},
   "source": [
    "### 5-5. Number of rides for users by day of week - line or bar chart"
   ]
  },
  {
   "cell_type": "code",
   "execution_count": 45,
   "id": "e8f6f94d",
   "metadata": {},
   "outputs": [
    {
     "name": "stdout",
     "output_type": "stream",
     "text": [
      "    day_name  all_user_count\n",
      "0     Monday          641879\n",
      "1    Tuesday          658031\n",
      "2  Wednesday          679737\n",
      "3   Thursday          694859\n",
      "4     Friday          744811\n",
      "5   Saturday          923381\n",
      "6     Sunday          789596\n"
     ]
    },
    {
     "data": {
      "image/png": "[encoded data removed]",
      "text/plain": [
       "<Figure size 576x360 with 1 Axes>"
      ]
     },
     "metadata": {
      "needs_background": "light"
     },
     "output_type": "display_data"
    }
   ],
   "source": [
    "print(users_dow[['day_name', 'all_user_count']])\n",
    "\n",
    "fig, axes = plt.subplots(1,1, figsize = (8, 5))\n",
    "\n",
    "# chart = sns.lineplot(x = users_dow.day_name, y = users_dow.all_user_count)\n",
    "chart = sns.barplot(x = users_dow.day_name, y = users_dow.all_user_count)\n",
    "chart.set_title('Number of rides for users by day of week')\n",
    "chart.set(xlabel = \"Day\", ylabel = \"Count\")\n",
    "\n",
    "plt.show()"
   ]
  },
  {
   "cell_type": "code",
   "execution_count": 46,
   "id": "b7b7a322",
   "metadata": {},
   "outputs": [
    {
     "name": "stdout",
     "output_type": "stream",
     "text": [
      "    day_name  casual_user_count  member_user_count\n",
      "0     Monday             266079             375800\n",
      "1    Tuesday             251221             406810\n",
      "2  Wednesday             256934             422803\n",
      "3   Thursday             274351             420508\n",
      "4     Friday             338952             405859\n",
      "5   Saturday             523160             400221\n",
      "6     Sunday             444364             345232\n"
     ]
    },
    {
     "data": {
      "image/png": "[encoded data removed]",
      "text/plain": [
       "<Figure size 1080x288 with 2 Axes>"
      ]
     },
     "metadata": {
      "needs_background": "light"
     },
     "output_type": "display_data"
    }
   ],
   "source": [
    "print(users_dow[['day_name', 'casual_user_count', 'member_user_count']])\n",
    "\n",
    "fig, axes = plt.subplots(1,2, figsize = (15, 4))\n",
    "fig.suptitle('Number of rides by day of week for')\n",
    "\n",
    "sns.lineplot(ax = axes[0], x = users_dow.day_name, y = users_dow.casual_user_count)\n",
    "axes[0].set_title('Casuals')\n",
    "axes[0].set(xlabel = 'Day', ylabel = 'Count', ylim = (0, 550000))\n",
    "\n",
    "sns.lineplot(ax = axes[1], x = users_dow.day_name, y = users_dow.member_user_count)\n",
    "axes[1].set_title('Members')\n",
    "axes[1].set(xlabel = 'Day', ylabel = 'Count', ylim = (0, 550000))\n",
    "plt.show()"
   ]
  },
  {
   "cell_type": "code",
   "execution_count": 47,
   "id": "3d8cc7b9",
   "metadata": {},
   "outputs": [
    {
     "data": {
      "text/html": [
       "<div>\n",
       "<style scoped>\n",
       "    .dataframe tbody tr th:only-of-type {\n",
       "        vertical-align: middle;\n",
       "    }\n",
       "\n",
       "    .dataframe tbody tr th {\n",
       "        vertical-align: top;\n",
       "    }\n",
       "\n",
       "    .dataframe thead th {\n",
       "        text-align: right;\n",
       "    }\n",
       "</style>\n",
       "<table border=\"1\" class=\"dataframe\">\n",
       "  <thead>\n",
       "    <tr style=\"text-align: right;\">\n",
       "      <th></th>\n",
       "      <th>day_of_week</th>\n",
       "      <th>day_name</th>\n",
       "      <th>all_user_rt_mean</th>\n",
       "      <th>all_user_count</th>\n",
       "      <th>casual_user_rt_mean</th>\n",
       "      <th>casual_user_count</th>\n",
       "      <th>member_user_rt_mean</th>\n",
       "      <th>member_user_count</th>\n",
       "    </tr>\n",
       "  </thead>\n",
       "  <tbody>\n",
       "    <tr>\n",
       "      <th>0</th>\n",
       "      <td>0</td>\n",
       "      <td>Monday</td>\n",
       "      <td>19.30</td>\n",
       "      <td>641879</td>\n",
       "      <td>28.05</td>\n",
       "      <td>266079</td>\n",
       "      <td>13.26</td>\n",
       "      <td>375800</td>\n",
       "    </tr>\n",
       "    <tr>\n",
       "      <th>1</th>\n",
       "      <td>1</td>\n",
       "      <td>Tuesday</td>\n",
       "      <td>17.52</td>\n",
       "      <td>658031</td>\n",
       "      <td>25.35</td>\n",
       "      <td>251221</td>\n",
       "      <td>13.06</td>\n",
       "      <td>406810</td>\n",
       "    </tr>\n",
       "    <tr>\n",
       "      <th>2</th>\n",
       "      <td>2</td>\n",
       "      <td>Wednesday</td>\n",
       "      <td>17.26</td>\n",
       "      <td>679737</td>\n",
       "      <td>24.23</td>\n",
       "      <td>256934</td>\n",
       "      <td>13.12</td>\n",
       "      <td>422803</td>\n",
       "    </tr>\n",
       "    <tr>\n",
       "      <th>3</th>\n",
       "      <td>3</td>\n",
       "      <td>Thursday</td>\n",
       "      <td>17.26</td>\n",
       "      <td>694859</td>\n",
       "      <td>24.07</td>\n",
       "      <td>274351</td>\n",
       "      <td>13.04</td>\n",
       "      <td>420508</td>\n",
       "    </tr>\n",
       "    <tr>\n",
       "      <th>4</th>\n",
       "      <td>4</td>\n",
       "      <td>Friday</td>\n",
       "      <td>19.19</td>\n",
       "      <td>744811</td>\n",
       "      <td>26.03</td>\n",
       "      <td>338952</td>\n",
       "      <td>13.41</td>\n",
       "      <td>405859</td>\n",
       "    </tr>\n",
       "    <tr>\n",
       "      <th>5</th>\n",
       "      <td>5</td>\n",
       "      <td>Saturday</td>\n",
       "      <td>23.55</td>\n",
       "      <td>923381</td>\n",
       "      <td>30.24</td>\n",
       "      <td>523160</td>\n",
       "      <td>15.26</td>\n",
       "      <td>400221</td>\n",
       "    </tr>\n",
       "    <tr>\n",
       "      <th>6</th>\n",
       "      <td>6</td>\n",
       "      <td>Sunday</td>\n",
       "      <td>24.53</td>\n",
       "      <td>789596</td>\n",
       "      <td>31.59</td>\n",
       "      <td>444364</td>\n",
       "      <td>15.44</td>\n",
       "      <td>345232</td>\n",
       "    </tr>\n",
       "  </tbody>\n",
       "</table>\n",
       "</div>"
      ],
      "text/plain": [
       "   day_of_week   day_name  all_user_rt_mean  all_user_count  \\\n",
       "0            0     Monday             19.30          641879   \n",
       "1            1    Tuesday             17.52          658031   \n",
       "2            2  Wednesday             17.26          679737   \n",
       "3            3   Thursday             17.26          694859   \n",
       "4            4     Friday             19.19          744811   \n",
       "5            5   Saturday             23.55          923381   \n",
       "6            6     Sunday             24.53          789596   \n",
       "\n",
       "   casual_user_rt_mean  casual_user_count  member_user_rt_mean  \\\n",
       "0                28.05             266079                13.26   \n",
       "1                25.35             251221                13.06   \n",
       "2                24.23             256934                13.12   \n",
       "3                24.07             274351                13.04   \n",
       "4                26.03             338952                13.41   \n",
       "5                30.24             523160                15.26   \n",
       "6                31.59             444364                15.44   \n",
       "\n",
       "   member_user_count  \n",
       "0             375800  \n",
       "1             406810  \n",
       "2             422803  \n",
       "3             420508  \n",
       "4             405859  \n",
       "5             400221  \n",
       "6             345232  "
      ]
     },
     "execution_count": 47,
     "metadata": {},
     "output_type": "execute_result"
    }
   ],
   "source": [
    "users_dow"
   ]
  },
  {
   "cell_type": "markdown",
   "id": "f8d5263a",
   "metadata": {},
   "source": [
    "### 5-6. Daily and hourly use of rides"
   ]
  },
  {
   "cell_type": "code",
   "execution_count": 96,
   "id": "24cadbf4",
   "metadata": {
    "scrolled": true
   },
   "outputs": [
    {
     "data": {
      "text/html": [
       "<div>\n",
       "<style scoped>\n",
       "    .dataframe tbody tr th:only-of-type {\n",
       "        vertical-align: middle;\n",
       "    }\n",
       "\n",
       "    .dataframe tbody tr th {\n",
       "        vertical-align: top;\n",
       "    }\n",
       "\n",
       "    .dataframe thead th {\n",
       "        text-align: right;\n",
       "    }\n",
       "</style>\n",
       "<table border=\"1\" class=\"dataframe\">\n",
       "  <thead>\n",
       "    <tr style=\"text-align: right;\">\n",
       "      <th></th>\n",
       "      <th>member_casual</th>\n",
       "      <th>day_name</th>\n",
       "      <th>hour</th>\n",
       "      <th>day_of_week</th>\n",
       "      <th>count</th>\n",
       "    </tr>\n",
       "  </thead>\n",
       "  <tbody>\n",
       "    <tr>\n",
       "      <th>24</th>\n",
       "      <td>casual</td>\n",
       "      <td>Monday</td>\n",
       "      <td>0</td>\n",
       "      <td>0</td>\n",
       "      <td>4504</td>\n",
       "    </tr>\n",
       "    <tr>\n",
       "      <th>25</th>\n",
       "      <td>casual</td>\n",
       "      <td>Monday</td>\n",
       "      <td>1</td>\n",
       "      <td>0</td>\n",
       "      <td>3050</td>\n",
       "    </tr>\n",
       "    <tr>\n",
       "      <th>26</th>\n",
       "      <td>casual</td>\n",
       "      <td>Monday</td>\n",
       "      <td>2</td>\n",
       "      <td>0</td>\n",
       "      <td>1880</td>\n",
       "    </tr>\n",
       "    <tr>\n",
       "      <th>27</th>\n",
       "      <td>casual</td>\n",
       "      <td>Monday</td>\n",
       "      <td>3</td>\n",
       "      <td>0</td>\n",
       "      <td>1243</td>\n",
       "    </tr>\n",
       "    <tr>\n",
       "      <th>28</th>\n",
       "      <td>casual</td>\n",
       "      <td>Monday</td>\n",
       "      <td>4</td>\n",
       "      <td>0</td>\n",
       "      <td>1276</td>\n",
       "    </tr>\n",
       "    <tr>\n",
       "      <th>29</th>\n",
       "      <td>casual</td>\n",
       "      <td>Monday</td>\n",
       "      <td>5</td>\n",
       "      <td>0</td>\n",
       "      <td>1471</td>\n",
       "    </tr>\n",
       "    <tr>\n",
       "      <th>30</th>\n",
       "      <td>casual</td>\n",
       "      <td>Monday</td>\n",
       "      <td>6</td>\n",
       "      <td>0</td>\n",
       "      <td>3355</td>\n",
       "    </tr>\n",
       "    <tr>\n",
       "      <th>31</th>\n",
       "      <td>casual</td>\n",
       "      <td>Monday</td>\n",
       "      <td>7</td>\n",
       "      <td>0</td>\n",
       "      <td>6005</td>\n",
       "    </tr>\n",
       "    <tr>\n",
       "      <th>32</th>\n",
       "      <td>casual</td>\n",
       "      <td>Monday</td>\n",
       "      <td>8</td>\n",
       "      <td>0</td>\n",
       "      <td>7672</td>\n",
       "    </tr>\n",
       "    <tr>\n",
       "      <th>33</th>\n",
       "      <td>casual</td>\n",
       "      <td>Monday</td>\n",
       "      <td>9</td>\n",
       "      <td>0</td>\n",
       "      <td>7950</td>\n",
       "    </tr>\n",
       "    <tr>\n",
       "      <th>34</th>\n",
       "      <td>casual</td>\n",
       "      <td>Monday</td>\n",
       "      <td>10</td>\n",
       "      <td>0</td>\n",
       "      <td>10231</td>\n",
       "    </tr>\n",
       "    <tr>\n",
       "      <th>35</th>\n",
       "      <td>casual</td>\n",
       "      <td>Monday</td>\n",
       "      <td>11</td>\n",
       "      <td>0</td>\n",
       "      <td>13484</td>\n",
       "    </tr>\n",
       "    <tr>\n",
       "      <th>36</th>\n",
       "      <td>casual</td>\n",
       "      <td>Monday</td>\n",
       "      <td>12</td>\n",
       "      <td>0</td>\n",
       "      <td>16652</td>\n",
       "    </tr>\n",
       "    <tr>\n",
       "      <th>37</th>\n",
       "      <td>casual</td>\n",
       "      <td>Monday</td>\n",
       "      <td>13</td>\n",
       "      <td>0</td>\n",
       "      <td>17571</td>\n",
       "    </tr>\n",
       "    <tr>\n",
       "      <th>38</th>\n",
       "      <td>casual</td>\n",
       "      <td>Monday</td>\n",
       "      <td>14</td>\n",
       "      <td>0</td>\n",
       "      <td>18508</td>\n",
       "    </tr>\n",
       "    <tr>\n",
       "      <th>39</th>\n",
       "      <td>casual</td>\n",
       "      <td>Monday</td>\n",
       "      <td>15</td>\n",
       "      <td>0</td>\n",
       "      <td>19627</td>\n",
       "    </tr>\n",
       "    <tr>\n",
       "      <th>40</th>\n",
       "      <td>casual</td>\n",
       "      <td>Monday</td>\n",
       "      <td>16</td>\n",
       "      <td>0</td>\n",
       "      <td>22681</td>\n",
       "    </tr>\n",
       "    <tr>\n",
       "      <th>41</th>\n",
       "      <td>casual</td>\n",
       "      <td>Monday</td>\n",
       "      <td>17</td>\n",
       "      <td>0</td>\n",
       "      <td>27500</td>\n",
       "    </tr>\n",
       "    <tr>\n",
       "      <th>42</th>\n",
       "      <td>casual</td>\n",
       "      <td>Monday</td>\n",
       "      <td>18</td>\n",
       "      <td>0</td>\n",
       "      <td>24961</td>\n",
       "    </tr>\n",
       "    <tr>\n",
       "      <th>43</th>\n",
       "      <td>casual</td>\n",
       "      <td>Monday</td>\n",
       "      <td>19</td>\n",
       "      <td>0</td>\n",
       "      <td>18694</td>\n",
       "    </tr>\n",
       "    <tr>\n",
       "      <th>44</th>\n",
       "      <td>casual</td>\n",
       "      <td>Monday</td>\n",
       "      <td>20</td>\n",
       "      <td>0</td>\n",
       "      <td>13309</td>\n",
       "    </tr>\n",
       "    <tr>\n",
       "      <th>45</th>\n",
       "      <td>casual</td>\n",
       "      <td>Monday</td>\n",
       "      <td>21</td>\n",
       "      <td>0</td>\n",
       "      <td>10477</td>\n",
       "    </tr>\n",
       "    <tr>\n",
       "      <th>46</th>\n",
       "      <td>casual</td>\n",
       "      <td>Monday</td>\n",
       "      <td>22</td>\n",
       "      <td>0</td>\n",
       "      <td>8733</td>\n",
       "    </tr>\n",
       "    <tr>\n",
       "      <th>47</th>\n",
       "      <td>casual</td>\n",
       "      <td>Monday</td>\n",
       "      <td>23</td>\n",
       "      <td>0</td>\n",
       "      <td>5245</td>\n",
       "    </tr>\n",
       "    <tr>\n",
       "      <th>120</th>\n",
       "      <td>casual</td>\n",
       "      <td>Tuesday</td>\n",
       "      <td>0</td>\n",
       "      <td>1</td>\n",
       "      <td>2877</td>\n",
       "    </tr>\n",
       "    <tr>\n",
       "      <th>121</th>\n",
       "      <td>casual</td>\n",
       "      <td>Tuesday</td>\n",
       "      <td>1</td>\n",
       "      <td>1</td>\n",
       "      <td>1662</td>\n",
       "    </tr>\n",
       "    <tr>\n",
       "      <th>122</th>\n",
       "      <td>casual</td>\n",
       "      <td>Tuesday</td>\n",
       "      <td>2</td>\n",
       "      <td>1</td>\n",
       "      <td>986</td>\n",
       "    </tr>\n",
       "    <tr>\n",
       "      <th>123</th>\n",
       "      <td>casual</td>\n",
       "      <td>Tuesday</td>\n",
       "      <td>3</td>\n",
       "      <td>1</td>\n",
       "      <td>623</td>\n",
       "    </tr>\n",
       "    <tr>\n",
       "      <th>124</th>\n",
       "      <td>casual</td>\n",
       "      <td>Tuesday</td>\n",
       "      <td>4</td>\n",
       "      <td>1</td>\n",
       "      <td>663</td>\n",
       "    </tr>\n",
       "    <tr>\n",
       "      <th>125</th>\n",
       "      <td>casual</td>\n",
       "      <td>Tuesday</td>\n",
       "      <td>5</td>\n",
       "      <td>1</td>\n",
       "      <td>1475</td>\n",
       "    </tr>\n",
       "    <tr>\n",
       "      <th>126</th>\n",
       "      <td>casual</td>\n",
       "      <td>Tuesday</td>\n",
       "      <td>6</td>\n",
       "      <td>1</td>\n",
       "      <td>3795</td>\n",
       "    </tr>\n",
       "    <tr>\n",
       "      <th>127</th>\n",
       "      <td>casual</td>\n",
       "      <td>Tuesday</td>\n",
       "      <td>7</td>\n",
       "      <td>1</td>\n",
       "      <td>6679</td>\n",
       "    </tr>\n",
       "    <tr>\n",
       "      <th>128</th>\n",
       "      <td>casual</td>\n",
       "      <td>Tuesday</td>\n",
       "      <td>8</td>\n",
       "      <td>1</td>\n",
       "      <td>8112</td>\n",
       "    </tr>\n",
       "    <tr>\n",
       "      <th>129</th>\n",
       "      <td>casual</td>\n",
       "      <td>Tuesday</td>\n",
       "      <td>9</td>\n",
       "      <td>1</td>\n",
       "      <td>7386</td>\n",
       "    </tr>\n",
       "    <tr>\n",
       "      <th>130</th>\n",
       "      <td>casual</td>\n",
       "      <td>Tuesday</td>\n",
       "      <td>10</td>\n",
       "      <td>1</td>\n",
       "      <td>8592</td>\n",
       "    </tr>\n",
       "    <tr>\n",
       "      <th>131</th>\n",
       "      <td>casual</td>\n",
       "      <td>Tuesday</td>\n",
       "      <td>11</td>\n",
       "      <td>1</td>\n",
       "      <td>10822</td>\n",
       "    </tr>\n",
       "    <tr>\n",
       "      <th>132</th>\n",
       "      <td>casual</td>\n",
       "      <td>Tuesday</td>\n",
       "      <td>12</td>\n",
       "      <td>1</td>\n",
       "      <td>13601</td>\n",
       "    </tr>\n",
       "    <tr>\n",
       "      <th>133</th>\n",
       "      <td>casual</td>\n",
       "      <td>Tuesday</td>\n",
       "      <td>13</td>\n",
       "      <td>1</td>\n",
       "      <td>14311</td>\n",
       "    </tr>\n",
       "    <tr>\n",
       "      <th>134</th>\n",
       "      <td>casual</td>\n",
       "      <td>Tuesday</td>\n",
       "      <td>14</td>\n",
       "      <td>1</td>\n",
       "      <td>15308</td>\n",
       "    </tr>\n",
       "    <tr>\n",
       "      <th>135</th>\n",
       "      <td>casual</td>\n",
       "      <td>Tuesday</td>\n",
       "      <td>15</td>\n",
       "      <td>1</td>\n",
       "      <td>16976</td>\n",
       "    </tr>\n",
       "    <tr>\n",
       "      <th>136</th>\n",
       "      <td>casual</td>\n",
       "      <td>Tuesday</td>\n",
       "      <td>16</td>\n",
       "      <td>1</td>\n",
       "      <td>21256</td>\n",
       "    </tr>\n",
       "    <tr>\n",
       "      <th>137</th>\n",
       "      <td>casual</td>\n",
       "      <td>Tuesday</td>\n",
       "      <td>17</td>\n",
       "      <td>1</td>\n",
       "      <td>29831</td>\n",
       "    </tr>\n",
       "    <tr>\n",
       "      <th>138</th>\n",
       "      <td>casual</td>\n",
       "      <td>Tuesday</td>\n",
       "      <td>18</td>\n",
       "      <td>1</td>\n",
       "      <td>26358</td>\n",
       "    </tr>\n",
       "    <tr>\n",
       "      <th>139</th>\n",
       "      <td>casual</td>\n",
       "      <td>Tuesday</td>\n",
       "      <td>19</td>\n",
       "      <td>1</td>\n",
       "      <td>19774</td>\n",
       "    </tr>\n",
       "    <tr>\n",
       "      <th>140</th>\n",
       "      <td>casual</td>\n",
       "      <td>Tuesday</td>\n",
       "      <td>20</td>\n",
       "      <td>1</td>\n",
       "      <td>13694</td>\n",
       "    </tr>\n",
       "    <tr>\n",
       "      <th>141</th>\n",
       "      <td>casual</td>\n",
       "      <td>Tuesday</td>\n",
       "      <td>21</td>\n",
       "      <td>1</td>\n",
       "      <td>10791</td>\n",
       "    </tr>\n",
       "    <tr>\n",
       "      <th>142</th>\n",
       "      <td>casual</td>\n",
       "      <td>Tuesday</td>\n",
       "      <td>22</td>\n",
       "      <td>1</td>\n",
       "      <td>9767</td>\n",
       "    </tr>\n",
       "    <tr>\n",
       "      <th>143</th>\n",
       "      <td>casual</td>\n",
       "      <td>Tuesday</td>\n",
       "      <td>23</td>\n",
       "      <td>1</td>\n",
       "      <td>5882</td>\n",
       "    </tr>\n",
       "    <tr>\n",
       "      <th>144</th>\n",
       "      <td>casual</td>\n",
       "      <td>Wednesday</td>\n",
       "      <td>0</td>\n",
       "      <td>2</td>\n",
       "      <td>3099</td>\n",
       "    </tr>\n",
       "    <tr>\n",
       "      <th>145</th>\n",
       "      <td>casual</td>\n",
       "      <td>Wednesday</td>\n",
       "      <td>1</td>\n",
       "      <td>2</td>\n",
       "      <td>1545</td>\n",
       "    </tr>\n",
       "  </tbody>\n",
       "</table>\n",
       "</div>"
      ],
      "text/plain": [
       "    member_casual   day_name  hour  day_of_week  count\n",
       "24         casual     Monday     0            0   4504\n",
       "25         casual     Monday     1            0   3050\n",
       "26         casual     Monday     2            0   1880\n",
       "27         casual     Monday     3            0   1243\n",
       "28         casual     Monday     4            0   1276\n",
       "29         casual     Monday     5            0   1471\n",
       "30         casual     Monday     6            0   3355\n",
       "31         casual     Monday     7            0   6005\n",
       "32         casual     Monday     8            0   7672\n",
       "33         casual     Monday     9            0   7950\n",
       "34         casual     Monday    10            0  10231\n",
       "35         casual     Monday    11            0  13484\n",
       "36         casual     Monday    12            0  16652\n",
       "37         casual     Monday    13            0  17571\n",
       "38         casual     Monday    14            0  18508\n",
       "39         casual     Monday    15            0  19627\n",
       "40         casual     Monday    16            0  22681\n",
       "41         casual     Monday    17            0  27500\n",
       "42         casual     Monday    18            0  24961\n",
       "43         casual     Monday    19            0  18694\n",
       "44         casual     Monday    20            0  13309\n",
       "45         casual     Monday    21            0  10477\n",
       "46         casual     Monday    22            0   8733\n",
       "47         casual     Monday    23            0   5245\n",
       "120        casual    Tuesday     0            1   2877\n",
       "121        casual    Tuesday     1            1   1662\n",
       "122        casual    Tuesday     2            1    986\n",
       "123        casual    Tuesday     3            1    623\n",
       "124        casual    Tuesday     4            1    663\n",
       "125        casual    Tuesday     5            1   1475\n",
       "126        casual    Tuesday     6            1   3795\n",
       "127        casual    Tuesday     7            1   6679\n",
       "128        casual    Tuesday     8            1   8112\n",
       "129        casual    Tuesday     9            1   7386\n",
       "130        casual    Tuesday    10            1   8592\n",
       "131        casual    Tuesday    11            1  10822\n",
       "132        casual    Tuesday    12            1  13601\n",
       "133        casual    Tuesday    13            1  14311\n",
       "134        casual    Tuesday    14            1  15308\n",
       "135        casual    Tuesday    15            1  16976\n",
       "136        casual    Tuesday    16            1  21256\n",
       "137        casual    Tuesday    17            1  29831\n",
       "138        casual    Tuesday    18            1  26358\n",
       "139        casual    Tuesday    19            1  19774\n",
       "140        casual    Tuesday    20            1  13694\n",
       "141        casual    Tuesday    21            1  10791\n",
       "142        casual    Tuesday    22            1   9767\n",
       "143        casual    Tuesday    23            1   5882\n",
       "144        casual  Wednesday     0            2   3099\n",
       "145        casual  Wednesday     1            2   1545"
      ]
     },
     "execution_count": 96,
     "metadata": {},
     "output_type": "execute_result"
    }
   ],
   "source": [
    "rider_hour = df.groupby(['member_casual', 'day_name', 'hour', 'day_of_week'])['ride_id'].count().reset_index().rename(columns = {'ride_id':'count'})\n",
    "rider_hour.sort_values(by = ['member_casual', 'day_of_week'], inplace=True)\n",
    "rider_hour.head(50)"
   ]
  },
  {
   "cell_type": "code",
   "execution_count": 2,
   "id": "5dc0cd4e",
   "metadata": {},
   "outputs": [
    {
     "data": {
      "image/png": "[encoded data removed]",
      "text/plain": [
       "<PIL.PngImagePlugin.PngImageFile image mode=RGB size=1702x747 at 0x1E42B5F8F40>"
      ]
     },
     "execution_count": 2,
     "metadata": {},
     "output_type": "execute_result"
    }
   ],
   "source": [
    "from PIL import Image\n",
    "import requests\n",
    "\n",
    "url = 'https://github.com/slothpunch/Portfolio/blob/main/5.%20Google%20Data%20Analytics/PPT_rides%20on%20a%20daily%20and%20hourly%20basis.png?raw=true'\n",
    "im = Image.open(requests.get(url, stream=True).raw)\n",
    "\n",
    "im"
   ]
  },
  {
   "cell_type": "code",
   "execution_count": 136,
   "id": "0d8f60a7",
   "metadata": {},
   "outputs": [
    {
     "name": "stdout",
     "output_type": "stream",
     "text": [
      "   member_casual   day_name  hour  day_of_week  count\n",
      "2         casual     Monday     7            0   6005\n",
      "3         casual     Monday    17            0  27500\n",
      "10        casual    Tuesday     7            1   6679\n",
      "11        casual    Tuesday    17            1  29831\n",
      "12        casual  Wednesday     7            2   6787\n",
      "13        casual  Wednesday    17            2  30550\n",
      "8         casual   Thursday     7            3   6783\n",
      "9         casual   Thursday    17            3  30306\n",
      "0         casual     Friday     7            4   6079\n",
      "1         casual     Friday    17            4  34434\n",
      "4         casual   Saturday     7            5   4485\n",
      "5         casual   Saturday    17            5  37497\n",
      "6         casual     Sunday     7            6   3932\n",
      "7         casual     Sunday    17            6  33676\n",
      "16        member     Monday     7            0  21778\n",
      "17        member     Monday    17            0  44823\n",
      "24        member    Tuesday     7            1  26173\n",
      "25        member    Tuesday    17            1  50690\n",
      "26        member  Wednesday     7            2  26152\n",
      "27        member  Wednesday    17            2  51964\n",
      "22        member   Thursday     7            3  25002\n",
      "23        member   Thursday    17            3  48831\n",
      "14        member     Friday     7            4  20654\n",
      "15        member     Friday    17            4  42719\n",
      "18        member   Saturday     7            5   8191\n",
      "19        member   Saturday    17            5  27816\n",
      "20        member     Sunday     7            6   5876\n",
      "21        member     Sunday    17            6  26554\n",
      "\n",
      "   member_casual   day_name  hour  day_of_week  count\n",
      "1         casual     Monday    13            0  17571\n",
      "5         casual    Tuesday    13            1  14311\n",
      "6         casual  Wednesday    13            2  13528\n",
      "4         casual   Thursday    13            3  14343\n",
      "0         casual     Friday    13            4  21259\n",
      "2         casual   Saturday    13            5  44779\n",
      "3         casual     Sunday    13            6  38544\n",
      "8         member     Monday    13            0  19731\n",
      "12        member    Tuesday    13            1  20191\n",
      "13        member  Wednesday    13            2  20233\n",
      "11        member   Thursday    13            3  20303\n",
      "7         member     Friday    13            4  23155\n",
      "9         member   Saturday    13            5  32185\n",
      "10        member     Sunday    13            6  29024\n"
     ]
    }
   ],
   "source": [
    "# rider_hour[(rider_hour['hour'] == 17) | (rider_hour['hour'] == 16)].groupby(['member_casual','day_name', 'hour', 'day_of_week'])['count'].max()\n",
    "# Set weekdays peak hour as 5pm\n",
    "wd_peak_hour = rider_hour[(rider_hour['hour'] == 7) | (rider_hour['hour'] == 17)].groupby(['member_casual','day_name', 'hour', 'day_of_week'])['count'].max().reset_index().sort_values(by = ['member_casual','day_of_week'])\n",
    "# # Set weekends peak hour as 1pm\n",
    "wk_peak_hour = rider_hour[rider_hour['hour'] == 13].groupby(['member_casual','day_name', 'hour', 'day_of_week'])['count'].max().reset_index().sort_values(by = ['member_casual', 'day_of_week'])\n",
    "\n",
    "# wd_peak_hour.sort_values(by = ['day_of_week'])\n",
    "# wk_peak_hour.sort_values(by = ['day_of_week'])\n",
    "\n",
    "print(wd_peak_hour)\n",
    "print('')\n",
    "print(wk_peak_hour)"
   ]
  },
  {
   "cell_type": "markdown",
   "id": "e7a3215d",
   "metadata": {},
   "source": [
    "# 6. Result\n",
    "What are the findings?"
   ]
  },
  {
   "attachments": {
    "image-2.png": {
     "image/png": "[encoded data removed]"
    },
    "image-3.png": {
     "image/png": "[encoded data removed]"
    }
   },
   "cell_type": "markdown",
   "id": "54833165",
   "metadata": {},
   "source": [
    "The question is **How do annual members and casual riders use Cyclistic bikes differently?**\n",
    "\n",
    "1. The proportion of members and casual users:\n",
    "    * total: 5,136,261\n",
    "    * members: 2,777,233 (54.113%) \n",
    "    * casual users: 2,355,061 (45.887%) \n",
    "\n",
    "2. The average riding time: \n",
    "    * members: 13.92 minutes.\n",
    "    * casual users: 27.92 minutes.\n",
    "\n",
    "3. The 5 most frequent riding times:\n",
    "    * members: 5, 6, 4, 7, and 8 minutes.\n",
    "    * casual users: 9, 8, 10, 7, and 11 minutes.\n",
    "\n",
    "4. The average riding time by day of week (minutes):\n",
    "\n",
    "  Members used bikes for 13 minutes during weekdays and for 15 minutes during weekends. However, casual riders used bikes for 25 minutes during weekdays and for 30 minutes during weekends. \n",
    "\n",
    "  We can see that even though casual users used bikes about two times more than members over the period of time. Both groups have the peak on weekends. Members used bikes 2 minutes longer (15 minutes), while casual users used bikes 5 minutes longer (30 minutes) than the weekdays riding time.\n",
    "\n",
    "![image-2.png](attachment:image-2.png)\n",
    "\n",
    " 5. The number of rides by day of week:\n",
    "\n",
    "    Compared to the average number of rides, the number is quite consistent over weeks in members even thoguh there is a 15% decrease on Sundays, while casual users have also the consistent number on weekdays; however, it started increasing from Fridays, soared by 88.5% on Saturdays, and decreased on Sundays. \n",
    "\n",
    "    The weekdays average for members and casual: 406356 and 277507.4 respectively.\n",
    "\n",
    "    * member_sunday = (member_Sunday - member_weekdays_avg)/member_weekdays_avg * 100 = -15%\n",
    "    * casual_saturday = (casual_Saturday - casual_weekdays_avg)/casual_weekdays_avg * 100 = 88.5%\n",
    "\n",
    "![image-3.png](attachment:image-3.png)\n",
    "\n",
    "\n",
    " 6. Daily and hourly stared riding\n",
    "\n",
    "* Weekdays\n",
    "\n",
    "  We can clearly see that there are two peaks in members between 7 - 8 am and 4 - 6 pm, whereas there is \n",
    "  only one peak (4 - 6 pm) in casual users. \n",
    "\n",
    "  I picked the peak hours 7 am and 5 pm from weekdays and 1 pm from weekends.\n",
    "\n",
    "  **The percentage difference**: members - casual riders / (members + casual riders)/2 * 100 \n",
    "  \n",
    "  Members used bikes 115% more than casual riders in the weekday peak hours (7 pm – 8 pm) by comparing the \n",
    "  usage of bikes.\n",
    "  \n",
    "    The average number of users at the peak hour (7 am): \n",
    "    * members      : 23951.8               \n",
    "    * casual riders: 6466.6   \n",
    "    * percentage difference: 114.965% = (23951.8 - 6466.6) / ((23951.8 + 6466.6)/2) * 100\n",
    "    \n",
    "  Members used bikes ~56.6%~ 44.1% more than casual riders in the weekday peak hours (4 pm – 6 pm) by \n",
    "  comparing the usage of bikes.\n",
    "  \n",
    "    The average number of users at the peak hour (5 pm): \n",
    "    * members      : 47805.4   \n",
    "    * casual riders: 30524.2\n",
    "    * the percentage difference: 44.1243% = (47805.4 - 30524.2) / ((47805.4 + 30524.2)/2) * 100\n",
    "\n",
    "* Weekends\n",
    "\n",
    "  There are peak hours (1 pm – 3 pm) in both members and casual riders.\n",
    "  \n",
    "  I picked the peak hour 1 pm from weekends.\n",
    "  \n",
    "  **The percentage difference**: (weekday_avg - weekend_avg)/weekend_avg * 100\n",
    "  \n",
    "  Members used 36% less and casual riders used 36% more in the weekend peak hours (1 pm – 3 pm) compared with the weekday average usage, and there were 30.6% more casual riders than members.\n",
    "    \n",
    "  The average number of users at the peak hour (1 pm): \n",
    "    * members      : 30604.5        \n",
    "    * casual riders: 41661.5\n",
    "    \n",
    "    * (weekday_avg(47805.4) - weekend_avg(30604.5)) / weekend_avg * 100 = -36% for members\n",
    "    * (weekday_avg(30524.2) - weekend_avg(41661.5)) / weekend_avg * 100 = 36% for casual riders\n",
    "    * the percentage difference:  30.6008%\n",
    "\n",
    "It could be thought that members used bikes to commute on weekdays and 80% of them also used bikes during weekends.\n"
   ]
  },
  {
   "cell_type": "markdown",
   "id": "c61ceee5",
   "metadata": {},
   "source": [
    "# 7. Save the changed dataset into .csv file"
   ]
  },
  {
   "cell_type": "code",
   "execution_count": 50,
   "id": "e834648f",
   "metadata": {},
   "outputs": [
    {
     "data": {
      "text/plain": [
       "Index(['ride_id', 'rideable_type', 'started_at', 'ended_at',\n",
       "       'start_station_name', 'start_station_id', 'end_station_name',\n",
       "       'end_station_id', 'start_lat', 'start_lng', 'end_lat', 'end_lng',\n",
       "       'member_casual', 'riding_days', 'riding_time', 'riding_time_sces',\n",
       "       'year', 'month', 'day_of_week', 'day_name', 'riding_time_int',\n",
       "       'riding_time_hm_int'],\n",
       "      dtype='object')"
      ]
     },
     "execution_count": 50,
     "metadata": {},
     "output_type": "execute_result"
    }
   ],
   "source": [
    "df.columns"
   ]
  },
  {
   "cell_type": "code",
   "execution_count": 54,
   "id": "5bc324ba",
   "metadata": {},
   "outputs": [],
   "source": [
    "# Drop unnessacery columns\n",
    "df.drop(columns = ['riding_days', 'riding_time_int', 'riding_time_hm_int'], inplace = True)"
   ]
  },
  {
   "cell_type": "code",
   "execution_count": 55,
   "id": "59f0d37c",
   "metadata": {},
   "outputs": [],
   "source": [
    "# Save into .csv file\n",
    "df.to_csv('zero_Cyclistic_202010_202109.csv')"
   ]
  },
  {
   "cell_type": "code",
   "execution_count": null,
   "id": "bbc380ee",
   "metadata": {},
   "outputs": [],
   "source": []
  }
 ],
 "metadata": {
  "kernelspec": {
   "display_name": "Python 3 (ipykernel)",
   "language": "python",
   "name": "python3"
  },
  "language_info": {
   "codemirror_mode": {
    "name": "ipython",
    "version": 3
   },
   "file_extension": ".py",
   "mimetype": "text/x-python",
   "name": "python",
   "nbconvert_exporter": "python",
   "pygments_lexer": "ipython3",
   "version": "3.8.5"
  }
 },
 "nbformat": 4,
 "nbformat_minor": 5
}
